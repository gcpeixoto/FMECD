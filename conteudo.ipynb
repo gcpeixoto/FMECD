{
 "cells": [
  {
   "cell_type": "markdown",
   "metadata": {},
   "source": [
    "# FMECD - Fundamentos Matemáticos e Estatísticos para Ciência de Dados: Uma Abordagem Computacional com Python\n",
    "\n",
    "\n",
    "## Conteúdo \n",
    "\n",
    "- [Apresentação do curso](00-apresentacao.ipynb)\n",
    "\n",
    "### Semana 1 \n",
    "\n",
    "- [1A - Introdução](01a-introducao.ipynb)\n",
    "- [1B - Fundamentos de Python](01b-fundamentos-python.ipynb)\n"
   ]
  }
 ],
 "metadata": {
  "kernelspec": {
   "display_name": "Python 3",
   "language": "python",
   "name": "python3"
  },
  "language_info": {
   "codemirror_mode": {
    "name": "ipython",
    "version": 3
   },
   "file_extension": ".py",
   "mimetype": "text/x-python",
   "name": "python",
   "nbconvert_exporter": "python",
   "pygments_lexer": "ipython3",
   "version": "3.7.4"
  }
 },
 "nbformat": 4,
 "nbformat_minor": 4
}
