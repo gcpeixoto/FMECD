{
 "cells": [
  {
   "cell_type": "markdown",
   "metadata": {},
   "source": [
    "# FMECD - Fundamentos Matemáticos e Estatísticos para Ciência de Dados: Uma Abordagem Computacional com Python\n",
    "\n",
    "\n",
    "## Conteúdo \n",
    "\n",
    "- [Apresentação do curso](ipynb/00-apresentacao.ipynb)\n",
    "\n",
    "### Semana 1 \n",
    "\n",
    "- [1A - Introdução](ipynb/01a-introducao.ipynb)\n",
    "- [1B - Fundamentos de Python](ipynb/01b-fundamentos-python.ipynb)\n",
    "- [1C - Laboratório Computacional](ipynb/01c-laboratorio-computacional.ipynb)\n",
    "\n",
    "### Semana 2\n",
    "\n",
    "- [2A - Computação Simbólica com *sympy*: Parte 1](ipynb/02a-computacao-simbolica.ipynb)\n",
    "- [2B - Computação Simbólica com *sympy*: Parte 2](ipynb/02b-computacao-simbolica.ipynb)\n",
    "- [2C - Laboratório Computacional](ipynb/02c-laboratorio-computacional.ipynb)\n",
    "\n",
    "### Semana 3\n",
    "\n",
    "- [3A - Matemática Discreta com Python: Parte 1](ipynb/03a-matematica-discreta.ipynb)\n",
    "- [3B - Matemática Discreta com Python: Parte 2](ipynb/03b-matematica-discreta.ipynb)\n",
    "- [3C - Laboratório Computacional](ipynb/03c-laboratorio-computacional.ipynb)\n",
    "\n",
    "\n",
    "### Semana 4\n",
    "- [4A - Computação vetorizada com *numpy*](ipynb/04a-computacao-vetorizada.ipynb)\n",
    "- [4B - Plotagem básica com *matplotlib*](ipynb/04b-plotagem-matplotlib.ipynb)\n",
    "<!-- - [4C - Laboratório Computacional](ipynb/04c-laboratorio-computacional.ipynb)-->\n",
    "\n",
    "### Semana 5\n",
    "\n",
    "- [5AB - Tópicos complementares sobre o *numpy*](ipynb/05a-complemento-numpy.ipynb)\n",
    "<!--- [5C - Laboratório Computacional](ipynb/05c-laboratorio-computacional.ipynb)-->"
   ]
  }
 ],
 "metadata": {
  "kernelspec": {
   "display_name": "Python 3",
   "language": "python",
   "name": "python3"
  },
  "language_info": {
   "codemirror_mode": {
    "name": "ipython",
    "version": 3
   },
   "file_extension": ".py",
   "mimetype": "text/x-python",
   "name": "python",
   "nbconvert_exporter": "python",
   "pygments_lexer": "ipython3",
   "version": "3.7.4"
  }
 },
 "nbformat": 4,
 "nbformat_minor": 4
}
