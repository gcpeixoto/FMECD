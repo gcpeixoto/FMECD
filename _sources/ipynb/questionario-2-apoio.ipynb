{
 "cells": [
  {
   "cell_type": "markdown",
   "metadata": {},
   "source": [
    "## Questionário - Semana 2 \n",
    "\n",
    "**Nota**: utilize este texto como acessório para inserir as respostas no questionário 2.\n",
    "\n",
    "Leia o texto a seguir para responder o questionário.\n",
    "\n",
    "### Modelos epidemiológicos SEIR\n",
    "\n",
    "Modelos matemáticos epidemiológicos modernos funcionam com base em \"estados\" que são considerados como \"compartimentos\". Por exemplo, o modelo SEIR considera que uma população, quando ameaçada por uma epidemia, pode ser dividida em quatro compartimentos: \n",
    "\n",
    "- S, das pessoas *suscetíveis* à infecção; \n",
    "- E, das pessoas *expostas*, que embora hospedeiras, não espalham a doença pelo fato de o vírus ainda estar em incubação; \n",
    "- I, das pessoas *infectadas* e\n",
    "- R, das pessoas *recuperadas*\n",
    "\n",
    "O número de pessoas $N$ em cada \"compartimento\" muda com o tempo. Logo, a dinâmica de mudança de estados ocorre por transições. Em cada instante de tempo, um fluxo de transição da forma\n",
    "S -> E -> I -> R pode ocorrer. Isto é, pessoas suscetíveis podem contrair o vírus, em seguida tornar-se expostas, serem infectadas e, por sua vez, se recuperarem. Portanto, supondo que não haja mortalidade, $N$ deve se conservar ao longo do tempo, mas S, E, I e R podem variar com o tempo. Matematicamente, se $t$ é um instante de tempo, então: \n",
    "\n",
    "$$N(t) = S(t) + E(t) + I(t) + R(t)$$\n",
    "\n",
    "Um modelo SEIR busca prever o número de pessoas em cada estado em um instante de tempo futuro $t_N$ (dia N) a partir de um instante de tempo inicial $t_0$ (dia 0). \n",
    "\n",
    "Considere que $a(t)$ seja o número de pessoas que uma pessoa infecta considerado para o dia $t$ – diante de um quadro epidêmico, desejamos que este valor seja o mais próximo de zero possível. Este valor pode se alterar para mais ou para menos mediante o relaxamento ou restrição de medidas de distanciamento social. A função matemática\n",
    "\n",
    "$$a(t) = a_N + \\dfrac{a_0 - a_N}{1 + e^{-k(L-t)}},$$\n",
    "\n",
    "pode ser usada como um modelo para o cálculo de $a$ levando em consideração medidas drásticas de \"lockdown\". Na equação: \n",
    "\n",
    "- $a_0$ é o valor de $a$ no dia 0\n",
    "- $a_N$ é o valor de $a$ no dia N\n",
    "- $L$ é o dia entre o dia 0 e o dia N em que o \"lockdown\" é decretado.\n",
    "- $k$ é uma constante de ajuste no intervalo real $(0,1]$ que aumenta a velocidade de declínio de $a$ à medida que se aproxima de $1$. \n",
    "\n",
    "A figura a seguir mostra o gráfico de $a(t)$ para $k = 0.2$, $k = 0.4$ e $k = 0.9$ em um intervalo de 100 dias, considerando $a_0 = 7$ e $a_{100} = 0.5$. O lockdown foi determinado no dia 40. Como se vê, quanto maior o valor de $k$, mais brusca é a queda do poder de contágio de uma pessoa.\n",
    "\n",
    "<img src='../figs/02/seir-lockdown.png'> </img>"
   ]
  },
  {
   "cell_type": "markdown",
   "metadata": {},
   "source": [
    "## Questão 1\n",
    "\n",
    "Construa um modelo simbólico para $a(t)$ e o atribua à variavel `a`. Qual(is) alternativa(s) seguinte(s) pode(m) ser uma resposta esperada por `type(a)`, independentemente da construção?\n",
    "\n",
    "**Ver opções no Moodle**"
   ]
  },
  {
   "cell_type": "markdown",
   "metadata": {},
   "source": [
    "## Questão 2\n",
    "\n",
    "Considere as seguintes situações: \n",
    "\n",
    "1) A cidade A decretou lockdown 30 dias após o dia inicial de observação (dia 0) do contágio epidêmico, assumindo que $a_0 = 5$, $a_{100} = 1$ e modelou a curva $a(t)$ com $k = 0.2$.\n",
    "\n",
    "2) A cidade B decretou lockdown 40 dias após o dia inicial de observação (dia 0) do contágio epidêmico, assumindo que $a_0 = 5$, $a_{100} = 1$ e modelou a curva $a(t)$ com $k = 0.1$.\n",
    "\n",
    "Sendo $P_1$ e $P_2$ os valores de $a(t)$ calculados pelos modelos das cidades A e B, respectivamente, para o 21o. dia após o início da análise, o que podemos afirmar?\n",
    "\n",
    "**Ver opções no Moodle**"
   ]
  },
  {
   "cell_type": "markdown",
   "metadata": {},
   "source": [
    "## Questão 3\n",
    "\n",
    "Considere que a população de uma cidade acometida pela epidemia seja de 38.416 habitantes. No 16o. dia, a análise mostrou que o número de pessoas suscetíveis ao contágio era o triplo das que estavam já em exposição ao vírus. Estas, por sua vez, estavam em mesmo número que as infectadas no dia. As recuperadas contabilizavam exatamente 16. \n",
    "\n",
    "O código abaixo, iniciado por um analista, buscou determinar o percentual de pessoas expostas em relação à população total da cidade no 16o. dia. \n",
    "\n",
    "```python\n",
    "from sympy.abc import N,S,E,I,R\n",
    "from sympy import Eq, solveset\n",
    "tot = Eq( S + E + I + R - N,0)\n",
    "...\n",
    "```\n",
    "\n",
    "Ao completar este código, ou desenvolver o seu próprio, você pode concluir que este percentual é de:\n",
    "\n",
    "**Ver opções no Moodle**"
   ]
  },
  {
   "cell_type": "markdown",
   "metadata": {},
   "source": [
    "## Questão 4\n",
    "\n",
    "Algumas funções anônimas foram programadas na tentativa de representar o termo $e^{-k(L-t)}$ que aparece no denominador da fração do modelo de $a(t)$. Assinale a alternativa cuja definição expressa corretamente o termo, tendo em vista que `exp` é a exponencial simbólica: \n",
    "\n",
    "**Ver opções no Moodle**"
   ]
  },
  {
   "cell_type": "markdown",
   "metadata": {},
   "source": [
    "## Questão 5\n",
    "\n",
    "Considere o seguinte excerto de código:\n",
    "\n",
    "```python\n",
    "from sympy.abc import S,E,I,R\n",
    "SEIR = S*E*I*R\n",
    "```\n",
    "\n",
    "Podemos concluir que \n",
    "\n",
    "$$\\text{sen}( SEIR + SEIR^{-1} + 1/SEIR^{-1}) = \\text{sen}(x + y),$$\n",
    "\n",
    "onde\n",
    "\n",
    "**Ver opções no Moodle**"
   ]
  }
 ],
 "metadata": {
  "kernelspec": {
   "display_name": "Python 3",
   "language": "python",
   "name": "python3"
  },
  "language_info": {
   "codemirror_mode": {
    "name": "ipython",
    "version": 3
   },
   "file_extension": ".py",
   "mimetype": "text/x-python",
   "name": "python",
   "nbconvert_exporter": "python",
   "pygments_lexer": "ipython3",
   "version": "3.7.4"
  }
 },
 "nbformat": 4,
 "nbformat_minor": 4
}
