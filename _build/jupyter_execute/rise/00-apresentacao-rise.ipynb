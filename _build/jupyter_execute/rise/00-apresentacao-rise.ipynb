{
 "cells": [
  {
   "cell_type": "markdown",
   "metadata": {
    "slideshow": {
     "slide_type": "slide"
    }
   },
   "source": [
    "# Fundamentos Matemáticos e Estatísticos para Ciência de Dados: Uma Abordagem Computacional com Python"
   ]
  },
  {
   "cell_type": "markdown",
   "metadata": {
    "slideshow": {
     "slide_type": "slide"
    }
   },
   "source": [
    "## Objetivos do curso\n",
    "\n",
    "- manipular números, sequencias, conjuntos e variáveis\n",
    "- realizar cálculos com escalares, vetores e matrizes\n",
    "- plotar gráficos de funções\n",
    "- processar e manipular dados genéricos\n",
    "- construir e interpretar gráficos e tabelas\n",
    "- realizar análise estatística simples"
   ]
  },
  {
   "cell_type": "markdown",
   "metadata": {
    "slideshow": {
     "slide_type": "slide"
    }
   },
   "source": [
    "## Conteúdo do curso \n",
    "\n",
    "### Introdução\n",
    "\n",
    "| Semana | Assunto | \n",
    "|---|---|\n",
    "| 1 | Apresentação do Curso e Introdução ao Python |"
   ]
  },
  {
   "cell_type": "markdown",
   "metadata": {
    "slideshow": {
     "slide_type": "slide"
    }
   },
   "source": [
    "### Matemática \n",
    "\n",
    "Prof. Gustavo\n",
    "\n",
    "| Semana | Assunto | \n",
    "|---|---|\n",
    "| 2 | Matemática Simbólica |\n",
    "| 3 | Matemática Discreta |\n",
    "| 4 | Funções e Gráficos |\n",
    "| 5 | Matrizes e Sistemas Lineares |"
   ]
  },
  {
   "cell_type": "markdown",
   "metadata": {
    "slideshow": {
     "slide_type": "slide"
    }
   },
   "source": [
    "### Estatística\n",
    "\n",
    "Profa. Andrea\n",
    "\n",
    "\n",
    "| Semana | Assunto | \n",
    "|---|---|\n",
    "| 6 | Manipulação de Dados |\n",
    "| 7 | Visualização de Dados |\n",
    "| 8 | Análise Exploratória |\n",
    "| 9 | Estatística Descritiva |"
   ]
  },
  {
   "cell_type": "markdown",
   "metadata": {
    "slideshow": {
     "slide_type": "slide"
    }
   },
   "source": [
    "### Encerramento\n",
    "\n",
    "| Semana | Assunto | \n",
    "|---|---|\n",
    "| 10 | Projeto Final |"
   ]
  },
  {
   "cell_type": "markdown",
   "metadata": {
    "slideshow": {
     "slide_type": "slide"
    }
   },
   "source": [
    "## Modelo Semanal $j$ABC\n",
    "\n",
    "$j = 1, 2, 3, ... 9$\n",
    "\n",
    "- **Segunda**: aula síncrona com conteúdo $j$-A\n",
    "- **Quarta**: aula síncrona com conteúdo $j$-B\n",
    "- **Sexta**: atividade assíncrona com conteúdo $j$-C"
   ]
  },
  {
   "cell_type": "markdown",
   "metadata": {
    "slideshow": {
     "slide_type": "slide"
    }
   },
   "source": [
    "$j = 10$\n",
    "\n",
    "- **Segunda**: estudo\n",
    "- **Quarta**: estudo\n",
    "- **Sexta**: entrega de projeto"
   ]
  },
  {
   "cell_type": "markdown",
   "metadata": {
    "slideshow": {
     "slide_type": "slide"
    }
   },
   "source": [
    "## Exemplo:  $j = 1$\n",
    "\n",
    "- **Segunda (8/6)**: aula síncrona com conteúdo $1$-A\n",
    "- **Quarta (10/6)**: aula síncrona com conteúdo $1$-B\n",
    "- **Sexta (12/6)**: atividade assíncrona com conteúdo $1$-C"
   ]
  },
  {
   "cell_type": "markdown",
   "metadata": {
    "slideshow": {
     "slide_type": "slide"
    }
   },
   "source": [
    "## Cronograma \n",
    "\n",
    "<table>\n",
    "<td>    \n",
    "\n",
    "| j | ABC | data |\n",
    "|---|---|---|\n",
    "| 1 | A | 8/6 |\n",
    "| 1 | B | 10/6 |\n",
    "| 1 | C | 12/6 |\n",
    "| 2 | A | 15/6 |\n",
    "| 2 | B | 17/6 |\n",
    "| 3 | C | 19/6 |\n",
    "| 4 | A | 22/6 |\n",
    "| 4 | B | 24/6 |\n",
    "| 4 | C | 26/6 |\n",
    "    \n",
    "</td>    \n",
    "<td>       \n",
    "    \n",
    "| j | ABC | data |\n",
    "|---|---|---|\n",
    "| 5 | A | 29/6 |\n",
    "| 5 | B | 1/7 |\n",
    "| 5 | C | 3/7 |\n",
    "| 6 | A | 6/7 |\n",
    "| 6 | B | 8/7 |\n",
    "| 6 | C | 10/7 |\n",
    "| 7 | A | 13/7 |\n",
    "| 7 | B | 15/7 |\n",
    "| 7 | C | 17/7 |\n",
    "    \n",
    "</td>  \n",
    "<td>       \n",
    "    \n",
    "| j | ABC | data |\n",
    "|---|---|---|\n",
    "| 8 | A | 20/7 |\n",
    "| 8 | B | 22/7 |\n",
    "| 8 | C | 24/7 |\n",
    "| 9 | A | 3/8 |\n",
    "| 9 | B | 5/8 |\n",
    "| 9 | C | 7/8 |\n",
    "| 10 | projeto | 10/8 |\n",
    "| 10 | projeto | 12/8 |\n",
    "| 10 | entrega | 14/8 |\n",
    "    \n",
    "</td>       \n",
    "</table>"
   ]
  },
  {
   "cell_type": "markdown",
   "metadata": {
    "slideshow": {
     "slide_type": "slide"
    }
   },
   "source": [
    "## Atividade síncrona x assíncrona\n",
    "\n",
    "- Síncrona: presença de docente\n",
    " - Neste curso: aulas online\n",
    "\n",
    "- Assíncrona: estudo individual ou em grupo\n",
    " - Neste curso: materiais disponibilizados"
   ]
  },
  {
   "cell_type": "markdown",
   "metadata": {
    "slideshow": {
     "slide_type": "slide"
    }
   },
   "source": [
    "## Plataformas \n",
    "\n",
    "- Moodle Classes: materiais didáticos\n",
    "\n",
    "- Google Meet: aulas remotas\n",
    "\n",
    "- Binder: prática computacional em tempo real"
   ]
  }
 ],
 "metadata": {
  "celltoolbar": "Slideshow",
  "kernelspec": {
   "display_name": "Python 3",
   "language": "python",
   "name": "python3"
  },
  "language_info": {
   "codemirror_mode": {
    "name": "ipython",
    "version": 3
   },
   "file_extension": ".py",
   "mimetype": "text/x-python",
   "name": "python",
   "nbconvert_exporter": "python",
   "pygments_lexer": "ipython3",
   "version": "3.7.4"
  },
  "rise": {
   "enable_chalkboard": true,
   "footer": "UFPB - CI - DCC",
   "header": "Gustavo Oliveira / Andrea Rocha",
   "theme": "sky"
  }
 },
 "nbformat": 4,
 "nbformat_minor": 4
}