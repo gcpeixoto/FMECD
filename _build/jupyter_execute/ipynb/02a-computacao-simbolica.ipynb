{
 "cells": [
  {
   "cell_type": "markdown",
   "metadata": {},
   "source": [
    "# Introdução à Computação Simbólica com _sympy_"
   ]
  },
  {
   "cell_type": "markdown",
   "metadata": {},
   "source": [
    "## Motivação\n",
    "\n",
    "Neste ponto do curso, você já aprendeu a realizar operações matemáticas elementares com Python. Por exemplo, se lhe for dado o valor do raio $R$, você consegue facilmente computar a área $\\pi R^2$ de um círculo. Todavia, o valor de $\\pi$ que você obtém é finito. As instruções abaixo verificam isto.   \n",
    "\n",
    "```python\n",
    "from math import pi\n",
    "print(pi)\n",
    "3.141592653589793\n",
    "```\n",
    "\n",
    "Pense, no entanto, se você pudesse realizar o cálculo desta área de maneira \"exata\". Matematicamente falando, é impossível fazer isto pois $\\pi$ é um número irracional – o imbróglio desta constante é longo na história da Matemática. Porém, a computação simbólica permite que operemos com $\\pi$ como se fosse simplesmente um símbolo com precisão infinita. Embora 15 casas decimais, como o valor exemplificado acima, sejam suficientes para a maioria dos cálculos do mundo real, a computação simbólica permite que trabalhemos com modelos abstratos que servem a uma diversidade de propósitos. \n",
    "\n",
    "Aliás, quando se diz que 3.141592653589793 é um valor razoavelmente aceitável, isto é verdade até mesmo para cálculos em escala astronômica. A equipe de engenharia da NASA explica que, usando este valor para calcular o perímetro de uma circunferência com diâmetro igual a 25 bilhões de milhas, o erro de cálculo é próximo de 1,5 polegada [[NASA]](https://www.jpl.nasa.gov/edu/news/2016/3/16/how-many-decimals-of-pi-do-we-really-need/). Até aí, nada mal para uma aproximação!"
   ]
  },
  {
   "cell_type": "markdown",
   "metadata": {},
   "source": [
    "## O que é Computação Simbólica e para que serve? \n",
    "\n",
    "*Computação Simbólica* (CS) é uma subárea de estudo da matemática e da ciência da computação que se preocupa em resolver problemas usando objetos simbólicos representáveis em um computador. Esses problemas surgem em muitas aplicações em ciências naturais, pesquisa básica, na indústria e principalmente no desenvolvimento de softwares para computação avançada denominados _sistemas de computação algébrica_ (SCAs). \n",
    "\n",
    "A CS existente em um SCA é aplicada em álgebra computacional, projetos assistidos por computação (CAD), raciocínio automatizado, gestão do conhecimento, lógica computacional e sistemas formais de verificação. O desenvolvimento da CS depende da integração de basicamente três campos: *softwares matemáticos*, *álgebra computacional* e *lógica computacional* [[RISC/JKU]](https://risc.jku.at/studying-symbolic-computation/). Em casos mais avançados, a CS é útil para solucionar equações da macroeconomia, manipular números para a finalidade de criptografia e criar modelos probabilísticos [[Kotzé]](https://kevinkotze.github.io/mm-tut1-symbolic/), [[Cohen]](https://www.ukma.edu.ua/~yubod/teach/compalgebra/%5BJoel_S._Cohen%5D_Computer_algebra_and_symbolic_comp(BookFi.org).pdf). \n",
    "\n",
    "## Principais SCAs \n",
    "\n",
    "Alguns SCAs são populares de longa data, tais como Maple, Mathematica e MuPad. Entretanto, são comerciais e costumam ter licenças custosas, embora ofereçam versões com desconto para estudantes. Algumas alternativas robustas de uso livre são Scilab, Sagemath, Octave e o próprio módulo *sympy*. Uma lista completa de SCAs está disponível na [[Wikipedia]](https://en.wikipedia.org/wiki/Computer_algebra_system).\n",
    "\n",
    "## Por que *sympy*? \n",
    "\n",
    "O objetivo principal do *sympy* é ser uma biblioteca de manipulação simbólica para Python. Ele começou a ser desenvolvido em 2006 e atualmente está na versão 1.5.1, lançada em dezembro de 2019 na página oficial [[sympy.org]](https://www.sympy.org/pt/index.html). As principais características do módulo são as seguintes: \n",
    "\n",
    "- é gratuito;\n",
    "\n",
    "- é baseado inteiramente em Python;\n",
    "\n",
    "- é leve e independente."
   ]
  },
  {
   "cell_type": "markdown",
   "metadata": {},
   "source": [
    "## Objetos numéricos x objetos simbólicos\n",
    "\n",
    "Importaremos os módulos `math` e `sympy` para ver algumas  diferenças entre objetos numéricos e simbólicos."
   ]
  },
  {
   "cell_type": "code",
   "execution_count": 1,
   "metadata": {},
   "outputs": [],
   "source": [
    "import math as mt\n",
    "import sympy as sy\n",
    "sy.init_printing(pretty_print=True) # melhor impressão de símbolos"
   ]
  },
  {
   "cell_type": "code",
   "execution_count": 2,
   "metadata": {},
   "outputs": [
    {
     "data": {
      "image/png": "[encoded data removed]",
      "text/latex": [
       "$\\displaystyle 3.141592653589793$"
      ],
      "text/plain": [
       "3.141592653589793"
      ]
     },
     "execution_count": 2,
     "metadata": {
      "filenames": {
       "image/png": "/Users/gustavo/Dropbox/courses/data-science/FMECD/_build/jupyter_execute/ipynb/02a-computacao-simbolica_5_0.png"
      }
     },
     "output_type": "execute_result"
    }
   ],
   "source": [
    "mt.pi # numérico"
   ]
  },
  {
   "cell_type": "code",
   "execution_count": 3,
   "metadata": {},
   "outputs": [
    {
     "data": {
      "image/png": "[encoded data removed]",
      "text/latex": [
       "$\\displaystyle \\pi$"
      ],
      "text/plain": [
       "π"
      ]
     },
     "execution_count": 3,
     "metadata": {
      "filenames": {
       "image/png": "/Users/gustavo/Dropbox/courses/data-science/FMECD/_build/jupyter_execute/ipynb/02a-computacao-simbolica_6_0.png"
      }
     },
     "output_type": "execute_result"
    }
   ],
   "source": [
    "sy.pi # simbólico"
   ]
  },
  {
   "cell_type": "markdown",
   "metadata": {},
   "source": [
    "Verifiquemos com `type`."
   ]
  },
  {
   "cell_type": "code",
   "execution_count": 4,
   "metadata": {},
   "outputs": [
    {
     "data": {
      "text/plain": [
       "float"
      ]
     },
     "execution_count": 4,
     "metadata": {},
     "output_type": "execute_result"
    }
   ],
   "source": [
    "type(mt.pi)"
   ]
  },
  {
   "cell_type": "code",
   "execution_count": 5,
   "metadata": {},
   "outputs": [
    {
     "data": {
      "text/plain": [
       "sympy.core.numbers.Pi"
      ]
     },
     "execution_count": 5,
     "metadata": {},
     "output_type": "execute_result"
    }
   ],
   "source": [
    "type(sy.pi) # é um objeto simbólico"
   ]
  },
  {
   "cell_type": "markdown",
   "metadata": {},
   "source": [
    "Vejamos mais um exemplo:"
   ]
  },
  {
   "cell_type": "code",
   "execution_count": 6,
   "metadata": {},
   "outputs": [
    {
     "data": {
      "image/png": "[encoded data removed]",
      "text/latex": [
       "$\\displaystyle 1.4142135623730951$"
      ],
      "text/plain": [
       "1.4142135623730951"
      ]
     },
     "execution_count": 6,
     "metadata": {
      "filenames": {
       "image/png": "/Users/gustavo/Dropbox/courses/data-science/FMECD/_build/jupyter_execute/ipynb/02a-computacao-simbolica_11_0.png"
      }
     },
     "output_type": "execute_result"
    }
   ],
   "source": [
    "mt.sqrt(2)"
   ]
  },
  {
   "cell_type": "code",
   "execution_count": 7,
   "metadata": {},
   "outputs": [
    {
     "data": {
      "image/png": "[encoded data removed]",
      "text/latex": [
       "$\\displaystyle \\sqrt{2}$"
      ],
      "text/plain": [
       "√2"
      ]
     },
     "execution_count": 7,
     "metadata": {
      "filenames": {
       "image/png": "/Users/gustavo/Dropbox/courses/data-science/FMECD/_build/jupyter_execute/ipynb/02a-computacao-simbolica_12_0.png"
      }
     },
     "output_type": "execute_result"
    }
   ],
   "source": [
    "sy.sqrt(2)"
   ]
  },
  {
   "cell_type": "code",
   "execution_count": 8,
   "metadata": {},
   "outputs": [
    {
     "data": {
      "text/plain": [
       "float"
      ]
     },
     "execution_count": 8,
     "metadata": {},
     "output_type": "execute_result"
    }
   ],
   "source": [
    "type(mt.sqrt(2))"
   ]
  },
  {
   "cell_type": "code",
   "execution_count": 9,
   "metadata": {},
   "outputs": [
    {
     "data": {
      "text/plain": [
       "sympy.core.power.Pow"
      ]
     },
     "execution_count": 9,
     "metadata": {},
     "output_type": "execute_result"
    }
   ],
   "source": [
    "type(sy.sqrt(2)) # é um objeto simbólico"
   ]
  },
  {
   "cell_type": "markdown",
   "metadata": {},
   "source": [
    "### Função x método \n",
    "\n",
    "Na aula anterior destacamos que `print` e `type` são \"funções\" similares àquelas do tipo $y = f(x)$ em Matemática. Em Python, essas \"funções\" recebem o nome de *função* mesmo.\n",
    "\n",
    "Porém, há módulos que possuem *métodos*, que para seu entendimento, podem ser vistos como \"funções\" também. Porém, *função* e *método* são conceitos levemenete distintos. \n",
    "\n",
    "Para aplicarmos funções usamos parênteses envolvendo um ou mais *parâmetros*. \n",
    "\n",
    "No caso acima, `mt.sqrt(2)` mostra que `sqrt` age como uma função e o número 2 é seu único parâmetro. Note, além disso, que o sympy também possui a sua própria função `sqrt`, que é de uma natureza distinta. Ela é um objeto `sympy.core.power.Pow`. Não precisamos entender isso agora, mas basta saber que ela pertence a um submódulo do *sympy*.\n",
    "\n",
    "Por outro lado, também aprendemos que o conjugado de um número complexo `z` (tipo `complex`) pode ser obtido como `z.conjugate()`. Esta forma \"sem parâmetros\" indica que `conjugate` é um método do objeto `z`.\n",
    "\n",
    "A partir deste ponto, poderemos ver situações como as seguintes:\n",
    "\n",
    "- `f(x)`: a função `f` é aplicada ao parâmetro `x`\n",
    "\n",
    "- `a.f()`: `f` é um método sem parâmetro do objeto `a`\n",
    "\n",
    "- `a.f(x)`: `f` é um método com parâmetro `x` do objeto `a`\n",
    "\n",
    "A partir do último exemplo, podemos dizer que um método é, na verdade, uma função que pertence a um objeto."
   ]
  },
  {
   "cell_type": "markdown",
   "metadata": {},
   "source": [
    "### Atribuições com símbolos\n",
    "\n",
    "Podemos atribuir símbolos a variáveis usando a função `symbols`."
   ]
  },
  {
   "cell_type": "code",
   "execution_count": 10,
   "metadata": {},
   "outputs": [],
   "source": [
    "x = sy.symbols('x')\n",
    "y = sy.symbols('y')"
   ]
  },
  {
   "cell_type": "markdown",
   "metadata": {},
   "source": [
    "`x` e `y` são símbolos sem valor definido."
   ]
  },
  {
   "cell_type": "code",
   "execution_count": 11,
   "metadata": {},
   "outputs": [
    {
     "data": {
      "image/png": "[encoded data removed]",
      "text/latex": [
       "$\\displaystyle x$"
      ],
      "text/plain": [
       "x"
      ]
     },
     "execution_count": 11,
     "metadata": {
      "filenames": {
       "image/png": "/Users/gustavo/Dropbox/courses/data-science/FMECD/_build/jupyter_execute/ipynb/02a-computacao-simbolica_19_0.png"
      }
     },
     "output_type": "execute_result"
    }
   ],
   "source": [
    "x"
   ]
  },
  {
   "cell_type": "code",
   "execution_count": 12,
   "metadata": {},
   "outputs": [
    {
     "data": {
      "image/png": "[encoded data removed]",
      "text/latex": [
       "$\\displaystyle y$"
      ],
      "text/plain": [
       "y"
      ]
     },
     "execution_count": 12,
     "metadata": {
      "filenames": {
       "image/png": "/Users/gustavo/Dropbox/courses/data-science/FMECD/_build/jupyter_execute/ipynb/02a-computacao-simbolica_20_0.png"
      }
     },
     "output_type": "execute_result"
    }
   ],
   "source": [
    "y"
   ]
  },
  {
   "cell_type": "markdown",
   "metadata": {},
   "source": [
    "Podemos operar aritmeticamente com símbolos e obter uma expressão simbólica como resultado."
   ]
  },
  {
   "cell_type": "code",
   "execution_count": 13,
   "metadata": {},
   "outputs": [
    {
     "data": {
      "image/png": "[encoded data removed]",
      "text/latex": [
       "$\\displaystyle x y + \\frac{z^{2}}{3} + \\sqrt{x y - z}$"
      ],
      "text/plain": [
       "       2              \n",
       "      z      _________\n",
       "x⋅y + ── + ╲╱ x⋅y - z \n",
       "      3               "
      ]
     },
     "execution_count": 13,
     "metadata": {
      "filenames": {
       "image/png": "/Users/gustavo/Dropbox/courses/data-science/FMECD/_build/jupyter_execute/ipynb/02a-computacao-simbolica_22_0.png"
      }
     },
     "output_type": "execute_result"
    }
   ],
   "source": [
    "z = sy.symbols('z')\n",
    "x*y + z**2/3 + sy.sqrt(x*y - z)"
   ]
  },
  {
   "cell_type": "markdown",
   "metadata": {},
   "source": [
    "**Exemplo**: escreva o produto notável $(x - y)^2$ como uma expressão simbólica."
   ]
  },
  {
   "cell_type": "code",
   "execution_count": 14,
   "metadata": {},
   "outputs": [
    {
     "data": {
      "image/png": "[encoded data removed]",
      "text/latex": [
       "$\\displaystyle x^{2} - 2 x y + y^{2}$"
      ],
      "text/plain": [
       " 2            2\n",
       "x  - 2⋅x⋅y + y "
      ]
     },
     "execution_count": 14,
     "metadata": {
      "filenames": {
       "image/png": "/Users/gustavo/Dropbox/courses/data-science/FMECD/_build/jupyter_execute/ipynb/02a-computacao-simbolica_24_0.png"
      }
     },
     "output_type": "execute_result"
    }
   ],
   "source": [
    "x**2 - 2*x*y + y**2"
   ]
  },
  {
   "cell_type": "markdown",
   "metadata": {},
   "source": [
    "Note que o nome da variável não tem a ver com o nome do símbolo. Poderíamos fazer o seguinte:"
   ]
  },
  {
   "cell_type": "code",
   "execution_count": 15,
   "metadata": {},
   "outputs": [
    {
     "data": {
      "image/png": "[encoded data removed]",
      "text/latex": [
       "$\\displaystyle x$"
      ],
      "text/plain": [
       "x"
      ]
     },
     "execution_count": 15,
     "metadata": {
      "filenames": {
       "image/png": "/Users/gustavo/Dropbox/courses/data-science/FMECD/_build/jupyter_execute/ipynb/02a-computacao-simbolica_26_0.png"
      }
     },
     "output_type": "execute_result"
    }
   ],
   "source": [
    "y = sy.symbols('x') # y é variável; x é símbolo\n",
    "y"
   ]
  },
  {
   "cell_type": "markdown",
   "metadata": {},
   "source": [
    "### Atribuição por desempacotamento \n",
    "\n",
    "Também poderíamos realizar as atribuições anteriores da seguinte forma: "
   ]
  },
  {
   "cell_type": "code",
   "execution_count": 16,
   "metadata": {},
   "outputs": [],
   "source": [
    "x, y, z = sy.symbols('x y z')"
   ]
  },
  {
   "cell_type": "markdown",
   "metadata": {},
   "source": [
    "### Alfabeto de símbolos "
   ]
  },
  {
   "cell_type": "markdown",
   "metadata": {},
   "source": [
    "O *sympy* dispõe de um submódulo chamado `abc` do qual podemos importar símbolos para letras latinas (maiúsculas e minúsculas) e gregas (minúsculas)."
   ]
  },
  {
   "cell_type": "code",
   "execution_count": 17,
   "metadata": {},
   "outputs": [
    {
     "data": {
      "image/png": "[encoded data removed]",
      "text/latex": [
       "$\\displaystyle \\left(a + 2 b - 3 c\\right) \\left(\\frac{\\alpha}{3} + \\frac{\\beta}{2} - \\gamma\\right)$"
      ],
      "text/plain": [
       "                ⎛α   β    ⎞\n",
       "(a + 2⋅b - 3⋅c)⋅⎜─ + ─ - γ⎟\n",
       "                ⎝3   2    ⎠"
      ]
     },
     "execution_count": 17,
     "metadata": {
      "filenames": {
       "image/png": "/Users/gustavo/Dropbox/courses/data-science/FMECD/_build/jupyter_execute/ipynb/02a-computacao-simbolica_31_0.png"
      }
     },
     "output_type": "execute_result"
    }
   ],
   "source": [
    "from sympy.abc import a,b,c,alpha,beta,gamma\n",
    "(a + 2*b - 3*c)*(alpha/3 + beta/2 - gamma) # símbolico"
   ]
  },
  {
   "cell_type": "code",
   "execution_count": 18,
   "metadata": {},
   "outputs": [
    {
     "data": {
      "image/png": "[encoded data removed]",
      "text/latex": [
       "$\\displaystyle D^{a} G^{b} \\psi^{c} \\theta^{2}$"
      ],
      "text/plain": [
       " a  b  c  2\n",
       "D ⋅G ⋅ψ ⋅θ "
      ]
     },
     "execution_count": 18,
     "metadata": {
      "filenames": {
       "image/png": "/Users/gustavo/Dropbox/courses/data-science/FMECD/_build/jupyter_execute/ipynb/02a-computacao-simbolica_32_0.png"
      }
     },
     "output_type": "execute_result"
    }
   ],
   "source": [
    "from sympy.abc import D,G,psi,theta\n",
    "D**a * G**b * psi**c * theta**2 # símbolico"
   ]
  },
  {
   "cell_type": "markdown",
   "metadata": {},
   "source": [
    "**Nota**: algumas letras já são usadas como símbolos especiais, tais como `O`, que indica \"ordem\" e `I`, que é o complexo $i$. Neste caso, cuidado deve ser tomado com nomes de variáveis"
   ]
  },
  {
   "cell_type": "code",
   "execution_count": 19,
   "metadata": {},
   "outputs": [
    {
     "data": {
      "image/png": "[encoded data removed]",
      "text/latex": [
       "$\\displaystyle i$"
      ],
      "text/plain": [
       "ⅈ"
      ]
     },
     "execution_count": 19,
     "metadata": {
      "filenames": {
       "image/png": "/Users/gustavo/Dropbox/courses/data-science/FMECD/_build/jupyter_execute/ipynb/02a-computacao-simbolica_34_0.png"
      }
     },
     "output_type": "execute_result"
    }
   ],
   "source": [
    "sy.I # imaginário simbólico"
   ]
  },
  {
   "cell_type": "code",
   "execution_count": 20,
   "metadata": {},
   "outputs": [
    {
     "data": {
      "text/plain": [
       "sympy.core.numbers.ImaginaryUnit"
      ]
     },
     "execution_count": 20,
     "metadata": {},
     "output_type": "execute_result"
    }
   ],
   "source": [
    "type(sy.I)"
   ]
  },
  {
   "cell_type": "markdown",
   "metadata": {},
   "source": [
    "### Símbolos com nomes genéricos\n",
    "\n",
    "Para criar símbolos genéricos, temos de usar `symbols` ou `Symbol`."
   ]
  },
  {
   "cell_type": "code",
   "execution_count": 21,
   "metadata": {},
   "outputs": [
    {
     "data": {
      "image/png": "[encoded data removed]",
      "text/latex": [
       "$\\displaystyle nada$"
      ],
      "text/plain": [
       "nada"
      ]
     },
     "execution_count": 21,
     "metadata": {
      "filenames": {
       "image/png": "/Users/gustavo/Dropbox/courses/data-science/FMECD/_build/jupyter_execute/ipynb/02a-computacao-simbolica_37_0.png"
      }
     },
     "output_type": "execute_result"
    }
   ],
   "source": [
    "sem_nocao = sy.symbols('nada')\n",
    "sem_nocao"
   ]
  },
  {
   "cell_type": "code",
   "execution_count": 22,
   "metadata": {},
   "outputs": [
    {
     "data": {
      "image/png": "[encoded data removed]",
      "text/latex": [
       "$\\displaystyle massa$"
      ],
      "text/plain": [
       "massa"
      ]
     },
     "execution_count": 22,
     "metadata": {
      "filenames": {
       "image/png": "/Users/gustavo/Dropbox/courses/data-science/FMECD/_build/jupyter_execute/ipynb/02a-computacao-simbolica_38_0.png"
      }
     },
     "output_type": "execute_result"
    }
   ],
   "source": [
    "muito_louco = sy.Symbol('massa')\n",
    "muito_louco"
   ]
  },
  {
   "cell_type": "markdown",
   "metadata": {},
   "source": [
    "### Variáveis e símbolos"
   ]
  },
  {
   "cell_type": "code",
   "execution_count": 23,
   "metadata": {},
   "outputs": [
    {
     "data": {
      "image/png": "[encoded data removed]",
      "text/latex": [
       "$\\displaystyle nada + 2$"
      ],
      "text/plain": [
       "nada + 2"
      ]
     },
     "execution_count": 23,
     "metadata": {
      "filenames": {
       "image/png": "/Users/gustavo/Dropbox/courses/data-science/FMECD/_build/jupyter_execute/ipynb/02a-computacao-simbolica_40_0.png"
      }
     },
     "output_type": "execute_result"
    }
   ],
   "source": [
    "sem_medo = sem_nocao + 2\n",
    "sem_medo "
   ]
  },
  {
   "cell_type": "code",
   "execution_count": 24,
   "metadata": {},
   "outputs": [
    {
     "data": {
      "image/png": "[encoded data removed]",
      "text/latex": [
       "$\\displaystyle massa + 2$"
      ],
      "text/plain": [
       "massa + 2"
      ]
     },
     "execution_count": 24,
     "metadata": {
      "filenames": {
       "image/png": "/Users/gustavo/Dropbox/courses/data-science/FMECD/_build/jupyter_execute/ipynb/02a-computacao-simbolica_41_0.png"
      }
     },
     "output_type": "execute_result"
    }
   ],
   "source": [
    "soma = muito_louco + 2\n",
    "muito_louco = 3 # 'muito_louco' aqui não é o simbólico\n",
    "soma"
   ]
  },
  {
   "cell_type": "markdown",
   "metadata": {},
   "source": [
    "## Substituição\n",
    "\n",
    "A operação de *substituição* permite que: \n",
    "\n",
    "1. substituamos variáveis por valores numéricos para avaliar uma expressão ou calcular valores de uma função em um dado ponto.\n",
    "2. substituamos uma subexpressão por outra.\n",
    "\n",
    "Para tanto, procedemos da seguinte forma: \n",
    "\n",
    "```python\n",
    "expressao.subs(variavel,valor)\n",
    "```\n"
   ]
  },
  {
   "cell_type": "markdown",
   "metadata": {},
   "source": [
    "**Exemplo**: considere o polinômio $P(x) = 2x^3 - 4x -6$. Calcule o valor de $P(-1)$, $P(e/3)$, $P(\\sqrt{3.2})$."
   ]
  },
  {
   "cell_type": "code",
   "execution_count": 25,
   "metadata": {},
   "outputs": [
    {
     "name": "stdout",
     "output_type": "stream",
     "text": [
      "-4 -8.13655822141297 -1.70674948320040\n"
     ]
    }
   ],
   "source": [
    "from sympy.abc import x \n",
    "P = 2*x**3 - 4*x - 6\n",
    "P1 = P.subs(x,-1)\n",
    "Pe3 = P.subs(x,mt.e/3)\n",
    "P32 = P.subs(x,mt.sqrt(3.2))\n",
    "print(P1, Pe3, P32)"
   ]
  },
  {
   "cell_type": "markdown",
   "metadata": {},
   "source": [
    "**Exemplo:** sejam $f(x) = 4^x$ e $g(x) = 2x - 1$. Compute o valor da função composta $f(g(x))$ em $x = 3$. "
   ]
  },
  {
   "cell_type": "code",
   "execution_count": 26,
   "metadata": {},
   "outputs": [],
   "source": [
    "f = 4**x\n",
    "fg = f.subs(x,2*x - 1)"
   ]
  },
  {
   "cell_type": "code",
   "execution_count": 27,
   "metadata": {},
   "outputs": [
    {
     "data": {
      "image/png": "[encoded data removed]",
      "text/latex": [
       "$\\displaystyle 1024$"
      ],
      "text/plain": [
       "1024"
      ]
     },
     "execution_count": 27,
     "metadata": {
      "filenames": {
       "image/png": "/Users/gustavo/Dropbox/courses/data-science/FMECD/_build/jupyter_execute/ipynb/02a-computacao-simbolica_47_0.png"
      }
     },
     "output_type": "execute_result"
    }
   ],
   "source": [
    "fg.subs(x,3)"
   ]
  },
  {
   "cell_type": "markdown",
   "metadata": {},
   "source": [
    "Poderíamos também fazer isso com um estilo \"Pythônico\":"
   ]
  },
  {
   "cell_type": "code",
   "execution_count": 28,
   "metadata": {},
   "outputs": [
    {
     "data": {
      "image/png": "[encoded data removed]",
      "text/latex": [
       "$\\displaystyle 1024$"
      ],
      "text/plain": [
       "1024"
      ]
     },
     "execution_count": 28,
     "metadata": {
      "filenames": {
       "image/png": "/Users/gustavo/Dropbox/courses/data-science/FMECD/_build/jupyter_execute/ipynb/02a-computacao-simbolica_49_0.png"
      }
     },
     "output_type": "execute_result"
    }
   ],
   "source": [
    "fg = 4**x.subs(x,2*x - 1).subs(x,3)\n",
    "fg"
   ]
  },
  {
   "cell_type": "markdown",
   "metadata": {},
   "source": [
    "**Exemplo:** se $a(x) = 2^x$, $b(x) = 6^x$ e $c(x) = \\cos(x)$, compute o valor de $a(x)b(c(x))$ em $x = 4$"
   ]
  },
  {
   "cell_type": "code",
   "execution_count": 29,
   "metadata": {},
   "outputs": [
    {
     "data": {
      "image/png": "[encoded data removed]",
      "text/latex": [
       "$\\displaystyle \\frac{16}{6^{- \\cos{\\left(4 \\right)}}}$"
      ],
      "text/plain": [
       "    cos(4)\n",
       "16⋅6      "
      ]
     },
     "execution_count": 29,
     "metadata": {
      "filenames": {
       "image/png": "/Users/gustavo/Dropbox/courses/data-science/FMECD/_build/jupyter_execute/ipynb/02a-computacao-simbolica_51_0.png"
      }
     },
     "output_type": "execute_result"
    }
   ],
   "source": [
    "a = 2**x\n",
    "b = 6**x\n",
    "c = sy.cos(x)\n",
    "(a * b.subs(x,c)).subs(x,4)"
   ]
  },
  {
   "cell_type": "markdown",
   "metadata": {},
   "source": [
    "Ou, de modo direto:"
   ]
  },
  {
   "cell_type": "code",
   "execution_count": 30,
   "metadata": {},
   "outputs": [
    {
     "data": {
      "image/png": "[encoded data removed]",
      "text/latex": [
       "$\\displaystyle \\frac{16}{6^{- \\cos{\\left(4 \\right)}}}$"
      ],
      "text/plain": [
       "    cos(4)\n",
       "16⋅6      "
      ]
     },
     "execution_count": 30,
     "metadata": {
      "filenames": {
       "image/png": "/Users/gustavo/Dropbox/courses/data-science/FMECD/_build/jupyter_execute/ipynb/02a-computacao-simbolica_53_0.png"
      }
     },
     "output_type": "execute_result"
    }
   ],
   "source": [
    "valor = ( 2**x * ( 6**x.subs(x,sy.cos(x))) ).subs(x,4)\n",
    "valor"
   ]
  },
  {
   "cell_type": "markdown",
   "metadata": {},
   "source": [
    "### Avaliação de expressão em ponto flutuante\n",
    "\n",
    "Note que a expressão anterior não foi computada em valor numérico. Para obter seu valor numérico, podemos usar o método `evalf`."
   ]
  },
  {
   "cell_type": "code",
   "execution_count": 31,
   "metadata": {},
   "outputs": [
    {
     "data": {
      "image/png": "[encoded data removed]",
      "text/latex": [
       "$\\displaystyle 4.96005373851859$"
      ],
      "text/plain": [
       "4.96005373851859"
      ]
     },
     "execution_count": 31,
     "metadata": {
      "filenames": {
       "image/png": "/Users/gustavo/Dropbox/courses/data-science/FMECD/_build/jupyter_execute/ipynb/02a-computacao-simbolica_55_0.png"
      }
     },
     "output_type": "execute_result"
    }
   ],
   "source": [
    "valor.evalf()"
   ]
  },
  {
   "cell_type": "markdown",
   "metadata": {},
   "source": [
    "#### Precisão arbitrária \n",
    "\n",
    "`evalf` permite que escolhamos a precisão do cálculo impondo o número de dígitos de precisão. Por exemplo, a última expressão com 20 dígitos de precisão seria:"
   ]
  },
  {
   "cell_type": "code",
   "execution_count": 32,
   "metadata": {},
   "outputs": [
    {
     "data": {
      "image/png": "[encoded data removed]",
      "text/latex": [
       "$\\displaystyle 4.9600537385185864965$"
      ],
      "text/plain": [
       "4.9600537385185864965"
      ]
     },
     "execution_count": 32,
     "metadata": {
      "filenames": {
       "image/png": "/Users/gustavo/Dropbox/courses/data-science/FMECD/_build/jupyter_execute/ipynb/02a-computacao-simbolica_57_0.png"
      }
     },
     "output_type": "execute_result"
    }
   ],
   "source": [
    "valor.evalf(20)"
   ]
  },
  {
   "cell_type": "markdown",
   "metadata": {},
   "source": [
    "Com 55, seria:"
   ]
  },
  {
   "cell_type": "code",
   "execution_count": 33,
   "metadata": {},
   "outputs": [
    {
     "data": {
      "image/png": "[encoded data removed]",
      "text/latex": [
       "$\\displaystyle 4.960053738518586496500224737177413703698642291256987299$"
      ],
      "text/plain": [
       "4.960053738518586496500224737177413703698642291256987299"
      ]
     },
     "execution_count": 33,
     "metadata": {
      "filenames": {
       "image/png": "/Users/gustavo/Dropbox/courses/data-science/FMECD/_build/jupyter_execute/ipynb/02a-computacao-simbolica_59_0.png"
      }
     },
     "output_type": "execute_result"
    }
   ],
   "source": [
    "valor.evalf(55)"
   ]
  },
  {
   "cell_type": "markdown",
   "metadata": {},
   "source": [
    "E com 90 seria:"
   ]
  },
  {
   "cell_type": "code",
   "execution_count": 34,
   "metadata": {},
   "outputs": [
    {
     "data": {
      "image/png": "[encoded data removed]",
      "text/latex": [
       "$\\displaystyle 4.96005373851858649650022473717741370369864229125698729854344177160076602987156535840378604$"
      ],
      "text/plain": [
       "4.9600537385185864965002247371774137036986422912569872985434417716007660298715\n",
       "6535840378604"
      ]
     },
     "execution_count": 34,
     "metadata": {
      "filenames": {
       "image/png": "/Users/gustavo/Dropbox/courses/data-science/FMECD/_build/jupyter_execute/ipynb/02a-computacao-simbolica_61_0.png"
      }
     },
     "output_type": "execute_result"
    }
   ],
   "source": [
    "valor.evalf(90)"
   ]
  },
  {
   "cell_type": "markdown",
   "metadata": {},
   "source": [
    "**Exemplo**: calcule o valor de $e$ com 200 dígitos de precisão."
   ]
  },
  {
   "cell_type": "code",
   "execution_count": 35,
   "metadata": {},
   "outputs": [
    {
     "data": {
      "image/png": "[encoded data removed]",
      "text/latex": [
       "$\\displaystyle 2.718281828459045235360287471352662497757247093699959574966967627724076630353547594571382178525166427427466391932003059921817413596629043572900334295260595630738132328627943490763233829880753195251019$"
      ],
      "text/plain": [
       "2.7182818284590452353602874713526624977572470936999595749669676277240766303535\n",
       "475945713821785251664274274663919320030599218174135966290435729003342952605956\n",
       "307381323286279434907632338298807531952510190"
      ]
     },
     "execution_count": 35,
     "metadata": {
      "filenames": {
       "image/png": "/Users/gustavo/Dropbox/courses/data-science/FMECD/_build/jupyter_execute/ipynb/02a-computacao-simbolica_63_0.png"
      }
     },
     "output_type": "execute_result"
    }
   ],
   "source": [
    "sy.exp(1).evalf(200)"
   ]
  },
  {
   "cell_type": "markdown",
   "metadata": {},
   "source": [
    "## Funções predefinidas x funções regulares\n",
    "\n",
    "Vamos apresentar aqui três grupos de funções que podem ser criadas em Python para nos auxiliar ao longo do curso sem, no entanto, nos aprofundaremos nos detalhes de cada um. \n",
    "\n",
    "Como dissemos em um momento anterior, a linguagem Python possui um *core* que contém um conjunto de funções já prontas que podemos usar, como é o caso de `print()`, `type()` e até mesmo `int()` e `float()` para operações de *casting*. Essas funções podem ser chamadas de **predefinidas** (*built-in functions*). Ou seja, são aquelas funções \"já existentes\". Exemplos adicionais seriam as funções do módulo `math`.\n",
    "\n",
    "Suponhamos, porém, que você vasculhe módulos e mais módulos atrás de uma função que faça exatamente o que você quer, mas não a encontra. O que você faz? Você a cria! Podemos fazer isto de uma maneira usando uma \"palavra-chave\" (*keyword*) chamada `def` da seguinte forma:\n",
    "\n",
    "```python\n",
    "def f(x):\n",
    "    (...)\n",
    "    return y\n",
    "```\n",
    "A instrução acima permite que você crie uma *função* chamada `f` da qual `x` é um *argumento* e `y` é um *valor de retorno*, indicado por uma segunda \"palavra-chave\", *return*. Funções definidas por você dessa maneira são chamadas de **regulares**, *normais* – pelo fato de serem programadas de um modo regular, seguindo a \"normalidade\" da linguagem –, ou ainda *definidas pelo usuário* (do inglês *user-defined functions*, ou simplesmente *UDF*). Por conveniência, vamos nos referir a elas por este acrônimo elegante: UDF. \n",
    "\n",
    "Uma UDF permite que você abstraia seu pensamento para criar basicamente o que quiser dentro dos limites da linguagem Python. Cabe, apesar disso, fazermos as seguintes ressalvas: \n",
    "\n",
    "- uma UDF **pode ter zero ou mais argumentos**, tantos quantos se queira;\n",
    "- uma UDF **pode ou não ter valor de retorno**;\n",
    "\n",
    "Vamos entender as UDFs com exemplos."
   ]
  },
  {
   "cell_type": "markdown",
   "metadata": {},
   "source": [
    "**Exemplo:** Suponha que você é um(a) analista de dados do mercado imobiliário e está estudando o impacto do repasse de comissões pagas a corretores mediante vendas de imóveis. Você, então, começa a raciocinar e cria um modelo matemático bastante simples que, antes de tudo, precisa calcular o valor do repasse a partir do preço de venda. \n",
    "\n",
    "Se $c$ for o percentual de comissão, $V$ o valor da venda do imóvel e $r$ o valor a ser repassado para o corretor, então, a função a ser definida é \n",
    "\n",
    "$$r(V) = c\\, V,$$ \n",
    "\n",
    "assumindo que $c$ seja um valor fixo. \n",
    "\n",
    "Digamos que $c$ corresponda a 1.03% do valor da venda do imóvel. Neste caso podemos criar uma UDF para calcular $r$ para nós da seguinte forma:"
   ]
  },
  {
   "cell_type": "code",
   "execution_count": 36,
   "metadata": {},
   "outputs": [],
   "source": [
    "def repasse(V): \n",
    "    r = 0.0103*V  \n",
    "    return r"
   ]
  },
  {
   "cell_type": "markdown",
   "metadata": {},
   "source": [
    "Para $V = \\, R\\$ \\, 332.130,00$:"
   ]
  },
  {
   "cell_type": "code",
   "execution_count": 37,
   "metadata": {},
   "outputs": [
    {
     "data": {
      "image/png": "[encoded data removed]",
      "text/latex": [
       "$\\displaystyle 3420.939$"
      ],
      "text/plain": [
       "3420.939"
      ]
     },
     "execution_count": 37,
     "metadata": {
      "filenames": {
       "image/png": "/Users/gustavo/Dropbox/courses/data-science/FMECD/_build/jupyter_execute/ipynb/02a-computacao-simbolica_68_0.png"
      }
     },
     "output_type": "execute_result"
    }
   ],
   "source": [
    "repasse(332130)"
   ]
  },
  {
   "cell_type": "markdown",
   "metadata": {},
   "source": [
    "O que é necessário observar:\n",
    "\n",
    "- `def` vem seguido pelo *nome* da função (`repasse`) após um espaço;\n",
    "- o nome precede os argumentos, enclausurados por parênteses `(V)`. Neste caso, temos apenas um *argumento*, que é `V`;\n",
    "- após o nome, os dois-pontos (`:`) são obrigatórios e significam mais ou menos \"o que esta função faz será definido da seguinte maneira\"\n",
    "- a instrução `r = 0.0103*V` é o *escopo* da função, que deve ser escrito em uma ou mais linhas indentadas (pressione `TAB` para isso, ou use 4 espaços)\n",
    "- o valor de retorno, se houver, é posto na última linha do escopo."
   ]
  },
  {
   "cell_type": "markdown",
   "metadata": {},
   "source": [
    "Podemos atribuir os valores do argumento e resultado a variáveis:"
   ]
  },
  {
   "cell_type": "code",
   "execution_count": 38,
   "metadata": {},
   "outputs": [
    {
     "data": {
      "image/png": "[encoded data removed]",
      "text/latex": [
       "$\\displaystyle 3420.939$"
      ],
      "text/plain": [
       "3420.939"
      ]
     },
     "execution_count": 38,
     "metadata": {
      "filenames": {
       "image/png": "/Users/gustavo/Dropbox/courses/data-science/FMECD/_build/jupyter_execute/ipynb/02a-computacao-simbolica_71_0.png"
      }
     },
     "output_type": "execute_result"
    }
   ],
   "source": [
    "V = 332130\n",
    "rep = repasse(V)\n",
    "rep"
   ]
  },
  {
   "cell_type": "markdown",
   "metadata": {},
   "source": [
    "Nomes iguais de variável e função são permissíveis."
   ]
  },
  {
   "cell_type": "code",
   "execution_count": 39,
   "metadata": {},
   "outputs": [
    {
     "name": "stdout",
     "output_type": "stream",
     "text": [
      "3420.939\n"
     ]
    }
   ],
   "source": [
    "repasse = repasse(V) # 'repasse' à esquerda é uma variável; à direita, função\n",
    "print(repasse)"
   ]
  },
  {
   "cell_type": "markdown",
   "metadata": {},
   "source": [
    "Todavia, isto pode ser confuso e é bom evitar."
   ]
  },
  {
   "cell_type": "markdown",
   "metadata": {},
   "source": [
    "O estilo \"Pythônico\" de escrever permite que o valor de retorno não seja explicitamente declarado. No escopo\n",
    "\n",
    "```python\n",
    "...\n",
    "    r = 0.0103*V  \n",
    "    return r\n",
    "```\n",
    " a variável `r` não é necessária.\n",
    " \n",
    "Python é inteligente para permitir o seguinte:"
   ]
  },
  {
   "cell_type": "code",
   "execution_count": 40,
   "metadata": {},
   "outputs": [
    {
     "data": {
      "image/png": "[encoded data removed]",
      "text/latex": [
       "$\\displaystyle 3420.939$"
      ],
      "text/plain": [
       "3420.939"
      ]
     },
     "execution_count": 40,
     "metadata": {
      "filenames": {
       "image/png": "/Users/gustavo/Dropbox/courses/data-science/FMECD/_build/jupyter_execute/ipynb/02a-computacao-simbolica_76_0.png"
      }
     },
     "output_type": "execute_result"
    }
   ],
   "source": [
    "def repasse(V): \n",
    "    return 0.0103*V\n",
    "\n",
    "# note que aqui não indentamos a linha. \n",
    "# Logo esta instrução NÃO pertence ao escopo da função.\n",
    "repasse(V)"
   ]
  },
  {
   "cell_type": "markdown",
   "metadata": {},
   "source": [
    "Podemos criar uma função para diferentes valores de `c` e `V` usando *dois* argumentos:"
   ]
  },
  {
   "cell_type": "code",
   "execution_count": 41,
   "metadata": {},
   "outputs": [],
   "source": [
    "def repasse_c(c,V): # esta função tem outro nome\n",
    "    return c*V"
   ]
  },
  {
   "cell_type": "code",
   "execution_count": 42,
   "metadata": {},
   "outputs": [
    {
     "data": {
      "image/png": "[encoded data removed]",
      "text/latex": [
       "$\\displaystyle 4619.9088$"
      ],
      "text/plain": [
       "4619.9088"
      ]
     },
     "execution_count": 42,
     "metadata": {
      "filenames": {
       "image/png": "/Users/gustavo/Dropbox/courses/data-science/FMECD/_build/jupyter_execute/ipynb/02a-computacao-simbolica_79_0.png"
      }
     },
     "output_type": "execute_result"
    }
   ],
   "source": [
    "c = 0.0234 # equivaleria a uma taxa de repasse de 2.34%\n",
    "V = 197432 # o valor do imóvel agora é R$ 197.432,00\n",
    "repasse_c(c,V)"
   ]
  },
  {
   "cell_type": "markdown",
   "metadata": {},
   "source": [
    "A ordem dos argumentos importa:"
   ]
  },
  {
   "cell_type": "code",
   "execution_count": 43,
   "metadata": {},
   "outputs": [
    {
     "data": {
      "image/png": "[encoded data removed]",
      "text/latex": [
       "$\\displaystyle 4619.9088$"
      ],
      "text/plain": [
       "4619.9088"
      ]
     },
     "execution_count": 43,
     "metadata": {
      "filenames": {
       "image/png": "/Users/gustavo/Dropbox/courses/data-science/FMECD/_build/jupyter_execute/ipynb/02a-computacao-simbolica_81_0.png"
      }
     },
     "output_type": "execute_result"
    }
   ],
   "source": [
    "V = 0.0234 # este deveria ser o valor de c\n",
    "c = 197432 # este deveria ser o valor de V\n",
    "repasse_c(c,V)"
   ]
  },
  {
   "cell_type": "markdown",
   "metadata": {},
   "source": [
    "Por que o valor resultante é o mesmo? Porque a operação no escopo da função é uma multiplicação, `c*V`, que é comutativa independentemente do valor das variáveis. Porém, digamos que um segundo modelo tenha uma forma de cálculo distinta para a comissão dada por\n",
    "\n",
    "$$r_2(V) = c^{3/5} \\, V$$\n",
    "\n",
    "Neste caso:"
   ]
  },
  {
   "cell_type": "code",
   "execution_count": 44,
   "metadata": {},
   "outputs": [
    {
     "data": {
      "image/png": "[encoded data removed]",
      "text/latex": [
       "$\\displaystyle 20746.606005253696$"
      ],
      "text/plain": [
       "20746.606005253696"
      ]
     },
     "execution_count": 44,
     "metadata": {
      "filenames": {
       "image/png": "/Users/gustavo/Dropbox/courses/data-science/FMECD/_build/jupyter_execute/ipynb/02a-computacao-simbolica_83_0.png"
      }
     },
     "output_type": "execute_result"
    }
   ],
   "source": [
    "def repasse_2(c,V):\n",
    "    return c**(3/5)*V\n",
    "\n",
    "V = 197432\n",
    "c = 0.0234\n",
    "\n",
    "repasse_2(c,V)"
   ]
  },
  {
   "cell_type": "markdown",
   "metadata": {},
   "source": [
    "Porém, se trocarmos o valor das variáveis, a função `repasse_2` calculará um valor distinto. Embora exista um produto também comutativo, o expoente `3/4` modifica apenas o valor de `c`."
   ]
  },
  {
   "cell_type": "code",
   "execution_count": 45,
   "metadata": {},
   "outputs": [
    {
     "data": {
      "image/png": "[encoded data removed]",
      "text/latex": [
       "$\\displaystyle 35.19381804734109$"
      ],
      "text/plain": [
       "35.19381804734109"
      ]
     },
     "execution_count": 45,
     "metadata": {
      "filenames": {
       "image/png": "/Users/gustavo/Dropbox/courses/data-science/FMECD/_build/jupyter_execute/ipynb/02a-computacao-simbolica_85_0.png"
      }
     },
     "output_type": "execute_result"
    }
   ],
   "source": [
    "# variáveis com valores trocados\n",
    "c = 197432\n",
    "V = 0.0234\n",
    "\n",
    "repasse_2(c,V)"
   ]
  },
  {
   "cell_type": "markdown",
   "metadata": {},
   "source": [
    "A ordem com que escrevemos os argumentos tem importância relativa aos valores que passamos e ao que definimos: "
   ]
  },
  {
   "cell_type": "code",
   "execution_count": 46,
   "metadata": {},
   "outputs": [
    {
     "data": {
      "image/png": "[encoded data removed]",
      "text/latex": [
       "$\\displaystyle 20746.606005253696$"
      ],
      "text/plain": [
       "20746.606005253696"
      ]
     },
     "execution_count": 46,
     "metadata": {
      "filenames": {
       "image/png": "/Users/gustavo/Dropbox/courses/data-science/FMECD/_build/jupyter_execute/ipynb/02a-computacao-simbolica_87_0.png"
      }
     },
     "output_type": "execute_result"
    }
   ],
   "source": [
    "# variáveis com valores corretos\n",
    "V = 197432\n",
    "c = 0.0234\n",
    "\n",
    "def repasse_2_trocada(V,c): # V vem antes de c\n",
    "    return c**(3/5)*V\n",
    "    \n",
    "repasse_2_trocada(V,c)"
   ]
  },
  {
   "cell_type": "markdown",
   "metadata": {},
   "source": [
    "Mas,"
   ]
  },
  {
   "cell_type": "code",
   "execution_count": 47,
   "metadata": {},
   "outputs": [
    {
     "data": {
      "image/png": "[encoded data removed]",
      "text/latex": [
       "$\\displaystyle 35.19381804734109$"
      ],
      "text/plain": [
       "35.19381804734109"
      ]
     },
     "execution_count": 47,
     "metadata": {
      "filenames": {
       "image/png": "/Users/gustavo/Dropbox/courses/data-science/FMECD/_build/jupyter_execute/ipynb/02a-computacao-simbolica_89_0.png"
      }
     },
     "output_type": "execute_result"
    }
   ],
   "source": [
    "# os valores das variáveis estão corretos, \n",
    "# mas foram passados para a função na ordem errada\n",
    "repasse_2_trocada(c,V) "
   ]
  },
  {
   "cell_type": "markdown",
   "metadata": {},
   "source": [
    "e "
   ]
  },
  {
   "cell_type": "code",
   "execution_count": 48,
   "metadata": {},
   "outputs": [
    {
     "data": {
      "image/png": "[encoded data removed]",
      "text/latex": [
       "$\\displaystyle 35.19381804734109$"
      ],
      "text/plain": [
       "35.19381804734109"
      ]
     },
     "execution_count": 48,
     "metadata": {
      "filenames": {
       "image/png": "/Users/gustavo/Dropbox/courses/data-science/FMECD/_build/jupyter_execute/ipynb/02a-computacao-simbolica_91_0.png"
      }
     },
     "output_type": "execute_result"
    }
   ],
   "source": [
    "# a ordem dos argumentos está de acordo com a que foi definida\n",
    "# mas os valores das variáveis foram trocados\n",
    "V = 197432\n",
    "c = 0.0234\n",
    "repasse_2_trocada(c,V) "
   ]
  },
  {
   "cell_type": "markdown",
   "metadata": {},
   "source": [
    "## Modelos matemáticos simbólicos"
   ]
  },
  {
   "cell_type": "markdown",
   "metadata": {},
   "source": [
    "A partir do que aprendemos, podemos definir modelos matemáticos completamente simbólicos."
   ]
  },
  {
   "cell_type": "code",
   "execution_count": 49,
   "metadata": {},
   "outputs": [],
   "source": [
    "from sympy.abc import c,V\n",
    "\n",
    "def repasse_2_simbolica(c,V):\n",
    "    return c**(3/5)*V"
   ]
  },
  {
   "cell_type": "markdown",
   "metadata": {},
   "source": [
    "Se chamarmos esta função, ela será um objeto simbólico."
   ]
  },
  {
   "cell_type": "code",
   "execution_count": 50,
   "metadata": {},
   "outputs": [
    {
     "data": {
      "image/png": "[encoded data removed]",
      "text/latex": [
       "$\\displaystyle V c^{0.6}$"
      ],
      "text/plain": [
       "   0.6\n",
       "V⋅c   "
      ]
     },
     "execution_count": 50,
     "metadata": {
      "filenames": {
       "image/png": "/Users/gustavo/Dropbox/courses/data-science/FMECD/_build/jupyter_execute/ipynb/02a-computacao-simbolica_96_0.png"
      }
     },
     "output_type": "execute_result"
    }
   ],
   "source": [
    "repasse_2_simbolica(c,V)"
   ]
  },
  {
   "cell_type": "markdown",
   "metadata": {},
   "source": [
    "Atribuindo em variável:"
   ]
  },
  {
   "cell_type": "code",
   "execution_count": 51,
   "metadata": {},
   "outputs": [],
   "source": [
    "rep_simb = repasse_2_simbolica(c,V)"
   ]
  },
  {
   "cell_type": "code",
   "execution_count": 52,
   "metadata": {},
   "outputs": [
    {
     "data": {
      "text/plain": [
       "sympy.core.mul.Mul"
      ]
     },
     "execution_count": 52,
     "metadata": {},
     "output_type": "execute_result"
    }
   ],
   "source": [
    "type(rep_simb) # é um objeto simbólico"
   ]
  },
  {
   "cell_type": "markdown",
   "metadata": {},
   "source": [
    "**Exemplo:** Suponha, agora, que seu modelo matemático de repasse deva considerar não apenas um percentual $c$ pré-estabelecido, mas também um valor de \"bônus\" adicional concedido como prêmio pela venda do imóvel. Considere, então, que o valor deste bônus seja $b$. Diante disso, nosso novo modelo teria uma fórmula como a seguinte: \n",
    "\n",
    "$$r_3(V) = c\\,V + b$$"
   ]
  },
  {
   "cell_type": "markdown",
   "metadata": {},
   "source": [
    "Simbolicamente:"
   ]
  },
  {
   "cell_type": "code",
   "execution_count": 53,
   "metadata": {},
   "outputs": [
    {
     "data": {
      "image/png": "[encoded data removed]",
      "text/latex": [
       "$\\displaystyle V c + b$"
      ],
      "text/plain": [
       "V⋅c + b"
      ]
     },
     "execution_count": 53,
     "metadata": {
      "filenames": {
       "image/png": "/Users/gustavo/Dropbox/courses/data-science/FMECD/_build/jupyter_execute/ipynb/02a-computacao-simbolica_102_0.png"
      }
     },
     "output_type": "execute_result"
    }
   ],
   "source": [
    "# importaremos apenas o símbolo b, \n",
    "# uma vez que c e V já foram importados \n",
    "# como símbolos anteriormente\n",
    "from sympy.abc import b \n",
    "\n",
    "def r3(V):\n",
    "    return c*V + b\n",
    "\n",
    "rep_3 = r3(V)\n",
    "rep_3"
   ]
  },
  {
   "cell_type": "markdown",
   "metadata": {},
   "source": [
    "### Substituindo valores\n",
    "\n",
    "Podemos usar a função `subs` para atribuir quaisquer valores para o modelo.\n",
    "\n",
    "**Exemplo:** $c = 0.119$"
   ]
  },
  {
   "cell_type": "code",
   "execution_count": 54,
   "metadata": {},
   "outputs": [
    {
     "data": {
      "image/png": "[encoded data removed]",
      "text/latex": [
       "$\\displaystyle 0.119 V + b$"
      ],
      "text/plain": [
       "0.119⋅V + b"
      ]
     },
     "execution_count": 54,
     "metadata": {
      "filenames": {
       "image/png": "/Users/gustavo/Dropbox/courses/data-science/FMECD/_build/jupyter_execute/ipynb/02a-computacao-simbolica_104_0.png"
      }
     },
     "output_type": "execute_result"
    }
   ],
   "source": [
    "rep_3.subs(c,0.119) # substituindo para c"
   ]
  },
  {
   "cell_type": "markdown",
   "metadata": {},
   "source": [
    "**Exemplo:** $c = 0.222$"
   ]
  },
  {
   "cell_type": "code",
   "execution_count": 55,
   "metadata": {},
   "outputs": [
    {
     "data": {
      "image/png": "[encoded data removed]",
      "text/latex": [
       "$\\displaystyle 0.222 V + b$"
      ],
      "text/plain": [
       "0.222⋅V + b"
      ]
     },
     "execution_count": 55,
     "metadata": {
      "filenames": {
       "image/png": "/Users/gustavo/Dropbox/courses/data-science/FMECD/_build/jupyter_execute/ipynb/02a-computacao-simbolica_106_0.png"
      }
     },
     "output_type": "execute_result"
    }
   ],
   "source": [
    "rep_3.subs(c,0.222) # substituindo para c"
   ]
  },
  {
   "cell_type": "markdown",
   "metadata": {},
   "source": [
    "**Exemplo:** $c = 0.222$ e $b = 12.0$"
   ]
  },
  {
   "cell_type": "code",
   "execution_count": 56,
   "metadata": {},
   "outputs": [
    {
     "data": {
      "image/png": "[encoded data removed]",
      "text/latex": [
       "$\\displaystyle 0.222 V + 12.0$"
      ],
      "text/plain": [
       "0.222⋅V + 12.0"
      ]
     },
     "execution_count": 56,
     "metadata": {
      "filenames": {
       "image/png": "/Users/gustavo/Dropbox/courses/data-science/FMECD/_build/jupyter_execute/ipynb/02a-computacao-simbolica_108_0.png"
      }
     },
     "output_type": "execute_result"
    }
   ],
   "source": [
    "rep_3.subs(c,0.222).subs(b,12.0) # substituindo para c, depois para b"
   ]
  },
  {
   "cell_type": "markdown",
   "metadata": {},
   "source": [
    "### Substituição múltipla"
   ]
  },
  {
   "cell_type": "markdown",
   "metadata": {},
   "source": [
    "O modo anterior de substituição não é \"Pythônico\". Para substituirmos mais de uma variável de uma vez, devemos usar *pares ordenados* separados por vírgula sequenciados entre colchetes como uma *lista*. Mais tarde, aprenderemos sobre pares ordenados e listas."
   ]
  },
  {
   "cell_type": "markdown",
   "metadata": {},
   "source": [
    "**Exemplo:** Modifique o modelo $r_3$ para que $c = 0.043$ e $b = 54.0$"
   ]
  },
  {
   "cell_type": "code",
   "execution_count": 57,
   "metadata": {},
   "outputs": [
    {
     "data": {
      "image/png": "[encoded data removed]",
      "text/latex": [
       "$\\displaystyle 0.043 V + 54.0$"
      ],
      "text/plain": [
       "0.043⋅V + 54.0"
      ]
     },
     "execution_count": 57,
     "metadata": {
      "filenames": {
       "image/png": "/Users/gustavo/Dropbox/courses/data-science/FMECD/_build/jupyter_execute/ipynb/02a-computacao-simbolica_112_0.png"
      }
     },
     "output_type": "execute_result"
    }
   ],
   "source": [
    "# espaços foram adicionados para dar legibilidade\n",
    "rep_3.subs( [ (c,0.043), (b,54.0) ] )"
   ]
  },
  {
   "cell_type": "markdown",
   "metadata": {},
   "source": [
    "#### Pares ordenados\n",
    "\n",
    "Em matemática, o conceito de par ordenado pode ser definido pelo conjunto: \n",
    "\n",
    "$$ X \\times Y = \\{ (x,y) ; x \\in X \\text{ e } y \\in Y \\},$$\n",
    "\n",
    "onde $X$ e $Y$ são conjuntos quaisquer e $x$ e $y$ são as *coordenadas*. Por exemplo, se $X = Y = \\mathbb{R}$, o conjunto acima contém elementos do tipo $(3,2)$, $(-1,3)$, $(\\pi,2.18)$ etc. Na verdade, eles formam o conjunto $\\mathbb{R} \\times \\mathbb{R} = \\mathbb{R}^2$, que é exatamente o *plano cartesiano*.\n",
    "\n",
    "Logo, a substituição múltipla com `subs` ocorre da seguinte forma; \n",
    "\n",
    "- a primeira coordenada é o *símbolo*;\n",
    "\n",
    "- a segunda coordenada é o *valor* que você quer dar para o símbolo."
   ]
  },
  {
   "cell_type": "markdown",
   "metadata": {},
   "source": [
    "**Exemplo:** Calcule $r_3(V)$ considerando $c = 0.021$, $b = 34.0$ e $V = 432.000$."
   ]
  },
  {
   "cell_type": "code",
   "execution_count": 58,
   "metadata": {},
   "outputs": [
    {
     "data": {
      "image/png": "[encoded data removed]",
      "text/latex": [
       "$\\displaystyle 0.021 V + 54.0$"
      ],
      "text/plain": [
       "0.021⋅V + 54.0"
      ]
     },
     "execution_count": 58,
     "metadata": {
      "filenames": {
       "image/png": "/Users/gustavo/Dropbox/courses/data-science/FMECD/_build/jupyter_execute/ipynb/02a-computacao-simbolica_115_0.png"
      }
     },
     "output_type": "execute_result"
    }
   ],
   "source": [
    "# armazenaremos o valor na variável 'valor'\n",
    "valor = r3(V)\n",
    "\n",
    "# subsituição \n",
    "valor.subs( [ (c,0.021), (b,54.0) ] )"
   ]
  },
  {
   "cell_type": "markdown",
   "metadata": {},
   "source": [
    "Com o estilo \"Pythônico\":"
   ]
  },
  {
   "cell_type": "code",
   "execution_count": 59,
   "metadata": {},
   "outputs": [
    {
     "data": {
      "image/png": "[encoded data removed]",
      "text/latex": [
       "$\\displaystyle 0.021 V + 54.0$"
      ],
      "text/plain": [
       "0.021⋅V + 54.0"
      ]
     },
     "execution_count": 59,
     "metadata": {
      "filenames": {
       "image/png": "/Users/gustavo/Dropbox/courses/data-science/FMECD/_build/jupyter_execute/ipynb/02a-computacao-simbolica_117_0.png"
      }
     },
     "output_type": "execute_result"
    }
   ],
   "source": [
    "valor = r3(V).subs( [ (c,0.021), (b,54.0) ] ) # \n",
    "valor"
   ]
  },
  {
   "cell_type": "markdown",
   "metadata": {},
   "source": [
    "Podemos seguir esta regra de pares para substituir todos os valores de um modelo simbólico genérico não necessariamente definido através de uma função. Veja o exemplo aplicado a seguir."
   ]
  },
  {
   "cell_type": "markdown",
   "metadata": {},
   "source": [
    "## Exemplo de aplicação: o índice de caminhabilidade\n",
    "\n",
    "Estudos empíricos nos EUA mostraram que a *caminhabilidade* de uma vizinhança impacta substancialmente os preços das casas. A caminhabilidade está relacionada à distância da moradia a locais de amenidades, tais como restaurantes, bares, bibliotecas, mercearias etc.\n",
    "\n",
    "O *índice de caminhabilidade* $W$ para uma vizinhança de casas é uma medida matemática que assume valores no intervalo $[0,1]$. A fórmula é definida por: \n",
    "\n",
    "$$W(d) = e^{-5 \\left( \\dfrac{d}{M} \\right)^5},$$\n",
    "\n",
    "onde $d$ é a distância medida entre a vizinhança (0 metro) e um dado ponto de referência, e $M$ é a distância máxima de avaliação considerada a partir da qual a caminhabilidade é assumida como nula. Ou seja, \n",
    "\n",
    "- quando estamos na vizinhança, $d = 0$, $W = 1$ e a caminhabilidade é considerada ótima.\n",
    "\n",
    "- à medida que nos afastamos da vizinhança em direção ao local da amenidade, $d$ aumenta e o valor $W$ decai vertiginosamente até atingir o valor limite $M$ a partir do qual $W = 0$ e a caminhabilidade é considerada \"péssima\". \n",
    "\n",
    "O índice de caminhabilidade é, portanto, calculado com relação a um ponto de destino definido e a distância deve levar em consideração as vias de circulação (ruas, rodovias etc) e não a distância mais curta (raio do perímetro). Por exemplo, se a distância máxima a ser considerada para a caminhabilidade for $M = 500 \\, m$ , um bar localizado a 100 metros da vizinhança teria um índice de caminhabilidade maior do que o de uma farmácia localizada a 300 m e muito maior do que o de um shopping localizado a 800 m, ainda que muito famoso. Aliás, neste caso, o valor de $W$ para o shopping seria zero, já que 800 m está além do limite $M$ estabelecido.\n",
    "\n",
    "Fonte: *De Nadai, M. and Lepri, B. [[The economic value of neighborhoods: Predicting real estate prices from the urban environment]](https://arxiv.org/pdf/1808.02547.pdf)*. "
   ]
  },
  {
   "cell_type": "markdown",
   "metadata": {},
   "source": [
    "### Modelo simbólico\n",
    "\n",
    "Podemos modelar $W$ simbolicamente e calcular seu valor para diferentes valores de $d$ e $M$ usando a substituição múltipla."
   ]
  },
  {
   "cell_type": "code",
   "execution_count": 60,
   "metadata": {},
   "outputs": [
    {
     "data": {
      "image/png": "[encoded data removed]",
      "text/latex": [
       "$\\displaystyle e^{- \\frac{5 d^{5}}{M^{5}}}$"
      ],
      "text/plain": [
       "     5 \n",
       " -5⋅d  \n",
       " ──────\n",
       "    5  \n",
       "   M   \n",
       "ℯ      "
      ]
     },
     "execution_count": 60,
     "metadata": {
      "filenames": {
       "image/png": "/Users/gustavo/Dropbox/courses/data-science/FMECD/_build/jupyter_execute/ipynb/02a-computacao-simbolica_121_0.png"
      }
     },
     "output_type": "execute_result"
    }
   ],
   "source": [
    "from sympy.abc import d,M,W \n",
    "\n",
    "W = sy.exp(-5*(d/M)**5) # função exponencial simbólica\n",
    "W"
   ]
  },
  {
   "cell_type": "markdown",
   "metadata": {},
   "source": [
    "**Exemplo:** A nossa corretora de imóveis gostaria de entender a relação de preços de imóveis para o Condomínio Pedras de Marfim. Considerando $M = 1 km$, calcule:\n",
    "        \n",
    "- o índice de caminhabilidade $W_1$ em relação à farmácia Dose Certa, localizada a 222 m do condomínio.\n",
    "\n",
    "- o índice de caminhabilidade $W_2$ em relação ao restaurante Sabor da Arte, localizada a 628 m do condomínio.\n",
    "\n",
    "- o índice de caminhabilidade $W_3$ em relação ao Centro Esportivo Physicalidade, localizada a 998 m do condomínio.\n",
    "\n",
    "- o índice de caminhabilidade $W_4$ em relação à Padaria Dolce Panini, localizada a 1,5 km do condomínio."
   ]
  },
  {
   "cell_type": "code",
   "execution_count": 61,
   "metadata": {},
   "outputs": [],
   "source": [
    "# note que 1 km = 1000 m\n",
    "W1 = W.subs([ (d,222), (M,1000) ]) \n",
    "W2 = W.subs([ (d,628), (M,1000) ]) \n",
    "W3 = W.subs([ (d,998), (M,1000) ]) \n",
    "W4 = W.subs([ (d,1500), (M,1000) ])"
   ]
  },
  {
   "cell_type": "markdown",
   "metadata": {},
   "source": [
    "Perceba, entretanto, que os valores calculados ainda não são numéricos, como esperado."
   ]
  },
  {
   "cell_type": "code",
   "execution_count": 62,
   "metadata": {},
   "outputs": [
    {
     "data": {
      "image/png": "[encoded data removed]",
      "text/latex": [
       "$\\displaystyle e^{- \\frac{16850581551}{6250000000000}}$"
      ],
      "text/plain": [
       " -16850581551 \n",
       " ─────────────\n",
       " 6250000000000\n",
       "ℯ             "
      ]
     },
     "execution_count": 62,
     "metadata": {
      "filenames": {
       "image/png": "/Users/gustavo/Dropbox/courses/data-science/FMECD/_build/jupyter_execute/ipynb/02a-computacao-simbolica_125_0.png"
      }
     },
     "output_type": "execute_result"
    }
   ],
   "source": [
    "W1"
   ]
  },
  {
   "cell_type": "code",
   "execution_count": 63,
   "metadata": {},
   "outputs": [
    {
     "data": {
      "image/png": "[encoded data removed]",
      "text/latex": [
       "$\\displaystyle e^{- \\frac{95388992557}{195312500000}}$"
      ],
      "text/plain": [
       " -95388992557 \n",
       " ─────────────\n",
       "  195312500000\n",
       "ℯ             "
      ]
     },
     "execution_count": 63,
     "metadata": {
      "filenames": {
       "image/png": "/Users/gustavo/Dropbox/courses/data-science/FMECD/_build/jupyter_execute/ipynb/02a-computacao-simbolica_126_0.png"
      }
     },
     "output_type": "execute_result"
    }
   ],
   "source": [
    "W2"
   ]
  },
  {
   "cell_type": "code",
   "execution_count": 64,
   "metadata": {},
   "outputs": [
    {
     "data": {
      "image/png": "[encoded data removed]",
      "text/latex": [
       "$\\displaystyle e^{- \\frac{30938747502499}{6250000000000}}$"
      ],
      "text/plain": [
       " -30938747502499 \n",
       " ────────────────\n",
       "  6250000000000  \n",
       "ℯ                "
      ]
     },
     "execution_count": 64,
     "metadata": {
      "filenames": {
       "image/png": "/Users/gustavo/Dropbox/courses/data-science/FMECD/_build/jupyter_execute/ipynb/02a-computacao-simbolica_127_0.png"
      }
     },
     "output_type": "execute_result"
    }
   ],
   "source": [
    "W3"
   ]
  },
  {
   "cell_type": "code",
   "execution_count": 65,
   "metadata": {},
   "outputs": [
    {
     "data": {
      "image/png": "[encoded data removed]",
      "text/latex": [
       "$\\displaystyle e^{- \\frac{1215}{32}}$"
      ],
      "text/plain": [
       " -1215 \n",
       " ──────\n",
       "   32  \n",
       "ℯ      "
      ]
     },
     "execution_count": 65,
     "metadata": {
      "filenames": {
       "image/png": "/Users/gustavo/Dropbox/courses/data-science/FMECD/_build/jupyter_execute/ipynb/02a-computacao-simbolica_128_0.png"
      }
     },
     "output_type": "execute_result"
    }
   ],
   "source": [
    "W4"
   ]
  },
  {
   "cell_type": "markdown",
   "metadata": {},
   "source": [
    "Lembre-se que podemos usar `evalf` para calcular esses valores. Faremos isso considerando 3 casas decimais."
   ]
  },
  {
   "cell_type": "code",
   "execution_count": 66,
   "metadata": {},
   "outputs": [
    {
     "name": "stdout",
     "output_type": "stream",
     "text": [
      "W1 = 0.997 ; W2 = 0.614 ; W3 = 0.00708 ; W4 = 3.24e-17\n"
     ]
    }
   ],
   "source": [
    "# reatribuindo todos os valores\n",
    "W1n = W1.evalf(3)\n",
    "W2n = W2.evalf(3)\n",
    "W3n = W3.evalf(3)\n",
    "W4n = W4.evalf(3)\n",
    "\n",
    "print('W1 =', W1n, '; ' \\\n",
    "      'W2 =', W2n, '; ' \\\n",
    "      'W3 =', W3n, '; ' \\\n",
    "      'W4 =', W4n)       "
   ]
  },
  {
   "cell_type": "markdown",
   "metadata": {},
   "source": [
    "Como era de se esperar, os valores decaem de 0.997 a 3.24e-17, que é um valor considerado nulo em termos de aproximação numérica."
   ]
  },
  {
   "cell_type": "markdown",
   "metadata": {},
   "source": [
    "#### Quebrando instruções com `\\`\n",
    "\n",
    "A contra-barra `\\` pode ser usada para quebrar instruções e continuá-las nas próximas linhas, porém não poderá haver nenhum caracter após ela, nem mesmo espaços. Caso contrário, um erro será lançado."
   ]
  },
  {
   "cell_type": "code",
   "execution_count": 67,
   "metadata": {},
   "outputs": [
    {
     "name": "stdout",
     "output_type": "stream",
     "text": [
      "Continuandona linha abaixo\n"
     ]
    }
   ],
   "source": [
    "print('Continuando' \\\n",
    "      'na linha abaixo')"
   ]
  },
  {
   "cell_type": "code",
   "execution_count": 68,
   "metadata": {},
   "outputs": [
    {
     "ename": "SyntaxError",
     "evalue": "unexpected character after line continuation character (<ipython-input-68-322bd86bfa93>, line 2)",
     "output_type": "error",
     "traceback": [
      "\u001b[0;36m  File \u001b[0;32m\"<ipython-input-68-322bd86bfa93>\"\u001b[0;36m, line \u001b[0;32m2\u001b[0m\n\u001b[0;31m    print('Continuando' \\\u001b[0m\n\u001b[0m                          ^\u001b[0m\n\u001b[0;31mSyntaxError\u001b[0m\u001b[0;31m:\u001b[0m unexpected character after line continuation character\n"
     ]
    }
   ],
   "source": [
    "# neste exemplo, há um caracter de espaço após \\\n",
    "print('Continuando' \\ \n",
    "      'na linha abaixo')"
   ]
  },
  {
   "cell_type": "markdown",
   "metadata": {},
   "source": [
    "### O tipo `bool`\n",
    "\n",
    "Em Python, temos mais um tipo de dado bastante útil, o `bool`, que é uma redução de \"booleano\". Objetos `bool`, que têm sua raiz na chamada Álgebra de Boole, são baseados nos conceitos *true* (verdadeiro) e *false*, ou *0* e *1* e são estudados em algumas disciplinas, tais como Circuitos Lógicos, Matemática Discreta, Lógica Aplicada, entre outras. \n",
    "\n",
    "Aprenderemos sobre operadores lógicos mais à frente. Por enquanto, cabe mencionar as entidades fundamentais `True` e `False`. "
   ]
  },
  {
   "cell_type": "code",
   "execution_count": 69,
   "metadata": {},
   "outputs": [
    {
     "data": {
      "text/plain": [
       "True"
      ]
     },
     "execution_count": 69,
     "metadata": {},
     "output_type": "execute_result"
    }
   ],
   "source": [
    "True"
   ]
  },
  {
   "cell_type": "code",
   "execution_count": 70,
   "metadata": {},
   "outputs": [
    {
     "data": {
      "text/plain": [
       "False"
      ]
     },
     "execution_count": 70,
     "metadata": {},
     "output_type": "execute_result"
    }
   ],
   "source": [
    "False"
   ]
  },
  {
   "cell_type": "code",
   "execution_count": 71,
   "metadata": {},
   "outputs": [
    {
     "data": {
      "text/plain": [
       "bool"
      ]
     },
     "execution_count": 71,
     "metadata": {},
     "output_type": "execute_result"
    }
   ],
   "source": [
    "type(True)"
   ]
  },
  {
   "cell_type": "code",
   "execution_count": 72,
   "metadata": {},
   "outputs": [
    {
     "data": {
      "text/plain": [
       "bool"
      ]
     },
     "execution_count": 72,
     "metadata": {},
     "output_type": "execute_result"
    }
   ],
   "source": [
    "type(False)"
   ]
  },
  {
   "cell_type": "markdown",
   "metadata": {},
   "source": [
    "Podemos realizar testes lógicos para concluir verdades ou falsidades quando temos dúvidas sobre objetos e relações entre eles. Por exemplo, retomemos os seguintes valores:"
   ]
  },
  {
   "cell_type": "code",
   "execution_count": 73,
   "metadata": {},
   "outputs": [
    {
     "data": {
      "image/png": "[encoded data removed]",
      "text/latex": [
       "$\\displaystyle e^{- \\frac{16850581551}{6250000000000}}$"
      ],
      "text/plain": [
       " -16850581551 \n",
       " ─────────────\n",
       " 6250000000000\n",
       "ℯ             "
      ]
     },
     "execution_count": 73,
     "metadata": {
      "filenames": {
       "image/png": "/Users/gustavo/Dropbox/courses/data-science/FMECD/_build/jupyter_execute/ipynb/02a-computacao-simbolica_141_0.png"
      }
     },
     "output_type": "execute_result"
    }
   ],
   "source": [
    "W1"
   ]
  },
  {
   "cell_type": "code",
   "execution_count": 74,
   "metadata": {},
   "outputs": [
    {
     "data": {
      "image/png": "[encoded data removed]",
      "text/latex": [
       "$\\displaystyle e^{- \\frac{95388992557}{195312500000}}$"
      ],
      "text/plain": [
       " -95388992557 \n",
       " ─────────────\n",
       "  195312500000\n",
       "ℯ             "
      ]
     },
     "execution_count": 74,
     "metadata": {
      "filenames": {
       "image/png": "/Users/gustavo/Dropbox/courses/data-science/FMECD/_build/jupyter_execute/ipynb/02a-computacao-simbolica_142_0.png"
      }
     },
     "output_type": "execute_result"
    }
   ],
   "source": [
    "W2"
   ]
  },
  {
   "cell_type": "markdown",
   "metadata": {},
   "source": [
    "A princípio, é difícil determinar qual dos dois é o maior. Porém, podemos realizar \"perguntas\" lógicas para o interpretador Python com operadores lógicos. Mostraremos apenas dois exemplos com `>` e `<`."
   ]
  },
  {
   "cell_type": "code",
   "execution_count": 75,
   "metadata": {},
   "outputs": [
    {
     "data": {
      "image/png": "[encoded data removed]",
      "text/latex": [
       "$\\displaystyle \\text{True}$"
      ],
      "text/plain": [
       "True"
      ]
     },
     "execution_count": 75,
     "metadata": {
      "filenames": {
       "image/png": "/Users/gustavo/Dropbox/courses/data-science/FMECD/_build/jupyter_execute/ipynb/02a-computacao-simbolica_144_0.png"
      }
     },
     "output_type": "execute_result"
    }
   ],
   "source": [
    "W1 > W2 # isto quer dizer: \"W1 é maior do que W2?\""
   ]
  },
  {
   "cell_type": "markdown",
   "metadata": {},
   "source": [
    "O valor `True` confirma que o valor de `W1` é maior do que `W2`. "
   ]
  },
  {
   "cell_type": "code",
   "execution_count": 76,
   "metadata": {},
   "outputs": [
    {
     "data": {
      "image/png": "[encoded data removed]",
      "text/latex": [
       "$\\displaystyle \\text{False}$"
      ],
      "text/plain": [
       "False"
      ]
     },
     "execution_count": 76,
     "metadata": {
      "filenames": {
       "image/png": "/Users/gustavo/Dropbox/courses/data-science/FMECD/_build/jupyter_execute/ipynb/02a-computacao-simbolica_146_0.png"
      }
     },
     "output_type": "execute_result"
    }
   ],
   "source": [
    "W4 < 0"
   ]
  },
  {
   "cell_type": "markdown",
   "metadata": {},
   "source": [
    "Note que, de acordo com nosso modelo de caminhabilidade, este valor deveria ser zero. Porém, numericamente, ele é uma aproximação para zero. Embora muito pequeno, não é exatamente zero! Por que isso ocorre? Porque o computador lida com uma matemática inexata e aproximada, mas com precisão satisfatória."
   ]
  },
  {
   "cell_type": "markdown",
   "metadata": {},
   "source": [
    "## Operadores lógicos"
   ]
  },
  {
   "cell_type": "markdown",
   "metadata": {},
   "source": [
    "Vimos que `True` e `False` são os dois valores atribuíves a um objeto de tipo `bool`. Eles são úteis para testar condições, realizar verificações e comparar quantidades. Vamos estudar *operadores de comparação*, *operadores de pertencimento* e *operadores de identidade*."
   ]
  },
  {
   "cell_type": "markdown",
   "metadata": {},
   "source": [
    "### Operadores de comparação\n",
    "\n",
    "A tabela abaixo resume os operadores de comparação utilizados em Python.\n",
    "\n",
    "| operador | significado | símbolo matemático | \n",
    "|---|---|---| \n",
    "| `<` | menor do que | $<$ |\n",
    "| `<=` | menor ou igual a | $\\leq$ |\n",
    "| `>` | maior do que | $>$ |\n",
    "| `>=` | maior ou igual a | $\\geq$ |\n",
    "| `==` | igual a | $=$ |\n",
    "| `!=` | diferente de | $\\neq$ |\n",
    "\n",
    "Podemos usá-los para comparar objetos. \n",
    "\n",
    "**Nota:** `==` está relacionado à igualdade, ao passo que `=` é uma atribuição. São conceitos operadores com finalidade distinta. "
   ]
  },
  {
   "cell_type": "code",
   "execution_count": 77,
   "metadata": {},
   "outputs": [
    {
     "data": {
      "text/plain": [
       "True"
      ]
     },
     "execution_count": 77,
     "metadata": {},
     "output_type": "execute_result"
    }
   ],
   "source": [
    "2 < 3 # o resultado é um 'bool'"
   ]
  },
  {
   "cell_type": "code",
   "execution_count": 78,
   "metadata": {},
   "outputs": [
    {
     "data": {
      "text/plain": [
       "False"
      ]
     },
     "execution_count": 78,
     "metadata": {},
     "output_type": "execute_result"
    }
   ],
   "source": [
    "5 < 2 # isto é falso"
   ]
  },
  {
   "cell_type": "code",
   "execution_count": 79,
   "metadata": {},
   "outputs": [
    {
     "data": {
      "text/plain": [
       "True"
      ]
     },
     "execution_count": 79,
     "metadata": {},
     "output_type": "execute_result"
    }
   ],
   "source": [
    "2 <= 2 # isto é verdadeiro"
   ]
  },
  {
   "cell_type": "code",
   "execution_count": 80,
   "metadata": {},
   "outputs": [
    {
     "data": {
      "text/plain": [
       "True"
      ]
     },
     "execution_count": 80,
     "metadata": {},
     "output_type": "execute_result"
    }
   ],
   "source": [
    "4 >= 3 # isto é verdadeiro"
   ]
  },
  {
   "cell_type": "code",
   "execution_count": 81,
   "metadata": {},
   "outputs": [
    {
     "data": {
      "text/plain": [
       "True"
      ]
     },
     "execution_count": 81,
     "metadata": {},
     "output_type": "execute_result"
    }
   ],
   "source": [
    "6 != -2 "
   ]
  },
  {
   "cell_type": "code",
   "execution_count": 82,
   "metadata": {},
   "outputs": [
    {
     "data": {
      "text/plain": [
       "True"
      ]
     },
     "execution_count": 82,
     "metadata": {},
     "output_type": "execute_result"
    }
   ],
   "source": [
    "4 == 4 # isto não é uma atribuição! "
   ]
  },
  {
   "cell_type": "markdown",
   "metadata": {},
   "source": [
    "Podemos realizar comparações aninhadas:"
   ]
  },
  {
   "cell_type": "code",
   "execution_count": 83,
   "metadata": {},
   "outputs": [
    {
     "data": {
      "text/plain": [
       "True"
      ]
     },
     "execution_count": 83,
     "metadata": {},
     "output_type": "execute_result"
    }
   ],
   "source": [
    "x = 2\n",
    "1 < x < 3"
   ]
  },
  {
   "cell_type": "code",
   "execution_count": 84,
   "metadata": {},
   "outputs": [
    {
     "data": {
      "text/plain": [
       "False"
      ]
     },
     "execution_count": 84,
     "metadata": {},
     "output_type": "execute_result"
    }
   ],
   "source": [
    "3 > x > 4"
   ]
  },
  {
   "cell_type": "code",
   "execution_count": 85,
   "metadata": {},
   "outputs": [
    {
     "data": {
      "text/plain": [
       "False"
      ]
     },
     "execution_count": 85,
     "metadata": {},
     "output_type": "execute_result"
    }
   ],
   "source": [
    "2 == x > 3 "
   ]
  },
  {
   "cell_type": "markdown",
   "metadata": {},
   "source": [
    "As comparações aninhadas acima são resolvidas da esquerda para a direita e em partes. Isso nos leva a introduzir os seguintes operadores.\n",
    "\n",
    "| operador | símbolo matemático | significado | uso relacionado a |\n",
    "|---|---|---|---|\n",
    "| `or` | $\\vee$ | \"ou\" booleano | união, disjunção |\n",
    "| `and` | $\\wedge$ | \"e\" booleano | interseção, conjunção |\n",
    "| `not` | $\\neg$ | \"não\" booleano | exclusão, negação |"
   ]
  },
  {
   "cell_type": "code",
   "execution_count": 86,
   "metadata": {},
   "outputs": [
    {
     "data": {
      "text/plain": [
       "False"
      ]
     },
     "execution_count": 86,
     "metadata": {},
     "output_type": "execute_result"
    }
   ],
   "source": [
    "# parênteses não são necessários aqui\n",
    "(2 == x) and (x > 3) # 1a. comparação: 'True'; 2a.: 'False'. Portanto, ambas: 'False'"
   ]
  },
  {
   "cell_type": "code",
   "execution_count": 87,
   "metadata": {},
   "outputs": [
    {
     "data": {
      "text/plain": [
       "False"
      ]
     },
     "execution_count": 87,
     "metadata": {},
     "output_type": "execute_result"
    }
   ],
   "source": [
    "# parênteses não são necessários aqui\n",
    "(x < 1) or (x < 2) # nenhuma das duas é True. Portanto, "
   ]
  },
  {
   "cell_type": "code",
   "execution_count": 88,
   "metadata": {},
   "outputs": [
    {
     "data": {
      "text/plain": [
       "False"
      ]
     },
     "execution_count": 88,
     "metadata": {},
     "output_type": "execute_result"
    }
   ],
   "source": [
    "not (x == 2) # nega o \"valor-verdade\" que é 'True'"
   ]
  },
  {
   "cell_type": "code",
   "execution_count": 89,
   "metadata": {},
   "outputs": [
    {
     "data": {
      "text/plain": [
       "True"
      ]
     },
     "execution_count": 89,
     "metadata": {},
     "output_type": "execute_result"
    }
   ],
   "source": [
    "not x + 1 > 3 # estude a precedência deste exemplo. Por que é 'True'?"
   ]
  },
  {
   "cell_type": "code",
   "execution_count": 90,
   "metadata": {},
   "outputs": [
    {
     "data": {
      "text/plain": [
       "True"
      ]
     },
     "execution_count": 90,
     "metadata": {},
     "output_type": "execute_result"
    }
   ],
   "source": [
    "not (x + 1 > 3) # estude a precedência deste exemplo. Por que também é 'True'?"
   ]
  },
  {
   "cell_type": "markdown",
   "metadata": {},
   "source": [
    "### Operadores de pertencimento\n",
    "\n",
    "A tabela abaixo resume os operadores de pertencimento. \n",
    "\n",
    "| operador | significado | símbolo matemático\n",
    "|---|---|---|\n",
    "| `in` | pertence a | $\\in$ |\n",
    "| `not in` | não pertence a | $\\notin$ |\n",
    "\n",
    "Eles terão mais utilidade quando falarmos sobre sequências, listas. Neste momento, vejamos exemplos com objetos `str`."
   ]
  },
  {
   "cell_type": "code",
   "execution_count": 91,
   "metadata": {},
   "outputs": [
    {
     "data": {
      "text/plain": [
       "True"
      ]
     },
     "execution_count": 91,
     "metadata": {},
     "output_type": "execute_result"
    }
   ],
   "source": [
    "'2' in '2 4 6 8 10' # o caracter '2' pertence à string"
   ]
  },
  {
   "cell_type": "code",
   "execution_count": 92,
   "metadata": {},
   "outputs": [
    {
     "data": {
      "text/plain": [
       "True"
      ]
     },
     "execution_count": 92,
     "metadata": {},
     "output_type": "execute_result"
    }
   ],
   "source": [
    "frase_teste = 'maior do que' \n",
    "'maior' in frase_teste"
   ]
  },
  {
   "cell_type": "code",
   "execution_count": 93,
   "metadata": {},
   "outputs": [
    {
     "data": {
      "text/plain": [
       "False"
      ]
     },
     "execution_count": 93,
     "metadata": {},
     "output_type": "execute_result"
    }
   ],
   "source": [
    "'menor' in frase_teste # a palavra 'menor' está na frase"
   ]
  },
  {
   "cell_type": "code",
   "execution_count": 94,
   "metadata": {},
   "outputs": [
    {
     "ename": "TypeError",
     "evalue": "argument of type 'int' is not iterable",
     "output_type": "error",
     "traceback": [
      "\u001b[0;31m---------------------------------------------------------------------------\u001b[0m",
      "\u001b[0;31mTypeError\u001b[0m                                 Traceback (most recent call last)",
      "\u001b[0;32m<ipython-input-94-5c8c51a582d3>\u001b[0m in \u001b[0;36m<module>\u001b[0;34m\u001b[0m\n\u001b[0;32m----> 1\u001b[0;31m \u001b[0;36m1\u001b[0m \u001b[0;32min\u001b[0m \u001b[0;36m2\u001b[0m \u001b[0;31m# 'in' e 'not in' não são aplicáveis aqui\u001b[0m\u001b[0;34m\u001b[0m\u001b[0;34m\u001b[0m\u001b[0m\n\u001b[0m",
      "\u001b[0;31mTypeError\u001b[0m: argument of type 'int' is not iterable"
     ]
    }
   ],
   "source": [
    "1 in 2 # 'in' e 'not in' não são aplicáveis aqui"
   ]
  },
  {
   "cell_type": "markdown",
   "metadata": {},
   "source": [
    "### Operadores de identidade\n",
    "\n",
    "A tabela abaixo resume os operadores de identidade. \n",
    "\n",
    "| operador | significado \n",
    "|---|---|\n",
    "| `is` | \"aponta para o mesmo objeto\" \n",
    "| `is not` | \"não aponta para o mesmo objeto\" |\n",
    "\n",
    "Esses operadores são úteis para verificar se duas variáveis se referem ao mesmo objeto. Exemplo: \n",
    "\n",
    "```python\n",
    "a is b\n",
    "a is not b\n",
    "```\n",
    "\n",
    "- `is` é `True` se `a` e `b` se referem ao mesmo objeto; `False`, caso contrário.\n",
    "- `is not` é `False` se `a` e `b` se referem ao mesmo objeto; `True`, caso contrário."
   ]
  },
  {
   "cell_type": "code",
   "execution_count": 95,
   "metadata": {},
   "outputs": [
    {
     "data": {
      "text/plain": [
       "False"
      ]
     },
     "execution_count": 95,
     "metadata": {},
     "output_type": "execute_result"
    }
   ],
   "source": [
    "a = 2\n",
    "b = 3\n",
    "a is b # valores distintos"
   ]
  },
  {
   "cell_type": "code",
   "execution_count": 96,
   "metadata": {},
   "outputs": [
    {
     "data": {
      "text/plain": [
       "True"
      ]
     },
     "execution_count": 96,
     "metadata": {},
     "output_type": "execute_result"
    }
   ],
   "source": [
    "a = 2\n",
    "b = a\n",
    "a is b # mesmos valores"
   ]
  },
  {
   "cell_type": "code",
   "execution_count": 97,
   "metadata": {},
   "outputs": [
    {
     "data": {
      "text/plain": [
       "True"
      ]
     },
     "execution_count": 97,
     "metadata": {},
     "output_type": "execute_result"
    }
   ],
   "source": [
    "a = 2\n",
    "b = 3\n",
    "a is not b # de fato, valores não são distintos"
   ]
  },
  {
   "cell_type": "code",
   "execution_count": 98,
   "metadata": {},
   "outputs": [
    {
     "data": {
      "text/plain": [
       "False"
      ]
     },
     "execution_count": 98,
     "metadata": {},
     "output_type": "execute_result"
    }
   ],
   "source": [
    "a = 2\n",
    "b = a\n",
    "a is not b # de fato, valores são distintos"
   ]
  },
  {
   "cell_type": "markdown",
   "metadata": {},
   "source": [
    "## Equações simbólicas\n",
    "\n",
    "Equações simbólicas podem ser formadas por meio de `Eq` e não com `=` ou `==`."
   ]
  },
  {
   "cell_type": "code",
   "execution_count": 99,
   "metadata": {},
   "outputs": [],
   "source": [
    "# importação\n",
    "from sympy.abc import a,b\n",
    "import sympy as sy \n",
    "sy.init_printing(pretty_print=True)"
   ]
  },
  {
   "cell_type": "code",
   "execution_count": 100,
   "metadata": {},
   "outputs": [
    {
     "data": {
      "image/png": "[encoded data removed]",
      "text/latex": [
       "$\\displaystyle a = b$"
      ],
      "text/plain": [
       "a = b"
      ]
     },
     "execution_count": 100,
     "metadata": {
      "filenames": {
       "image/png": "/Users/gustavo/Dropbox/courses/data-science/FMECD/_build/jupyter_execute/ipynb/02a-computacao-simbolica_179_0.png"
      }
     },
     "output_type": "execute_result"
    }
   ],
   "source": [
    "sy.Eq(a,b) # equação simbólica"
   ]
  },
  {
   "cell_type": "code",
   "execution_count": 101,
   "metadata": {},
   "outputs": [
    {
     "data": {
      "image/png": "[encoded data removed]",
      "text/latex": [
       "$\\displaystyle \\cos{\\left(a \\right)} = b^{3}$"
      ],
      "text/plain": [
       "          3\n",
       "cos(a) = b "
      ]
     },
     "execution_count": 101,
     "metadata": {
      "filenames": {
       "image/png": "/Users/gustavo/Dropbox/courses/data-science/FMECD/_build/jupyter_execute/ipynb/02a-computacao-simbolica_180_0.png"
      }
     },
     "output_type": "execute_result"
    }
   ],
   "source": [
    "sy.Eq(sy.cos(a), b**3) # os objetos da equação são simbólicos"
   ]
  },
  {
   "cell_type": "markdown",
   "metadata": {},
   "source": [
    "### Resolução de equações algébricas simbólicas\n",
    "\n",
    "Podemos resolver equações algébricas da seguinte forma:\n",
    "\n",
    "```python\n",
    "solveset(equação,variável,domínio)\n",
    "```"
   ]
  },
  {
   "cell_type": "markdown",
   "metadata": {},
   "source": [
    "**Exemplo:** resolva $x^2 = 1$ no conjunto $\\mathbb{R}$."
   ]
  },
  {
   "cell_type": "code",
   "execution_count": 102,
   "metadata": {},
   "outputs": [
    {
     "data": {
      "image/png": "[encoded data removed]",
      "text/latex": [
       "$\\displaystyle \\left\\{-1, 1\\right\\}$"
      ],
      "text/plain": [
       "{-1, 1}"
      ]
     },
     "execution_count": 102,
     "metadata": {
      "filenames": {
       "image/png": "/Users/gustavo/Dropbox/courses/data-science/FMECD/_build/jupyter_execute/ipynb/02a-computacao-simbolica_183_0.png"
      }
     },
     "output_type": "execute_result"
    }
   ],
   "source": [
    "from sympy.abc import x\n",
    "sy.solveset( sy.Eq( x**2, 1), x,domain=sy.Reals)"
   ]
  },
  {
   "cell_type": "markdown",
   "metadata": {},
   "source": [
    "Podemos reescrever a equação como: $x^2 - 1 = 0$."
   ]
  },
  {
   "cell_type": "code",
   "execution_count": 103,
   "metadata": {},
   "outputs": [
    {
     "data": {
      "image/png": "[encoded data removed]",
      "text/latex": [
       "$\\displaystyle \\left\\{-1, 1\\right\\}$"
      ],
      "text/plain": [
       "{-1, 1}"
      ]
     },
     "execution_count": 103,
     "metadata": {
      "filenames": {
       "image/png": "/Users/gustavo/Dropbox/courses/data-science/FMECD/_build/jupyter_execute/ipynb/02a-computacao-simbolica_185_0.png"
      }
     },
     "output_type": "execute_result"
    }
   ],
   "source": [
    "sy.solveset( sy.Eq( x**2 - 1, 0), x,domain=sy.Reals)"
   ]
  },
  {
   "cell_type": "markdown",
   "metadata": {},
   "source": [
    "Com `solveset`, não precisamos de `Eq`. Logo, a equação é passada diretamente."
   ]
  },
  {
   "cell_type": "code",
   "execution_count": 104,
   "metadata": {},
   "outputs": [
    {
     "data": {
      "image/png": "[encoded data removed]",
      "text/latex": [
       "$\\displaystyle \\left\\{-1, 1\\right\\}$"
      ],
      "text/plain": [
       "{-1, 1}"
      ]
     },
     "execution_count": 104,
     "metadata": {
      "filenames": {
       "image/png": "/Users/gustavo/Dropbox/courses/data-science/FMECD/_build/jupyter_execute/ipynb/02a-computacao-simbolica_187_0.png"
      }
     },
     "output_type": "execute_result"
    }
   ],
   "source": [
    "sy.solveset( x**2 - 1, x,domain=sy.Reals)"
   ]
  },
  {
   "cell_type": "markdown",
   "metadata": {},
   "source": [
    "**Exemplo:** resolva $x^2 + 1 = 0$ no conjunto $\\mathbb{R}$."
   ]
  },
  {
   "cell_type": "code",
   "execution_count": 105,
   "metadata": {},
   "outputs": [
    {
     "data": {
      "image/png": "[encoded data removed]",
      "text/latex": [
       "$\\displaystyle \\emptyset$"
      ],
      "text/plain": [
       "∅"
      ]
     },
     "execution_count": 105,
     "metadata": {
      "filenames": {
       "image/png": "/Users/gustavo/Dropbox/courses/data-science/FMECD/_build/jupyter_execute/ipynb/02a-computacao-simbolica_189_0.png"
      }
     },
     "output_type": "execute_result"
    }
   ],
   "source": [
    "sy.solveset( x**2 + 1, x,domain=sy.Reals) # não possui solução real"
   ]
  },
  {
   "cell_type": "markdown",
   "metadata": {},
   "source": [
    "**Exemplo:** resolva $x^2 + 1 = 0$ no conjunto $\\mathbb{C}$."
   ]
  },
  {
   "cell_type": "code",
   "execution_count": 106,
   "metadata": {},
   "outputs": [
    {
     "data": {
      "image/png": "[encoded data removed]",
      "text/latex": [
       "$\\displaystyle \\left\\{- i, i\\right\\}$"
      ],
      "text/plain": [
       "{-ⅈ, ⅈ}"
      ]
     },
     "execution_count": 106,
     "metadata": {
      "filenames": {
       "image/png": "/Users/gustavo/Dropbox/courses/data-science/FMECD/_build/jupyter_execute/ipynb/02a-computacao-simbolica_191_0.png"
      }
     },
     "output_type": "execute_result"
    }
   ],
   "source": [
    "sy.solveset( x**2 + 1, x,domain=sy.Complexes) # possui soluções complexas"
   ]
  },
  {
   "cell_type": "markdown",
   "metadata": {},
   "source": [
    "**Exemplo:** resolva $\\textrm{sen}(2x) = 3 + x$ no conjunto $\\mathbb{R}$."
   ]
  },
  {
   "cell_type": "code",
   "execution_count": 107,
   "metadata": {},
   "outputs": [
    {
     "data": {
      "image/png": "[encoded data removed]",
      "text/latex": [
       "$\\displaystyle \\left\\{x \\mid x \\in \\mathbb{R} \\wedge - x + \\sin{\\left(2 x \\right)} - 3 = 0 \\right\\}$"
      ],
      "text/plain": [
       "{x | x ∊ ℝ ∧ -x + sin(2⋅x) - 3 = 0}"
      ]
     },
     "execution_count": 107,
     "metadata": {
      "filenames": {
       "image/png": "/Users/gustavo/Dropbox/courses/data-science/FMECD/_build/jupyter_execute/ipynb/02a-computacao-simbolica_193_0.png"
      }
     },
     "output_type": "execute_result"
    }
   ],
   "source": [
    "sy.solveset( sy.sin(2*x) - x - 3,x,sy.Reals) # a palavra 'domain' também pode ser omitida."
   ]
  },
  {
   "cell_type": "markdown",
   "metadata": {},
   "source": [
    "O conjunto acima indica que nenhuma solução foi encontrada."
   ]
  },
  {
   "cell_type": "markdown",
   "metadata": {},
   "source": [
    "**Exemplo:** resolva $\\textrm{sen}(2x) = 1$ no conjunto $\\mathbb{R}$."
   ]
  },
  {
   "cell_type": "code",
   "execution_count": 108,
   "metadata": {},
   "outputs": [
    {
     "data": {
      "image/png": "[encoded data removed]",
      "text/latex": [
       "$\\displaystyle \\left\\{2 n \\pi + \\frac{5 \\pi}{4}\\; |\\; n \\in \\mathbb{Z}\\right\\} \\cup \\left\\{2 n \\pi + \\frac{\\pi}{4}\\; |\\; n \\in \\mathbb{Z}\\right\\}$"
      ],
      "text/plain": [
       "⎧        5⋅π        ⎫   ⎧        π        ⎫\n",
       "⎨2⋅n⋅π + ─── | n ∊ ℤ⎬ ∪ ⎨2⋅n⋅π + ─ | n ∊ ℤ⎬\n",
       "⎩         4         ⎭   ⎩        4        ⎭"
      ]
     },
     "execution_count": 108,
     "metadata": {
      "filenames": {
       "image/png": "/Users/gustavo/Dropbox/courses/data-science/FMECD/_build/jupyter_execute/ipynb/02a-computacao-simbolica_196_0.png"
      }
     },
     "output_type": "execute_result"
    }
   ],
   "source": [
    "sy.solveset( sy.sin(2*x) - 1,x,sy.Reals)"
   ]
  },
  {
   "cell_type": "markdown",
   "metadata": {},
   "source": [
    "## Expansão, simplificação e fatoração de polinômios\n",
    "\n",
    "Vejamos exemplos de polinômios em uma variável. "
   ]
  },
  {
   "cell_type": "code",
   "execution_count": 109,
   "metadata": {},
   "outputs": [
    {
     "data": {
      "image/png": "[encoded data removed]",
      "text/latex": [
       "$\\displaystyle a_{0} + a_{1} x + a_{2} x^{2} + a_{3} x^{3}$"
      ],
      "text/plain": [
       "                2       3\n",
       "a₀ + a₁⋅x + a₂⋅x  + a₃⋅x "
      ]
     },
     "execution_count": 109,
     "metadata": {
      "filenames": {
       "image/png": "/Users/gustavo/Dropbox/courses/data-science/FMECD/_build/jupyter_execute/ipynb/02a-computacao-simbolica_198_0.png"
      }
     },
     "output_type": "execute_result"
    }
   ],
   "source": [
    "a0, a1, a2, a3 = sy.symbols('a0 a1 a2 a3') # coeficientes\n",
    "P3x = a0 + a1*x + a2*x**2 + a3*x**3 # polinômio de 3o. grau em x\n",
    "P3x"
   ]
  },
  {
   "cell_type": "code",
   "execution_count": 110,
   "metadata": {},
   "outputs": [
    {
     "data": {
      "image/png": "[encoded data removed]",
      "text/latex": [
       "$\\displaystyle b_{0} + b_{1} x + b_{2} x^{2} + b_{3} x^{3}$"
      ],
      "text/plain": [
       "                2       3\n",
       "b₀ + b₁⋅x + b₂⋅x  + b₃⋅x "
      ]
     },
     "execution_count": 110,
     "metadata": {
      "filenames": {
       "image/png": "/Users/gustavo/Dropbox/courses/data-science/FMECD/_build/jupyter_execute/ipynb/02a-computacao-simbolica_199_0.png"
      }
     },
     "output_type": "execute_result"
    }
   ],
   "source": [
    "b0, b1, b2, b3 = sy.symbols('b0 b1 b2 b3') # coeficientes\n",
    "Q3x = b0 + b1*x + b2*x**2 + b3*x**3 # polinômio de 3o. grau em x\n",
    "Q3x"
   ]
  },
  {
   "cell_type": "code",
   "execution_count": 111,
   "metadata": {},
   "outputs": [
    {
     "data": {
      "image/png": "[encoded data removed]",
      "text/latex": [
       "$\\displaystyle \\left(a_{0} + a_{1} x + a_{2} x^{2} + a_{3} x^{3}\\right) \\left(b_{0} + b_{1} x + b_{2} x^{2} + b_{3} x^{3}\\right)$"
      ],
      "text/plain": [
       "⎛                2       3⎞ ⎛                2       3⎞\n",
       "⎝a₀ + a₁⋅x + a₂⋅x  + a₃⋅x ⎠⋅⎝b₀ + b₁⋅x + b₂⋅x  + b₃⋅x ⎠"
      ]
     },
     "execution_count": 111,
     "metadata": {
      "filenames": {
       "image/png": "/Users/gustavo/Dropbox/courses/data-science/FMECD/_build/jupyter_execute/ipynb/02a-computacao-simbolica_200_0.png"
      }
     },
     "output_type": "execute_result"
    }
   ],
   "source": [
    "R3x = P3x*Q3x # produto polinomial\n",
    "R3x"
   ]
  },
  {
   "cell_type": "code",
   "execution_count": 112,
   "metadata": {},
   "outputs": [
    {
     "data": {
      "image/png": "[encoded data removed]",
      "text/latex": [
       "$\\displaystyle a_{0} b_{0} + a_{0} b_{1} x + a_{0} b_{2} x^{2} + a_{0} b_{3} x^{3} + a_{1} b_{0} x + a_{1} b_{1} x^{2} + a_{1} b_{2} x^{3} + a_{1} b_{3} x^{4} + a_{2} b_{0} x^{2} + a_{2} b_{1} x^{3} + a_{2} b_{2} x^{4} + a_{2} b_{3} x^{5} + a_{3} b_{0} x^{3} + a_{3} b_{1} x^{4} + a_{3} b_{2} x^{5} + a_{3} b_{3} x^{6}$"
      ],
      "text/plain": [
       "                         2          3                    2          3         \n",
       "a₀⋅b₀ + a₀⋅b₁⋅x + a₀⋅b₂⋅x  + a₀⋅b₃⋅x  + a₁⋅b₀⋅x + a₁⋅b₁⋅x  + a₁⋅b₂⋅x  + a₁⋅b₃⋅\n",
       "\n",
       " 4          2          3          4          5          3          4          \n",
       "x  + a₂⋅b₀⋅x  + a₂⋅b₁⋅x  + a₂⋅b₂⋅x  + a₂⋅b₃⋅x  + a₃⋅b₀⋅x  + a₃⋅b₁⋅x  + a₃⋅b₂⋅x\n",
       "\n",
       "5          6\n",
       "  + a₃⋅b₃⋅x "
      ]
     },
     "execution_count": 112,
     "metadata": {
      "filenames": {
       "image/png": "/Users/gustavo/Dropbox/courses/data-science/FMECD/_build/jupyter_execute/ipynb/02a-computacao-simbolica_201_0.png"
      }
     },
     "output_type": "execute_result"
    }
   ],
   "source": [
    "R3x_e = sy.expand(R3x) # expande o produto\n",
    "R3x_e"
   ]
  },
  {
   "cell_type": "code",
   "execution_count": 113,
   "metadata": {},
   "outputs": [
    {
     "data": {
      "image/png": "[encoded data removed]",
      "text/latex": [
       "$\\displaystyle a_{0} b_{0} + a_{0} b_{1} x + a_{0} b_{2} x^{2} + a_{0} b_{3} x^{3} + a_{1} b_{0} x + a_{1} b_{1} x^{2} + a_{1} b_{2} x^{3} + a_{1} b_{3} x^{4} + a_{2} b_{0} x^{2} + a_{2} b_{1} x^{3} + a_{2} b_{2} x^{4} + a_{2} b_{3} x^{5} + a_{3} b_{0} x^{3} + a_{3} b_{1} x^{4} + a_{3} b_{2} x^{5} + a_{3} b_{3} x^{6}$"
      ],
      "text/plain": [
       "                         2          3                    2          3         \n",
       "a₀⋅b₀ + a₀⋅b₁⋅x + a₀⋅b₂⋅x  + a₀⋅b₃⋅x  + a₁⋅b₀⋅x + a₁⋅b₁⋅x  + a₁⋅b₂⋅x  + a₁⋅b₃⋅\n",
       "\n",
       " 4          2          3          4          5          3          4          \n",
       "x  + a₂⋅b₀⋅x  + a₂⋅b₁⋅x  + a₂⋅b₂⋅x  + a₂⋅b₃⋅x  + a₃⋅b₀⋅x  + a₃⋅b₁⋅x  + a₃⋅b₂⋅x\n",
       "\n",
       "5          6\n",
       "  + a₃⋅b₃⋅x "
      ]
     },
     "execution_count": 113,
     "metadata": {
      "filenames": {
       "image/png": "/Users/gustavo/Dropbox/courses/data-science/FMECD/_build/jupyter_execute/ipynb/02a-computacao-simbolica_202_0.png"
      }
     },
     "output_type": "execute_result"
    }
   ],
   "source": [
    "sy.simplify(R3x_e) # simplify às vezes não funciona como esperado"
   ]
  },
  {
   "cell_type": "code",
   "execution_count": 114,
   "metadata": {},
   "outputs": [
    {
     "data": {
      "image/png": "[encoded data removed]",
      "text/latex": [
       "$\\displaystyle \\left(a_{0} + a_{1} x + a_{2} x^{2} + a_{3} x^{3}\\right) \\left(b_{0} + b_{1} x + b_{2} x^{2} + b_{3} x^{3}\\right)$"
      ],
      "text/plain": [
       "⎛                2       3⎞ ⎛                2       3⎞\n",
       "⎝a₀ + a₁⋅x + a₂⋅x  + a₃⋅x ⎠⋅⎝b₀ + b₁⋅x + b₂⋅x  + b₃⋅x ⎠"
      ]
     },
     "execution_count": 114,
     "metadata": {
      "filenames": {
       "image/png": "/Users/gustavo/Dropbox/courses/data-science/FMECD/_build/jupyter_execute/ipynb/02a-computacao-simbolica_203_0.png"
      }
     },
     "output_type": "execute_result"
    }
   ],
   "source": [
    "sy.factor(R3x_e) # 'factor' pode funcionar melhor"
   ]
  },
  {
   "cell_type": "code",
   "execution_count": 115,
   "metadata": {},
   "outputs": [
    {
     "data": {
      "image/png": "[encoded data removed]",
      "text/latex": [
       "$\\displaystyle \\sin^{2}{\\left(x \\right)} + \\cos^{2}{\\left(x \\right)}$"
      ],
      "text/plain": [
       "   2         2   \n",
       "sin (x) + cos (x)"
      ]
     },
     "execution_count": 115,
     "metadata": {
      "filenames": {
       "image/png": "/Users/gustavo/Dropbox/courses/data-science/FMECD/_build/jupyter_execute/ipynb/02a-computacao-simbolica_204_0.png"
      }
     },
     "output_type": "execute_result"
    }
   ],
   "source": [
    "# simplify funciona para casos mais gerais \n",
    "ident_trig = sy.sin(x)**2 + sy.cos(x)**2\n",
    "ident_trig"
   ]
  },
  {
   "cell_type": "code",
   "execution_count": 116,
   "metadata": {},
   "outputs": [
    {
     "data": {
      "image/png": "[encoded data removed]",
      "text/latex": [
       "$\\displaystyle 1$"
      ],
      "text/plain": [
       "1"
      ]
     },
     "execution_count": 116,
     "metadata": {
      "filenames": {
       "image/png": "/Users/gustavo/Dropbox/courses/data-science/FMECD/_build/jupyter_execute/ipynb/02a-computacao-simbolica_205_0.png"
      }
     },
     "output_type": "execute_result"
    }
   ],
   "source": [
    "sy.simplify(ident_trig)"
   ]
  },
  {
   "cell_type": "markdown",
   "metadata": {},
   "source": [
    "## Identidades trigonométricas \n",
    "\n",
    "Podemos usar `expand_trig` para expandir funções trigonométricas. "
   ]
  },
  {
   "cell_type": "code",
   "execution_count": 117,
   "metadata": {},
   "outputs": [
    {
     "data": {
      "image/png": "[encoded data removed]",
      "text/latex": [
       "$\\displaystyle \\sin{\\left(a \\right)} \\cos{\\left(b \\right)} + \\sin{\\left(b \\right)} \\cos{\\left(a \\right)}$"
      ],
      "text/plain": [
       "sin(a)⋅cos(b) + sin(b)⋅cos(a)"
      ]
     },
     "execution_count": 117,
     "metadata": {
      "filenames": {
       "image/png": "/Users/gustavo/Dropbox/courses/data-science/FMECD/_build/jupyter_execute/ipynb/02a-computacao-simbolica_207_0.png"
      }
     },
     "output_type": "execute_result"
    }
   ],
   "source": [
    "sy.expand_trig( sy.sin(a + b) ) # sin(a+b)"
   ]
  },
  {
   "cell_type": "code",
   "execution_count": 118,
   "metadata": {},
   "outputs": [
    {
     "data": {
      "image/png": "[encoded data removed]",
      "text/latex": [
       "$\\displaystyle - \\sin{\\left(a \\right)} \\sin{\\left(b \\right)} + \\cos{\\left(a \\right)} \\cos{\\left(b \\right)}$"
      ],
      "text/plain": [
       "-sin(a)⋅sin(b) + cos(a)⋅cos(b)"
      ]
     },
     "execution_count": 118,
     "metadata": {
      "filenames": {
       "image/png": "/Users/gustavo/Dropbox/courses/data-science/FMECD/_build/jupyter_execute/ipynb/02a-computacao-simbolica_208_0.png"
      }
     },
     "output_type": "execute_result"
    }
   ],
   "source": [
    "sy.expand_trig( sy.cos(a + b) ) # cos(a+b)"
   ]
  },
  {
   "cell_type": "code",
   "execution_count": 119,
   "metadata": {},
   "outputs": [
    {
     "data": {
      "image/png": "[encoded data removed]",
      "text/latex": [
       "$\\displaystyle \\frac{1}{\\sin{\\left(a \\right)} \\sin{\\left(b \\right)} + \\cos{\\left(a \\right)} \\cos{\\left(b \\right)}}$"
      ],
      "text/plain": [
       "              1              \n",
       "─────────────────────────────\n",
       "sin(a)⋅sin(b) + cos(a)⋅cos(b)"
      ]
     },
     "execution_count": 119,
     "metadata": {
      "filenames": {
       "image/png": "/Users/gustavo/Dropbox/courses/data-science/FMECD/_build/jupyter_execute/ipynb/02a-computacao-simbolica_209_0.png"
      }
     },
     "output_type": "execute_result"
    }
   ],
   "source": [
    "sy.expand_trig( sy.sec(a - b) ) # sec(a-b)"
   ]
  },
  {
   "cell_type": "markdown",
   "metadata": {},
   "source": [
    "## Propriedades de logaritmo\n",
    "\n",
    "\n",
    "Com `expand_log`, podemos aplicar propriedades válidas de logaritmo."
   ]
  },
  {
   "cell_type": "code",
   "execution_count": 120,
   "metadata": {},
   "outputs": [
    {
     "data": {
      "image/png": "[encoded data removed]",
      "text/latex": [
       "$\\displaystyle \\log{\\left(a b \\right)}$"
      ],
      "text/plain": [
       "log(a⋅b)"
      ]
     },
     "execution_count": 120,
     "metadata": {
      "filenames": {
       "image/png": "/Users/gustavo/Dropbox/courses/data-science/FMECD/_build/jupyter_execute/ipynb/02a-computacao-simbolica_211_0.png"
      }
     },
     "output_type": "execute_result"
    }
   ],
   "source": [
    "sy.expand_log( sy.log(a*b) )"
   ]
  },
  {
   "cell_type": "markdown",
   "metadata": {},
   "source": [
    "A identidade não foi validada pois `a` e `b` são símbolos irrestritos."
   ]
  },
  {
   "cell_type": "code",
   "execution_count": 121,
   "metadata": {},
   "outputs": [],
   "source": [
    "a,b = sy.symbols('a b',positive=True) # impomos que a,b > 0"
   ]
  },
  {
   "cell_type": "code",
   "execution_count": 122,
   "metadata": {},
   "outputs": [
    {
     "data": {
      "image/png": "[encoded data removed]",
      "text/latex": [
       "$\\displaystyle \\log{\\left(a \\right)} + \\log{\\left(b \\right)}$"
      ],
      "text/plain": [
       "log(a) + log(b)"
      ]
     },
     "execution_count": 122,
     "metadata": {
      "filenames": {
       "image/png": "/Users/gustavo/Dropbox/courses/data-science/FMECD/_build/jupyter_execute/ipynb/02a-computacao-simbolica_214_0.png"
      }
     },
     "output_type": "execute_result"
    }
   ],
   "source": [
    "sy.expand_log( sy.log(a*b) ) # identidade validada"
   ]
  },
  {
   "cell_type": "code",
   "execution_count": 123,
   "metadata": {},
   "outputs": [
    {
     "data": {
      "image/png": "[encoded data removed]",
      "text/latex": [
       "$\\displaystyle \\log{\\left(a \\right)} - \\log{\\left(b \\right)}$"
      ],
      "text/plain": [
       "log(a) - log(b)"
      ]
     },
     "execution_count": 123,
     "metadata": {
      "filenames": {
       "image/png": "/Users/gustavo/Dropbox/courses/data-science/FMECD/_build/jupyter_execute/ipynb/02a-computacao-simbolica_215_0.png"
      }
     },
     "output_type": "execute_result"
    }
   ],
   "source": [
    "sy.expand_log( sy.log(a/b) )"
   ]
  },
  {
   "cell_type": "code",
   "execution_count": 124,
   "metadata": {},
   "outputs": [
    {
     "data": {
      "image/png": "[encoded data removed]",
      "text/latex": [
       "$\\displaystyle m \\log{\\left(a \\right)}$"
      ],
      "text/plain": [
       "m⋅log(a)"
      ]
     },
     "execution_count": 124,
     "metadata": {
      "filenames": {
       "image/png": "/Users/gustavo/Dropbox/courses/data-science/FMECD/_build/jupyter_execute/ipynb/02a-computacao-simbolica_216_0.png"
      }
     },
     "output_type": "execute_result"
    }
   ],
   "source": [
    "m = sy.symbols('m', real = True) # impomos que m seja um no. real\n",
    "sy.expand_log( sy.log(a**m) )"
   ]
  },
  {
   "cell_type": "markdown",
   "metadata": {},
   "source": [
    "Com `logcombine`, compactamos as propriedades."
   ]
  },
  {
   "cell_type": "code",
   "execution_count": 125,
   "metadata": {},
   "outputs": [
    {
     "data": {
      "image/png": "[encoded data removed]",
      "text/latex": [
       "$\\displaystyle \\log{\\left(a b \\right)}$"
      ],
      "text/plain": [
       "log(a⋅b)"
      ]
     },
     "execution_count": 125,
     "metadata": {
      "filenames": {
       "image/png": "/Users/gustavo/Dropbox/courses/data-science/FMECD/_build/jupyter_execute/ipynb/02a-computacao-simbolica_218_0.png"
      }
     },
     "output_type": "execute_result"
    }
   ],
   "source": [
    "sy.logcombine( sy.log(a) + sy.log(b) ) # identidade recombinada"
   ]
  },
  {
   "cell_type": "markdown",
   "metadata": {},
   "source": [
    "## Fatorial \n",
    "\n",
    "A função `factorial(n)` pode ser usada para calcular o fatorial de um número."
   ]
  },
  {
   "cell_type": "code",
   "execution_count": 126,
   "metadata": {},
   "outputs": [
    {
     "data": {
      "image/png": "[encoded data removed]",
      "text/latex": [
       "$\\displaystyle m!$"
      ],
      "text/plain": [
       "m!"
      ]
     },
     "execution_count": 126,
     "metadata": {
      "filenames": {
       "image/png": "/Users/gustavo/Dropbox/courses/data-science/FMECD/_build/jupyter_execute/ipynb/02a-computacao-simbolica_220_0.png"
      }
     },
     "output_type": "execute_result"
    }
   ],
   "source": [
    "sy.factorial(m)"
   ]
  },
  {
   "cell_type": "code",
   "execution_count": 127,
   "metadata": {},
   "outputs": [
    {
     "data": {
      "image/png": "[encoded data removed]",
      "text/latex": [
       "$\\displaystyle 3628800$"
      ],
      "text/plain": [
       "3628800"
      ]
     },
     "execution_count": 127,
     "metadata": {
      "filenames": {
       "image/png": "/Users/gustavo/Dropbox/courses/data-science/FMECD/_build/jupyter_execute/ipynb/02a-computacao-simbolica_221_0.png"
      }
     },
     "output_type": "execute_result"
    }
   ],
   "source": [
    "sy.factorial(m).subs(m,10) # 10! "
   ]
  },
  {
   "cell_type": "code",
   "execution_count": 128,
   "metadata": {},
   "outputs": [
    {
     "data": {
      "image/png": "[encoded data removed]",
      "text/latex": [
       "$\\displaystyle 3628800$"
      ],
      "text/plain": [
       "3628800"
      ]
     },
     "execution_count": 128,
     "metadata": {
      "filenames": {
       "image/png": "/Users/gustavo/Dropbox/courses/data-science/FMECD/_build/jupyter_execute/ipynb/02a-computacao-simbolica_222_0.png"
      }
     },
     "output_type": "execute_result"
    }
   ],
   "source": [
    "sy.factorial(10) # diretamente"
   ]
  },
  {
   "cell_type": "markdown",
   "metadata": {},
   "source": [
    "**Exemplo:** Sejam $m,n,x$ inteiros positivos. Se $f(m) = 2m!$, $g(n) = \\frac{(n + 1)!}{n^2!}$ e $h(x) = f(x)g(x)$, qual é o valor de $h(2)$? "
   ]
  },
  {
   "cell_type": "code",
   "execution_count": 129,
   "metadata": {},
   "outputs": [
    {
     "data": {
      "image/png": "[encoded data removed]",
      "text/latex": [
       "$\\displaystyle \\frac{1}{3632428800}$"
      ],
      "text/plain": [
       "1/3632428800"
      ]
     },
     "execution_count": 129,
     "metadata": {
      "filenames": {
       "image/png": "/Users/gustavo/Dropbox/courses/data-science/FMECD/_build/jupyter_execute/ipynb/02a-computacao-simbolica_224_0.png"
      }
     },
     "output_type": "execute_result"
    }
   ],
   "source": [
    "from sympy.abc import m,n,x\n",
    "\n",
    "f = 2*sy.factorial(m)\n",
    "g = sy.factorial(n + 1)/sy.factorial(n**2)\n",
    "\n",
    "h = (f.subs(m,x)*g.subs(n,x)).subs(x,4)\n",
    "h"
   ]
  },
  {
   "cell_type": "markdown",
   "metadata": {},
   "source": [
    "## Funções anônimas \n",
    "\n",
    "A terceira classe de funções que iremos aprender é a de *funções anônimas*. Uma **função anônima** em Python consiste em uma função cujo nome não é explicitamente definido e que pode ser criada em apenas uma linha de código para executar uma tarefa específica.\n",
    "\n",
    "Funções anônimas são baseadas na palavra-chave `lambda`. Este nome tem inspiração em uma área da ciência da computação chamada de cálculo-$\\lambda$.\n",
    "\n",
    "Uma função anônima tem a seguinte forma: \n",
    "\n",
    "```python\n",
    "lambda lista_de_parâmetros: expressão\n",
    "```\n",
    "\n",
    "Funções anônimas podem são bastante úteis para tornar um código mais conciso. \n",
    "\n",
    "Por exemplo, na aula anterior, definimos a função\n",
    "\n",
    "```python\n",
    "def repasse(V): \n",
    "    return 0.0103*V\n",
    "```\n",
    "\n",
    "para calcular o repasse financeiro ao corretor imobiliário. \n",
    "\n",
    "Com uma função anônima, a mesma função seria escrita como:"
   ]
  },
  {
   "cell_type": "code",
   "execution_count": 130,
   "metadata": {},
   "outputs": [],
   "source": [
    "repasse = lambda V: 0.0103*V"
   ]
  },
  {
   "cell_type": "markdown",
   "metadata": {},
   "source": [
    "Não necessariamente temos que atribui-la a uma variável. Neste caso, teríamos:"
   ]
  },
  {
   "cell_type": "code",
   "execution_count": 131,
   "metadata": {},
   "outputs": [
    {
     "data": {
      "text/plain": [
       "<function __main__.<lambda>(V)>"
      ]
     },
     "execution_count": 131,
     "metadata": {},
     "output_type": "execute_result"
    }
   ],
   "source": [
    "lambda V: 0.0103*V"
   ]
  },
  {
   "cell_type": "markdown",
   "metadata": {},
   "source": [
    "Para usar a função, passamos um valor:"
   ]
  },
  {
   "cell_type": "code",
   "execution_count": 132,
   "metadata": {},
   "outputs": [
    {
     "data": {
      "image/png": "[encoded data removed]",
      "text/latex": [
       "$\\displaystyle 1030.0$"
      ],
      "text/plain": [
       "1030.0"
      ]
     },
     "execution_count": 132,
     "metadata": {
      "filenames": {
       "image/png": "/Users/gustavo/Dropbox/courses/data-science/FMECD/_build/jupyter_execute/ipynb/02a-computacao-simbolica_230_0.png"
      }
     },
     "output_type": "execute_result"
    }
   ],
   "source": [
    "repasse(100000) # repasse sobre R$ 100.000,00"
   ]
  },
  {
   "cell_type": "markdown",
   "metadata": {},
   "source": [
    "O modelo completo com \"bonificação\" seria escrito como:"
   ]
  },
  {
   "cell_type": "code",
   "execution_count": 133,
   "metadata": {},
   "outputs": [],
   "source": [
    "r3 = lambda c,V,b: c*V + b # aqui há 3 parâmetros necessários"
   ]
  },
  {
   "cell_type": "markdown",
   "metadata": {},
   "source": [
    "Redefinamos objetos simbólicos:"
   ]
  },
  {
   "cell_type": "code",
   "execution_count": 134,
   "metadata": {},
   "outputs": [
    {
     "data": {
      "image/png": "[encoded data removed]",
      "text/latex": [
       "$\\displaystyle V + b c$"
      ],
      "text/plain": [
       "V + b⋅c"
      ]
     },
     "execution_count": 134,
     "metadata": {
      "filenames": {
       "image/png": "/Users/gustavo/Dropbox/courses/data-science/FMECD/_build/jupyter_execute/ipynb/02a-computacao-simbolica_234_0.png"
      }
     },
     "output_type": "execute_result"
    }
   ],
   "source": [
    "from sympy.abc import b,c,V\n",
    "r3(b,c,V)"
   ]
  },
  {
   "cell_type": "markdown",
   "metadata": {},
   "source": [
    "O resultado anterior continua sendo um objeto simbólico, mas obtido de uma maneira mais direta. Podemos usar funções anônimas para tarefas de menor complexidade."
   ]
  },
  {
   "cell_type": "markdown",
   "metadata": {},
   "source": [
    "## \"Lambdificação\" simbólica"
   ]
  },
  {
   "cell_type": "markdown",
   "metadata": {},
   "source": [
    "Usando `lambdify`, podemos converter uma expressão simbólica do *sympy* para uma expressão que pode ser numericamente avaliada em outra biblioteca. Essa função desempenha papel similar a uma função *lambda* (anônima)."
   ]
  },
  {
   "cell_type": "code",
   "execution_count": 135,
   "metadata": {},
   "outputs": [
    {
     "data": {
      "image/png": "[encoded data removed]",
      "text/latex": [
       "$\\displaystyle 0.6458829262950192$"
      ],
      "text/plain": [
       "0.6458829262950192"
      ]
     },
     "execution_count": 135,
     "metadata": {
      "filenames": {
       "image/png": "/Users/gustavo/Dropbox/courses/data-science/FMECD/_build/jupyter_execute/ipynb/02a-computacao-simbolica_238_0.png"
      }
     },
     "output_type": "execute_result"
    }
   ],
   "source": [
    "expressao = sy.sin(x) + sy.sqrt(x) # expressão simbólica\n",
    "f = sy.lambdify(x,expressao,\"math\") # lambdificação para o módulo math\n",
    "f(0.2) # avalia"
   ]
  },
  {
   "cell_type": "markdown",
   "metadata": {},
   "source": [
    "Para avaliações simples como a anterior, podemos usar `evalf` e `subs`. A lambdificação será útil quando quisermos avaliar uma função em vários pontos, por exemplo. Na próxima aula, introduziremos sequencias e listas. Para mostrar um exemplo de lambdificação melhor veja o seguinte exemplo."
   ]
  },
  {
   "cell_type": "code",
   "execution_count": 136,
   "metadata": {},
   "outputs": [],
   "source": [
    "from numpy import arange # importação de função do módulo numpy\n",
    "\n",
    "X = arange(40) # gera 40 valores de 0 a 39"
   ]
  },
  {
   "cell_type": "code",
   "execution_count": 137,
   "metadata": {},
   "outputs": [
    {
     "data": {
      "text/plain": [
       "array([ 0,  1,  2,  3,  4,  5,  6,  7,  8,  9, 10, 11, 12, 13, 14, 15, 16,\n",
       "       17, 18, 19, 20, 21, 22, 23, 24, 25, 26, 27, 28, 29, 30, 31, 32, 33,\n",
       "       34, 35, 36, 37, 38, 39])"
      ]
     },
     "execution_count": 137,
     "metadata": {},
     "output_type": "execute_result"
    }
   ],
   "source": [
    "X"
   ]
  },
  {
   "cell_type": "code",
   "execution_count": 138,
   "metadata": {},
   "outputs": [
    {
     "data": {
      "text/plain": [
       "array([0.        , 1.84147098, 2.32351099, 1.87317082, 1.2431975 ,\n",
       "       1.2771437 , 2.17007424, 3.30273791, 3.81778537, 3.41211849,\n",
       "       2.61825655, 2.31663458, 2.9275287 , 4.02571831, 4.73226474,\n",
       "       4.52327119, 3.71209668, 3.16170813, 3.49165344, 4.50877615,\n",
       "       5.38508121, 5.41923133, 4.68156445, 3.94961112, 3.99340112,\n",
       "       4.86764825, 5.86157796, 6.15252835, 5.56240841, 4.72153092,\n",
       "       4.48919395, 5.16372672, 6.20828093, 6.74447451, 6.36003458,\n",
       "       5.48789711, 5.00822115, 5.4392244 , 6.46078258, 7.20879338])"
      ]
     },
     "execution_count": 138,
     "metadata": {},
     "output_type": "execute_result"
    }
   ],
   "source": [
    "f = sy.lambdify(x,expressao,\"numpy\")(X) # avalia 'expressao' em X\n",
    "f"
   ]
  }
 ],
 "metadata": {
  "kernelspec": {
   "display_name": "Python 3",
   "language": "python",
   "name": "python3"
  },
  "language_info": {
   "codemirror_mode": {
    "name": "ipython",
    "version": 3
   },
   "file_extension": ".py",
   "mimetype": "text/x-python",
   "name": "python",
   "nbconvert_exporter": "python",
   "pygments_lexer": "ipython3",
   "version": "3.7.4"
  }
 },
 "nbformat": 4,
 "nbformat_minor": 4
}