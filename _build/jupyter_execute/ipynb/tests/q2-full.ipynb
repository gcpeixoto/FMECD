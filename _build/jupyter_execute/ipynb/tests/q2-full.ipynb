{
 "cells": [
  {
   "cell_type": "markdown",
   "metadata": {},
   "source": [
    "## Questionário - Semana 2 \n",
    "\n",
    "Leia o texto a seguir para responder o questionário.\n",
    "\n",
    "### Modelos epidemiológicos SEIR\n",
    "\n",
    "Modelos matemáticos epidemiológicos modernos funcionam com base em \"estados\" que são considerados como \"compartimentos\". Por exemplo, o modelo SEIR considera que uma população, quando ameaçada por uma epidemia, pode ser dividida em quatro compartimentos: \n",
    "\n",
    "- S, das pessoas *suscetíveis* à infecção; \n",
    "- E, das pessoas *expostas*, que embora hospedeiras, não espalham a doença pelo fato de o vírus ainda estar em incubação; \n",
    "- I, das pessoas *infectadas* e\n",
    "- R, das pessoas *recuperadas*\n",
    "\n",
    "O número de pessoas $N$ em cada \"compartimento\" muda com o tempo. Logo, a dinâmica de mudança de estados ocorre por transições. Em cada instante de tempo, um fluxo de transição da forma\n",
    "S -> E -> I -> R pode ocorrer. Isto é, pessoas suscetíveis podem contrair o vírus, em seguida tornar-se expostas, serem infectadas e, por sua vez, se recuperarem. Portanto, supondo que não haja mortalidade, $N$ deve se conservar ao longo do tempo, mas S, E, I e R podem variar com o tempo. Matematicamente, se $t$ é um instante de tempo, então: \n",
    "\n",
    "$$N(t) = S(t) + E(t) + I(t) + R(t)$$\n",
    "\n",
    "Um modelo SEIR busca prever o número de pessoas em cada estado em um instante de tempo futuro $t_N$ (dia N) a partir de um instante de tempo inicial $t_0$ (dia 0). \n",
    "\n",
    "Considere que $a(t)$ seja o número de pessoas que uma pessoa infecta considerado para o dia $t$ – diante de um quadro epidêmico, desejamos que este valor seja o mais próximo de zero possível. Este valor pode se alterar para mais ou para menos mediante o relaxamento ou restrição de medidas de distanciamento social. A função matemática\n",
    "\n",
    "$$a(t) = a_N + \\dfrac{a_0 - a_N}{1 + e^{-k(L-t)}},$$\n",
    "\n",
    "pode ser usada como um modelo para o cálculo de $a$ levando em consideração medidas drásticas de \"lockdown\". Na equação: \n",
    "\n",
    "- $a_0$ é o valor de $a$ no dia 0\n",
    "- $a_N$ é o valor de $a$ no dia N\n",
    "- $L$ é o dia entre o dia 0 e o dia N em que o \"lockdown\" é decretado.\n",
    "- $k$ é uma constante de ajuste no intervalo real $(0,1]$ que aumenta a velocidade de declínio de $a$ à medida que se aproxima de $1$. \n",
    "\n",
    "A figura a seguir mostra o gráfico de $a(t)$ para $k = 0.2$, $k = 0.4$ e $k = 0.9$ em um intervalo de 100 dias, considerando $a_0 = 7$ e $a_{100} = 0.5$. O lockdown foi determinado no dia 40. Como se vê, quanto maior o valor de $k$, mais brusca é a queda do poder de contágio de uma pessoa.\n",
    "\n",
    "Base: [[artigo]](https://towardsdatascience.com/infectious-disease-modelling-beyond-the-basic-sir-model-216369c584c4) "
   ]
  },
  {
   "cell_type": "code",
   "execution_count": 3,
   "metadata": {},
   "outputs": [
    {
     "data": {
      "image/png": "[encoded data removed]",
      "text/plain": [
       "<Figure size 432x288 with 1 Axes>"
      ]
     },
     "metadata": {
      "filenames": {
       "image/png": "/Users/gustavo/Dropbox/courses/data-science/FMECD/_build/jupyter_execute/ipynb/tests/q2-full_1_0.png"
      },
      "needs_background": "light"
     },
     "output_type": "display_data"
    }
   ],
   "source": [
    "import numpy as np \n",
    "import matplotlib.pyplot as plt\n",
    "\n",
    "f = lambda a0,aN,L,k,t : aN + (a0 - aN)/(1 + np.exp(-k*(L-t)))\n",
    "\n",
    "t = np.linspace(0,100)\n",
    "plt.plot(t,f(7,0.5,40,0.2,t));\n",
    "plt.plot(t,f(7,0.5,40,0.4,t));\n",
    "plt.plot(t,f(7,0.5,40,0.9,t));\n",
    "plt.legend(['$k=0.2$','$k=0.4$','$k=0.9$'])\n",
    "plt.xlabel('$t$ [dias]'); plt.ylabel('$a(t)$'); plt.title('Lockdown no dia 40')\n",
    "plt.annotate('$a_0 = 7; a_{100} = 0.5$',(75,5));"
   ]
  },
  {
   "cell_type": "markdown",
   "metadata": {},
   "source": [
    "### Questão 1\n",
    "\n",
    "Construa um modelo simbólico para $a(t)$ e o atribua à variavel `a`. Qual(is) alternativa(s) seguinte(s) pode(m) ser uma resposta esperada por `type(a)`, independentemente da construção?\n",
    "\n",
    "a. sympy.core.add.Add \n",
    "\n",
    "b. sympy.core.add.Mul\n",
    "\n",
    "c. sympy.core.add.Exp\n",
    "\n",
    "d. exp"
   ]
  },
  {
   "cell_type": "markdown",
   "metadata": {},
   "source": [
    "### Resposta: \n",
    "\n",
    "a e b são possíveis."
   ]
  },
  {
   "cell_type": "code",
   "execution_count": 2,
   "metadata": {},
   "outputs": [
    {
     "name": "stdout",
     "output_type": "stream",
     "text": [
      "<class 'sympy.core.add.Add'>\n",
      "<class 'sympy.core.mul.Mul'>\n"
     ]
    }
   ],
   "source": [
    "import sympy as sy\n",
    "\n",
    "# pode ser Add\n",
    "t,k,L,a0,aN = sy.symbols('t k L a0 aN',positive=True)\n",
    "a = aN + (a0 - aN)/(1 + sy.exp(-k*(L-t)))\n",
    "print(type(a))\n",
    "\n",
    "\n",
    "# pode ser Mul\n",
    "am = (aN*(1 + sy.exp(-k*(L-t))) + (a0 - aN) )/(1 + sy.exp(-k*(L-t)))\n",
    "print(type(am))"
   ]
  },
  {
   "cell_type": "code",
   "execution_count": 3,
   "metadata": {},
   "outputs": [
    {
     "data": {
      "text/latex": [
       "$\\displaystyle aN + \\frac{a_{0} - aN}{1 + e^{- k \\left(L - t\\right)}}$"
      ],
      "text/plain": [
       "aN + (a0 - aN)/(1 + exp(-k*(L - t)))"
      ]
     },
     "execution_count": 3,
     "metadata": {},
     "output_type": "execute_result"
    }
   ],
   "source": [
    "a"
   ]
  },
  {
   "cell_type": "markdown",
   "metadata": {},
   "source": [
    "## Questão 2\n",
    "\n",
    "Considere as seguintes situações: \n",
    "\n",
    "1) A cidade A decretou lockdown 30 dias após o dia inicial de observação (dia 0) do contágio epidêmico, assumindo que $a_0 = 5$, $a_{100} = 1$ e modelou a curva $a(t)$ com $k = 0.2$.\n",
    "\n",
    "2) A cidade B decretou lockdown 40 dias após o dia inicial de observação (dia 0) do contágio epidêmico, assumindo que $a_0 = 5$, $a_{100} = 1$ e modelou a curva $a(t)$ com $k = 0.1$.\n",
    "\n",
    "Sendo $P_1$ e $P_2$ os valores de $a(t)$ calculados pelos modelos das cidades A e B, respectivamente, para o 21o. dia após o início da análise, o que podemos afirmar?\n",
    "\n",
    "a. P1 > P2\n",
    "\n",
    "b. P1 < P2\n",
    "\n",
    "c. P1 = P2 > 0\n",
    "\n",
    "d. P1 = P2 = 0\n"
   ]
  },
  {
   "cell_type": "markdown",
   "metadata": {},
   "source": [
    "### Resposta\n",
    "\n",
    "Resposta b."
   ]
  },
  {
   "cell_type": "code",
   "execution_count": 5,
   "metadata": {},
   "outputs": [
    {
     "data": {
      "text/latex": [
       "$\\displaystyle -0.0469703621499598$"
      ],
      "text/plain": [
       "-0.0469703621499598"
      ]
     },
     "execution_count": 5,
     "metadata": {},
     "output_type": "execute_result"
    }
   ],
   "source": [
    "p1 = a.subs([ (k,0.2),(L,30),(t,21),(a0,5),(aN,1) ])\n",
    "p2 = a.subs([ (k,0.1),(L,40),(t,21),(a0,5),(aN,1) ])\n"
   ]
  },
  {
   "cell_type": "markdown",
   "metadata": {},
   "source": [
    "## Questão 3\n",
    "\n",
    "Considere que a população de uma cidade acometida pela epidemia seja de 38.416 habitantes. No 16o. dia, a análise mostrou que o número de pessoas suscetíveis ao contágio era o triplo das que estavam já em exposição ao vírus. Estas, por sua vez, estavam em mesmo número que as infectadas no dia. As recuperadas contabilizavam exatamente 16. \n",
    "\n",
    "O código abaixo, iniciado por um analista, buscou determinar o percentual de pessoas expostas em relação à população total da cidade no 16o. dia. \n",
    "\n",
    "```python\n",
    "from sympy.abc import N,S,E,I,R\n",
    "from sympy import Eq, solveset\n",
    "tot = Eq( S + E + I + R - N,0)\n",
    "...\n",
    "```\n",
    "\n",
    "Ao completar este código, ou desenvolver o seu próprio, você pode concluir que este percentual é de:\n",
    "\n",
    "a. maior do que 50%.\n",
    "b. entre 30% e 45%.\n",
    "c. aproximadamente 20%.\n",
    "d. menor do que 10%.\n"
   ]
  },
  {
   "cell_type": "markdown",
   "metadata": {},
   "source": [
    "### Resposta \n",
    "\n",
    "Alternativa c)"
   ]
  },
  {
   "cell_type": "code",
   "execution_count": 42,
   "metadata": {},
   "outputs": [
    {
     "name": "stdout",
     "output_type": "stream",
     "text": [
      "FiniteSet(7680)\n"
     ]
    },
    {
     "data": {
      "text/plain": [
       "0.19991670137442732"
      ]
     },
     "execution_count": 42,
     "metadata": {},
     "output_type": "execute_result"
    }
   ],
   "source": [
    "# Q3 \n",
    "# Dia 16\n",
    "\n",
    "from sympy.abc import N,S,E,I,R\n",
    "from sympy import Eq, solveset\n",
    "\n",
    "tot = Eq( S + E + I + R - N,0)\n",
    "tot = tot.subs(N,38416)\n",
    "tot = tot.subs(S,3*E)\n",
    "tot = tot.subs(I,E)\n",
    "tot = tot.subs(R,16)\n",
    "print(sy.solveset(tot,E))\n",
    "7680/38416"
   ]
  },
  {
   "cell_type": "markdown",
   "metadata": {},
   "source": [
    "## Questão 4\n",
    "\n",
    "Algumas funções anônimas foram programadas na tentativa de representar o termo $e^{-k(L-t)}$ que aparece no denominador da fração do modelo de $a(t)$. Assinale a alternativa cuja definição expressa corretamente o termo, tendo em vista que `exp` é a exponencial simbólica: \n",
    "\n",
    "```\n",
    "a. fexp = lambda k,L,t: exp(-k(L-t))\n",
    "b. fexp = lambda k,L-t: exp(-k(L-t))\n",
    "c. fexp = lambda k,Lt: exp(-k*(Lt))\n",
    "d. fexp = lambda k,L,t: exp(-k*(L-t))\n",
    "```"
   ]
  },
  {
   "cell_type": "markdown",
   "metadata": {},
   "source": [
    "### Resposta \n",
    "\n",
    "Alternativa d)"
   ]
  },
  {
   "cell_type": "code",
   "execution_count": 46,
   "metadata": {},
   "outputs": [
    {
     "data": {
      "text/latex": [
       "$\\displaystyle e^{- k \\left(L - t\\right)}$"
      ],
      "text/plain": [
       "exp(-k*(L - t))"
      ]
     },
     "execution_count": 46,
     "metadata": {},
     "output_type": "execute_result"
    }
   ],
   "source": [
    "from sympy import exp\n",
    "\n",
    "#fexp = lambda k,L,t: exp(-k(L-t))\n",
    "#fexp = lambda k,L-t: exp(-k(L-t))\n",
    "fexp = lambda k,L,t: exp(-k*(L-t))\n",
    "#fexp = lambda k,Lt: exp(-k*(Lt))\n",
    "fexp(k,L,t)"
   ]
  },
  {
   "cell_type": "markdown",
   "metadata": {},
   "source": [
    "## Questão 5\n",
    "\n",
    "Considere o seguinte excerto de código:\n",
    "\n",
    "```python\n",
    "from sympy.abc import S,E,I,R\n",
    "SEIR = S*E*I*R\n",
    "```\n",
    "\n",
    "Podemos concluir que \n",
    "\n",
    "$$\\text{sen}( SEIR + SEIR^{-1} + 1/SEIR^{-1}) = \\text{sen}(x + y),$$\n",
    "\n",
    "onde\n",
    "\n",
    "a. $x = 2SEIR; \\ \\ y = 1/SEIR$\n",
    "\n",
    "b. $x = 3SEIR; \\ \\ y = 0$\n",
    "\n",
    "c. $x = SEIR; \\ \\ y = 2/SEIR$\n",
    "\n",
    "d. $x = SEIR; \\ \\ y = 1/SEIR$\n",
    "\n"
   ]
  },
  {
   "cell_type": "markdown",
   "metadata": {},
   "source": [
    "### Resposta\n",
    "\n",
    "Alternativa a)."
   ]
  },
  {
   "cell_type": "code",
   "execution_count": 52,
   "metadata": {},
   "outputs": [
    {
     "data": {
      "text/latex": [
       "$\\displaystyle \\sin{\\left(2 E I R S + \\frac{1}{E I R S} \\right)}$"
      ],
      "text/plain": [
       "sin(2*E*I*R*S + 1/(E*I*R*S))"
      ]
     },
     "execution_count": 52,
     "metadata": {},
     "output_type": "execute_result"
    }
   ],
   "source": [
    "from sympy.abc import S,E,I,R\n",
    "SEIR = S*E*I*R\n",
    "sy.simplify(sy.expand_trig(sy.sin( SEIR + 1/SEIR + 1/(1/SEIR))))"
   ]
  }
 ],
 "metadata": {
  "kernelspec": {
   "display_name": "Python 3",
   "language": "python",
   "name": "python3"
  },
  "language_info": {
   "codemirror_mode": {
    "name": "ipython",
    "version": 3
   },
   "file_extension": ".py",
   "mimetype": "text/x-python",
   "name": "python",
   "nbconvert_exporter": "python",
   "pygments_lexer": "ipython3",
   "version": "3.7.4"
  }
 },
 "nbformat": 4,
 "nbformat_minor": 4
}