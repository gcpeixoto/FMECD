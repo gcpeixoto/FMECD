{
 "cells": [
  {
   "cell_type": "markdown",
   "metadata": {},
   "source": [
    "# Questionário - Semana 3 \n",
    "\n",
    "Leia o texto a seguir para responder o questionário.\n",
    "\n",
    "## Índice de Segurança de Energia \n",
    "\n",
    "Cada país possui uma demanda diferente de energia para conseguir manter suas atividades cotidianas funcionando, tais como transportes, consumo doméstico e serviços. A segurança energética de um país tem impacto direto na sua atividade econômica e no crescimento de sua riqueza interna. \n",
    "\n",
    "O *Índice de Segurança de Energia* (ISE) de um país pode ser calculado a partir de 15 dimensões distintas, que são características intrínsecas do país. e uma série de parâmetros. Entretanto, nós vamos considerar apenas três aqui, a saber: *disponibilidade energética*, *nível de alfabetização* e *empregabilidade*. \n",
    "\n",
    "A disponibilidade energética (DE) é calculada em função de três parâmetros: \n",
    "\n",
    "- potencial energético total do país (fontes renováveis e não renováveis), medido em TWh (terawatts-hora); \n",
    "- população (número inteiro) e \n",
    "- número de aeroportos (número inteiro).\n",
    "\n",
    "O nível de alfabetização (NA) também é calculado em função de três parâmetros: \n",
    "\n",
    "- número de documentos científicos citados por pesquisadores de outros países (número inteiro); \n",
    "- percentual do PIB gasto em educação (percentual) e \n",
    "- percentual de graduados nas áreas de ciência e tecnologia (percentual). \n",
    "\n",
    "A empregabilidade (E) é estimada com base em dois parâmetros: \n",
    "\n",
    "- número de empregos no setor da energia, medido em TWh e \n",
    "- taxa de desemprego (percentual).\n",
    "\n",
    "A partir de fórmulas específicas para cada parâmetro e dimensão, valores médios são computados e o ISE pode ser finalmente obtido a partir de uma média desses valores médios. O ISE é um valor que varia de 0 a 100. Um país com ISE = 0 não possui nenhuma segurança energética para seu futuro, ao passo que um país com ISE = 100 está perfeitamente assegurado. Entretanto, nenhum país no mundo possui um ISE maior do que 60. \n",
    "\n",
    "Para a estimativa do ISE, é evidente que informações a respeito das dimensões e parâmetros anteriores sejam conhecidas. Porém, essas informações não são facilmente obtidas para todos os países do mundo. Alguns nem mesmo possuem setores de governo suficientemente evoluídos com os registros delas. Diante disso, faremos a classificação de um país nivelando-o de acordo com o número $p$ de parâmetros informativos que são **desconhecidos** da seguinte maneira. Um país será de: \n",
    "\n",
    "- nível 1, se $0 \\leq p \\leq 5$ \n",
    "- nível 2, se $5 < p \\leq 10$ \n",
    "- nível 3, se $10 < p \\leq 15$\n",
    "- nível 4, se $p > 15$\n",
    "\n",
    "Isto é, um país de nível 1 é aquele para o qual poucos parâmetros não são conhecidos a respeito dele, enquanto que um país de nível 4 apresenta um quadro muito deficiente de informações. \n",
    "\n",
    "A tabela a seguir lista alguns países juntamente com seu nível e ISE.\n",
    "\n",
    "| País        |   ISE |   Nível |\n",
    "|:------------|------:|--------:|\n",
    "| Alemanha    |  58.2 |       1 |\n",
    "| EUA         |  57.9 |       1 |\n",
    "| Brasil      |  51.3 |       1 |\n",
    "| Israel      |  49.8 |       1 |\n",
    "| Madagascar  |  39   |       2 |\n",
    "| Síria       |  35.9 |       2 |\n",
    "| Suriname    |  37.1 |       2 |\n",
    "| Laos        |  36.5 |       2 |\n",
    "| Timor Leste |  35   |       3 |\n",
    "| Afeganistão |  34   |       3 |\n",
    "| Fiji        |  33.5 |       3 |\n",
    "| Gâmbia      |  33   |       3 |\n",
    "| Kosovo      |  21   |       4 |\n",
    "| Aruba       |  12.2 |       4 |\n",
    "| Gibraltar   |   9.9 |       4 |\n",
    "| Martinica   |   6.4 |       4 |\n",
    "\n",
    "\n",
    "A partir dessas informações, responda as questões a seguir. \n",
    "\n",
    "Fonte: [[Azzuni e Breyer]](https://www.mdpi.com/1996-1073/13/10/2502/htm), com adaptações."
   ]
  },
  {
   "cell_type": "markdown",
   "metadata": {},
   "source": [
    "### Questão 1\n",
    "\n",
    "Suponha que você recebeu a incumbência de analisar esses dados, mas lhe advertiram sobre o seguinte: a tabela  está desordenada em relação ao nome dos países e, além disso, esqueceram de adicionar os quatro países a seguir:\n",
    "\n",
    "| País        |   ISE |   Nível |\n",
    "|:------------|------:|--------:|\n",
    "| Senegal     |  46.2 |       1 |\n",
    "| Líbano      |  37.6 |       2 |\n",
    "| Mali        |  35.3 |       3 |\n",
    "| Andorra     |  17.1 |       4 |\n",
    "\n",
    "Use todo o seu conhecimento sobre listas, tuplas, dicionários, conjuntos e controle de fluxo para organizar esses dados ordenando os países em ordem alfabética e incluindo o que foi esquecido. \n",
    "\n",
    "Considere que `pais` é uma lista contendo os nomes dos países da tabela completa (em ordem alfabética) e `ise`  uma segunda lista contendo os valores correspondentes de ISE (na mesma ordem alfabética). Assinale a alternativa correta: \n",
    "\n",
    "\n",
    "a. `pais[9] = 'Afeganistão'` e `ISE[14] = 9.9`\n",
    "\n",
    "b. `pais[9] = 'Laos'` e `ISE[14] = 33.0`\n",
    "\n",
    "c. `pais[9] = 'Israel'` e `ISE[14] = 35.3` (<--)\n",
    "\n",
    "d. `pais[9] = 'Gâmbia'` e `ISE[14] = 39.0`"
   ]
  },
  {
   "cell_type": "markdown",
   "metadata": {},
   "source": [
    "### Questão 2\n",
    "\n",
    "Considere a seguinte associação de cor para cada país mediante o seu nível (valor $p$).\n",
    "\n",
    "```python\n",
    "1: 'azul'\n",
    "2: 'amarelo'\n",
    "3: 'laranja'\n",
    "4: 'vermelho'\n",
    "```\n",
    "\n",
    "Crie um dicionário `{chave:valor}` onde `chave` deve ser um nome de país e `valor` o nome da cor associada. Por exemplo:\n",
    "\n",
    "```python \n",
    "{'Alemanha': 'azul', ...}\n",
    "```\n",
    "\n",
    "Seja `c` a lista dos nomes dos países cuja cor associada é uma cor da bandeira do Brasil e `n` o número de países nesta lista à exceção do próprio Brasil. Assinale a alternativa correta.\n",
    "\n",
    "a. `n = 8`\n",
    "\n",
    "b. `n = 10`\n",
    "\n",
    "c. `n = 11`\n",
    "\n",
    "d. `n = 9` (<--)"
   ]
  },
  {
   "cell_type": "markdown",
   "metadata": {},
   "source": [
    "### Questão 3 \n",
    "\n",
    "No texto principal, 8 parâmetros foram definidos e separados nas 3 dimensões DE, NA e E em blocos de 3, 3 e 2, respectivamente. Considere que **o nome das unidades de medida** desses parâmetros sejam os elementos de 3 conjuntos $A$, $B$ e $C$, onde:\n",
    "\n",
    "- $A$ é o conjunto das unidades de medida dos parâmetros associadas à dimensão DE\n",
    "- $B$ é o conjunto das unidades de medida dos parâmetros associadas à dimensão NA\n",
    "- $C$ é o conjunto das unidades de medida dos parâmetros associadas à dimensão E\n",
    "\n",
    "Quanto ao(s) elemento(s) pertencentes ao conjunto $A \\cap B \\cap C$, assinale a alternativa correta.\n",
    "\n",
    "a. {} (<--)\n",
    "\n",
    "b. {terawatt-hora}\n",
    "\n",
    "c. {percentual}\n",
    "\n",
    "d. {número inteiro}"
   ]
  },
  {
   "cell_type": "markdown",
   "metadata": {},
   "source": [
    "### Questão 4\n",
    "\n",
    "\n",
    "Crie uma função que retorne uma tupla $(a,b)$ em que $a$ é o número dos países para os quais $35 \\leq ISE \\leq 55$ e $b$ é o valor da média aritmética do ISE para este grupo exclusivo de países. Note que a média \n",
    "aritmética de $n$ valores é dada por \n",
    "\n",
    "$$\\frac{x_1 + x_2 + \\ldots + x_n}{n}$$.\n",
    "\n",
    "Assinale a alternativa correta.\n",
    "\n",
    "\n",
    "a. `(10, 43.15)`\n",
    "\n",
    "b. `(10, 40.37)` (<--)\n",
    "\n",
    "c. `(9, 43.15)` \n",
    "\n",
    "d. `(9, 40.37)` \n"
   ]
  },
  {
   "cell_type": "markdown",
   "metadata": {},
   "source": [
    "### Questão 5\n",
    "\n",
    "Considere `I` a lista de valores de ISE de todos os países cuja cor associada é `'vermelho'`. Para todo `x` a função `round(x)` arredonda `x` para o número inteiro mais próximo. Considerando que os valores em `I` correspondam aproximadamente ao número de aeroportos do respectivo país (associado à cor vermelha), assinale a resposta correta para a lista que contém o número de aeroportos em ordem crescente.\n",
    "\n",
    "\n",
    "a. `[3,5,6,9,10]`\n",
    "\n",
    "b. `[6,10,12,18,20]`\n",
    "\n",
    "c. `[6,10,12,17,21]` (<--)\n",
    "\n",
    "d. `[3,5,7,9,11]`"
   ]
  },
  {
   "cell_type": "markdown",
   "metadata": {},
   "source": [
    "### Gabarito"
   ]
  },
  {
   "cell_type": "code",
   "execution_count": 1,
   "metadata": {},
   "outputs": [],
   "source": [
    "# lista de países\n",
    "paises = ['Alemanha','EUA','Brasil','Israel','Senegal',\\\n",
    "          'Madagascar','Líbano','Síria','Suriname','Laos',\\\n",
    "          'Mali','Timor Leste','Afeganistão','Fiji','Gâmbia',\\\n",
    "          'Kosovo','Andorra','Aruba','Gibraltar','Martinica']\n",
    "\n",
    "# nível do país\n",
    "m = [1]*5 + [2]*5 + [3]*5 + [4]*5 # \n",
    "\n",
    "# indice de segurança de energia\n",
    "ise = [58.2,57.9,51.3,49.8,46.2,\\\n",
    "       39.0,37.6,35.9,37.1,36.5,\\\n",
    "       35.3,35.0,34.0,33.5,33.0,\\\n",
    "       21.,17.1,12.2,9.9,6.4]\n",
    "\n",
    "\n",
    "# cria df\n",
    "def cria_df(paises,m,ise):\n",
    "    import pandas as pd \n",
    "    df = pd.DataFrame({'País': paises, 'ISE':ise, 'Nível':m})\n",
    "    df['cor'] = ['preto']*len(ise)\n",
    "    df = df.sort_values('País')#.set_index('País')\n",
    "    return df\n",
    "\n",
    "# atribui as cores\n",
    "def cor(df):\n",
    "    df2 = df.copy()\n",
    "    cor = ['azul','amarelo','laranja','vermelho']\n",
    "    for i,c in enumerate(cor):\n",
    "        df2['cor'][df2['Nível'] == i+1] = c\n",
    "    return df2\n",
    "\n",
    "# imprime para markdown\n",
    "def print_to_markdown(df):    \n",
    "    df = df.set_index('País')\n",
    "    print(df.to_markdown()) \n",
    "    "
   ]
  },
  {
   "cell_type": "markdown",
   "metadata": {},
   "source": [
    "### Questão 1\n",
    "\n",
    "Letra c."
   ]
  },
  {
   "cell_type": "code",
   "execution_count": 2,
   "metadata": {},
   "outputs": [
    {
     "data": {
      "text/plain": [
       "('Israel', 35.3)"
      ]
     },
     "execution_count": 2,
     "metadata": {},
     "output_type": "execute_result"
    }
   ],
   "source": [
    "df = cria_df(paises,m,ise)\n",
    "df['País'].iloc[9], df['ISE'].iloc[14]"
   ]
  },
  {
   "cell_type": "markdown",
   "metadata": {},
   "source": [
    "### Questão 2\n",
    "\n",
    "Letra d."
   ]
  },
  {
   "cell_type": "code",
   "execution_count": 3,
   "metadata": {},
   "outputs": [
    {
     "name": "stdout",
     "output_type": "stream",
     "text": [
      "Alemanha\n",
      "Brasil\n",
      "EUA\n",
      "Israel\n",
      "Laos\n",
      "Líbano\n",
      "Madagascar\n",
      "Senegal\n",
      "Suriname\n",
      "Síria\n"
     ]
    },
    {
     "name": "stderr",
     "output_type": "stream",
     "text": [
      "/Users/gustavo/anaconda3/lib/python3.7/site-packages/ipykernel_launcher.py:30: SettingWithCopyWarning: \n",
      "A value is trying to be set on a copy of a slice from a DataFrame\n",
      "\n",
      "See the caveats in the documentation: https://pandas.pydata.org/pandas-docs/stable/user_guide/indexing.html#returning-a-view-versus-a-copy\n"
     ]
    },
    {
     "data": {
      "text/plain": [
       "9"
      ]
     },
     "execution_count": 3,
     "metadata": {},
     "output_type": "execute_result"
    }
   ],
   "source": [
    "df2 = cor(df)\n",
    "paises = list(df2['País'])\n",
    "cores = list(df2['cor'])       \n",
    "\n",
    "# dict\n",
    "d = dict(zip(paises,cores))\n",
    "\n",
    "# lista\n",
    "c = []\n",
    "for i,v in enumerate(d.values()):\n",
    "    if v == 'azul' or v == 'amarelo':\n",
    "        l = list(d.keys())\n",
    "        c.append(l[i])\n",
    "        print(l[i])\n",
    "c.remove('Brasil')\n",
    "len(c)"
   ]
  },
  {
   "cell_type": "markdown",
   "metadata": {},
   "source": [
    "### Questão 3\n",
    "\n",
    "Letra a."
   ]
  },
  {
   "cell_type": "code",
   "execution_count": 4,
   "metadata": {},
   "outputs": [
    {
     "data": {
      "text/plain": [
       "set()"
      ]
     },
     "execution_count": 4,
     "metadata": {},
     "output_type": "execute_result"
    }
   ],
   "source": [
    "# conjuntos de unidades dos parâmetros\n",
    "A,B,C = {'TWh','no.'}, {'no.','%'}, {'TWh','%'}\n",
    "ABC = A.intersection(B).intersection(C)\n",
    "ABC"
   ]
  },
  {
   "cell_type": "markdown",
   "metadata": {},
   "source": [
    "### Questão 4\n",
    "\n",
    "\n",
    "Letra b.\n"
   ]
  },
  {
   "cell_type": "code",
   "execution_count": 5,
   "metadata": {},
   "outputs": [
    {
     "name": "stdout",
     "output_type": "stream",
     "text": [
      "           País   ISE  Nível      cor\n",
      "2        Brasil  51.3      1     azul\n",
      "3        Israel  49.8      1     azul\n",
      "9          Laos  36.5      2  amarelo\n",
      "6        Líbano  37.6      2  amarelo\n",
      "5    Madagascar  39.0      2  amarelo\n",
      "10         Mali  35.3      3  laranja\n",
      "4       Senegal  46.2      1     azul\n",
      "8      Suriname  37.1      2  amarelo\n",
      "7         Síria  35.9      2  amarelo\n",
      "11  Timor Leste  35.0      3  laranja\n"
     ]
    },
    {
     "data": {
      "text/plain": [
       "(10, 40.37)"
      ]
     },
     "execution_count": 5,
     "metadata": {},
     "output_type": "execute_result"
    }
   ],
   "source": [
    "def f(df2):\n",
    "    filt = df2[(df2['ISE'] >= 35) & (df2['ISE'] <= 55)]\n",
    "    print(filt)\n",
    "    return (len(filt),filt['ISE'].mean())\n",
    "\n",
    "f(df2)"
   ]
  },
  {
   "cell_type": "markdown",
   "metadata": {},
   "source": [
    "### Questão 5\n",
    "\n",
    "Letra c.\n"
   ]
  },
  {
   "cell_type": "code",
   "execution_count": 6,
   "metadata": {},
   "outputs": [
    {
     "data": {
      "text/plain": [
       "16    17.0\n",
       "17    12.0\n",
       "18    10.0\n",
       "15    21.0\n",
       "19     6.0\n",
       "Name: ISE, dtype: float64"
      ]
     },
     "execution_count": 6,
     "metadata": {},
     "output_type": "execute_result"
    }
   ],
   "source": [
    "df5 = df2[df2['cor'] == 'vermelho']\n",
    "round(df5['ISE'])"
   ]
  }
 ],
 "metadata": {
  "kernelspec": {
   "display_name": "Python 3",
   "language": "python",
   "name": "python3"
  },
  "language_info": {
   "codemirror_mode": {
    "name": "ipython",
    "version": 3
   },
   "file_extension": ".py",
   "mimetype": "text/x-python",
   "name": "python",
   "nbconvert_exporter": "python",
   "pygments_lexer": "ipython3",
   "version": "3.7.4"
  }
 },
 "nbformat": 4,
 "nbformat_minor": 4
}