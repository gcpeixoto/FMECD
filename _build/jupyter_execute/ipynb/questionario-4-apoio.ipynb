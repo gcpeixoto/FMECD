{
 "cells": [
  {
   "cell_type": "markdown",
   "metadata": {},
   "source": [
    "# Questionário - Semana 4 \n",
    "\n",
    "Leia o texto a seguir para responder o questionário."
   ]
  },
  {
   "cell_type": "markdown",
   "metadata": {},
   "source": [
    "## Contextualização\n",
    "\n",
    "### O IMC\n",
    "\n",
    "O índice de massa corpórea (IMC) é usado para saber se um indivíduo está no peso ideal. Ele é definido pela fórmula\n",
    "\n",
    "$$IMC = \\dfrac{M}{A^2},$$\n",
    "\n",
    "onde $M$ é a massa (considere quilogramas) do indivíduo e $A$ é a sua altura (considere metros). Um indíviduo tem *peso normal* se seu IMC estiver no intervalo faixa $18.5 \\leq IMC < 25.0$. \n",
    "\n",
    "### Jogadores da Copa 2018\n",
    "\n",
    "A seleção brasileira masculina de futebol profissional convocada para a Copa do Mundo 2018 era composta de 23 jogadores, a saber: Alisson, Casemiro, Cássio, Danilo, Douglas Costa, Ederson, Fagner, Fernandinho, Filipe Luis, Firmino, Fred, Gabriel Jesus, Geromel, Marcelo, Marquinhos, Miranda, Neymar, Paulinho, Philippe Coutinho, Renato Augusto, Taison, Thiago Silva e Willian.\n",
    "\n",
    "O arquivo `04c-copa2018.npy` (o mesmo utilizado para a Atividade 4C) contém uma tabela de peso, altura e idade de cada um desses atletas. \n",
    "\n",
    "[[Fonte: ESPN]](https://www.espn.com.br/artigo/_/id/4310177/selecao-brasileira-veja-o-censo-completo-dos-jogadores-que-vao-a-copa)\n",
    "\n",
    "### Taxa Metabólica Basal (TMB)\n",
    "\n",
    "A TMB é a quantidade mínima de energia que o ser humano, em repouso, precisa para sobreviver. A *Equação de Mifflin - St. Jeor* para calcular a TMB em kcal/dia (quilocalorias por dia) de pessoas do sexo masculino é dada por: \n",
    "\n",
    "$$TMB = 10M + 6.25A + 5I + 5,$$\n",
    "\n",
    "onde $M$ é a massa do indivíduo, $A$ sua altura e $I$ sua idade. \n",
    "\n",
    "[[Fonte: Wiikipedia]](https://en.wikipedia.org/wiki/Basal_metabolic_rate)\n",
    "\n",
    "\n",
    "### A física do chute de uma bola\n",
    "\n",
    "O movimento executado por uma bola de futebol ao ser chutada a partir do campo por um jogador é similar ao movimento parabólico de um projétil. A velocidade da bola $V_b$ pode ser calculada pela expressão:\n",
    "\n",
    "$$V_b = V_p\\left( \\dfrac{M_p}{M_p + M_b} \\right)(1 + e),$$\n",
    "\n",
    "onde $V_p$ é a velocidade da perna do chutador, $M_p$ é a massa da perna do chutador, $M_b$ é a massa da bola e $e$ é o *coeficiente de restituição* da bola. \n",
    "\n",
    "O alcance $a$ é a medida horizontal máxima que a bola atinge a partir do ponto de lançamento de acordo com um certo ângulo em que é lançada. Como conhecemos da Física Básica, a fórmula para o alcance é dada por: \n",
    "\n",
    "$$a = \\dfrac{V_b^2\\textrm{sen}(2\\alpha)}{g}$$\n",
    "\n",
    "Diante disso, considere os seguintes dados: \n",
    "\n",
    "- A massa da bola de futebol profissional é de 400 gramas e seu coeficiente de restituição é 0.7.\n",
    "- A massa da perna de um jogador equivale a 10% de sua massa.\n",
    "- A velocidade da perna de um jogador é de 20 m/s.\n",
    "- A constante gravitacional equivale a 9.8 m/s<sup>2</sup>.\n",
    "\n",
    "[[Fonte: Physics of Kicking a Soccer Ball]](http://www.mathematicshed.com/uploads/1/2/5/7/12572836/physicsofkickingsoccerball.pdf)"
   ]
  },
  {
   "cell_type": "markdown",
   "metadata": {},
   "source": [
    "## Questão 1\n",
    "\n",
    "Escreva uma função que retorne uma tupla `(x,y)`, em que: \n",
    "\n",
    "- `x`: o $IMC$ médio do grupo de jogadores cujo nome profissional (conforme aparece na lista; inclua sobrenomes, se for o caso) tem a primeira letra como consoante e a última como vogal. Considere apenas uma casa decimal.\n",
    "- `y`: o número de jogadores que satisfazem à condição anterior.\n",
    "\n",
    "Assinale a alternativa correta:\n",
    "\n",
    "a. `(22.6,14)`\n",
    "\n",
    "b. `(22.5,12)`\n",
    "\n",
    "c. `(22.1,12)`\n",
    "\n",
    "d. `(22.2,23)`"
   ]
  },
  {
   "cell_type": "markdown",
   "metadata": {},
   "source": [
    "## Questão 2 \n",
    "\n",
    "Considere a lista de jogadores que você usou na questão anterior (com inicial e última letra segundo às condições). Nesta lista, você possui $n$ jogadores com nome duplo (nome + sobrenome). Se $M$ é o maior $IMC$ entre estes $n$ jogadores com nome duplo e $m$ o menor $IMC$, assinale a alternativa correta para o valor de $x = |M - m|$, isto é, a maior variação de $IMC$ entre os $n$ jogadores. \n",
    "\n",
    "Use duas casas decimais:\n",
    "\n",
    "a. `x = 1.01`\n",
    "\n",
    "b. `x = 0.65`\n",
    "\n",
    "c. `x = 0.90`\n",
    "\n",
    "d. `x = 0.81`"
   ]
  },
  {
   "cell_type": "markdown",
   "metadata": {},
   "source": [
    "## Questão 3\n",
    "\n",
    "Considere que a escalação da seleção brasileira da Copa 2018 listada acima permanecesse a mesma ao longo do tempo. Assuma que a idade dos jogadores no início de 2018 era aquela disponibilizada no arquivo. Use a equação de Mifflin - St. Jeor para calcular qual seria a demanda calórica total E em kcal para manter o time apenas respirando durante todo o ano de 2027, isto é, o valor da TMB. Então, assinale a alternativa correta.\n",
    "\n",
    "**Obs.**:Note que a idade dos jogadores muda anualmente.\n",
    "\n",
    "a. 7.7x10<sup>8</sup> kcal < E < 7.8x10<sup>8</sup> kcal\n",
    "\n",
    "b. 7.5x10<sup>8</sup> kcal < E < 7.6x10<sup>8</sup> kcal\n",
    "\n",
    "c. 7.6x10<sup>8</sup> kcal < E < 7.7x10<sup>8</sup> kcal\n",
    "\n",
    "d. 7.8x10<sup>8</sup> kcal < E < 7.9x10<sup>8</sup> kcal\n"
   ]
  },
  {
   "cell_type": "markdown",
   "metadata": {},
   "source": [
    "## Questão 4\n",
    "\n",
    "Assuma que um campo de futebol profissional \"padrão FIFA\" possui área de 100 x 68 <sup>2</sup>. Além disso, defina um *Whole-Field Kicker* (WFK) o jogador que, chutando uma bola a um ângulo de 45 graus, consegue transportá-la de gol a gol, ou seja de uma linha de fundo a outra, e como *Not Whole-Field Kicker* (not WFK) aquele que não consegue realizar esta proeza. Usando os dados disponíveis na tabela dos jogadores da seleção de 2018 e a equação do alcance, determine a tupla\n",
    "`(x,y,u,v)`, onde:\n",
    "\n",
    "- `x`: o nome do WFK do time que tem o chute mais longe.\n",
    "- `y`: o alcance máximo de chute do jogador `x`\n",
    "- `u`: o nome do WFK do time que tem o chute mais curto.\n",
    "- `v`: o alcance máximo de chute do jogador `u`\n",
    "\n",
    "Assinale a alternativa correta:\n",
    "\n",
    "a. `('Cássio', 101.50, 'Fagner', 100.05)`\n",
    "\n",
    "b. `('Cássio', 100.90, 'Fred', 98.42)`\n",
    "\n",
    "c. `('Cássio', 100.87, 'Paulinho', 100.05)`\n",
    "\n",
    "d. `('Alisson', 100.87, 'Paulinho', 100.00)`\n"
   ]
  },
  {
   "cell_type": "markdown",
   "metadata": {},
   "source": [
    "## Questão 5\n",
    "\n",
    "\n",
    "Ao chutar a bola do mesmo modo como explicado na questão anterior, cada jogador faz com que a bola atinja uma altura máxima. Suponha que M1, M2 e M3 sejam os valores de altura máxima dos chutes realizados pelos jogadores da seleção de 2018 cujos nomes iniciam-se pela letra M, mas organizados em ordem alfabética a partir da segunda letra em diante. Considerando os mesmos dados físicos da questão anterior e a fórmula para a altura máxima dada por\n",
    "\n",
    "$$h = \\dfrac{ V_b^2\\textrm{sen}^2(\\alpha) }{2g},$$\n",
    "\n",
    "assinale a alternativa correta. \n",
    "\n",
    "**Obs.:** use duas casas decimais.\n",
    "\n",
    "\n",
    "a. M1 > M2 > M3\n",
    "\n",
    "b. M1 < M2 < M3\n",
    "\n",
    "c. M1 = M2 < M3\n",
    "\n",
    "d. M1 = M3 > M2"
   ]
  }
 ],
 "metadata": {
  "kernelspec": {
   "display_name": "Python 3",
   "language": "python",
   "name": "python3"
  },
  "language_info": {
   "codemirror_mode": {
    "name": "ipython",
    "version": 3
   },
   "file_extension": ".py",
   "mimetype": "text/x-python",
   "name": "python",
   "nbconvert_exporter": "python",
   "pygments_lexer": "ipython3",
   "version": "3.7.4"
  }
 },
 "nbformat": 4,
 "nbformat_minor": 4
}