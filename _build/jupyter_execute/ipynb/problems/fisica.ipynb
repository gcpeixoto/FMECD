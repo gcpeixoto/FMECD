{
 "cells": [
  {
   "cell_type": "markdown",
   "id": "tender-milan",
   "metadata": {},
   "source": [
    "# Problemas (Física)\n",
    "\n",
    "## Problema (Movimento de partícula)\n",
    "\n",
    "A posição de uma partícula à medida que se move ao longo do eixo $y$ é dada por \n",
    "$y(t) = 2\\sin\\left(\\frac{\\pi t}{4}\\right),$\n",
    "com $t$ em segundos e $y$ em centímetros. Calcule: \n",
    "\n",
    "a. A velocidade média da partícula entre $t = 0$ e $t=2.0 \\, s$.\n",
    "\n",
    "b. A velocidade instantânea da partícula em $t = 0, \\, 1.0$ e $2.0 \\, s$.\n",
    "\n",
    "c. A aceleração média da partícula entre $t = 0$ e $t=2.0 \\, s$.\n",
    "\n",
    "d. A aceleração instantânea da partícula em $t = 0, \\, 1.0$ e $2.0 \\, s$.\n",
    "\n",
    "(Adaptado de Halliday & Resnick)"
   ]
  },
  {
   "cell_type": "markdown",
   "id": "ongoing-prophet",
   "metadata": {},
   "source": [
    "### Resolução"
   ]
  },
  {
   "cell_type": "code",
   "execution_count": 110,
   "id": "adequate-electric",
   "metadata": {},
   "outputs": [],
   "source": [
    "import numpy as np\n",
    "import sympy as sym\n",
    "import matplotlib.pyplot as plt\n",
    "\n",
    "def y(t):\n",
    "    return 2*np.sin( (np.pi*t)/4 )\n",
    "\n",
    "# calculo de média\n",
    "def m(tf,t0,f):\n",
    "    return (f(tf) - f(t0))/(tf - t0)"
   ]
  },
  {
   "cell_type": "code",
   "execution_count": 102,
   "id": "inner-offer",
   "metadata": {},
   "outputs": [
    {
     "name": "stdout",
     "output_type": "stream",
     "text": [
      "Velocidade média = 1.0 cm/s\n"
     ]
    }
   ],
   "source": [
    "# a.\n",
    "print(f'Velocidade média = {np.round(m(0,2,y),2)} cm/s') "
   ]
  },
  {
   "cell_type": "code",
   "execution_count": 112,
   "id": "documentary-proportion",
   "metadata": {},
   "outputs": [
    {
     "name": "stdout",
     "output_type": "stream",
     "text": [
      "Velocidade média = 1.0 cm/s\n",
      "Velocidade instantânea em t = 0.0 é 1.57 cm/s\n",
      "Velocidade instantânea em t = 1.0 é 1.11 cm/s\n",
      "Velocidade instantânea em t = 2.0 é 0 cm/s\n",
      "Aceleração instantânea em t = 0.0 é 0 cm/s^2\n",
      "Aceleração instantânea em t = 1.0 é -0.872 cm/s^2\n",
      "Aceleração média = -0.79 cm/s^2\n",
      "Aceleração instantânea em t = 2.0 é -1.23 cm/s^2\n"
     ]
    }
   ],
   "source": [
    "# b. c. e d.\n",
    "\n",
    "# Cria expressão simbólica\n",
    "tsym = sym.Symbol('t')\n",
    "def ysym(tsym):\n",
    "    return 2*sym.sin( (sym.pi*tsym)/4 )\n",
    "print(f'Velocidade média = {np.round(m(0,2,y),2)} cm/s') \n",
    "\n",
    "# Calcula velocidade instantânea\n",
    "for t0 in [0.,1.0,2.0]:    \n",
    "    dydt = sym.diff(ysym(tsym),tsym) # dy/dt  \n",
    "    vinst = dydt.subs({'t':t0})    \n",
    "    print(f'Velocidade instantânea em t = {t0} é {vinst.evalf(3)} cm/s') \n",
    "\n",
    "for t0 in [0.,1.0,2.0]: \n",
    "    if t0 == 2.0:\n",
    "        amed = (dydt.subs({'t':t0}) - dydt.subs({'t':0}))/2.0\n",
    "        print(f'Aceleração média = {amed.evalf(2)} cm/s^2')     \n",
    "                 \n",
    "    d2ydt2 = sym.diff(ysym(tsym),tsym,2) # d2y/dt2\n",
    "    ainst = d2ydt2.subs({'t':t0})    \n",
    "    print(f'Aceleração instantânea em t = {t0} é {ainst.evalf(3)} cm/s^2') "
   ]
  },
  {
   "cell_type": "code",
   "execution_count": 113,
   "id": "pressed-official",
   "metadata": {},
   "outputs": [
    {
     "data": {
      "image/png": "[encoded data removed]",
      "text/plain": [
       "<Figure size 432x288 with 1 Axes>"
      ]
     },
     "metadata": {
      "filenames": {
       "image/png": "/Users/gustavo/Dropbox/courses/data-science/FMECD/_build/jupyter_execute/ipynb/problems/fisica_5_0.png"
      },
      "needs_background": "light"
     },
     "output_type": "display_data"
    }
   ],
   "source": [
    "tnum = np.linspace(0,5)\n",
    "plt.plot(tnum,y(tnum));"
   ]
  }
 ],
 "metadata": {
  "kernelspec": {
   "display_name": "Python 3",
   "language": "python",
   "name": "python3"
  },
  "language_info": {
   "codemirror_mode": {
    "name": "ipython",
    "version": 3
   },
   "file_extension": ".py",
   "mimetype": "text/x-python",
   "name": "python",
   "nbconvert_exporter": "python",
   "pygments_lexer": "ipython3",
   "version": "3.7.4"
  }
 },
 "nbformat": 4,
 "nbformat_minor": 5
}