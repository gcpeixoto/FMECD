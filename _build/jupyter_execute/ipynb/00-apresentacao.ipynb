{
 "cells": [
  {
   "cell_type": "markdown",
   "metadata": {},
   "source": [
    "# Apresentação\n",
    "\n",
    "Matemática e Estatística são duas áreas do conhecimento humano reconhecidas como pilares de sustentação para a ciência e análise de dados. A primeira tem a capacidade de descrever fenômenos naturais em uma linguagem universal, bem como modelar problemas do mundo real e buscar soluções para eles. A segunda lida com a incerteza, buscando padrões no meio da aleatoriedade. Ambas são fundamentais para a ciência de dados, visto que entregam um vasto leque de ferramentas para descrever, interpretar, analisar e visualizar dados. \n",
    "\n",
    "O curso *Fundamentos de Matemática e Estatística para Ciência de Dados: Uma Abordagem Computacional com Python* pode ser dividido em três grandes etapas. Na primeira etapa introduziremos conceitos essenciais para o futuro cientista de dados, começando com a manipulação de números, sequencias e funções matemáticas elementares. Em seguida, entenderemos como o computador lida com vetores, matrizes e suas operações. Em uma terceira etapa do curso, apresentaremos elementos da estatística descritiva e da análise exploratória de dados. Para tanto, usaremos a linguagem de programação Python e seus módulos mais relevantes para aprendizagem dos conceitos e realização de exercícios práticos, tais como *numpy*, *pandas*, *matplotlib* e *seaborn*."
   ]
  },
  {
   "cell_type": "markdown",
   "metadata": {},
   "source": [
    "## Objetivos do curso\n",
    "\n",
    "O curso, como o próprio nome diz, possui duas vertentes: matemática e estatística. O curso visa introduzir discentes à matemática elementar necessária para a execução da análise de dados. Ao final do curso, cada discente deverá ser capaz de\n",
    "\n",
    "- manipular números, sequencias e conjuntos;\n",
    "- relacionar dados por meio de funções e variáveis;\n",
    "- operar funções matemáticas discretamente;\n",
    "- realizar cálculos com quantidades escalares, vetoriais e matriciais;\n",
    "- plotar funções elementares básicas;\n",
    "- processar e manipular dados em formatos diversos;\n",
    "- construir e interpretar gráficos e tabelas;\n",
    "- produzir gráficos estatísticos de alta qualidade e\n",
    "- realizar análise estatística simples."
   ]
  },
  {
   "cell_type": "markdown",
   "metadata": {},
   "source": [
    "## Autores\n",
    "\n",
    "Prof. Gustavo Oliveira e Profa. Andrea Rocha\n",
    "\n",
    "Departamento de Computação Científica – Centro de Informática – Universidade Federal da Paraíba\n",
    "\n",
    "Website: cdia.ci.ufpb.br"
   ]
  },
  {
   "cell_type": "markdown",
   "metadata": {},
   "source": [
    "## Log de versões\n",
    "\n",
    "- 09/02/2021: Primeira versão publicada online."
   ]
  },
  {
   "cell_type": "markdown",
   "id": "ordered-liberia",
   "metadata": {},
   "source": [
    "\n",
    "```{toctree}\n",
    ":hidden:\n",
    ":titlesonly:\n",
    ":caption: Introdução\n",
    "\n",
    "01a-introducao\n",
    "```\n",
    "\n",
    "\n",
    "```{toctree}\n",
    ":hidden:\n",
    ":titlesonly:\n",
    ":caption: Matemática Computacional\n",
    "\n",
    "01b-fundamentos-python\n",
    "02a-computacao-simbolica.ipynb\n",
    "03a-matematica-discreta.ipynb\n",
    "04a-computacao-vetorizada.ipynb\n",
    "04b-plotagem-matplotlib.ipynb\n",
    "05a-complemento-numpy.ipynb\n",
    "```\n",
    "\n",
    "\n",
    "```{toctree}\n",
    ":hidden:\n",
    ":titlesonly:\n",
    ":caption: Estatística e Análise de Dados\n",
    "\n",
    "06a-pandas-series.ipynb\n",
    "06b-pandas-dataframe.ipynb\n",
    "06c-pandas-agrupamento.ipynb\n",
    "07a-visualizacao-dados.ipynb\n",
    "07b-formatacao-matplotlib.ipynb\n",
    "07c-plotly.ipynb\n",
    "07d-seaborn.ipynb\n",
    "08a-estatistica-descritiva.ipynb\n",
    "```\n",
    "\n",
    "\n",
    "```{toctree}\n",
    ":hidden:\n",
    ":titlesonly:\n",
    ":caption: Problemas\n",
    "\n",
    "01c-laboratorio-computacional.ipynb\n",
    "02c-laboratorio-computacional.ipynb\n",
    "03c-laboratorio-computacional.ipynb\n",
    "04c-laboratorio-computacional.ipynb\n",
    "06d-laboratorio-computacional.ipynb\n",
    "07e-laboratorio-computacional.ipynb\n",
    "08c-laboratorio-computacional.ipynb\n",
    "```\n"
   ]
  }
 ],
 "metadata": {
  "celltoolbar": "Slideshow",
  "kernelspec": {
   "display_name": "Python 3",
   "language": "python",
   "name": "python3"
  },
  "language_info": {
   "codemirror_mode": {
    "name": "ipython",
    "version": 3
   },
   "file_extension": ".py",
   "mimetype": "text/x-python",
   "name": "python",
   "nbconvert_exporter": "python",
   "pygments_lexer": "ipython3",
   "version": "3.7.4"
  }
 },
 "nbformat": 4,
 "nbformat_minor": 4
}