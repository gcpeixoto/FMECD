{
 "cells": [
  {
   "cell_type": "markdown",
   "metadata": {},
   "source": [
    "# Laboratório Computacional 7\n",
    "\n",
    "No laboratório computacional, você praticará o que aprendeu. Resolva os problemas com o auxílio do Python pesquisando apenas as informações essenciais de que precisa. Não use respostas prontas."
   ]
  },
  {
   "cell_type": "markdown",
   "metadata": {},
   "source": [
    "**Problema:** Com base no banco de dados `data/HIST_PAINEL_COVIDBR_*.xlsx`, responda:  \n",
    "\n",
    "- através da análise do boxplot do número de óbitos por COVID-19 na cidade de João Pessoa, por dia, até dia 15/07/2020, podemos afirmar a existência de outliers?\n",
    "\n",
    "- através da análise do histograma do número de óbitos por COVID-19 na cidade de Bayeux, por dia, até dia 15/07/2020, qual o intervalo de frequência do número de óbitos apresentado no bloco que contém o ponto zero?\n",
    "\n",
    "- considere as cidades da Paraíba: João Pessoa, Campina Grande, Bayeux e Santa Rita. Qual delas possui outlier negativo no número de óbitos novos, ao realizarmos um boxplot comparativo do número de óbitos diários destas cidades?\n",
    "\n",
    "- ao construirmos um gráfico de linhas do número de obitosNovos da região Nordeste utilizando-se média aritmética móvel de 7 dias, podemos concluir que o número de óbitos diários no nordeste apresenta sinais de estabilização nos dois últimos meses?"
   ]
  }
 ],
 "metadata": {
  "kernelspec": {
   "display_name": "Python 3",
   "language": "python",
   "name": "python3"
  },
  "language_info": {
   "codemirror_mode": {
    "name": "ipython",
    "version": 3
   },
   "file_extension": ".py",
   "mimetype": "text/x-python",
   "name": "python",
   "nbconvert_exporter": "python",
   "pygments_lexer": "ipython3",
   "version": "3.7.4"
  }
 },
 "nbformat": 4,
 "nbformat_minor": 4
}