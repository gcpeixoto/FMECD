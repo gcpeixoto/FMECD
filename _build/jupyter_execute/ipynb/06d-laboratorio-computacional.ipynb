{
 "cells": [
  {
   "cell_type": "markdown",
   "metadata": {},
   "source": [
    "# Laboratório Computacional 6\n",
    "\n",
    "No laboratório computacional, você praticará o que aprendeu. Resolva os problemas com o auxílio do Python pesquisando apenas as informações essenciais de que precisa. Não use respostas prontas."
   ]
  },
  {
   "cell_type": "markdown",
   "metadata": {},
   "source": [
    "**Problema:** Com base no banco de dados `data/HIST_PAINEL_COVIDBR_*.xlsx`, determine:\n",
    "\n",
    "- o total de óbitos por COVID-19 na cidade de Cabedelo até dia 01/07/2020.\n",
    "- o primeiro dia em que João Pessoa teve o primeiro óbito confirmado.\n",
    "- que cidades possuíam mais de 2000 óbitos até o dia 10/07/2020.\n",
    "- se até o dia 10/07/2020 existe alguma cidade em que foram reportados óbitos acumulados positivos ao mesmo tempo em que o número de casos acumulados foi igual a zero.\n",
    "- quantas cidades diferentes chegaram a apresentar \"obitosNovos\" negativo até o dia 10/07/2020."
   ]
  }
 ],
 "metadata": {
  "kernelspec": {
   "display_name": "Python 3",
   "language": "python",
   "name": "python3"
  },
  "language_info": {
   "codemirror_mode": {
    "name": "ipython",
    "version": 3
   },
   "file_extension": ".py",
   "mimetype": "text/x-python",
   "name": "python",
   "nbconvert_exporter": "python",
   "pygments_lexer": "ipython3",
   "version": "3.7.4"
  }
 },
 "nbformat": 4,
 "nbformat_minor": 4
}