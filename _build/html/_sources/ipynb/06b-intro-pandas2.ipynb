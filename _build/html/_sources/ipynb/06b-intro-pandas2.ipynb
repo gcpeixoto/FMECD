{
 "cells": [
  {
   "cell_type": "markdown",
   "metadata": {
    "slideshow": {
     "slide_type": "slide"
    }
   },
   "source": [
    "# Manipulação de Dados em *Python*\n",
    "## A biblioteca *pandas*"
   ]
  },
  {
   "cell_type": "markdown",
   "metadata": {
    "slideshow": {
     "slide_type": "slide"
    }
   },
   "source": [
    "## Índices dos valores máximos ou mínimos\n",
    "\n",
    "* Os métodos **idxmin()** e **idxmax()** retornam o *index* cuja entrada fornece o valor mínimo ou máximo da *Serie* ou *DataFrame*.\n",
    "\n",
    "* Se houverem múltiplas ocorrências de mínimos ou máximos, o método retorna a primeira ocorrência."
   ]
  },
  {
   "cell_type": "code",
   "execution_count": 70,
   "metadata": {
    "slideshow": {
     "slide_type": "slide"
    }
   },
   "outputs": [],
   "source": [
    "import numpy as np\n",
    "import pandas as pd\n",
    "import datetime # para atualizar captura de dados do COVID"
   ]
  },
  {
   "cell_type": "code",
   "execution_count": 3,
   "metadata": {
    "slideshow": {
     "slide_type": "-"
    }
   },
   "outputs": [],
   "source": [
    "serie_Idade = pd.Series({'Ana':20, 'João': 19, 'Maria': 21, 'Pedro': 22, 'Túlio': 20}, name=\"Idade\")\n",
    "serie_Peso = pd.Series({'Ana':55, 'João': 80, 'Maria': 62, 'Pedro': 67, 'Túlio': 73}, name=\"Peso\")\n",
    "serie_Altura = pd.Series({'Ana':162, 'João': 178, 'Maria': 162, 'Pedro': 165, 'Túlio': 171}, name=\"Altura\")"
   ]
  },
  {
   "cell_type": "code",
   "execution_count": 4,
   "metadata": {},
   "outputs": [],
   "source": [
    "dicionario_series_exemplo = {'Idade': serie_Idade, 'Peso': serie_Peso, 'Altura': serie_Altura}"
   ]
  },
  {
   "cell_type": "code",
   "execution_count": 5,
   "metadata": {},
   "outputs": [],
   "source": [
    "df_dict_series = pd.DataFrame(dicionario_series_exemplo)"
   ]
  },
  {
   "cell_type": "code",
   "execution_count": 6,
   "metadata": {
    "slideshow": {
     "slide_type": "slide"
    }
   },
   "outputs": [
    {
     "data": {
      "text/html": [
       "<div>\n",
       "<style scoped>\n",
       "    .dataframe tbody tr th:only-of-type {\n",
       "        vertical-align: middle;\n",
       "    }\n",
       "\n",
       "    .dataframe tbody tr th {\n",
       "        vertical-align: top;\n",
       "    }\n",
       "\n",
       "    .dataframe thead th {\n",
       "        text-align: right;\n",
       "    }\n",
       "</style>\n",
       "<table border=\"1\" class=\"dataframe\">\n",
       "  <thead>\n",
       "    <tr style=\"text-align: right;\">\n",
       "      <th></th>\n",
       "      <th>Idade</th>\n",
       "      <th>Peso</th>\n",
       "      <th>Altura</th>\n",
       "    </tr>\n",
       "  </thead>\n",
       "  <tbody>\n",
       "    <tr>\n",
       "      <th>Ana</th>\n",
       "      <td>20</td>\n",
       "      <td>55</td>\n",
       "      <td>162</td>\n",
       "    </tr>\n",
       "    <tr>\n",
       "      <th>João</th>\n",
       "      <td>19</td>\n",
       "      <td>80</td>\n",
       "      <td>178</td>\n",
       "    </tr>\n",
       "    <tr>\n",
       "      <th>Maria</th>\n",
       "      <td>21</td>\n",
       "      <td>62</td>\n",
       "      <td>162</td>\n",
       "    </tr>\n",
       "    <tr>\n",
       "      <th>Pedro</th>\n",
       "      <td>22</td>\n",
       "      <td>67</td>\n",
       "      <td>165</td>\n",
       "    </tr>\n",
       "    <tr>\n",
       "      <th>Túlio</th>\n",
       "      <td>20</td>\n",
       "      <td>73</td>\n",
       "      <td>171</td>\n",
       "    </tr>\n",
       "  </tbody>\n",
       "</table>\n",
       "</div>"
      ],
      "text/plain": [
       "       Idade  Peso  Altura\n",
       "Ana       20    55     162\n",
       "João      19    80     178\n",
       "Maria     21    62     162\n",
       "Pedro     22    67     165\n",
       "Túlio     20    73     171"
      ]
     },
     "execution_count": 6,
     "metadata": {},
     "output_type": "execute_result"
    }
   ],
   "source": [
    "df_dict_series"
   ]
  },
  {
   "cell_type": "code",
   "execution_count": 7,
   "metadata": {
    "slideshow": {
     "slide_type": "-"
    }
   },
   "outputs": [
    {
     "data": {
      "text/plain": [
       "Idade     João\n",
       "Peso       Ana\n",
       "Altura     Ana\n",
       "dtype: object"
      ]
     },
     "execution_count": 7,
     "metadata": {},
     "output_type": "execute_result"
    }
   ],
   "source": [
    "df_dict_series.idxmin()"
   ]
  },
  {
   "cell_type": "code",
   "execution_count": 8,
   "metadata": {},
   "outputs": [
    {
     "data": {
      "text/plain": [
       "Idade     Pedro\n",
       "Peso       João\n",
       "Altura     João\n",
       "dtype: object"
      ]
     },
     "execution_count": 8,
     "metadata": {},
     "output_type": "execute_result"
    }
   ],
   "source": [
    "df_dict_series.idxmax()"
   ]
  },
  {
   "cell_type": "markdown",
   "metadata": {
    "slideshow": {
     "slide_type": "slide"
    }
   },
   "source": [
    "Mais exemplos:"
   ]
  },
  {
   "cell_type": "code",
   "execution_count": 9,
   "metadata": {},
   "outputs": [
    {
     "data": {
      "text/html": [
       "<div>\n",
       "<style scoped>\n",
       "    .dataframe tbody tr th:only-of-type {\n",
       "        vertical-align: middle;\n",
       "    }\n",
       "\n",
       "    .dataframe tbody tr th {\n",
       "        vertical-align: top;\n",
       "    }\n",
       "\n",
       "    .dataframe thead th {\n",
       "        text-align: right;\n",
       "    }\n",
       "</style>\n",
       "<table border=\"1\" class=\"dataframe\">\n",
       "  <thead>\n",
       "    <tr style=\"text-align: right;\">\n",
       "      <th></th>\n",
       "      <th>coluna_1</th>\n",
       "      <th>coluna_2</th>\n",
       "    </tr>\n",
       "  </thead>\n",
       "  <tbody>\n",
       "    <tr>\n",
       "      <th>2020-01-01</th>\n",
       "      <td>-0.416092</td>\n",
       "      <td>1.810364</td>\n",
       "    </tr>\n",
       "    <tr>\n",
       "      <th>2020-01-02</th>\n",
       "      <td>-0.137970</td>\n",
       "      <td>2.578520</td>\n",
       "    </tr>\n",
       "    <tr>\n",
       "      <th>2020-01-03</th>\n",
       "      <td>0.575827</td>\n",
       "      <td>0.060866</td>\n",
       "    </tr>\n",
       "    <tr>\n",
       "      <th>2020-01-04</th>\n",
       "      <td>-0.017367</td>\n",
       "      <td>1.299587</td>\n",
       "    </tr>\n",
       "    <tr>\n",
       "      <th>2020-01-05</th>\n",
       "      <td>1.384279</td>\n",
       "      <td>-0.381732</td>\n",
       "    </tr>\n",
       "    <tr>\n",
       "      <th>2020-01-06</th>\n",
       "      <td>0.549706</td>\n",
       "      <td>-1.308789</td>\n",
       "    </tr>\n",
       "    <tr>\n",
       "      <th>2020-01-07</th>\n",
       "      <td>-0.282296</td>\n",
       "      <td>-1.688979</td>\n",
       "    </tr>\n",
       "    <tr>\n",
       "      <th>2020-01-08</th>\n",
       "      <td>-0.989730</td>\n",
       "      <td>-0.028121</td>\n",
       "    </tr>\n",
       "    <tr>\n",
       "      <th>2020-01-09</th>\n",
       "      <td>0.275582</td>\n",
       "      <td>-0.177659</td>\n",
       "    </tr>\n",
       "    <tr>\n",
       "      <th>2020-01-10</th>\n",
       "      <td>0.685132</td>\n",
       "      <td>0.502535</td>\n",
       "    </tr>\n",
       "  </tbody>\n",
       "</table>\n",
       "</div>"
      ],
      "text/plain": [
       "            coluna_1  coluna_2\n",
       "2020-01-01 -0.416092  1.810364\n",
       "2020-01-02 -0.137970  2.578520\n",
       "2020-01-03  0.575827  0.060866\n",
       "2020-01-04 -0.017367  1.299587\n",
       "2020-01-05  1.384279 -0.381732\n",
       "2020-01-06  0.549706 -1.308789\n",
       "2020-01-07 -0.282296 -1.688979\n",
       "2020-01-08 -0.989730 -0.028121\n",
       "2020-01-09  0.275582 -0.177659\n",
       "2020-01-10  0.685132  0.502535"
      ]
     },
     "execution_count": 9,
     "metadata": {},
     "output_type": "execute_result"
    }
   ],
   "source": [
    "df_exemplo = pd.read_csv('06b-exemplo_data.csv', index_col=0);df_exemplo"
   ]
  },
  {
   "cell_type": "code",
   "execution_count": 10,
   "metadata": {
    "slideshow": {
     "slide_type": "slide"
    }
   },
   "outputs": [],
   "source": [
    "df_exemplo = pd.DataFrame(df_exemplo, columns=['coluna_1','coluna_2','coluna_3'])"
   ]
  },
  {
   "cell_type": "code",
   "execution_count": 11,
   "metadata": {
    "slideshow": {
     "slide_type": "-"
    }
   },
   "outputs": [],
   "source": [
    "df_exemplo['coluna_3'] = pd.Series([1,2,3,4,5,6,7,8,np.nan,np.nan],index=df_exemplo.index)"
   ]
  },
  {
   "cell_type": "code",
   "execution_count": 12,
   "metadata": {},
   "outputs": [
    {
     "data": {
      "text/html": [
       "<div>\n",
       "<style scoped>\n",
       "    .dataframe tbody tr th:only-of-type {\n",
       "        vertical-align: middle;\n",
       "    }\n",
       "\n",
       "    .dataframe tbody tr th {\n",
       "        vertical-align: top;\n",
       "    }\n",
       "\n",
       "    .dataframe thead th {\n",
       "        text-align: right;\n",
       "    }\n",
       "</style>\n",
       "<table border=\"1\" class=\"dataframe\">\n",
       "  <thead>\n",
       "    <tr style=\"text-align: right;\">\n",
       "      <th></th>\n",
       "      <th>coluna_1</th>\n",
       "      <th>coluna_2</th>\n",
       "      <th>coluna_3</th>\n",
       "    </tr>\n",
       "  </thead>\n",
       "  <tbody>\n",
       "    <tr>\n",
       "      <th>2020-01-01</th>\n",
       "      <td>-0.416092</td>\n",
       "      <td>1.810364</td>\n",
       "      <td>1.0</td>\n",
       "    </tr>\n",
       "    <tr>\n",
       "      <th>2020-01-02</th>\n",
       "      <td>-0.137970</td>\n",
       "      <td>2.578520</td>\n",
       "      <td>2.0</td>\n",
       "    </tr>\n",
       "    <tr>\n",
       "      <th>2020-01-03</th>\n",
       "      <td>0.575827</td>\n",
       "      <td>0.060866</td>\n",
       "      <td>3.0</td>\n",
       "    </tr>\n",
       "    <tr>\n",
       "      <th>2020-01-04</th>\n",
       "      <td>-0.017367</td>\n",
       "      <td>1.299587</td>\n",
       "      <td>4.0</td>\n",
       "    </tr>\n",
       "    <tr>\n",
       "      <th>2020-01-05</th>\n",
       "      <td>1.384279</td>\n",
       "      <td>-0.381732</td>\n",
       "      <td>5.0</td>\n",
       "    </tr>\n",
       "    <tr>\n",
       "      <th>2020-01-06</th>\n",
       "      <td>0.549706</td>\n",
       "      <td>-1.308789</td>\n",
       "      <td>6.0</td>\n",
       "    </tr>\n",
       "    <tr>\n",
       "      <th>2020-01-07</th>\n",
       "      <td>-0.282296</td>\n",
       "      <td>-1.688979</td>\n",
       "      <td>7.0</td>\n",
       "    </tr>\n",
       "    <tr>\n",
       "      <th>2020-01-08</th>\n",
       "      <td>-0.989730</td>\n",
       "      <td>-0.028121</td>\n",
       "      <td>8.0</td>\n",
       "    </tr>\n",
       "    <tr>\n",
       "      <th>2020-01-09</th>\n",
       "      <td>0.275582</td>\n",
       "      <td>-0.177659</td>\n",
       "      <td>NaN</td>\n",
       "    </tr>\n",
       "    <tr>\n",
       "      <th>2020-01-10</th>\n",
       "      <td>0.685132</td>\n",
       "      <td>0.502535</td>\n",
       "      <td>NaN</td>\n",
       "    </tr>\n",
       "  </tbody>\n",
       "</table>\n",
       "</div>"
      ],
      "text/plain": [
       "            coluna_1  coluna_2  coluna_3\n",
       "2020-01-01 -0.416092  1.810364       1.0\n",
       "2020-01-02 -0.137970  2.578520       2.0\n",
       "2020-01-03  0.575827  0.060866       3.0\n",
       "2020-01-04 -0.017367  1.299587       4.0\n",
       "2020-01-05  1.384279 -0.381732       5.0\n",
       "2020-01-06  0.549706 -1.308789       6.0\n",
       "2020-01-07 -0.282296 -1.688979       7.0\n",
       "2020-01-08 -0.989730 -0.028121       8.0\n",
       "2020-01-09  0.275582 -0.177659       NaN\n",
       "2020-01-10  0.685132  0.502535       NaN"
      ]
     },
     "execution_count": 12,
     "metadata": {},
     "output_type": "execute_result"
    }
   ],
   "source": [
    "df_exemplo"
   ]
  },
  {
   "cell_type": "code",
   "execution_count": 13,
   "metadata": {
    "slideshow": {
     "slide_type": "slide"
    }
   },
   "outputs": [
    {
     "data": {
      "text/plain": [
       "coluna_1    2020-01-08\n",
       "coluna_2    2020-01-07\n",
       "coluna_3    2020-01-01\n",
       "dtype: object"
      ]
     },
     "execution_count": 13,
     "metadata": {},
     "output_type": "execute_result"
    }
   ],
   "source": [
    "df_exemplo.idxmin()"
   ]
  },
  {
   "cell_type": "code",
   "execution_count": 14,
   "metadata": {},
   "outputs": [
    {
     "data": {
      "text/plain": [
       "coluna_1    2020-01-05\n",
       "coluna_2    2020-01-02\n",
       "coluna_3    2020-01-08\n",
       "dtype: object"
      ]
     },
     "execution_count": 14,
     "metadata": {},
     "output_type": "execute_result"
    }
   ],
   "source": [
    "df_exemplo.idxmax()"
   ]
  },
  {
   "cell_type": "markdown",
   "metadata": {
    "slideshow": {
     "slide_type": "slide"
    }
   },
   "source": [
    "## Reindexar *DataFrames*\n",
    "\n",
    "Em *pandas*, o método **reindex** faz o seguinte:\n",
    "\n",
    "* Reordena o *DataFrame* de acordo com o conjunto de rótulos inserido como argumento;\n",
    "* Insere valores faltantes caso um rótulo do novo *index* não tenha valor atribuído no conjunto de dados;\n",
    "* Remove valores correspondentes a rótulos que não estão presentes no novo *index*."
   ]
  },
  {
   "cell_type": "markdown",
   "metadata": {
    "slideshow": {
     "slide_type": "slide"
    }
   },
   "source": [
    "Exemplos:"
   ]
  },
  {
   "cell_type": "code",
   "execution_count": 15,
   "metadata": {},
   "outputs": [
    {
     "data": {
      "text/html": [
       "<div>\n",
       "<style scoped>\n",
       "    .dataframe tbody tr th:only-of-type {\n",
       "        vertical-align: middle;\n",
       "    }\n",
       "\n",
       "    .dataframe tbody tr th {\n",
       "        vertical-align: top;\n",
       "    }\n",
       "\n",
       "    .dataframe thead th {\n",
       "        text-align: right;\n",
       "    }\n",
       "</style>\n",
       "<table border=\"1\" class=\"dataframe\">\n",
       "  <thead>\n",
       "    <tr style=\"text-align: right;\">\n",
       "      <th></th>\n",
       "      <th>Altura</th>\n",
       "      <th>Peso</th>\n",
       "      <th>IMC</th>\n",
       "    </tr>\n",
       "  </thead>\n",
       "  <tbody>\n",
       "    <tr>\n",
       "      <th>Victor</th>\n",
       "      <td>NaN</td>\n",
       "      <td>NaN</td>\n",
       "      <td>NaN</td>\n",
       "    </tr>\n",
       "    <tr>\n",
       "      <th>Túlio</th>\n",
       "      <td>171.0</td>\n",
       "      <td>73.0</td>\n",
       "      <td>NaN</td>\n",
       "    </tr>\n",
       "    <tr>\n",
       "      <th>Pedro</th>\n",
       "      <td>165.0</td>\n",
       "      <td>67.0</td>\n",
       "      <td>NaN</td>\n",
       "    </tr>\n",
       "    <tr>\n",
       "      <th>João</th>\n",
       "      <td>178.0</td>\n",
       "      <td>80.0</td>\n",
       "      <td>NaN</td>\n",
       "    </tr>\n",
       "  </tbody>\n",
       "</table>\n",
       "</div>"
      ],
      "text/plain": [
       "        Altura  Peso  IMC\n",
       "Victor     NaN   NaN  NaN\n",
       "Túlio    171.0  73.0  NaN\n",
       "Pedro    165.0  67.0  NaN\n",
       "João     178.0  80.0  NaN"
      ]
     },
     "execution_count": 15,
     "metadata": {},
     "output_type": "execute_result"
    }
   ],
   "source": [
    "df_dict_series.reindex(index=['Victor', 'Túlio', 'Pedro', 'João'], columns=['Altura','Peso','IMC'])"
   ]
  },
  {
   "cell_type": "markdown",
   "metadata": {
    "slideshow": {
     "slide_type": "slide"
    }
   },
   "source": [
    "## Removendo linhas ou colunas de um *DataFrame*\n",
    "\n",
    "* Para remover linhas ou colunas de um *DataFrame* do *pandas* podemos utilizar o método **drop**.\n",
    "\n",
    "* *axis=0*, que é o padrão, indica a remoção de linhas, *axis=1*, indica que estamos removendo a coluna."
   ]
  },
  {
   "cell_type": "markdown",
   "metadata": {
    "slideshow": {
     "slide_type": "slide"
    }
   },
   "source": [
    "Exemplos:"
   ]
  },
  {
   "cell_type": "code",
   "execution_count": 16,
   "metadata": {},
   "outputs": [
    {
     "data": {
      "text/html": [
       "<div>\n",
       "<style scoped>\n",
       "    .dataframe tbody tr th:only-of-type {\n",
       "        vertical-align: middle;\n",
       "    }\n",
       "\n",
       "    .dataframe tbody tr th {\n",
       "        vertical-align: top;\n",
       "    }\n",
       "\n",
       "    .dataframe thead th {\n",
       "        text-align: right;\n",
       "    }\n",
       "</style>\n",
       "<table border=\"1\" class=\"dataframe\">\n",
       "  <thead>\n",
       "    <tr style=\"text-align: right;\">\n",
       "      <th></th>\n",
       "      <th>Idade</th>\n",
       "      <th>Peso</th>\n",
       "      <th>Altura</th>\n",
       "    </tr>\n",
       "  </thead>\n",
       "  <tbody>\n",
       "    <tr>\n",
       "      <th>João</th>\n",
       "      <td>19</td>\n",
       "      <td>80</td>\n",
       "      <td>178</td>\n",
       "    </tr>\n",
       "    <tr>\n",
       "      <th>Pedro</th>\n",
       "      <td>22</td>\n",
       "      <td>67</td>\n",
       "      <td>165</td>\n",
       "    </tr>\n",
       "    <tr>\n",
       "      <th>Túlio</th>\n",
       "      <td>20</td>\n",
       "      <td>73</td>\n",
       "      <td>171</td>\n",
       "    </tr>\n",
       "  </tbody>\n",
       "</table>\n",
       "</div>"
      ],
      "text/plain": [
       "       Idade  Peso  Altura\n",
       "João      19    80     178\n",
       "Pedro     22    67     165\n",
       "Túlio     20    73     171"
      ]
     },
     "execution_count": 16,
     "metadata": {},
     "output_type": "execute_result"
    }
   ],
   "source": [
    "df_dict_series.drop(['Ana','Maria'], axis=0)"
   ]
  },
  {
   "cell_type": "code",
   "execution_count": 17,
   "metadata": {},
   "outputs": [
    {
     "data": {
      "text/html": [
       "<div>\n",
       "<style scoped>\n",
       "    .dataframe tbody tr th:only-of-type {\n",
       "        vertical-align: middle;\n",
       "    }\n",
       "\n",
       "    .dataframe tbody tr th {\n",
       "        vertical-align: top;\n",
       "    }\n",
       "\n",
       "    .dataframe thead th {\n",
       "        text-align: right;\n",
       "    }\n",
       "</style>\n",
       "<table border=\"1\" class=\"dataframe\">\n",
       "  <thead>\n",
       "    <tr style=\"text-align: right;\">\n",
       "      <th></th>\n",
       "      <th>Peso</th>\n",
       "      <th>Altura</th>\n",
       "    </tr>\n",
       "  </thead>\n",
       "  <tbody>\n",
       "    <tr>\n",
       "      <th>Ana</th>\n",
       "      <td>55</td>\n",
       "      <td>162</td>\n",
       "    </tr>\n",
       "    <tr>\n",
       "      <th>João</th>\n",
       "      <td>80</td>\n",
       "      <td>178</td>\n",
       "    </tr>\n",
       "    <tr>\n",
       "      <th>Maria</th>\n",
       "      <td>62</td>\n",
       "      <td>162</td>\n",
       "    </tr>\n",
       "    <tr>\n",
       "      <th>Pedro</th>\n",
       "      <td>67</td>\n",
       "      <td>165</td>\n",
       "    </tr>\n",
       "    <tr>\n",
       "      <th>Túlio</th>\n",
       "      <td>73</td>\n",
       "      <td>171</td>\n",
       "    </tr>\n",
       "  </tbody>\n",
       "</table>\n",
       "</div>"
      ],
      "text/plain": [
       "       Peso  Altura\n",
       "Ana      55     162\n",
       "João     80     178\n",
       "Maria    62     162\n",
       "Pedro    67     165\n",
       "Túlio    73     171"
      ]
     },
     "execution_count": 17,
     "metadata": {},
     "output_type": "execute_result"
    }
   ],
   "source": [
    "df_dict_series.drop(['Idade'], axis=1)"
   ]
  },
  {
   "cell_type": "markdown",
   "metadata": {
    "slideshow": {
     "slide_type": "slide"
    }
   },
   "source": [
    "## Renomear *index* e *columns*\n",
    "\n",
    "O método **rename** retorna uma cópida na qual o *index* (no caso de *Series* e *DataFrames*) e *columns* (no caso de *DataFrames*) foram renomeados.\n",
    "\n",
    "O método aceita como entrada um dicionário, uma *Serie* do *pandas* ou uma função."
   ]
  },
  {
   "cell_type": "markdown",
   "metadata": {
    "slideshow": {
     "slide_type": "slide"
    }
   },
   "source": [
    "Exemplo:"
   ]
  },
  {
   "cell_type": "code",
   "execution_count": 18,
   "metadata": {},
   "outputs": [],
   "source": [
    "serie_exemplo = pd.Series([1,2,3], index=['a','b','c'])"
   ]
  },
  {
   "cell_type": "code",
   "execution_count": 19,
   "metadata": {},
   "outputs": [
    {
     "data": {
      "text/plain": [
       "a    1\n",
       "b    2\n",
       "c    3\n",
       "dtype: int64"
      ]
     },
     "execution_count": 19,
     "metadata": {},
     "output_type": "execute_result"
    }
   ],
   "source": [
    "serie_exemplo"
   ]
  },
  {
   "cell_type": "code",
   "execution_count": 20,
   "metadata": {},
   "outputs": [
    {
     "data": {
      "text/plain": [
       "abacaxi    1\n",
       "banana     2\n",
       "cebola     3\n",
       "dtype: int64"
      ]
     },
     "execution_count": 20,
     "metadata": {},
     "output_type": "execute_result"
    }
   ],
   "source": [
    "serie_exemplo.rename({'a':'abacaxi', 'b':'banana', 'c': 'cebola'})"
   ]
  },
  {
   "cell_type": "code",
   "execution_count": 21,
   "metadata": {
    "slideshow": {
     "slide_type": "slide"
    }
   },
   "outputs": [
    {
     "data": {
      "text/html": [
       "<div>\n",
       "<style scoped>\n",
       "    .dataframe tbody tr th:only-of-type {\n",
       "        vertical-align: middle;\n",
       "    }\n",
       "\n",
       "    .dataframe tbody tr th {\n",
       "        vertical-align: top;\n",
       "    }\n",
       "\n",
       "    .dataframe thead th {\n",
       "        text-align: right;\n",
       "    }\n",
       "</style>\n",
       "<table border=\"1\" class=\"dataframe\">\n",
       "  <thead>\n",
       "    <tr style=\"text-align: right;\">\n",
       "      <th></th>\n",
       "      <th>Idade</th>\n",
       "      <th>Peso</th>\n",
       "      <th>Altura</th>\n",
       "    </tr>\n",
       "  </thead>\n",
       "  <tbody>\n",
       "    <tr>\n",
       "      <th>Ana</th>\n",
       "      <td>20</td>\n",
       "      <td>55</td>\n",
       "      <td>162</td>\n",
       "    </tr>\n",
       "    <tr>\n",
       "      <th>João</th>\n",
       "      <td>19</td>\n",
       "      <td>80</td>\n",
       "      <td>178</td>\n",
       "    </tr>\n",
       "    <tr>\n",
       "      <th>Maria</th>\n",
       "      <td>21</td>\n",
       "      <td>62</td>\n",
       "      <td>162</td>\n",
       "    </tr>\n",
       "    <tr>\n",
       "      <th>Pedro</th>\n",
       "      <td>22</td>\n",
       "      <td>67</td>\n",
       "      <td>165</td>\n",
       "    </tr>\n",
       "    <tr>\n",
       "      <th>Túlio</th>\n",
       "      <td>20</td>\n",
       "      <td>73</td>\n",
       "      <td>171</td>\n",
       "    </tr>\n",
       "  </tbody>\n",
       "</table>\n",
       "</div>"
      ],
      "text/plain": [
       "       Idade  Peso  Altura\n",
       "Ana       20    55     162\n",
       "João      19    80     178\n",
       "Maria     21    62     162\n",
       "Pedro     22    67     165\n",
       "Túlio     20    73     171"
      ]
     },
     "execution_count": 21,
     "metadata": {},
     "output_type": "execute_result"
    }
   ],
   "source": [
    "df_dict_series"
   ]
  },
  {
   "cell_type": "code",
   "execution_count": 22,
   "metadata": {},
   "outputs": [
    {
     "data": {
      "text/html": [
       "<div>\n",
       "<style scoped>\n",
       "    .dataframe tbody tr th:only-of-type {\n",
       "        vertical-align: middle;\n",
       "    }\n",
       "\n",
       "    .dataframe tbody tr th {\n",
       "        vertical-align: top;\n",
       "    }\n",
       "\n",
       "    .dataframe thead th {\n",
       "        text-align: right;\n",
       "    }\n",
       "</style>\n",
       "<table border=\"1\" class=\"dataframe\">\n",
       "  <thead>\n",
       "    <tr style=\"text-align: right;\">\n",
       "      <th></th>\n",
       "      <th>I</th>\n",
       "      <th>P</th>\n",
       "      <th>A</th>\n",
       "    </tr>\n",
       "  </thead>\n",
       "  <tbody>\n",
       "    <tr>\n",
       "      <th>a</th>\n",
       "      <td>20</td>\n",
       "      <td>55</td>\n",
       "      <td>162</td>\n",
       "    </tr>\n",
       "    <tr>\n",
       "      <th>j</th>\n",
       "      <td>19</td>\n",
       "      <td>80</td>\n",
       "      <td>178</td>\n",
       "    </tr>\n",
       "    <tr>\n",
       "      <th>m</th>\n",
       "      <td>21</td>\n",
       "      <td>62</td>\n",
       "      <td>162</td>\n",
       "    </tr>\n",
       "    <tr>\n",
       "      <th>p</th>\n",
       "      <td>22</td>\n",
       "      <td>67</td>\n",
       "      <td>165</td>\n",
       "    </tr>\n",
       "    <tr>\n",
       "      <th>t</th>\n",
       "      <td>20</td>\n",
       "      <td>73</td>\n",
       "      <td>171</td>\n",
       "    </tr>\n",
       "  </tbody>\n",
       "</table>\n",
       "</div>"
      ],
      "text/plain": [
       "    I   P    A\n",
       "a  20  55  162\n",
       "j  19  80  178\n",
       "m  21  62  162\n",
       "p  22  67  165\n",
       "t  20  73  171"
      ]
     },
     "execution_count": 22,
     "metadata": {},
     "output_type": "execute_result"
    }
   ],
   "source": [
    "df_dict_series.rename(index = {'Ana':'a', 'João':'j', 'Maria':'m', 'Pedro':'p','Túlio':'t'},\n",
    "                     columns = {'Idade':'I', 'Peso':'P','Altura':'A'})"
   ]
  },
  {
   "cell_type": "code",
   "execution_count": 23,
   "metadata": {
    "slideshow": {
     "slide_type": "slide"
    }
   },
   "outputs": [],
   "source": [
    "indice_novo = pd.Series({'Ana':'a', 'João':'j', 'Maria':'m', 'Pedro':'p','Túlio':'t'})"
   ]
  },
  {
   "cell_type": "code",
   "execution_count": 24,
   "metadata": {},
   "outputs": [
    {
     "data": {
      "text/html": [
       "<div>\n",
       "<style scoped>\n",
       "    .dataframe tbody tr th:only-of-type {\n",
       "        vertical-align: middle;\n",
       "    }\n",
       "\n",
       "    .dataframe tbody tr th {\n",
       "        vertical-align: top;\n",
       "    }\n",
       "\n",
       "    .dataframe thead th {\n",
       "        text-align: right;\n",
       "    }\n",
       "</style>\n",
       "<table border=\"1\" class=\"dataframe\">\n",
       "  <thead>\n",
       "    <tr style=\"text-align: right;\">\n",
       "      <th></th>\n",
       "      <th>Idade</th>\n",
       "      <th>Peso</th>\n",
       "      <th>Altura</th>\n",
       "    </tr>\n",
       "  </thead>\n",
       "  <tbody>\n",
       "    <tr>\n",
       "      <th>a</th>\n",
       "      <td>20</td>\n",
       "      <td>55</td>\n",
       "      <td>162</td>\n",
       "    </tr>\n",
       "    <tr>\n",
       "      <th>j</th>\n",
       "      <td>19</td>\n",
       "      <td>80</td>\n",
       "      <td>178</td>\n",
       "    </tr>\n",
       "    <tr>\n",
       "      <th>m</th>\n",
       "      <td>21</td>\n",
       "      <td>62</td>\n",
       "      <td>162</td>\n",
       "    </tr>\n",
       "    <tr>\n",
       "      <th>p</th>\n",
       "      <td>22</td>\n",
       "      <td>67</td>\n",
       "      <td>165</td>\n",
       "    </tr>\n",
       "    <tr>\n",
       "      <th>t</th>\n",
       "      <td>20</td>\n",
       "      <td>73</td>\n",
       "      <td>171</td>\n",
       "    </tr>\n",
       "  </tbody>\n",
       "</table>\n",
       "</div>"
      ],
      "text/plain": [
       "   Idade  Peso  Altura\n",
       "a     20    55     162\n",
       "j     19    80     178\n",
       "m     21    62     162\n",
       "p     22    67     165\n",
       "t     20    73     171"
      ]
     },
     "execution_count": 24,
     "metadata": {},
     "output_type": "execute_result"
    }
   ],
   "source": [
    "df_dict_series.rename(index = indice_novo) # Aqui utilizando uma serie para renomear"
   ]
  },
  {
   "cell_type": "code",
   "execution_count": 25,
   "metadata": {},
   "outputs": [
    {
     "data": {
      "text/html": [
       "<div>\n",
       "<style scoped>\n",
       "    .dataframe tbody tr th:only-of-type {\n",
       "        vertical-align: middle;\n",
       "    }\n",
       "\n",
       "    .dataframe tbody tr th {\n",
       "        vertical-align: top;\n",
       "    }\n",
       "\n",
       "    .dataframe thead th {\n",
       "        text-align: right;\n",
       "    }\n",
       "</style>\n",
       "<table border=\"1\" class=\"dataframe\">\n",
       "  <thead>\n",
       "    <tr style=\"text-align: right;\">\n",
       "      <th></th>\n",
       "      <th>IDADE</th>\n",
       "      <th>PESO</th>\n",
       "      <th>ALTURA</th>\n",
       "    </tr>\n",
       "  </thead>\n",
       "  <tbody>\n",
       "    <tr>\n",
       "      <th>Ana</th>\n",
       "      <td>20</td>\n",
       "      <td>55</td>\n",
       "      <td>162</td>\n",
       "    </tr>\n",
       "    <tr>\n",
       "      <th>João</th>\n",
       "      <td>19</td>\n",
       "      <td>80</td>\n",
       "      <td>178</td>\n",
       "    </tr>\n",
       "    <tr>\n",
       "      <th>Maria</th>\n",
       "      <td>21</td>\n",
       "      <td>62</td>\n",
       "      <td>162</td>\n",
       "    </tr>\n",
       "    <tr>\n",
       "      <th>Pedro</th>\n",
       "      <td>22</td>\n",
       "      <td>67</td>\n",
       "      <td>165</td>\n",
       "    </tr>\n",
       "    <tr>\n",
       "      <th>Túlio</th>\n",
       "      <td>20</td>\n",
       "      <td>73</td>\n",
       "      <td>171</td>\n",
       "    </tr>\n",
       "  </tbody>\n",
       "</table>\n",
       "</div>"
      ],
      "text/plain": [
       "       IDADE  PESO  ALTURA\n",
       "Ana       20    55     162\n",
       "João      19    80     178\n",
       "Maria     21    62     162\n",
       "Pedro     22    67     165\n",
       "Túlio     20    73     171"
      ]
     },
     "execution_count": 25,
     "metadata": {},
     "output_type": "execute_result"
    }
   ],
   "source": [
    "df_dict_series.rename(columns=str.upper) # Aqui utilizando uma função para renomear"
   ]
  },
  {
   "cell_type": "markdown",
   "metadata": {
    "slideshow": {
     "slide_type": "slide"
    }
   },
   "source": [
    "## Ordenando *Series* e *DataFrames*\n",
    "\n",
    "É possível ordenar pelos rótulos do *index* (para tanto é necessário que eles sejam ordenáveis) ou por valores nas colunas.\n",
    "\n",
    "* O método *sort_index* ordena a *Serie* ou o *DataFrame* pelo *index*;\n",
    "* O método *sort_values* ordena a *Serie* ou o *DataFrame* pelos valores (escolhendo uma coluna ou mais colunas no caso de *DataFrames*). No caso do *DataFrame* precisa de um argumento *by* indicando qual(is) coluna(s) a ser(em) utilizada(s).\n"
   ]
  },
  {
   "cell_type": "markdown",
   "metadata": {
    "slideshow": {
     "slide_type": "slide"
    }
   },
   "source": [
    "Exemplos:"
   ]
  },
  {
   "cell_type": "code",
   "execution_count": 26,
   "metadata": {},
   "outputs": [
    {
     "data": {
      "text/plain": [
       "Maria    21\n",
       "Pedro    22\n",
       "Túlio    20\n",
       "João     19\n",
       "Ana      20\n",
       "dtype: int64"
      ]
     },
     "execution_count": 26,
     "metadata": {},
     "output_type": "execute_result"
    }
   ],
   "source": [
    "serie_desordenada = pd.Series({'Maria': 21, 'Pedro': 22, 'Túlio': 20, 'João': 19, 'Ana':20});serie_desordenada"
   ]
  },
  {
   "cell_type": "code",
   "execution_count": 27,
   "metadata": {},
   "outputs": [
    {
     "data": {
      "text/plain": [
       "Ana      20\n",
       "João     19\n",
       "Maria    21\n",
       "Pedro    22\n",
       "Túlio    20\n",
       "dtype: int64"
      ]
     },
     "execution_count": 27,
     "metadata": {},
     "output_type": "execute_result"
    }
   ],
   "source": [
    "serie_desordenada.sort_index()"
   ]
  },
  {
   "cell_type": "markdown",
   "metadata": {
    "slideshow": {
     "slide_type": "slide"
    }
   },
   "source": [
    "Mais exemplos:"
   ]
  },
  {
   "cell_type": "code",
   "execution_count": 28,
   "metadata": {},
   "outputs": [],
   "source": [
    "df_desordenado = df_dict_series.reindex(index=['Pedro','Maria','Ana','Túlio','João'])"
   ]
  },
  {
   "cell_type": "code",
   "execution_count": 29,
   "metadata": {
    "slideshow": {
     "slide_type": "-"
    }
   },
   "outputs": [
    {
     "data": {
      "text/html": [
       "<div>\n",
       "<style scoped>\n",
       "    .dataframe tbody tr th:only-of-type {\n",
       "        vertical-align: middle;\n",
       "    }\n",
       "\n",
       "    .dataframe tbody tr th {\n",
       "        vertical-align: top;\n",
       "    }\n",
       "\n",
       "    .dataframe thead th {\n",
       "        text-align: right;\n",
       "    }\n",
       "</style>\n",
       "<table border=\"1\" class=\"dataframe\">\n",
       "  <thead>\n",
       "    <tr style=\"text-align: right;\">\n",
       "      <th></th>\n",
       "      <th>Idade</th>\n",
       "      <th>Peso</th>\n",
       "      <th>Altura</th>\n",
       "    </tr>\n",
       "  </thead>\n",
       "  <tbody>\n",
       "    <tr>\n",
       "      <th>Pedro</th>\n",
       "      <td>22</td>\n",
       "      <td>67</td>\n",
       "      <td>165</td>\n",
       "    </tr>\n",
       "    <tr>\n",
       "      <th>Maria</th>\n",
       "      <td>21</td>\n",
       "      <td>62</td>\n",
       "      <td>162</td>\n",
       "    </tr>\n",
       "    <tr>\n",
       "      <th>Ana</th>\n",
       "      <td>20</td>\n",
       "      <td>55</td>\n",
       "      <td>162</td>\n",
       "    </tr>\n",
       "    <tr>\n",
       "      <th>Túlio</th>\n",
       "      <td>20</td>\n",
       "      <td>73</td>\n",
       "      <td>171</td>\n",
       "    </tr>\n",
       "    <tr>\n",
       "      <th>João</th>\n",
       "      <td>19</td>\n",
       "      <td>80</td>\n",
       "      <td>178</td>\n",
       "    </tr>\n",
       "  </tbody>\n",
       "</table>\n",
       "</div>"
      ],
      "text/plain": [
       "       Idade  Peso  Altura\n",
       "Pedro     22    67     165\n",
       "Maria     21    62     162\n",
       "Ana       20    55     162\n",
       "Túlio     20    73     171\n",
       "João      19    80     178"
      ]
     },
     "execution_count": 29,
     "metadata": {},
     "output_type": "execute_result"
    }
   ],
   "source": [
    "df_desordenado"
   ]
  },
  {
   "cell_type": "code",
   "execution_count": 30,
   "metadata": {},
   "outputs": [
    {
     "data": {
      "text/html": [
       "<div>\n",
       "<style scoped>\n",
       "    .dataframe tbody tr th:only-of-type {\n",
       "        vertical-align: middle;\n",
       "    }\n",
       "\n",
       "    .dataframe tbody tr th {\n",
       "        vertical-align: top;\n",
       "    }\n",
       "\n",
       "    .dataframe thead th {\n",
       "        text-align: right;\n",
       "    }\n",
       "</style>\n",
       "<table border=\"1\" class=\"dataframe\">\n",
       "  <thead>\n",
       "    <tr style=\"text-align: right;\">\n",
       "      <th></th>\n",
       "      <th>Idade</th>\n",
       "      <th>Peso</th>\n",
       "      <th>Altura</th>\n",
       "    </tr>\n",
       "  </thead>\n",
       "  <tbody>\n",
       "    <tr>\n",
       "      <th>Ana</th>\n",
       "      <td>20</td>\n",
       "      <td>55</td>\n",
       "      <td>162</td>\n",
       "    </tr>\n",
       "    <tr>\n",
       "      <th>João</th>\n",
       "      <td>19</td>\n",
       "      <td>80</td>\n",
       "      <td>178</td>\n",
       "    </tr>\n",
       "    <tr>\n",
       "      <th>Maria</th>\n",
       "      <td>21</td>\n",
       "      <td>62</td>\n",
       "      <td>162</td>\n",
       "    </tr>\n",
       "    <tr>\n",
       "      <th>Pedro</th>\n",
       "      <td>22</td>\n",
       "      <td>67</td>\n",
       "      <td>165</td>\n",
       "    </tr>\n",
       "    <tr>\n",
       "      <th>Túlio</th>\n",
       "      <td>20</td>\n",
       "      <td>73</td>\n",
       "      <td>171</td>\n",
       "    </tr>\n",
       "  </tbody>\n",
       "</table>\n",
       "</div>"
      ],
      "text/plain": [
       "       Idade  Peso  Altura\n",
       "Ana       20    55     162\n",
       "João      19    80     178\n",
       "Maria     21    62     162\n",
       "Pedro     22    67     165\n",
       "Túlio     20    73     171"
      ]
     },
     "execution_count": 30,
     "metadata": {},
     "output_type": "execute_result"
    }
   ],
   "source": [
    "df_desordenado.sort_index()"
   ]
  },
  {
   "cell_type": "markdown",
   "metadata": {
    "slideshow": {
     "slide_type": "slide"
    }
   },
   "source": [
    "Mais exemplos:"
   ]
  },
  {
   "cell_type": "code",
   "execution_count": 31,
   "metadata": {
    "slideshow": {
     "slide_type": "-"
    }
   },
   "outputs": [
    {
     "data": {
      "text/plain": [
       "João     19\n",
       "Túlio    20\n",
       "Ana      20\n",
       "Maria    21\n",
       "Pedro    22\n",
       "dtype: int64"
      ]
     },
     "execution_count": 31,
     "metadata": {},
     "output_type": "execute_result"
    }
   ],
   "source": [
    "serie_desordenada.sort_values()"
   ]
  },
  {
   "cell_type": "code",
   "execution_count": 32,
   "metadata": {},
   "outputs": [
    {
     "data": {
      "text/html": [
       "<div>\n",
       "<style scoped>\n",
       "    .dataframe tbody tr th:only-of-type {\n",
       "        vertical-align: middle;\n",
       "    }\n",
       "\n",
       "    .dataframe tbody tr th {\n",
       "        vertical-align: top;\n",
       "    }\n",
       "\n",
       "    .dataframe thead th {\n",
       "        text-align: right;\n",
       "    }\n",
       "</style>\n",
       "<table border=\"1\" class=\"dataframe\">\n",
       "  <thead>\n",
       "    <tr style=\"text-align: right;\">\n",
       "      <th></th>\n",
       "      <th>Idade</th>\n",
       "      <th>Peso</th>\n",
       "      <th>Altura</th>\n",
       "    </tr>\n",
       "  </thead>\n",
       "  <tbody>\n",
       "    <tr>\n",
       "      <th>Maria</th>\n",
       "      <td>21</td>\n",
       "      <td>62</td>\n",
       "      <td>162</td>\n",
       "    </tr>\n",
       "    <tr>\n",
       "      <th>Ana</th>\n",
       "      <td>20</td>\n",
       "      <td>55</td>\n",
       "      <td>162</td>\n",
       "    </tr>\n",
       "    <tr>\n",
       "      <th>Pedro</th>\n",
       "      <td>22</td>\n",
       "      <td>67</td>\n",
       "      <td>165</td>\n",
       "    </tr>\n",
       "    <tr>\n",
       "      <th>Túlio</th>\n",
       "      <td>20</td>\n",
       "      <td>73</td>\n",
       "      <td>171</td>\n",
       "    </tr>\n",
       "    <tr>\n",
       "      <th>João</th>\n",
       "      <td>19</td>\n",
       "      <td>80</td>\n",
       "      <td>178</td>\n",
       "    </tr>\n",
       "  </tbody>\n",
       "</table>\n",
       "</div>"
      ],
      "text/plain": [
       "       Idade  Peso  Altura\n",
       "Maria     21    62     162\n",
       "Ana       20    55     162\n",
       "Pedro     22    67     165\n",
       "Túlio     20    73     171\n",
       "João      19    80     178"
      ]
     },
     "execution_count": 32,
     "metadata": {},
     "output_type": "execute_result"
    }
   ],
   "source": [
    "df_desordenado.sort_values(by=['Altura'])"
   ]
  },
  {
   "cell_type": "markdown",
   "metadata": {
    "slideshow": {
     "slide_type": "slide"
    }
   },
   "source": [
    "*  No caso de empate, podemos ultilizar outra coluna para desempatar"
   ]
  },
  {
   "cell_type": "code",
   "execution_count": 33,
   "metadata": {},
   "outputs": [
    {
     "data": {
      "text/html": [
       "<div>\n",
       "<style scoped>\n",
       "    .dataframe tbody tr th:only-of-type {\n",
       "        vertical-align: middle;\n",
       "    }\n",
       "\n",
       "    .dataframe tbody tr th {\n",
       "        vertical-align: top;\n",
       "    }\n",
       "\n",
       "    .dataframe thead th {\n",
       "        text-align: right;\n",
       "    }\n",
       "</style>\n",
       "<table border=\"1\" class=\"dataframe\">\n",
       "  <thead>\n",
       "    <tr style=\"text-align: right;\">\n",
       "      <th></th>\n",
       "      <th>Idade</th>\n",
       "      <th>Peso</th>\n",
       "      <th>Altura</th>\n",
       "    </tr>\n",
       "  </thead>\n",
       "  <tbody>\n",
       "    <tr>\n",
       "      <th>Ana</th>\n",
       "      <td>20</td>\n",
       "      <td>55</td>\n",
       "      <td>162</td>\n",
       "    </tr>\n",
       "    <tr>\n",
       "      <th>Maria</th>\n",
       "      <td>21</td>\n",
       "      <td>62</td>\n",
       "      <td>162</td>\n",
       "    </tr>\n",
       "    <tr>\n",
       "      <th>Pedro</th>\n",
       "      <td>22</td>\n",
       "      <td>67</td>\n",
       "      <td>165</td>\n",
       "    </tr>\n",
       "    <tr>\n",
       "      <th>Túlio</th>\n",
       "      <td>20</td>\n",
       "      <td>73</td>\n",
       "      <td>171</td>\n",
       "    </tr>\n",
       "    <tr>\n",
       "      <th>João</th>\n",
       "      <td>19</td>\n",
       "      <td>80</td>\n",
       "      <td>178</td>\n",
       "    </tr>\n",
       "  </tbody>\n",
       "</table>\n",
       "</div>"
      ],
      "text/plain": [
       "       Idade  Peso  Altura\n",
       "Ana       20    55     162\n",
       "Maria     21    62     162\n",
       "Pedro     22    67     165\n",
       "Túlio     20    73     171\n",
       "João      19    80     178"
      ]
     },
     "execution_count": 33,
     "metadata": {},
     "output_type": "execute_result"
    }
   ],
   "source": [
    "df_desordenado.sort_values(by=['Altura','Peso']) # Utilizando a coluna *'Peso'* para desempatar"
   ]
  },
  {
   "cell_type": "markdown",
   "metadata": {
    "slideshow": {
     "slide_type": "slide"
    }
   },
   "source": [
    "* Os métodos *sort_index* e *sort_values* admitem o argumento opcional *ascending*, que permite inverter a ordenação:"
   ]
  },
  {
   "cell_type": "code",
   "execution_count": 34,
   "metadata": {
    "scrolled": true
   },
   "outputs": [
    {
     "data": {
      "text/html": [
       "<div>\n",
       "<style scoped>\n",
       "    .dataframe tbody tr th:only-of-type {\n",
       "        vertical-align: middle;\n",
       "    }\n",
       "\n",
       "    .dataframe tbody tr th {\n",
       "        vertical-align: top;\n",
       "    }\n",
       "\n",
       "    .dataframe thead th {\n",
       "        text-align: right;\n",
       "    }\n",
       "</style>\n",
       "<table border=\"1\" class=\"dataframe\">\n",
       "  <thead>\n",
       "    <tr style=\"text-align: right;\">\n",
       "      <th></th>\n",
       "      <th>Idade</th>\n",
       "      <th>Peso</th>\n",
       "      <th>Altura</th>\n",
       "    </tr>\n",
       "  </thead>\n",
       "  <tbody>\n",
       "    <tr>\n",
       "      <th>Túlio</th>\n",
       "      <td>20</td>\n",
       "      <td>73</td>\n",
       "      <td>171</td>\n",
       "    </tr>\n",
       "    <tr>\n",
       "      <th>Pedro</th>\n",
       "      <td>22</td>\n",
       "      <td>67</td>\n",
       "      <td>165</td>\n",
       "    </tr>\n",
       "    <tr>\n",
       "      <th>Maria</th>\n",
       "      <td>21</td>\n",
       "      <td>62</td>\n",
       "      <td>162</td>\n",
       "    </tr>\n",
       "    <tr>\n",
       "      <th>João</th>\n",
       "      <td>19</td>\n",
       "      <td>80</td>\n",
       "      <td>178</td>\n",
       "    </tr>\n",
       "    <tr>\n",
       "      <th>Ana</th>\n",
       "      <td>20</td>\n",
       "      <td>55</td>\n",
       "      <td>162</td>\n",
       "    </tr>\n",
       "  </tbody>\n",
       "</table>\n",
       "</div>"
      ],
      "text/plain": [
       "       Idade  Peso  Altura\n",
       "Túlio     20    73     171\n",
       "Pedro     22    67     165\n",
       "Maria     21    62     162\n",
       "João      19    80     178\n",
       "Ana       20    55     162"
      ]
     },
     "execution_count": 34,
     "metadata": {},
     "output_type": "execute_result"
    }
   ],
   "source": [
    "df_desordenado.sort_index(ascending=False)"
   ]
  },
  {
   "cell_type": "code",
   "execution_count": 35,
   "metadata": {},
   "outputs": [
    {
     "data": {
      "text/html": [
       "<div>\n",
       "<style scoped>\n",
       "    .dataframe tbody tr th:only-of-type {\n",
       "        vertical-align: middle;\n",
       "    }\n",
       "\n",
       "    .dataframe tbody tr th {\n",
       "        vertical-align: top;\n",
       "    }\n",
       "\n",
       "    .dataframe thead th {\n",
       "        text-align: right;\n",
       "    }\n",
       "</style>\n",
       "<table border=\"1\" class=\"dataframe\">\n",
       "  <thead>\n",
       "    <tr style=\"text-align: right;\">\n",
       "      <th></th>\n",
       "      <th>Idade</th>\n",
       "      <th>Peso</th>\n",
       "      <th>Altura</th>\n",
       "    </tr>\n",
       "  </thead>\n",
       "  <tbody>\n",
       "    <tr>\n",
       "      <th>Pedro</th>\n",
       "      <td>22</td>\n",
       "      <td>67</td>\n",
       "      <td>165</td>\n",
       "    </tr>\n",
       "    <tr>\n",
       "      <th>Maria</th>\n",
       "      <td>21</td>\n",
       "      <td>62</td>\n",
       "      <td>162</td>\n",
       "    </tr>\n",
       "    <tr>\n",
       "      <th>Ana</th>\n",
       "      <td>20</td>\n",
       "      <td>55</td>\n",
       "      <td>162</td>\n",
       "    </tr>\n",
       "    <tr>\n",
       "      <th>Túlio</th>\n",
       "      <td>20</td>\n",
       "      <td>73</td>\n",
       "      <td>171</td>\n",
       "    </tr>\n",
       "    <tr>\n",
       "      <th>João</th>\n",
       "      <td>19</td>\n",
       "      <td>80</td>\n",
       "      <td>178</td>\n",
       "    </tr>\n",
       "  </tbody>\n",
       "</table>\n",
       "</div>"
      ],
      "text/plain": [
       "       Idade  Peso  Altura\n",
       "Pedro     22    67     165\n",
       "Maria     21    62     162\n",
       "Ana       20    55     162\n",
       "Túlio     20    73     171\n",
       "João      19    80     178"
      ]
     },
     "execution_count": 35,
     "metadata": {},
     "output_type": "execute_result"
    }
   ],
   "source": [
    "df_desordenado.sort_values(by=['Idade'], ascending=False)"
   ]
  },
  {
   "cell_type": "markdown",
   "metadata": {
    "slideshow": {
     "slide_type": "slide"
    }
   },
   "source": [
    "## Comparando *Series* e *DataFrames*"
   ]
  },
  {
   "cell_type": "markdown",
   "metadata": {},
   "source": [
    "*Series* e *DataFrames* possuem os métodos de comparações lógicas *eq* (igual), *ne* (diferente), *lt* (menor do que), *gt* (maior do que), *le* (menor ou igual), *ge* (maior ou igual), que permitem a utilização dos operadores binários *==*, *!=*, *<*, *>*, *<=*, *>=*, respectivamente.\n",
    "\n",
    "As comparações são realizadas em cada entrada da *Serie* ou do *DataFrame*."
   ]
  },
  {
   "cell_type": "markdown",
   "metadata": {
    "slideshow": {
     "slide_type": "notes"
    }
   },
   "source": [
    "**Observação**: Para que esses métodos sejam aplicados todos os objetos presentes nas colunas do *DataFrame* devem possuir este métodos comparáveis com o que está sendo pedido. Por exemplo se um *DataFrame* possui algumas colunas numéricas e outras colunas com strings, ao realizar uma comparação do tipo *> 1*, teremos um erro, pois o *pandas* tentará realizar comparações entre objetos do tipo *int* e *str*."
   ]
  },
  {
   "cell_type": "markdown",
   "metadata": {
    "slideshow": {
     "slide_type": "slide"
    }
   },
   "source": [
    "Exemplos:"
   ]
  },
  {
   "cell_type": "code",
   "execution_count": 36,
   "metadata": {},
   "outputs": [
    {
     "data": {
      "text/plain": [
       "a    1\n",
       "b    2\n",
       "c    3\n",
       "dtype: int64"
      ]
     },
     "execution_count": 36,
     "metadata": {},
     "output_type": "execute_result"
    }
   ],
   "source": [
    "serie_exemplo"
   ]
  },
  {
   "cell_type": "code",
   "execution_count": 37,
   "metadata": {
    "slideshow": {
     "slide_type": "-"
    }
   },
   "outputs": [
    {
     "data": {
      "text/plain": [
       "a    False\n",
       "b     True\n",
       "c    False\n",
       "dtype: bool"
      ]
     },
     "execution_count": 37,
     "metadata": {},
     "output_type": "execute_result"
    }
   ],
   "source": [
    "serie_exemplo == 2"
   ]
  },
  {
   "cell_type": "code",
   "execution_count": 38,
   "metadata": {},
   "outputs": [
    {
     "data": {
      "text/plain": [
       "a    False\n",
       "b     True\n",
       "c     True\n",
       "dtype: bool"
      ]
     },
     "execution_count": 38,
     "metadata": {},
     "output_type": "execute_result"
    }
   ],
   "source": [
    "serie_exemplo > 1"
   ]
  },
  {
   "cell_type": "code",
   "execution_count": 39,
   "metadata": {
    "slideshow": {
     "slide_type": "slide"
    }
   },
   "outputs": [
    {
     "data": {
      "text/html": [
       "<div>\n",
       "<style scoped>\n",
       "    .dataframe tbody tr th:only-of-type {\n",
       "        vertical-align: middle;\n",
       "    }\n",
       "\n",
       "    .dataframe tbody tr th {\n",
       "        vertical-align: top;\n",
       "    }\n",
       "\n",
       "    .dataframe thead th {\n",
       "        text-align: right;\n",
       "    }\n",
       "</style>\n",
       "<table border=\"1\" class=\"dataframe\">\n",
       "  <thead>\n",
       "    <tr style=\"text-align: right;\">\n",
       "      <th></th>\n",
       "      <th>coluna_1</th>\n",
       "      <th>coluna_2</th>\n",
       "      <th>coluna_3</th>\n",
       "    </tr>\n",
       "  </thead>\n",
       "  <tbody>\n",
       "    <tr>\n",
       "      <th>2020-01-01</th>\n",
       "      <td>False</td>\n",
       "      <td>True</td>\n",
       "      <td>False</td>\n",
       "    </tr>\n",
       "    <tr>\n",
       "      <th>2020-01-02</th>\n",
       "      <td>False</td>\n",
       "      <td>True</td>\n",
       "      <td>True</td>\n",
       "    </tr>\n",
       "    <tr>\n",
       "      <th>2020-01-03</th>\n",
       "      <td>False</td>\n",
       "      <td>False</td>\n",
       "      <td>True</td>\n",
       "    </tr>\n",
       "    <tr>\n",
       "      <th>2020-01-04</th>\n",
       "      <td>False</td>\n",
       "      <td>True</td>\n",
       "      <td>True</td>\n",
       "    </tr>\n",
       "    <tr>\n",
       "      <th>2020-01-05</th>\n",
       "      <td>True</td>\n",
       "      <td>False</td>\n",
       "      <td>True</td>\n",
       "    </tr>\n",
       "    <tr>\n",
       "      <th>2020-01-06</th>\n",
       "      <td>False</td>\n",
       "      <td>False</td>\n",
       "      <td>True</td>\n",
       "    </tr>\n",
       "    <tr>\n",
       "      <th>2020-01-07</th>\n",
       "      <td>False</td>\n",
       "      <td>False</td>\n",
       "      <td>True</td>\n",
       "    </tr>\n",
       "    <tr>\n",
       "      <th>2020-01-08</th>\n",
       "      <td>False</td>\n",
       "      <td>False</td>\n",
       "      <td>True</td>\n",
       "    </tr>\n",
       "    <tr>\n",
       "      <th>2020-01-09</th>\n",
       "      <td>False</td>\n",
       "      <td>False</td>\n",
       "      <td>False</td>\n",
       "    </tr>\n",
       "    <tr>\n",
       "      <th>2020-01-10</th>\n",
       "      <td>False</td>\n",
       "      <td>False</td>\n",
       "      <td>False</td>\n",
       "    </tr>\n",
       "  </tbody>\n",
       "</table>\n",
       "</div>"
      ],
      "text/plain": [
       "            coluna_1  coluna_2  coluna_3\n",
       "2020-01-01     False      True     False\n",
       "2020-01-02     False      True      True\n",
       "2020-01-03     False     False      True\n",
       "2020-01-04     False      True      True\n",
       "2020-01-05      True     False      True\n",
       "2020-01-06     False     False      True\n",
       "2020-01-07     False     False      True\n",
       "2020-01-08     False     False      True\n",
       "2020-01-09     False     False     False\n",
       "2020-01-10     False     False     False"
      ]
     },
     "execution_count": 39,
     "metadata": {},
     "output_type": "execute_result"
    }
   ],
   "source": [
    "df_exemplo > 1"
   ]
  },
  {
   "cell_type": "markdown",
   "metadata": {
    "slideshow": {
     "slide_type": "slide"
    }
   },
   "source": [
    "**Importante:** Ao comparar *np.nan*, o resultado tipicamente é falso:"
   ]
  },
  {
   "cell_type": "code",
   "execution_count": 40,
   "metadata": {},
   "outputs": [
    {
     "data": {
      "text/plain": [
       "False"
      ]
     },
     "execution_count": 40,
     "metadata": {},
     "output_type": "execute_result"
    }
   ],
   "source": [
    "np.nan == np.nan"
   ]
  },
  {
   "cell_type": "code",
   "execution_count": 41,
   "metadata": {},
   "outputs": [
    {
     "data": {
      "text/plain": [
       "False"
      ]
     },
     "execution_count": 41,
     "metadata": {},
     "output_type": "execute_result"
    }
   ],
   "source": [
    "np.nan > np.nan"
   ]
  },
  {
   "cell_type": "code",
   "execution_count": 42,
   "metadata": {},
   "outputs": [
    {
     "data": {
      "text/plain": [
       "False"
      ]
     },
     "execution_count": 42,
     "metadata": {},
     "output_type": "execute_result"
    }
   ],
   "source": [
    "np.nan >= np.nan"
   ]
  },
  {
   "cell_type": "markdown",
   "metadata": {
    "slideshow": {
     "slide_type": "slide"
    }
   },
   "source": [
    "Só é verdadeiro para indicar que é diferente:"
   ]
  },
  {
   "cell_type": "code",
   "execution_count": 43,
   "metadata": {},
   "outputs": [
    {
     "data": {
      "text/plain": [
       "True"
      ]
     },
     "execution_count": 43,
     "metadata": {},
     "output_type": "execute_result"
    }
   ],
   "source": [
    "np.nan != np.nan"
   ]
  },
  {
   "cell_type": "markdown",
   "metadata": {
    "slideshow": {
     "slide_type": "slide"
    }
   },
   "source": [
    "* Nesse sentido podemos ter tabelas iguais sem que a comparação usual funcione:"
   ]
  },
  {
   "cell_type": "code",
   "execution_count": 44,
   "metadata": {
    "slideshow": {
     "slide_type": "-"
    }
   },
   "outputs": [],
   "source": [
    "df_exemplo_2 = df_exemplo.copy() # Este método, como o nome sugere, fornece uma cópia do DataFrame"
   ]
  },
  {
   "cell_type": "code",
   "execution_count": 45,
   "metadata": {},
   "outputs": [
    {
     "data": {
      "text/plain": [
       "False"
      ]
     },
     "execution_count": 45,
     "metadata": {},
     "output_type": "execute_result"
    }
   ],
   "source": [
    "(df_exemplo == df_exemplo_2).all().all()"
   ]
  },
  {
   "cell_type": "markdown",
   "metadata": {
    "slideshow": {
     "slide_type": "slide"
    }
   },
   "source": [
    "* O motivo da saída *False* ainda que *df_exemplo_2* seja uma cópia exata do *df_exemplo* é a presença do *np.nan*.\n",
    "\n",
    "* Para comparar neste caso devemos utilizar o método **equals**:"
   ]
  },
  {
   "cell_type": "code",
   "execution_count": 46,
   "metadata": {},
   "outputs": [
    {
     "data": {
      "text/plain": [
       "True"
      ]
     },
     "execution_count": 46,
     "metadata": {},
     "output_type": "execute_result"
    }
   ],
   "source": [
    "df_exemplo.equals(df_exemplo_2)"
   ]
  },
  {
   "cell_type": "markdown",
   "metadata": {
    "slideshow": {
     "slide_type": "slide"
    }
   },
   "source": [
    "## Os métodos *any*, *all* e a propriedade *empty*\n",
    "\n",
    "* O método **any** é aplicado a entradas booleanas (verdadeiras ou falsas) e retorna verdadeiro se existir alguma entrada verdadeira e falsa se todas forem falsas;\n",
    "* O método **all** é aplicado a entradas booleanas e retorna verdadeiro se todas as entradas forem verdadeiras e falso se houver pelo menos uma entrada falsa.\n",
    "* A propriedade **empty** retorna verdadeiro se a *Serie* ou o *DataFrame* estiver vazio e falso caso contrário."
   ]
  },
  {
   "cell_type": "markdown",
   "metadata": {
    "slideshow": {
     "slide_type": "slide"
    }
   },
   "source": [
    "Exemplos:"
   ]
  },
  {
   "cell_type": "code",
   "execution_count": 47,
   "metadata": {},
   "outputs": [
    {
     "data": {
      "text/plain": [
       "a    1\n",
       "b    2\n",
       "c    3\n",
       "dtype: int64"
      ]
     },
     "execution_count": 47,
     "metadata": {},
     "output_type": "execute_result"
    }
   ],
   "source": [
    "serie_exemplo"
   ]
  },
  {
   "cell_type": "code",
   "execution_count": 48,
   "metadata": {},
   "outputs": [
    {
     "data": {
      "text/plain": [
       "True"
      ]
     },
     "execution_count": 48,
     "metadata": {},
     "output_type": "execute_result"
    }
   ],
   "source": [
    "(serie_exemplo > 1).any()"
   ]
  },
  {
   "cell_type": "code",
   "execution_count": 49,
   "metadata": {},
   "outputs": [
    {
     "data": {
      "text/plain": [
       "False"
      ]
     },
     "execution_count": 49,
     "metadata": {},
     "output_type": "execute_result"
    }
   ],
   "source": [
    "(serie_exemplo > 1).all()"
   ]
  },
  {
   "cell_type": "code",
   "execution_count": 50,
   "metadata": {},
   "outputs": [
    {
     "data": {
      "text/plain": [
       "False"
      ]
     },
     "execution_count": 50,
     "metadata": {},
     "output_type": "execute_result"
    }
   ],
   "source": [
    "serie_exemplo.empty"
   ]
  },
  {
   "cell_type": "markdown",
   "metadata": {
    "slideshow": {
     "slide_type": "slide"
    }
   },
   "source": [
    "Mais exemplos:"
   ]
  },
  {
   "cell_type": "code",
   "execution_count": 51,
   "metadata": {},
   "outputs": [
    {
     "data": {
      "text/plain": [
       "coluna_1    True\n",
       "coluna_2    True\n",
       "coluna_3    True\n",
       "dtype: bool"
      ]
     },
     "execution_count": 51,
     "metadata": {},
     "output_type": "execute_result"
    }
   ],
   "source": [
    "(df_exemplo == df_exemplo_2).any()"
   ]
  },
  {
   "cell_type": "code",
   "execution_count": 52,
   "metadata": {},
   "outputs": [
    {
     "data": {
      "text/plain": [
       "False"
      ]
     },
     "execution_count": 52,
     "metadata": {},
     "output_type": "execute_result"
    }
   ],
   "source": [
    "df_exemplo.empty"
   ]
  },
  {
   "cell_type": "code",
   "execution_count": 53,
   "metadata": {},
   "outputs": [],
   "source": [
    "df_vazio = pd.DataFrame()"
   ]
  },
  {
   "cell_type": "code",
   "execution_count": 54,
   "metadata": {
    "slideshow": {
     "slide_type": "-"
    }
   },
   "outputs": [
    {
     "data": {
      "text/plain": [
       "True"
      ]
     },
     "execution_count": 54,
     "metadata": {},
     "output_type": "execute_result"
    }
   ],
   "source": [
    "df_vazio.empty"
   ]
  },
  {
   "cell_type": "markdown",
   "metadata": {
    "slideshow": {
     "slide_type": "slide"
    }
   },
   "source": [
    "## Como selecionar colunas de um *DataFrame*\n",
    "\n",
    "* Para selecionar colunas de um *DataFrame*, basta aplicar o *colchete* a uma lista contendo os nomes das colunas de interesse."
   ]
  },
  {
   "cell_type": "markdown",
   "metadata": {
    "slideshow": {
     "slide_type": "slide"
    }
   },
   "source": [
    "* No exemplo abaixo, temos um *DataFrame* contendo as colunas *Idade*, *Peso* e *Altura*. Iremos selecionar *Peso* e *Altura*:"
   ]
  },
  {
   "cell_type": "code",
   "execution_count": 55,
   "metadata": {
    "slideshow": {
     "slide_type": "-"
    }
   },
   "outputs": [
    {
     "data": {
      "text/html": [
       "<div>\n",
       "<style scoped>\n",
       "    .dataframe tbody tr th:only-of-type {\n",
       "        vertical-align: middle;\n",
       "    }\n",
       "\n",
       "    .dataframe tbody tr th {\n",
       "        vertical-align: top;\n",
       "    }\n",
       "\n",
       "    .dataframe thead th {\n",
       "        text-align: right;\n",
       "    }\n",
       "</style>\n",
       "<table border=\"1\" class=\"dataframe\">\n",
       "  <thead>\n",
       "    <tr style=\"text-align: right;\">\n",
       "      <th></th>\n",
       "      <th>Peso</th>\n",
       "      <th>Altura</th>\n",
       "    </tr>\n",
       "  </thead>\n",
       "  <tbody>\n",
       "    <tr>\n",
       "      <th>Ana</th>\n",
       "      <td>55</td>\n",
       "      <td>162</td>\n",
       "    </tr>\n",
       "    <tr>\n",
       "      <th>João</th>\n",
       "      <td>80</td>\n",
       "      <td>178</td>\n",
       "    </tr>\n",
       "    <tr>\n",
       "      <th>Maria</th>\n",
       "      <td>62</td>\n",
       "      <td>162</td>\n",
       "    </tr>\n",
       "    <tr>\n",
       "      <th>Pedro</th>\n",
       "      <td>67</td>\n",
       "      <td>165</td>\n",
       "    </tr>\n",
       "    <tr>\n",
       "      <th>Túlio</th>\n",
       "      <td>73</td>\n",
       "      <td>171</td>\n",
       "    </tr>\n",
       "  </tbody>\n",
       "</table>\n",
       "</div>"
      ],
      "text/plain": [
       "       Peso  Altura\n",
       "Ana      55     162\n",
       "João     80     178\n",
       "Maria    62     162\n",
       "Pedro    67     165\n",
       "Túlio    73     171"
      ]
     },
     "execution_count": 55,
     "metadata": {},
     "output_type": "execute_result"
    }
   ],
   "source": [
    "df_dict_series[['Peso','Altura']]"
   ]
  },
  {
   "cell_type": "markdown",
   "metadata": {
    "slideshow": {
     "slide_type": "slide"
    }
   },
   "source": [
    "* Se quisermos selecionar apenas uma coluna, não há a necessidade de inserir uma lista. Basta utilizar o nome da coluna:"
   ]
  },
  {
   "cell_type": "code",
   "execution_count": 56,
   "metadata": {},
   "outputs": [
    {
     "data": {
      "text/plain": [
       "Ana      55\n",
       "João     80\n",
       "Maria    62\n",
       "Pedro    67\n",
       "Túlio    73\n",
       "Name: Peso, dtype: int64"
      ]
     },
     "execution_count": 56,
     "metadata": {},
     "output_type": "execute_result"
    }
   ],
   "source": [
    "df_dict_series['Peso']"
   ]
  },
  {
   "cell_type": "markdown",
   "metadata": {
    "slideshow": {
     "slide_type": "slide"
    }
   },
   "source": [
    "* Se quisermos remover algumas colunas, podemos utilizar o método **drop**."
   ]
  },
  {
   "cell_type": "code",
   "execution_count": 57,
   "metadata": {},
   "outputs": [
    {
     "data": {
      "text/html": [
       "<div>\n",
       "<style scoped>\n",
       "    .dataframe tbody tr th:only-of-type {\n",
       "        vertical-align: middle;\n",
       "    }\n",
       "\n",
       "    .dataframe tbody tr th {\n",
       "        vertical-align: top;\n",
       "    }\n",
       "\n",
       "    .dataframe thead th {\n",
       "        text-align: right;\n",
       "    }\n",
       "</style>\n",
       "<table border=\"1\" class=\"dataframe\">\n",
       "  <thead>\n",
       "    <tr style=\"text-align: right;\">\n",
       "      <th></th>\n",
       "      <th>Idade</th>\n",
       "    </tr>\n",
       "  </thead>\n",
       "  <tbody>\n",
       "    <tr>\n",
       "      <th>Ana</th>\n",
       "      <td>20</td>\n",
       "    </tr>\n",
       "    <tr>\n",
       "      <th>João</th>\n",
       "      <td>19</td>\n",
       "    </tr>\n",
       "    <tr>\n",
       "      <th>Maria</th>\n",
       "      <td>21</td>\n",
       "    </tr>\n",
       "    <tr>\n",
       "      <th>Pedro</th>\n",
       "      <td>22</td>\n",
       "    </tr>\n",
       "    <tr>\n",
       "      <th>Túlio</th>\n",
       "      <td>20</td>\n",
       "    </tr>\n",
       "  </tbody>\n",
       "</table>\n",
       "</div>"
      ],
      "text/plain": [
       "       Idade\n",
       "Ana       20\n",
       "João      19\n",
       "Maria     21\n",
       "Pedro     22\n",
       "Túlio     20"
      ]
     },
     "execution_count": 57,
     "metadata": {},
     "output_type": "execute_result"
    }
   ],
   "source": [
    "df_dict_series.drop(['Peso','Altura'], axis=1)"
   ]
  },
  {
   "cell_type": "markdown",
   "metadata": {
    "slideshow": {
     "slide_type": "slide"
    }
   },
   "source": [
    "## Criando novas colunas a partir das colunas já existentes\n",
    "\n",
    "* Um método eficiente para criarmos novas colunas a partir de colunas já existentes é o **eval**.\n",
    "* Neste método podemos utilizar como argumento uma *string* contendo uma expressão matemática envolvendo nomes de colunas do *DataFrame*."
   ]
  },
  {
   "cell_type": "markdown",
   "metadata": {
    "slideshow": {
     "slide_type": "slide"
    }
   },
   "source": [
    "Como exemplo, vamos ver como calcular o IMC no *DataFrame* anterior:"
   ]
  },
  {
   "cell_type": "code",
   "execution_count": 58,
   "metadata": {},
   "outputs": [
    {
     "data": {
      "text/plain": [
       "Ana      20.957171\n",
       "João     25.249337\n",
       "Maria    23.624447\n",
       "Pedro    24.609734\n",
       "Túlio    24.964946\n",
       "dtype: float64"
      ]
     },
     "execution_count": 58,
     "metadata": {},
     "output_type": "execute_result"
    }
   ],
   "source": [
    "df_dict_series.eval('Peso/(Altura/100)**2')"
   ]
  },
  {
   "cell_type": "markdown",
   "metadata": {
    "slideshow": {
     "slide_type": "slide"
    }
   },
   "source": [
    "* Se quisermos obter um *DataFrame* contendo o IMC como uma nova coluna, podemos utilizar o método **assign** (sem modificar o *DataFrame* original):"
   ]
  },
  {
   "cell_type": "code",
   "execution_count": 59,
   "metadata": {
    "slideshow": {
     "slide_type": "-"
    }
   },
   "outputs": [
    {
     "data": {
      "text/html": [
       "<div>\n",
       "<style scoped>\n",
       "    .dataframe tbody tr th:only-of-type {\n",
       "        vertical-align: middle;\n",
       "    }\n",
       "\n",
       "    .dataframe tbody tr th {\n",
       "        vertical-align: top;\n",
       "    }\n",
       "\n",
       "    .dataframe thead th {\n",
       "        text-align: right;\n",
       "    }\n",
       "</style>\n",
       "<table border=\"1\" class=\"dataframe\">\n",
       "  <thead>\n",
       "    <tr style=\"text-align: right;\">\n",
       "      <th></th>\n",
       "      <th>Idade</th>\n",
       "      <th>Peso</th>\n",
       "      <th>Altura</th>\n",
       "      <th>IMC</th>\n",
       "    </tr>\n",
       "  </thead>\n",
       "  <tbody>\n",
       "    <tr>\n",
       "      <th>Ana</th>\n",
       "      <td>20</td>\n",
       "      <td>55</td>\n",
       "      <td>162</td>\n",
       "      <td>20.96</td>\n",
       "    </tr>\n",
       "    <tr>\n",
       "      <th>João</th>\n",
       "      <td>19</td>\n",
       "      <td>80</td>\n",
       "      <td>178</td>\n",
       "      <td>25.25</td>\n",
       "    </tr>\n",
       "    <tr>\n",
       "      <th>Maria</th>\n",
       "      <td>21</td>\n",
       "      <td>62</td>\n",
       "      <td>162</td>\n",
       "      <td>23.62</td>\n",
       "    </tr>\n",
       "    <tr>\n",
       "      <th>Pedro</th>\n",
       "      <td>22</td>\n",
       "      <td>67</td>\n",
       "      <td>165</td>\n",
       "      <td>24.61</td>\n",
       "    </tr>\n",
       "    <tr>\n",
       "      <th>Túlio</th>\n",
       "      <td>20</td>\n",
       "      <td>73</td>\n",
       "      <td>171</td>\n",
       "      <td>24.96</td>\n",
       "    </tr>\n",
       "  </tbody>\n",
       "</table>\n",
       "</div>"
      ],
      "text/plain": [
       "       Idade  Peso  Altura    IMC\n",
       "Ana       20    55     162  20.96\n",
       "João      19    80     178  25.25\n",
       "Maria     21    62     162  23.62\n",
       "Pedro     22    67     165  24.61\n",
       "Túlio     20    73     171  24.96"
      ]
     },
     "execution_count": 59,
     "metadata": {},
     "output_type": "execute_result"
    }
   ],
   "source": [
    "df_dict_series.assign(IMC=round(df_dict_series.eval('Peso/(Altura/100)**2'),2))"
   ]
  },
  {
   "cell_type": "markdown",
   "metadata": {
    "slideshow": {
     "slide_type": "slide"
    }
   },
   "source": [
    "* Se quisermos modificar o *DataFrame* para incluir a coluna IMC fazemos:"
   ]
  },
  {
   "cell_type": "code",
   "execution_count": 60,
   "metadata": {},
   "outputs": [],
   "source": [
    "df_dict_series['IMC']=round(df_dict_series.eval('Peso/(Altura/100)**2'),2)"
   ]
  },
  {
   "cell_type": "code",
   "execution_count": 61,
   "metadata": {},
   "outputs": [
    {
     "data": {
      "text/html": [
       "<div>\n",
       "<style scoped>\n",
       "    .dataframe tbody tr th:only-of-type {\n",
       "        vertical-align: middle;\n",
       "    }\n",
       "\n",
       "    .dataframe tbody tr th {\n",
       "        vertical-align: top;\n",
       "    }\n",
       "\n",
       "    .dataframe thead th {\n",
       "        text-align: right;\n",
       "    }\n",
       "</style>\n",
       "<table border=\"1\" class=\"dataframe\">\n",
       "  <thead>\n",
       "    <tr style=\"text-align: right;\">\n",
       "      <th></th>\n",
       "      <th>Idade</th>\n",
       "      <th>Peso</th>\n",
       "      <th>Altura</th>\n",
       "      <th>IMC</th>\n",
       "    </tr>\n",
       "  </thead>\n",
       "  <tbody>\n",
       "    <tr>\n",
       "      <th>Ana</th>\n",
       "      <td>20</td>\n",
       "      <td>55</td>\n",
       "      <td>162</td>\n",
       "      <td>20.96</td>\n",
       "    </tr>\n",
       "    <tr>\n",
       "      <th>João</th>\n",
       "      <td>19</td>\n",
       "      <td>80</td>\n",
       "      <td>178</td>\n",
       "      <td>25.25</td>\n",
       "    </tr>\n",
       "    <tr>\n",
       "      <th>Maria</th>\n",
       "      <td>21</td>\n",
       "      <td>62</td>\n",
       "      <td>162</td>\n",
       "      <td>23.62</td>\n",
       "    </tr>\n",
       "    <tr>\n",
       "      <th>Pedro</th>\n",
       "      <td>22</td>\n",
       "      <td>67</td>\n",
       "      <td>165</td>\n",
       "      <td>24.61</td>\n",
       "    </tr>\n",
       "    <tr>\n",
       "      <th>Túlio</th>\n",
       "      <td>20</td>\n",
       "      <td>73</td>\n",
       "      <td>171</td>\n",
       "      <td>24.96</td>\n",
       "    </tr>\n",
       "  </tbody>\n",
       "</table>\n",
       "</div>"
      ],
      "text/plain": [
       "       Idade  Peso  Altura    IMC\n",
       "Ana       20    55     162  20.96\n",
       "João      19    80     178  25.25\n",
       "Maria     21    62     162  23.62\n",
       "Pedro     22    67     165  24.61\n",
       "Túlio     20    73     171  24.96"
      ]
     },
     "execution_count": 61,
     "metadata": {},
     "output_type": "execute_result"
    }
   ],
   "source": [
    "df_dict_series"
   ]
  },
  {
   "cell_type": "markdown",
   "metadata": {
    "slideshow": {
     "slide_type": "slide"
    }
   },
   "source": [
    "## Selecionando linhas de um *DataFrame*:\n",
    "\n",
    "* Podemos selecionar linhas de um *DataFrame* de diversas formas diferentes. Veremos agora algumas dessas formas.\n",
    "\n",
    "* Diferentemente da forma de selecionar colunas, para selecionar diretamente linhas de um *DataFrame* devemos utilizar o método **loc** (fornecendo o *index*, isto é, o rótulo da linha) ou o **iloc** (fornecendo a posição da linha):"
   ]
  },
  {
   "cell_type": "code",
   "execution_count": 94,
   "metadata": {
    "slideshow": {
     "slide_type": "slide"
    }
   },
   "outputs": [],
   "source": [
    "dados_covid_PB = pd.read_csv('https://superset.plataformatarget.com.br/superset/explore_json/?form_data=%7B%22slice_id%22%3A1550%7D&csv=true', \n",
    "                             sep=',', index_col=0)\n",
    "\n",
    "ontem = (datetime.date.today() - datetime.timedelta(days=1)).strftime('%Y-%m-%d') # data de ontem"
   ]
  },
  {
   "cell_type": "code",
   "execution_count": 95,
   "metadata": {},
   "outputs": [
    {
     "data": {
      "text/html": [
       "<div>\n",
       "<style scoped>\n",
       "    .dataframe tbody tr th:only-of-type {\n",
       "        vertical-align: middle;\n",
       "    }\n",
       "\n",
       "    .dataframe tbody tr th {\n",
       "        vertical-align: top;\n",
       "    }\n",
       "\n",
       "    .dataframe thead th {\n",
       "        text-align: right;\n",
       "    }\n",
       "</style>\n",
       "<table border=\"1\" class=\"dataframe\">\n",
       "  <thead>\n",
       "    <tr style=\"text-align: right;\">\n",
       "      <th></th>\n",
       "      <th>casosAcumulados</th>\n",
       "      <th>casosNovos</th>\n",
       "      <th>descartados</th>\n",
       "      <th>recuperados</th>\n",
       "      <th>obitosAcumulados</th>\n",
       "      <th>obitosNovos</th>\n",
       "      <th>Letalidade</th>\n",
       "    </tr>\n",
       "    <tr>\n",
       "      <th>data</th>\n",
       "      <th></th>\n",
       "      <th></th>\n",
       "      <th></th>\n",
       "      <th></th>\n",
       "      <th></th>\n",
       "      <th></th>\n",
       "      <th></th>\n",
       "    </tr>\n",
       "  </thead>\n",
       "  <tbody>\n",
       "    <tr>\n",
       "      <th>2021-02-02</th>\n",
       "      <td>193465</td>\n",
       "      <td>867</td>\n",
       "      <td>234366</td>\n",
       "      <td>149242</td>\n",
       "      <td>4082</td>\n",
       "      <td>14</td>\n",
       "      <td>0.0211</td>\n",
       "    </tr>\n",
       "  </tbody>\n",
       "</table>\n",
       "</div>"
      ],
      "text/plain": [
       "            casosAcumulados  casosNovos  descartados  recuperados  \\\n",
       "data                                                                \n",
       "2021-02-02           193465         867       234366       149242   \n",
       "\n",
       "            obitosAcumulados  obitosNovos  Letalidade  \n",
       "data                                                   \n",
       "2021-02-02              4082           14      0.0211  "
      ]
     },
     "execution_count": 95,
     "metadata": {},
     "output_type": "execute_result"
    }
   ],
   "source": [
    "dados_covid_PB.head(1)"
   ]
  },
  {
   "cell_type": "markdown",
   "metadata": {
    "slideshow": {
     "slide_type": "slide"
    }
   },
   "source": [
    "* Podemos ver as informações de um único dia como argumento (excluindo a coluna letalidade e convertendo para inteiro):"
   ]
  },
  {
   "cell_type": "code",
   "execution_count": 96,
   "metadata": {
    "slideshow": {
     "slide_type": "-"
    }
   },
   "outputs": [
    {
     "data": {
      "text/plain": [
       "casosAcumulados     193465\n",
       "casosNovos             867\n",
       "descartados         234366\n",
       "recuperados         149242\n",
       "obitosAcumulados      4082\n",
       "obitosNovos             14\n",
       "Name: 2021-02-02, dtype: int64"
      ]
     },
     "execution_count": 96,
     "metadata": {},
     "output_type": "execute_result"
    }
   ],
   "source": [
    "dados_covid_PB.loc[ontem].drop('Letalidade').astype('int')\n",
    "#Aqui para vermos as informações do dia 10 de Julho de 2020\n",
    "#Excluímos a coluna letalidade"
   ]
  },
  {
   "cell_type": "markdown",
   "metadata": {
    "slideshow": {
     "slide_type": "slide"
    }
   },
   "source": [
    "* Podemos colocar um intervalo de datas como argumento (excluindo a coluna letalidade):"
   ]
  },
  {
   "cell_type": "code",
   "execution_count": 97,
   "metadata": {},
   "outputs": [
    {
     "data": {
      "text/html": [
       "<div>\n",
       "<style scoped>\n",
       "    .dataframe tbody tr th:only-of-type {\n",
       "        vertical-align: middle;\n",
       "    }\n",
       "\n",
       "    .dataframe tbody tr th {\n",
       "        vertical-align: top;\n",
       "    }\n",
       "\n",
       "    .dataframe thead th {\n",
       "        text-align: right;\n",
       "    }\n",
       "</style>\n",
       "<table border=\"1\" class=\"dataframe\">\n",
       "  <thead>\n",
       "    <tr style=\"text-align: right;\">\n",
       "      <th></th>\n",
       "      <th>casosAcumulados</th>\n",
       "      <th>casosNovos</th>\n",
       "      <th>descartados</th>\n",
       "      <th>recuperados</th>\n",
       "      <th>obitosAcumulados</th>\n",
       "      <th>obitosNovos</th>\n",
       "    </tr>\n",
       "  </thead>\n",
       "  <tbody>\n",
       "    <tr>\n",
       "      <th>2020-06-01</th>\n",
       "      <td>13695</td>\n",
       "      <td>533</td>\n",
       "      <td>12068</td>\n",
       "      <td>2637</td>\n",
       "      <td>370</td>\n",
       "      <td>10</td>\n",
       "    </tr>\n",
       "    <tr>\n",
       "      <th>2020-06-02</th>\n",
       "      <td>14859</td>\n",
       "      <td>1164</td>\n",
       "      <td>13270</td>\n",
       "      <td>2920</td>\n",
       "      <td>379</td>\n",
       "      <td>9</td>\n",
       "    </tr>\n",
       "    <tr>\n",
       "      <th>2020-06-03</th>\n",
       "      <td>16018</td>\n",
       "      <td>1159</td>\n",
       "      <td>16043</td>\n",
       "      <td>3175</td>\n",
       "      <td>414</td>\n",
       "      <td>35</td>\n",
       "    </tr>\n",
       "    <tr>\n",
       "      <th>2020-06-04</th>\n",
       "      <td>17579</td>\n",
       "      <td>1561</td>\n",
       "      <td>17516</td>\n",
       "      <td>3633</td>\n",
       "      <td>438</td>\n",
       "      <td>24</td>\n",
       "    </tr>\n",
       "    <tr>\n",
       "      <th>2020-06-05</th>\n",
       "      <td>18579</td>\n",
       "      <td>1000</td>\n",
       "      <td>18730</td>\n",
       "      <td>3945</td>\n",
       "      <td>451</td>\n",
       "      <td>13</td>\n",
       "    </tr>\n",
       "  </tbody>\n",
       "</table>\n",
       "</div>"
      ],
      "text/plain": [
       "            casosAcumulados  casosNovos  descartados  recuperados  \\\n",
       "2020-06-01            13695         533        12068         2637   \n",
       "2020-06-02            14859        1164        13270         2920   \n",
       "2020-06-03            16018        1159        16043         3175   \n",
       "2020-06-04            17579        1561        17516         3633   \n",
       "2020-06-05            18579        1000        18730         3945   \n",
       "\n",
       "            obitosAcumulados  obitosNovos  \n",
       "2020-06-01               370           10  \n",
       "2020-06-02               379            9  \n",
       "2020-06-03               414           35  \n",
       "2020-06-04               438           24  \n",
       "2020-06-05               451           13  "
      ]
     },
     "execution_count": 97,
     "metadata": {},
     "output_type": "execute_result"
    }
   ],
   "source": [
    "dados_covid_PB.index = pd.to_datetime(dados_covid_PB.index) # Convertendo o index de string para data\n",
    "dados_covid_PB.loc[pd.date_range('2020-06-01',periods=5,freq=\"D\")].drop('Letalidade',axis=1) \n",
    "                #função pd.date_range é muito útil para criar índices a partir de datas."
   ]
  },
  {
   "cell_type": "markdown",
   "metadata": {
    "slideshow": {
     "slide_type": "slide"
    }
   },
   "source": [
    "* Podemos colocar uma lista como argumento:"
   ]
  },
  {
   "cell_type": "code",
   "execution_count": 98,
   "metadata": {},
   "outputs": [
    {
     "data": {
      "text/html": [
       "<div>\n",
       "<style scoped>\n",
       "    .dataframe tbody tr th:only-of-type {\n",
       "        vertical-align: middle;\n",
       "    }\n",
       "\n",
       "    .dataframe tbody tr th {\n",
       "        vertical-align: top;\n",
       "    }\n",
       "\n",
       "    .dataframe thead th {\n",
       "        text-align: right;\n",
       "    }\n",
       "</style>\n",
       "<table border=\"1\" class=\"dataframe\">\n",
       "  <thead>\n",
       "    <tr style=\"text-align: right;\">\n",
       "      <th></th>\n",
       "      <th>casosAcumulados</th>\n",
       "      <th>casosNovos</th>\n",
       "      <th>descartados</th>\n",
       "      <th>recuperados</th>\n",
       "      <th>obitosAcumulados</th>\n",
       "      <th>obitosNovos</th>\n",
       "      <th>Letalidade</th>\n",
       "    </tr>\n",
       "  </thead>\n",
       "  <tbody>\n",
       "    <tr>\n",
       "      <th>2020-06-01</th>\n",
       "      <td>13695</td>\n",
       "      <td>533</td>\n",
       "      <td>12068</td>\n",
       "      <td>2637</td>\n",
       "      <td>370</td>\n",
       "      <td>10</td>\n",
       "      <td>0.0270</td>\n",
       "    </tr>\n",
       "    <tr>\n",
       "      <th>2020-07-01</th>\n",
       "      <td>48175</td>\n",
       "      <td>1218</td>\n",
       "      <td>45395</td>\n",
       "      <td>15359</td>\n",
       "      <td>1002</td>\n",
       "      <td>25</td>\n",
       "      <td>0.0208</td>\n",
       "    </tr>\n",
       "  </tbody>\n",
       "</table>\n",
       "</div>"
      ],
      "text/plain": [
       "            casosAcumulados  casosNovos  descartados  recuperados  \\\n",
       "2020-06-01            13695         533        12068         2637   \n",
       "2020-07-01            48175        1218        45395        15359   \n",
       "\n",
       "            obitosAcumulados  obitosNovos  Letalidade  \n",
       "2020-06-01               370           10      0.0270  \n",
       "2020-07-01              1002           25      0.0208  "
      ]
     },
     "execution_count": 98,
     "metadata": {},
     "output_type": "execute_result"
    }
   ],
   "source": [
    "dados_covid_PB.loc[pd.to_datetime(['2020-06-01','2020-07-01'])]"
   ]
  },
  {
   "cell_type": "markdown",
   "metadata": {
    "slideshow": {
     "slide_type": "slide"
    }
   },
   "source": [
    "* Vamos agora olhar os dados da posição 100 (novamente excluindo a coluna letalidade e convertendo para inteiro):"
   ]
  },
  {
   "cell_type": "code",
   "execution_count": 99,
   "metadata": {},
   "outputs": [
    {
     "data": {
      "text/plain": [
       "casosAcumulados     130781\n",
       "casosNovos             123\n",
       "descartados         181054\n",
       "recuperados         107920\n",
       "obitosAcumulados      3054\n",
       "obitosNovos              7\n",
       "Name: 2020-10-25 00:00:00, dtype: int64"
      ]
     },
     "execution_count": 99,
     "metadata": {},
     "output_type": "execute_result"
    }
   ],
   "source": [
    "dados_covid_PB.iloc[100].drop('Letalidade').astype('int') \n",
    "#Excluímos a linha letalidade (da Serie) e convertemos para inteiro para melhor apresentação"
   ]
  },
  {
   "cell_type": "markdown",
   "metadata": {
    "slideshow": {
     "slide_type": "slide"
    }
   },
   "source": [
    "* Podemos colocar um intervalo como argumento:"
   ]
  },
  {
   "cell_type": "code",
   "execution_count": 100,
   "metadata": {},
   "outputs": [
    {
     "data": {
      "text/html": [
       "<div>\n",
       "<style scoped>\n",
       "    .dataframe tbody tr th:only-of-type {\n",
       "        vertical-align: middle;\n",
       "    }\n",
       "\n",
       "    .dataframe tbody tr th {\n",
       "        vertical-align: top;\n",
       "    }\n",
       "\n",
       "    .dataframe thead th {\n",
       "        text-align: right;\n",
       "    }\n",
       "</style>\n",
       "<table border=\"1\" class=\"dataframe\">\n",
       "  <thead>\n",
       "    <tr style=\"text-align: right;\">\n",
       "      <th></th>\n",
       "      <th>casosAcumulados</th>\n",
       "      <th>casosNovos</th>\n",
       "      <th>descartados</th>\n",
       "      <th>recuperados</th>\n",
       "      <th>obitosAcumulados</th>\n",
       "      <th>obitosNovos</th>\n",
       "    </tr>\n",
       "    <tr>\n",
       "      <th>data</th>\n",
       "      <th></th>\n",
       "      <th></th>\n",
       "      <th></th>\n",
       "      <th></th>\n",
       "      <th></th>\n",
       "      <th></th>\n",
       "    </tr>\n",
       "  </thead>\n",
       "  <tbody>\n",
       "    <tr>\n",
       "      <th>2020-10-28</th>\n",
       "      <td>131979</td>\n",
       "      <td>544</td>\n",
       "      <td>183224</td>\n",
       "      <td>107933</td>\n",
       "      <td>3076</td>\n",
       "      <td>6</td>\n",
       "    </tr>\n",
       "    <tr>\n",
       "      <th>2020-10-27</th>\n",
       "      <td>131435</td>\n",
       "      <td>519</td>\n",
       "      <td>182415</td>\n",
       "      <td>107930</td>\n",
       "      <td>3070</td>\n",
       "      <td>8</td>\n",
       "    </tr>\n",
       "    <tr>\n",
       "      <th>2020-10-26</th>\n",
       "      <td>130916</td>\n",
       "      <td>135</td>\n",
       "      <td>181143</td>\n",
       "      <td>107925</td>\n",
       "      <td>3062</td>\n",
       "      <td>8</td>\n",
       "    </tr>\n",
       "  </tbody>\n",
       "</table>\n",
       "</div>"
      ],
      "text/plain": [
       "            casosAcumulados  casosNovos  descartados  recuperados  \\\n",
       "data                                                                \n",
       "2020-10-28           131979         544       183224       107933   \n",
       "2020-10-27           131435         519       182415       107930   \n",
       "2020-10-26           130916         135       181143       107925   \n",
       "\n",
       "            obitosAcumulados  obitosNovos  \n",
       "data                                       \n",
       "2020-10-28              3076            6  \n",
       "2020-10-27              3070            8  \n",
       "2020-10-26              3062            8  "
      ]
     },
     "execution_count": 100,
     "metadata": {},
     "output_type": "execute_result"
    }
   ],
   "source": [
    "dados_covid_PB.iloc[97:100].drop('Letalidade', axis=1).astype('int') "
   ]
  },
  {
   "cell_type": "markdown",
   "metadata": {
    "slideshow": {
     "slide_type": "slide"
    }
   },
   "source": [
    "## Selecionando colunas pelos métodos *loc* e *iloc*\n",
    "\n",
    "* Podemos selecionar colunas utilizando os métodos **loc** e **iloc**:"
   ]
  },
  {
   "cell_type": "code",
   "execution_count": 101,
   "metadata": {
    "slideshow": {
     "slide_type": "slide"
    }
   },
   "outputs": [
    {
     "data": {
      "text/html": [
       "<div>\n",
       "<style scoped>\n",
       "    .dataframe tbody tr th:only-of-type {\n",
       "        vertical-align: middle;\n",
       "    }\n",
       "\n",
       "    .dataframe tbody tr th {\n",
       "        vertical-align: top;\n",
       "    }\n",
       "\n",
       "    .dataframe thead th {\n",
       "        text-align: right;\n",
       "    }\n",
       "</style>\n",
       "<table border=\"1\" class=\"dataframe\">\n",
       "  <thead>\n",
       "    <tr style=\"text-align: right;\">\n",
       "      <th></th>\n",
       "      <th>casosNovos</th>\n",
       "      <th>obitosNovos</th>\n",
       "    </tr>\n",
       "    <tr>\n",
       "      <th>data</th>\n",
       "      <th></th>\n",
       "      <th></th>\n",
       "    </tr>\n",
       "  </thead>\n",
       "  <tbody>\n",
       "    <tr>\n",
       "      <th>2021-02-02</th>\n",
       "      <td>867</td>\n",
       "      <td>14</td>\n",
       "    </tr>\n",
       "    <tr>\n",
       "      <th>2021-02-01</th>\n",
       "      <td>1014</td>\n",
       "      <td>12</td>\n",
       "    </tr>\n",
       "    <tr>\n",
       "      <th>2021-01-31</th>\n",
       "      <td>1104</td>\n",
       "      <td>8</td>\n",
       "    </tr>\n",
       "    <tr>\n",
       "      <th>2021-01-30</th>\n",
       "      <td>1065</td>\n",
       "      <td>12</td>\n",
       "    </tr>\n",
       "    <tr>\n",
       "      <th>2021-01-29</th>\n",
       "      <td>1125</td>\n",
       "      <td>11</td>\n",
       "    </tr>\n",
       "    <tr>\n",
       "      <th>...</th>\n",
       "      <td>...</td>\n",
       "      <td>...</td>\n",
       "    </tr>\n",
       "    <tr>\n",
       "      <th>2020-03-20</th>\n",
       "      <td>0</td>\n",
       "      <td>0</td>\n",
       "    </tr>\n",
       "    <tr>\n",
       "      <th>2020-03-19</th>\n",
       "      <td>0</td>\n",
       "      <td>0</td>\n",
       "    </tr>\n",
       "    <tr>\n",
       "      <th>2020-03-18</th>\n",
       "      <td>0</td>\n",
       "      <td>0</td>\n",
       "    </tr>\n",
       "    <tr>\n",
       "      <th>2020-03-17</th>\n",
       "      <td>0</td>\n",
       "      <td>0</td>\n",
       "    </tr>\n",
       "    <tr>\n",
       "      <th>2020-03-16</th>\n",
       "      <td>0</td>\n",
       "      <td>0</td>\n",
       "    </tr>\n",
       "  </tbody>\n",
       "</table>\n",
       "<p>324 rows × 2 columns</p>\n",
       "</div>"
      ],
      "text/plain": [
       "            casosNovos  obitosNovos\n",
       "data                               \n",
       "2021-02-02         867           14\n",
       "2021-02-01        1014           12\n",
       "2021-01-31        1104            8\n",
       "2021-01-30        1065           12\n",
       "2021-01-29        1125           11\n",
       "...                ...          ...\n",
       "2020-03-20           0            0\n",
       "2020-03-19           0            0\n",
       "2020-03-18           0            0\n",
       "2020-03-17           0            0\n",
       "2020-03-16           0            0\n",
       "\n",
       "[324 rows x 2 columns]"
      ]
     },
     "execution_count": 101,
     "metadata": {},
     "output_type": "execute_result"
    }
   ],
   "source": [
    "dados_covid_PB.loc[:,['casosNovos','obitosNovos']]"
   ]
  },
  {
   "cell_type": "code",
   "execution_count": 102,
   "metadata": {
    "slideshow": {
     "slide_type": "slide"
    }
   },
   "outputs": [
    {
     "data": {
      "text/html": [
       "<div>\n",
       "<style scoped>\n",
       "    .dataframe tbody tr th:only-of-type {\n",
       "        vertical-align: middle;\n",
       "    }\n",
       "\n",
       "    .dataframe tbody tr th {\n",
       "        vertical-align: top;\n",
       "    }\n",
       "\n",
       "    .dataframe thead th {\n",
       "        text-align: right;\n",
       "    }\n",
       "</style>\n",
       "<table border=\"1\" class=\"dataframe\">\n",
       "  <thead>\n",
       "    <tr style=\"text-align: right;\">\n",
       "      <th></th>\n",
       "      <th>obitosAcumulados</th>\n",
       "      <th>obitosNovos</th>\n",
       "    </tr>\n",
       "    <tr>\n",
       "      <th>data</th>\n",
       "      <th></th>\n",
       "      <th></th>\n",
       "    </tr>\n",
       "  </thead>\n",
       "  <tbody>\n",
       "    <tr>\n",
       "      <th>2021-02-02</th>\n",
       "      <td>4082</td>\n",
       "      <td>14</td>\n",
       "    </tr>\n",
       "    <tr>\n",
       "      <th>2021-02-01</th>\n",
       "      <td>4068</td>\n",
       "      <td>12</td>\n",
       "    </tr>\n",
       "    <tr>\n",
       "      <th>2021-01-31</th>\n",
       "      <td>4056</td>\n",
       "      <td>8</td>\n",
       "    </tr>\n",
       "    <tr>\n",
       "      <th>2021-01-30</th>\n",
       "      <td>4048</td>\n",
       "      <td>12</td>\n",
       "    </tr>\n",
       "    <tr>\n",
       "      <th>2021-01-29</th>\n",
       "      <td>4036</td>\n",
       "      <td>11</td>\n",
       "    </tr>\n",
       "    <tr>\n",
       "      <th>...</th>\n",
       "      <td>...</td>\n",
       "      <td>...</td>\n",
       "    </tr>\n",
       "    <tr>\n",
       "      <th>2020-03-20</th>\n",
       "      <td>0</td>\n",
       "      <td>0</td>\n",
       "    </tr>\n",
       "    <tr>\n",
       "      <th>2020-03-19</th>\n",
       "      <td>0</td>\n",
       "      <td>0</td>\n",
       "    </tr>\n",
       "    <tr>\n",
       "      <th>2020-03-18</th>\n",
       "      <td>0</td>\n",
       "      <td>0</td>\n",
       "    </tr>\n",
       "    <tr>\n",
       "      <th>2020-03-17</th>\n",
       "      <td>0</td>\n",
       "      <td>0</td>\n",
       "    </tr>\n",
       "    <tr>\n",
       "      <th>2020-03-16</th>\n",
       "      <td>0</td>\n",
       "      <td>0</td>\n",
       "    </tr>\n",
       "  </tbody>\n",
       "</table>\n",
       "<p>324 rows × 2 columns</p>\n",
       "</div>"
      ],
      "text/plain": [
       "            obitosAcumulados  obitosNovos\n",
       "data                                     \n",
       "2021-02-02              4082           14\n",
       "2021-02-01              4068           12\n",
       "2021-01-31              4056            8\n",
       "2021-01-30              4048           12\n",
       "2021-01-29              4036           11\n",
       "...                      ...          ...\n",
       "2020-03-20                 0            0\n",
       "2020-03-19                 0            0\n",
       "2020-03-18                 0            0\n",
       "2020-03-17                 0            0\n",
       "2020-03-16                 0            0\n",
       "\n",
       "[324 rows x 2 columns]"
      ]
     },
     "execution_count": 102,
     "metadata": {},
     "output_type": "execute_result"
    }
   ],
   "source": [
    "dados_covid_PB.iloc[:,4:6]"
   ]
  },
  {
   "cell_type": "markdown",
   "metadata": {
    "slideshow": {
     "slide_type": "slide"
    }
   },
   "source": [
    "## Selecionando linhas e colunas específicas pelos métodos *loc* e *iloc*:"
   ]
  },
  {
   "cell_type": "code",
   "execution_count": 103,
   "metadata": {
    "slideshow": {
     "slide_type": "-"
    }
   },
   "outputs": [
    {
     "data": {
      "text/html": [
       "<div>\n",
       "<style scoped>\n",
       "    .dataframe tbody tr th:only-of-type {\n",
       "        vertical-align: middle;\n",
       "    }\n",
       "\n",
       "    .dataframe tbody tr th {\n",
       "        vertical-align: top;\n",
       "    }\n",
       "\n",
       "    .dataframe thead th {\n",
       "        text-align: right;\n",
       "    }\n",
       "</style>\n",
       "<table border=\"1\" class=\"dataframe\">\n",
       "  <thead>\n",
       "    <tr style=\"text-align: right;\">\n",
       "      <th></th>\n",
       "      <th>obitosAcumulados</th>\n",
       "      <th>obitosNovos</th>\n",
       "    </tr>\n",
       "    <tr>\n",
       "      <th>data</th>\n",
       "      <th></th>\n",
       "      <th></th>\n",
       "    </tr>\n",
       "  </thead>\n",
       "  <tbody>\n",
       "    <tr>\n",
       "      <th>2020-10-30</th>\n",
       "      <td>3091</td>\n",
       "      <td>8</td>\n",
       "    </tr>\n",
       "    <tr>\n",
       "      <th>2020-10-29</th>\n",
       "      <td>3083</td>\n",
       "      <td>7</td>\n",
       "    </tr>\n",
       "    <tr>\n",
       "      <th>2020-10-28</th>\n",
       "      <td>3076</td>\n",
       "      <td>6</td>\n",
       "    </tr>\n",
       "    <tr>\n",
       "      <th>2020-10-27</th>\n",
       "      <td>3070</td>\n",
       "      <td>8</td>\n",
       "    </tr>\n",
       "    <tr>\n",
       "      <th>2020-10-26</th>\n",
       "      <td>3062</td>\n",
       "      <td>8</td>\n",
       "    </tr>\n",
       "  </tbody>\n",
       "</table>\n",
       "</div>"
      ],
      "text/plain": [
       "            obitosAcumulados  obitosNovos\n",
       "data                                     \n",
       "2020-10-30              3091            8\n",
       "2020-10-29              3083            7\n",
       "2020-10-28              3076            6\n",
       "2020-10-27              3070            8\n",
       "2020-10-26              3062            8"
      ]
     },
     "execution_count": 103,
     "metadata": {},
     "output_type": "execute_result"
    }
   ],
   "source": [
    "dados_covid_PB.iloc[95:100,4:6]"
   ]
  },
  {
   "cell_type": "code",
   "execution_count": 104,
   "metadata": {
    "slideshow": {
     "slide_type": "slide"
    }
   },
   "outputs": [
    {
     "data": {
      "text/html": [
       "<div>\n",
       "<style scoped>\n",
       "    .dataframe tbody tr th:only-of-type {\n",
       "        vertical-align: middle;\n",
       "    }\n",
       "\n",
       "    .dataframe tbody tr th {\n",
       "        vertical-align: top;\n",
       "    }\n",
       "\n",
       "    .dataframe thead th {\n",
       "        text-align: right;\n",
       "    }\n",
       "</style>\n",
       "<table border=\"1\" class=\"dataframe\">\n",
       "  <thead>\n",
       "    <tr style=\"text-align: right;\">\n",
       "      <th></th>\n",
       "      <th>casosNovos</th>\n",
       "      <th>obitosNovos</th>\n",
       "    </tr>\n",
       "  </thead>\n",
       "  <tbody>\n",
       "    <tr>\n",
       "      <th>2020-04-10</th>\n",
       "      <td>6</td>\n",
       "      <td>0</td>\n",
       "    </tr>\n",
       "    <tr>\n",
       "      <th>2020-04-09</th>\n",
       "      <td>24</td>\n",
       "      <td>4</td>\n",
       "    </tr>\n",
       "    <tr>\n",
       "      <th>2020-04-08</th>\n",
       "      <td>14</td>\n",
       "      <td>3</td>\n",
       "    </tr>\n",
       "    <tr>\n",
       "      <th>2020-04-07</th>\n",
       "      <td>5</td>\n",
       "      <td>0</td>\n",
       "    </tr>\n",
       "    <tr>\n",
       "      <th>2020-04-06</th>\n",
       "      <td>1</td>\n",
       "      <td>0</td>\n",
       "    </tr>\n",
       "  </tbody>\n",
       "</table>\n",
       "</div>"
      ],
      "text/plain": [
       "            casosNovos  obitosNovos\n",
       "2020-04-10           6            0\n",
       "2020-04-09          24            4\n",
       "2020-04-08          14            3\n",
       "2020-04-07           5            0\n",
       "2020-04-06           1            0"
      ]
     },
     "execution_count": 104,
     "metadata": {},
     "output_type": "execute_result"
    }
   ],
   "source": [
    "dados_covid_PB.loc[pd.date_range('2020-04-06','2020-04-10'),['casosNovos','obitosNovos']].sort_index(ascending=False)"
   ]
  },
  {
   "cell_type": "markdown",
   "metadata": {
    "slideshow": {
     "slide_type": "slide"
    }
   },
   "source": [
    "* Para alterar uma entrada específica é simples. Suponha que o peso de Ana foi medido errado e é, na realidade, 65, então, fazemos:"
   ]
  },
  {
   "cell_type": "code",
   "execution_count": 105,
   "metadata": {
    "slideshow": {
     "slide_type": "-"
    }
   },
   "outputs": [],
   "source": [
    "df_dict_series.loc['Ana','Peso'] = 65\n",
    "\n",
    "df_dict_series = df_dict_series.assign(IMC=round(df_dict_series.eval('Peso/(Altura/100)**2'),2)) # O IMC mudou"
   ]
  },
  {
   "cell_type": "code",
   "execution_count": 106,
   "metadata": {},
   "outputs": [
    {
     "data": {
      "text/html": [
       "<div>\n",
       "<style scoped>\n",
       "    .dataframe tbody tr th:only-of-type {\n",
       "        vertical-align: middle;\n",
       "    }\n",
       "\n",
       "    .dataframe tbody tr th {\n",
       "        vertical-align: top;\n",
       "    }\n",
       "\n",
       "    .dataframe thead th {\n",
       "        text-align: right;\n",
       "    }\n",
       "</style>\n",
       "<table border=\"1\" class=\"dataframe\">\n",
       "  <thead>\n",
       "    <tr style=\"text-align: right;\">\n",
       "      <th></th>\n",
       "      <th>Idade</th>\n",
       "      <th>Peso</th>\n",
       "      <th>Altura</th>\n",
       "      <th>IMC</th>\n",
       "    </tr>\n",
       "  </thead>\n",
       "  <tbody>\n",
       "    <tr>\n",
       "      <th>Ana</th>\n",
       "      <td>20</td>\n",
       "      <td>65</td>\n",
       "      <td>162</td>\n",
       "      <td>24.77</td>\n",
       "    </tr>\n",
       "    <tr>\n",
       "      <th>João</th>\n",
       "      <td>19</td>\n",
       "      <td>80</td>\n",
       "      <td>178</td>\n",
       "      <td>25.25</td>\n",
       "    </tr>\n",
       "    <tr>\n",
       "      <th>Maria</th>\n",
       "      <td>21</td>\n",
       "      <td>62</td>\n",
       "      <td>162</td>\n",
       "      <td>23.62</td>\n",
       "    </tr>\n",
       "    <tr>\n",
       "      <th>Pedro</th>\n",
       "      <td>22</td>\n",
       "      <td>67</td>\n",
       "      <td>165</td>\n",
       "      <td>24.61</td>\n",
       "    </tr>\n",
       "    <tr>\n",
       "      <th>Túlio</th>\n",
       "      <td>20</td>\n",
       "      <td>73</td>\n",
       "      <td>171</td>\n",
       "      <td>24.96</td>\n",
       "    </tr>\n",
       "  </tbody>\n",
       "</table>\n",
       "</div>"
      ],
      "text/plain": [
       "       Idade  Peso  Altura    IMC\n",
       "Ana       20    65     162  24.77\n",
       "João      19    80     178  25.25\n",
       "Maria     21    62     162  23.62\n",
       "Pedro     22    67     165  24.61\n",
       "Túlio     20    73     171  24.96"
      ]
     },
     "execution_count": 106,
     "metadata": {},
     "output_type": "execute_result"
    }
   ],
   "source": [
    "df_dict_series"
   ]
  },
  {
   "cell_type": "markdown",
   "metadata": {
    "slideshow": {
     "slide_type": "slide"
    }
   },
   "source": [
    "### Selecionando linha através de critérios lógicos ou funções:\n",
    "\n",
    "Vamos selecionar quais os dias em que houve mais de 30 mortes registradas:"
   ]
  },
  {
   "cell_type": "code",
   "execution_count": 107,
   "metadata": {},
   "outputs": [
    {
     "data": {
      "text/html": [
       "<div>\n",
       "<style scoped>\n",
       "    .dataframe tbody tr th:only-of-type {\n",
       "        vertical-align: middle;\n",
       "    }\n",
       "\n",
       "    .dataframe tbody tr th {\n",
       "        vertical-align: top;\n",
       "    }\n",
       "\n",
       "    .dataframe thead th {\n",
       "        text-align: right;\n",
       "    }\n",
       "</style>\n",
       "<table border=\"1\" class=\"dataframe\">\n",
       "  <thead>\n",
       "    <tr style=\"text-align: right;\">\n",
       "      <th></th>\n",
       "      <th>casosAcumulados</th>\n",
       "      <th>casosNovos</th>\n",
       "      <th>descartados</th>\n",
       "      <th>recuperados</th>\n",
       "      <th>obitosAcumulados</th>\n",
       "      <th>obitosNovos</th>\n",
       "      <th>Letalidade</th>\n",
       "    </tr>\n",
       "    <tr>\n",
       "      <th>data</th>\n",
       "      <th></th>\n",
       "      <th></th>\n",
       "      <th></th>\n",
       "      <th></th>\n",
       "      <th></th>\n",
       "      <th></th>\n",
       "      <th></th>\n",
       "    </tr>\n",
       "  </thead>\n",
       "  <tbody>\n",
       "    <tr>\n",
       "      <th>2020-08-04</th>\n",
       "      <td>85760</td>\n",
       "      <td>1549</td>\n",
       "      <td>106500</td>\n",
       "      <td>38554</td>\n",
       "      <td>1901</td>\n",
       "      <td>31</td>\n",
       "      <td>0.0222</td>\n",
       "    </tr>\n",
       "    <tr>\n",
       "      <th>2020-07-24</th>\n",
       "      <td>74550</td>\n",
       "      <td>1446</td>\n",
       "      <td>85903</td>\n",
       "      <td>29628</td>\n",
       "      <td>1653</td>\n",
       "      <td>35</td>\n",
       "      <td>0.0222</td>\n",
       "    </tr>\n",
       "    <tr>\n",
       "      <th>2020-07-23</th>\n",
       "      <td>73104</td>\n",
       "      <td>2132</td>\n",
       "      <td>84047</td>\n",
       "      <td>28566</td>\n",
       "      <td>1618</td>\n",
       "      <td>37</td>\n",
       "      <td>0.0221</td>\n",
       "    </tr>\n",
       "    <tr>\n",
       "      <th>2020-07-21</th>\n",
       "      <td>68844</td>\n",
       "      <td>1164</td>\n",
       "      <td>78605</td>\n",
       "      <td>25028</td>\n",
       "      <td>1558</td>\n",
       "      <td>41</td>\n",
       "      <td>0.0226</td>\n",
       "    </tr>\n",
       "    <tr>\n",
       "      <th>2020-07-20</th>\n",
       "      <td>67680</td>\n",
       "      <td>298</td>\n",
       "      <td>76190</td>\n",
       "      <td>24486</td>\n",
       "      <td>1517</td>\n",
       "      <td>31</td>\n",
       "      <td>0.0224</td>\n",
       "    </tr>\n",
       "    <tr>\n",
       "      <th>2020-07-18</th>\n",
       "      <td>66971</td>\n",
       "      <td>624</td>\n",
       "      <td>76176</td>\n",
       "      <td>24437</td>\n",
       "      <td>1477</td>\n",
       "      <td>31</td>\n",
       "      <td>0.0221</td>\n",
       "    </tr>\n",
       "    <tr>\n",
       "      <th>2020-07-16</th>\n",
       "      <td>65423</td>\n",
       "      <td>1484</td>\n",
       "      <td>75757</td>\n",
       "      <td>24253</td>\n",
       "      <td>1418</td>\n",
       "      <td>35</td>\n",
       "      <td>0.0217</td>\n",
       "    </tr>\n",
       "    <tr>\n",
       "      <th>2020-07-15</th>\n",
       "      <td>63939</td>\n",
       "      <td>1477</td>\n",
       "      <td>74399</td>\n",
       "      <td>23695</td>\n",
       "      <td>1383</td>\n",
       "      <td>41</td>\n",
       "      <td>0.0216</td>\n",
       "    </tr>\n",
       "    <tr>\n",
       "      <th>2020-07-14</th>\n",
       "      <td>62462</td>\n",
       "      <td>1354</td>\n",
       "      <td>73028</td>\n",
       "      <td>23027</td>\n",
       "      <td>1342</td>\n",
       "      <td>40</td>\n",
       "      <td>0.0215</td>\n",
       "    </tr>\n",
       "    <tr>\n",
       "      <th>2020-07-12</th>\n",
       "      <td>60784</td>\n",
       "      <td>363</td>\n",
       "      <td>71257</td>\n",
       "      <td>22292</td>\n",
       "      <td>1284</td>\n",
       "      <td>34</td>\n",
       "      <td>0.0211</td>\n",
       "    </tr>\n",
       "    <tr>\n",
       "      <th>2020-07-10</th>\n",
       "      <td>59118</td>\n",
       "      <td>1504</td>\n",
       "      <td>69567</td>\n",
       "      <td>21481</td>\n",
       "      <td>1229</td>\n",
       "      <td>33</td>\n",
       "      <td>0.0208</td>\n",
       "    </tr>\n",
       "    <tr>\n",
       "      <th>2020-07-02</th>\n",
       "      <td>49536</td>\n",
       "      <td>1361</td>\n",
       "      <td>48272</td>\n",
       "      <td>16349</td>\n",
       "      <td>1044</td>\n",
       "      <td>42</td>\n",
       "      <td>0.0211</td>\n",
       "    </tr>\n",
       "    <tr>\n",
       "      <th>2020-06-30</th>\n",
       "      <td>46957</td>\n",
       "      <td>1900</td>\n",
       "      <td>43070</td>\n",
       "      <td>14930</td>\n",
       "      <td>977</td>\n",
       "      <td>46</td>\n",
       "      <td>0.0208</td>\n",
       "    </tr>\n",
       "    <tr>\n",
       "      <th>2020-06-27</th>\n",
       "      <td>44242</td>\n",
       "      <td>1410</td>\n",
       "      <td>39353</td>\n",
       "      <td>13756</td>\n",
       "      <td>896</td>\n",
       "      <td>32</td>\n",
       "      <td>0.0203</td>\n",
       "    </tr>\n",
       "    <tr>\n",
       "      <th>2020-06-12</th>\n",
       "      <td>26556</td>\n",
       "      <td>1186</td>\n",
       "      <td>23189</td>\n",
       "      <td>6329</td>\n",
       "      <td>610</td>\n",
       "      <td>40</td>\n",
       "      <td>0.0230</td>\n",
       "    </tr>\n",
       "    <tr>\n",
       "      <th>2020-06-03</th>\n",
       "      <td>16018</td>\n",
       "      <td>1159</td>\n",
       "      <td>16043</td>\n",
       "      <td>3175</td>\n",
       "      <td>414</td>\n",
       "      <td>35</td>\n",
       "      <td>0.0258</td>\n",
       "    </tr>\n",
       "  </tbody>\n",
       "</table>\n",
       "</div>"
      ],
      "text/plain": [
       "            casosAcumulados  casosNovos  descartados  recuperados  \\\n",
       "data                                                                \n",
       "2020-08-04            85760        1549       106500        38554   \n",
       "2020-07-24            74550        1446        85903        29628   \n",
       "2020-07-23            73104        2132        84047        28566   \n",
       "2020-07-21            68844        1164        78605        25028   \n",
       "2020-07-20            67680         298        76190        24486   \n",
       "2020-07-18            66971         624        76176        24437   \n",
       "2020-07-16            65423        1484        75757        24253   \n",
       "2020-07-15            63939        1477        74399        23695   \n",
       "2020-07-14            62462        1354        73028        23027   \n",
       "2020-07-12            60784         363        71257        22292   \n",
       "2020-07-10            59118        1504        69567        21481   \n",
       "2020-07-02            49536        1361        48272        16349   \n",
       "2020-06-30            46957        1900        43070        14930   \n",
       "2020-06-27            44242        1410        39353        13756   \n",
       "2020-06-12            26556        1186        23189         6329   \n",
       "2020-06-03            16018        1159        16043         3175   \n",
       "\n",
       "            obitosAcumulados  obitosNovos  Letalidade  \n",
       "data                                                   \n",
       "2020-08-04              1901           31      0.0222  \n",
       "2020-07-24              1653           35      0.0222  \n",
       "2020-07-23              1618           37      0.0221  \n",
       "2020-07-21              1558           41      0.0226  \n",
       "2020-07-20              1517           31      0.0224  \n",
       "2020-07-18              1477           31      0.0221  \n",
       "2020-07-16              1418           35      0.0217  \n",
       "2020-07-15              1383           41      0.0216  \n",
       "2020-07-14              1342           40      0.0215  \n",
       "2020-07-12              1284           34      0.0211  \n",
       "2020-07-10              1229           33      0.0208  \n",
       "2020-07-02              1044           42      0.0211  \n",
       "2020-06-30               977           46      0.0208  \n",
       "2020-06-27               896           32      0.0203  \n",
       "2020-06-12               610           40      0.0230  \n",
       "2020-06-03               414           35      0.0258  "
      ]
     },
     "execution_count": 107,
     "metadata": {},
     "output_type": "execute_result"
    }
   ],
   "source": [
    "dados_covid_PB.loc[dados_covid_PB['obitosNovos']>30]"
   ]
  },
  {
   "cell_type": "markdown",
   "metadata": {
    "slideshow": {
     "slide_type": "slide"
    }
   },
   "source": [
    "Selecionando os dias com mais de 25 óbitos e mais de 1500 casos novos:"
   ]
  },
  {
   "cell_type": "code",
   "execution_count": 108,
   "metadata": {},
   "outputs": [
    {
     "data": {
      "text/html": [
       "<div>\n",
       "<style scoped>\n",
       "    .dataframe tbody tr th:only-of-type {\n",
       "        vertical-align: middle;\n",
       "    }\n",
       "\n",
       "    .dataframe tbody tr th {\n",
       "        vertical-align: top;\n",
       "    }\n",
       "\n",
       "    .dataframe thead th {\n",
       "        text-align: right;\n",
       "    }\n",
       "</style>\n",
       "<table border=\"1\" class=\"dataframe\">\n",
       "  <thead>\n",
       "    <tr style=\"text-align: right;\">\n",
       "      <th></th>\n",
       "      <th>casosAcumulados</th>\n",
       "      <th>casosNovos</th>\n",
       "      <th>descartados</th>\n",
       "      <th>recuperados</th>\n",
       "      <th>obitosAcumulados</th>\n",
       "      <th>obitosNovos</th>\n",
       "      <th>Letalidade</th>\n",
       "    </tr>\n",
       "    <tr>\n",
       "      <th>data</th>\n",
       "      <th></th>\n",
       "      <th></th>\n",
       "      <th></th>\n",
       "      <th></th>\n",
       "      <th></th>\n",
       "      <th></th>\n",
       "      <th></th>\n",
       "    </tr>\n",
       "  </thead>\n",
       "  <tbody>\n",
       "    <tr>\n",
       "      <th>2020-08-04</th>\n",
       "      <td>85760</td>\n",
       "      <td>1549</td>\n",
       "      <td>106500</td>\n",
       "      <td>38554</td>\n",
       "      <td>1901</td>\n",
       "      <td>31</td>\n",
       "      <td>0.0222</td>\n",
       "    </tr>\n",
       "    <tr>\n",
       "      <th>2020-07-31</th>\n",
       "      <td>82794</td>\n",
       "      <td>1686</td>\n",
       "      <td>96753</td>\n",
       "      <td>35971</td>\n",
       "      <td>1811</td>\n",
       "      <td>26</td>\n",
       "      <td>0.0219</td>\n",
       "    </tr>\n",
       "    <tr>\n",
       "      <th>2020-07-23</th>\n",
       "      <td>73104</td>\n",
       "      <td>2132</td>\n",
       "      <td>84047</td>\n",
       "      <td>28566</td>\n",
       "      <td>1618</td>\n",
       "      <td>37</td>\n",
       "      <td>0.0221</td>\n",
       "    </tr>\n",
       "    <tr>\n",
       "      <th>2020-07-10</th>\n",
       "      <td>59118</td>\n",
       "      <td>1504</td>\n",
       "      <td>69567</td>\n",
       "      <td>21481</td>\n",
       "      <td>1229</td>\n",
       "      <td>33</td>\n",
       "      <td>0.0208</td>\n",
       "    </tr>\n",
       "    <tr>\n",
       "      <th>2020-07-08</th>\n",
       "      <td>56344</td>\n",
       "      <td>1542</td>\n",
       "      <td>67549</td>\n",
       "      <td>19999</td>\n",
       "      <td>1171</td>\n",
       "      <td>26</td>\n",
       "      <td>0.0208</td>\n",
       "    </tr>\n",
       "    <tr>\n",
       "      <th>2020-07-07</th>\n",
       "      <td>54802</td>\n",
       "      <td>1651</td>\n",
       "      <td>64933</td>\n",
       "      <td>19373</td>\n",
       "      <td>1145</td>\n",
       "      <td>27</td>\n",
       "      <td>0.0209</td>\n",
       "    </tr>\n",
       "    <tr>\n",
       "      <th>2020-06-30</th>\n",
       "      <td>46957</td>\n",
       "      <td>1900</td>\n",
       "      <td>43070</td>\n",
       "      <td>14930</td>\n",
       "      <td>977</td>\n",
       "      <td>46</td>\n",
       "      <td>0.0208</td>\n",
       "    </tr>\n",
       "    <tr>\n",
       "      <th>2020-06-09</th>\n",
       "      <td>22452</td>\n",
       "      <td>1501</td>\n",
       "      <td>20650</td>\n",
       "      <td>4671</td>\n",
       "      <td>534</td>\n",
       "      <td>27</td>\n",
       "      <td>0.0238</td>\n",
       "    </tr>\n",
       "  </tbody>\n",
       "</table>\n",
       "</div>"
      ],
      "text/plain": [
       "            casosAcumulados  casosNovos  descartados  recuperados  \\\n",
       "data                                                                \n",
       "2020-08-04            85760        1549       106500        38554   \n",
       "2020-07-31            82794        1686        96753        35971   \n",
       "2020-07-23            73104        2132        84047        28566   \n",
       "2020-07-10            59118        1504        69567        21481   \n",
       "2020-07-08            56344        1542        67549        19999   \n",
       "2020-07-07            54802        1651        64933        19373   \n",
       "2020-06-30            46957        1900        43070        14930   \n",
       "2020-06-09            22452        1501        20650         4671   \n",
       "\n",
       "            obitosAcumulados  obitosNovos  Letalidade  \n",
       "data                                                   \n",
       "2020-08-04              1901           31      0.0222  \n",
       "2020-07-31              1811           26      0.0219  \n",
       "2020-07-23              1618           37      0.0221  \n",
       "2020-07-10              1229           33      0.0208  \n",
       "2020-07-08              1171           26      0.0208  \n",
       "2020-07-07              1145           27      0.0209  \n",
       "2020-06-30               977           46      0.0208  \n",
       "2020-06-09               534           27      0.0238  "
      ]
     },
     "execution_count": 108,
     "metadata": {},
     "output_type": "execute_result"
    }
   ],
   "source": [
    "dados_covid_PB.loc[(dados_covid_PB.obitosNovos >25) & (dados_covid_PB.casosNovos>1500)]"
   ]
  },
  {
   "cell_type": "markdown",
   "metadata": {},
   "source": [
    "**Obs**.: Note que podemos utilizar o nome da coluna como um atributo."
   ]
  },
  {
   "cell_type": "markdown",
   "metadata": {
    "slideshow": {
     "slide_type": "slide"
    }
   },
   "source": [
    "Vamos inserir uma coluna sobrenome no *df_dict_series*:"
   ]
  },
  {
   "cell_type": "code",
   "execution_count": 109,
   "metadata": {},
   "outputs": [
    {
     "data": {
      "text/html": [
       "<div>\n",
       "<style scoped>\n",
       "    .dataframe tbody tr th:only-of-type {\n",
       "        vertical-align: middle;\n",
       "    }\n",
       "\n",
       "    .dataframe tbody tr th {\n",
       "        vertical-align: top;\n",
       "    }\n",
       "\n",
       "    .dataframe thead th {\n",
       "        text-align: right;\n",
       "    }\n",
       "</style>\n",
       "<table border=\"1\" class=\"dataframe\">\n",
       "  <thead>\n",
       "    <tr style=\"text-align: right;\">\n",
       "      <th></th>\n",
       "      <th>Idade</th>\n",
       "      <th>Peso</th>\n",
       "      <th>Altura</th>\n",
       "      <th>IMC</th>\n",
       "      <th>Sobrenome</th>\n",
       "    </tr>\n",
       "  </thead>\n",
       "  <tbody>\n",
       "    <tr>\n",
       "      <th>Ana</th>\n",
       "      <td>20</td>\n",
       "      <td>65</td>\n",
       "      <td>162</td>\n",
       "      <td>24.77</td>\n",
       "      <td>Silva</td>\n",
       "    </tr>\n",
       "    <tr>\n",
       "      <th>João</th>\n",
       "      <td>19</td>\n",
       "      <td>80</td>\n",
       "      <td>178</td>\n",
       "      <td>25.25</td>\n",
       "      <td>PraDo</td>\n",
       "    </tr>\n",
       "    <tr>\n",
       "      <th>Maria</th>\n",
       "      <td>21</td>\n",
       "      <td>62</td>\n",
       "      <td>162</td>\n",
       "      <td>23.62</td>\n",
       "      <td>Sales</td>\n",
       "    </tr>\n",
       "    <tr>\n",
       "      <th>Pedro</th>\n",
       "      <td>22</td>\n",
       "      <td>67</td>\n",
       "      <td>165</td>\n",
       "      <td>24.61</td>\n",
       "      <td>MachadO</td>\n",
       "    </tr>\n",
       "    <tr>\n",
       "      <th>Túlio</th>\n",
       "      <td>20</td>\n",
       "      <td>73</td>\n",
       "      <td>171</td>\n",
       "      <td>24.96</td>\n",
       "      <td>Coutinho</td>\n",
       "    </tr>\n",
       "  </tbody>\n",
       "</table>\n",
       "</div>"
      ],
      "text/plain": [
       "       Idade  Peso  Altura    IMC Sobrenome\n",
       "Ana       20    65     162  24.77     Silva\n",
       "João      19    80     178  25.25     PraDo\n",
       "Maria     21    62     162  23.62     Sales\n",
       "Pedro     22    67     165  24.61   MachadO\n",
       "Túlio     20    73     171  24.96  Coutinho"
      ]
     },
     "execution_count": 109,
     "metadata": {},
     "output_type": "execute_result"
    }
   ],
   "source": [
    "df_dict_series['Sobrenome'] = ['Silva', 'PraDo', 'Sales', 'MachadO', 'Coutinho']\n",
    "df_dict_series"
   ]
  },
  {
   "cell_type": "markdown",
   "metadata": {
    "slideshow": {
     "slide_type": "slide"
    }
   },
   "source": [
    "Vamos encontrar as linhas cujo sobrenome termina em \"do\". Para tanto, note que a função abaixo retorna *True* se o final é \"do\" e *False* caso contrário.\n",
    "```python\n",
    "def verifica_final_do(palavra):\n",
    "    return palavra.lower()[-2:] == 'do'\n",
    "```\n",
    "**Obs**.: Note que convertemos tudo para minúsculo."
   ]
  },
  {
   "cell_type": "markdown",
   "metadata": {
    "slideshow": {
     "slide_type": "slide"
    }
   },
   "source": [
    "Agora vamos utilizar essa função para alcançar nosso objetivo:"
   ]
  },
  {
   "cell_type": "code",
   "execution_count": 110,
   "metadata": {},
   "outputs": [
    {
     "data": {
      "text/plain": [
       "Ana      False\n",
       "João      True\n",
       "Maria    False\n",
       "Pedro     True\n",
       "Túlio    False\n",
       "Name: Sobrenome, dtype: bool"
      ]
     },
     "execution_count": 110,
     "metadata": {},
     "output_type": "execute_result"
    }
   ],
   "source": [
    "df_dict_series['Sobrenome'].map(lambda palavra: palavra.lower()[-2:]=='do') \n",
    "        # A função map aplica a função lambda a cada elemento de uma *Serie*"
   ]
  },
  {
   "cell_type": "code",
   "execution_count": 111,
   "metadata": {},
   "outputs": [
    {
     "data": {
      "text/html": [
       "<div>\n",
       "<style scoped>\n",
       "    .dataframe tbody tr th:only-of-type {\n",
       "        vertical-align: middle;\n",
       "    }\n",
       "\n",
       "    .dataframe tbody tr th {\n",
       "        vertical-align: top;\n",
       "    }\n",
       "\n",
       "    .dataframe thead th {\n",
       "        text-align: right;\n",
       "    }\n",
       "</style>\n",
       "<table border=\"1\" class=\"dataframe\">\n",
       "  <thead>\n",
       "    <tr style=\"text-align: right;\">\n",
       "      <th></th>\n",
       "      <th>Idade</th>\n",
       "      <th>Peso</th>\n",
       "      <th>Altura</th>\n",
       "      <th>IMC</th>\n",
       "      <th>Sobrenome</th>\n",
       "    </tr>\n",
       "  </thead>\n",
       "  <tbody>\n",
       "    <tr>\n",
       "      <th>João</th>\n",
       "      <td>19</td>\n",
       "      <td>80</td>\n",
       "      <td>178</td>\n",
       "      <td>25.25</td>\n",
       "      <td>PraDo</td>\n",
       "    </tr>\n",
       "    <tr>\n",
       "      <th>Pedro</th>\n",
       "      <td>22</td>\n",
       "      <td>67</td>\n",
       "      <td>165</td>\n",
       "      <td>24.61</td>\n",
       "      <td>MachadO</td>\n",
       "    </tr>\n",
       "  </tbody>\n",
       "</table>\n",
       "</div>"
      ],
      "text/plain": [
       "       Idade  Peso  Altura    IMC Sobrenome\n",
       "João      19    80     178  25.25     PraDo\n",
       "Pedro     22    67     165  24.61   MachadO"
      ]
     },
     "execution_count": 111,
     "metadata": {},
     "output_type": "execute_result"
    }
   ],
   "source": [
    "df_dict_series.loc[df_dict_series['Sobrenome'].map(lambda palavra: palavra.lower()[-2:]=='do')]"
   ]
  },
  {
   "cell_type": "markdown",
   "metadata": {
    "slideshow": {
     "slide_type": "slide"
    }
   },
   "source": [
    "Vamos selecionar as linhas do mês 4 (Abril):"
   ]
  },
  {
   "cell_type": "code",
   "execution_count": 112,
   "metadata": {
    "scrolled": true,
    "slideshow": {
     "slide_type": "-"
    }
   },
   "outputs": [
    {
     "data": {
      "text/html": [
       "<div>\n",
       "<style scoped>\n",
       "    .dataframe tbody tr th:only-of-type {\n",
       "        vertical-align: middle;\n",
       "    }\n",
       "\n",
       "    .dataframe tbody tr th {\n",
       "        vertical-align: top;\n",
       "    }\n",
       "\n",
       "    .dataframe thead th {\n",
       "        text-align: right;\n",
       "    }\n",
       "</style>\n",
       "<table border=\"1\" class=\"dataframe\">\n",
       "  <thead>\n",
       "    <tr style=\"text-align: right;\">\n",
       "      <th></th>\n",
       "      <th>casosAcumulados</th>\n",
       "      <th>casosNovos</th>\n",
       "      <th>descartados</th>\n",
       "      <th>recuperados</th>\n",
       "      <th>obitosAcumulados</th>\n",
       "      <th>obitosNovos</th>\n",
       "      <th>Letalidade</th>\n",
       "    </tr>\n",
       "    <tr>\n",
       "      <th>data</th>\n",
       "      <th></th>\n",
       "      <th></th>\n",
       "      <th></th>\n",
       "      <th></th>\n",
       "      <th></th>\n",
       "      <th></th>\n",
       "      <th></th>\n",
       "    </tr>\n",
       "  </thead>\n",
       "  <tbody>\n",
       "    <tr>\n",
       "      <th>2020-04-30</th>\n",
       "      <td>926</td>\n",
       "      <td>112</td>\n",
       "      <td>1695</td>\n",
       "      <td>156</td>\n",
       "      <td>67</td>\n",
       "      <td>5</td>\n",
       "      <td>0.0724</td>\n",
       "    </tr>\n",
       "    <tr>\n",
       "      <th>2020-04-29</th>\n",
       "      <td>814</td>\n",
       "      <td>115</td>\n",
       "      <td>1616</td>\n",
       "      <td>152</td>\n",
       "      <td>62</td>\n",
       "      <td>4</td>\n",
       "      <td>0.0762</td>\n",
       "    </tr>\n",
       "    <tr>\n",
       "      <th>2020-04-28</th>\n",
       "      <td>699</td>\n",
       "      <td>66</td>\n",
       "      <td>1531</td>\n",
       "      <td>149</td>\n",
       "      <td>58</td>\n",
       "      <td>5</td>\n",
       "      <td>0.0830</td>\n",
       "    </tr>\n",
       "    <tr>\n",
       "      <th>2020-04-27</th>\n",
       "      <td>633</td>\n",
       "      <td>90</td>\n",
       "      <td>1482</td>\n",
       "      <td>119</td>\n",
       "      <td>53</td>\n",
       "      <td>3</td>\n",
       "      <td>0.0837</td>\n",
       "    </tr>\n",
       "    <tr>\n",
       "      <th>2020-04-26</th>\n",
       "      <td>543</td>\n",
       "      <td>44</td>\n",
       "      <td>1421</td>\n",
       "      <td>119</td>\n",
       "      <td>50</td>\n",
       "      <td>1</td>\n",
       "      <td>0.0921</td>\n",
       "    </tr>\n",
       "  </tbody>\n",
       "</table>\n",
       "</div>"
      ],
      "text/plain": [
       "            casosAcumulados  casosNovos  descartados  recuperados  \\\n",
       "data                                                                \n",
       "2020-04-30              926         112         1695          156   \n",
       "2020-04-29              814         115         1616          152   \n",
       "2020-04-28              699          66         1531          149   \n",
       "2020-04-27              633          90         1482          119   \n",
       "2020-04-26              543          44         1421          119   \n",
       "\n",
       "            obitosAcumulados  obitosNovos  Letalidade  \n",
       "data                                                   \n",
       "2020-04-30                67            5      0.0724  \n",
       "2020-04-29                62            4      0.0762  \n",
       "2020-04-28                58            5      0.0830  \n",
       "2020-04-27                53            3      0.0837  \n",
       "2020-04-26                50            1      0.0921  "
      ]
     },
     "execution_count": 112,
     "metadata": {},
     "output_type": "execute_result"
    }
   ],
   "source": [
    "dados_covid_PB.loc[dados_covid_PB.index.month==4].head()"
   ]
  },
  {
   "cell_type": "markdown",
   "metadata": {
    "slideshow": {
     "slide_type": "slide"
    }
   },
   "source": [
    "## Selecionando linhas com o método *query*\n",
    "\n",
    "* Na mesma linha do método **eval**, ao utilizarmos o método **query** podemos criar expressões lógicas a partir de nomes das colunas do *DataFrame*."
   ]
  },
  {
   "cell_type": "markdown",
   "metadata": {
    "slideshow": {
     "slide_type": "slide"
    }
   },
   "source": [
    "Assim, podemos reescrever o código\n",
    "\n",
    "```python\n",
    "dados_covid_PB.loc[(dados_covid_PB.obitosNovos>25) & \n",
    "                   (dados_covid_PB.casosNovos>1500)]\n",
    "```\n",
    "como"
   ]
  },
  {
   "cell_type": "code",
   "execution_count": 113,
   "metadata": {},
   "outputs": [
    {
     "data": {
      "text/html": [
       "<div>\n",
       "<style scoped>\n",
       "    .dataframe tbody tr th:only-of-type {\n",
       "        vertical-align: middle;\n",
       "    }\n",
       "\n",
       "    .dataframe tbody tr th {\n",
       "        vertical-align: top;\n",
       "    }\n",
       "\n",
       "    .dataframe thead th {\n",
       "        text-align: right;\n",
       "    }\n",
       "</style>\n",
       "<table border=\"1\" class=\"dataframe\">\n",
       "  <thead>\n",
       "    <tr style=\"text-align: right;\">\n",
       "      <th></th>\n",
       "      <th>casosAcumulados</th>\n",
       "      <th>casosNovos</th>\n",
       "      <th>descartados</th>\n",
       "      <th>recuperados</th>\n",
       "      <th>obitosAcumulados</th>\n",
       "      <th>obitosNovos</th>\n",
       "      <th>Letalidade</th>\n",
       "    </tr>\n",
       "    <tr>\n",
       "      <th>data</th>\n",
       "      <th></th>\n",
       "      <th></th>\n",
       "      <th></th>\n",
       "      <th></th>\n",
       "      <th></th>\n",
       "      <th></th>\n",
       "      <th></th>\n",
       "    </tr>\n",
       "  </thead>\n",
       "  <tbody>\n",
       "    <tr>\n",
       "      <th>2020-08-04</th>\n",
       "      <td>85760</td>\n",
       "      <td>1549</td>\n",
       "      <td>106500</td>\n",
       "      <td>38554</td>\n",
       "      <td>1901</td>\n",
       "      <td>31</td>\n",
       "      <td>0.0222</td>\n",
       "    </tr>\n",
       "    <tr>\n",
       "      <th>2020-07-31</th>\n",
       "      <td>82794</td>\n",
       "      <td>1686</td>\n",
       "      <td>96753</td>\n",
       "      <td>35971</td>\n",
       "      <td>1811</td>\n",
       "      <td>26</td>\n",
       "      <td>0.0219</td>\n",
       "    </tr>\n",
       "    <tr>\n",
       "      <th>2020-07-23</th>\n",
       "      <td>73104</td>\n",
       "      <td>2132</td>\n",
       "      <td>84047</td>\n",
       "      <td>28566</td>\n",
       "      <td>1618</td>\n",
       "      <td>37</td>\n",
       "      <td>0.0221</td>\n",
       "    </tr>\n",
       "    <tr>\n",
       "      <th>2020-07-10</th>\n",
       "      <td>59118</td>\n",
       "      <td>1504</td>\n",
       "      <td>69567</td>\n",
       "      <td>21481</td>\n",
       "      <td>1229</td>\n",
       "      <td>33</td>\n",
       "      <td>0.0208</td>\n",
       "    </tr>\n",
       "    <tr>\n",
       "      <th>2020-07-08</th>\n",
       "      <td>56344</td>\n",
       "      <td>1542</td>\n",
       "      <td>67549</td>\n",
       "      <td>19999</td>\n",
       "      <td>1171</td>\n",
       "      <td>26</td>\n",
       "      <td>0.0208</td>\n",
       "    </tr>\n",
       "    <tr>\n",
       "      <th>2020-07-07</th>\n",
       "      <td>54802</td>\n",
       "      <td>1651</td>\n",
       "      <td>64933</td>\n",
       "      <td>19373</td>\n",
       "      <td>1145</td>\n",
       "      <td>27</td>\n",
       "      <td>0.0209</td>\n",
       "    </tr>\n",
       "    <tr>\n",
       "      <th>2020-06-30</th>\n",
       "      <td>46957</td>\n",
       "      <td>1900</td>\n",
       "      <td>43070</td>\n",
       "      <td>14930</td>\n",
       "      <td>977</td>\n",
       "      <td>46</td>\n",
       "      <td>0.0208</td>\n",
       "    </tr>\n",
       "    <tr>\n",
       "      <th>2020-06-09</th>\n",
       "      <td>22452</td>\n",
       "      <td>1501</td>\n",
       "      <td>20650</td>\n",
       "      <td>4671</td>\n",
       "      <td>534</td>\n",
       "      <td>27</td>\n",
       "      <td>0.0238</td>\n",
       "    </tr>\n",
       "  </tbody>\n",
       "</table>\n",
       "</div>"
      ],
      "text/plain": [
       "            casosAcumulados  casosNovos  descartados  recuperados  \\\n",
       "data                                                                \n",
       "2020-08-04            85760        1549       106500        38554   \n",
       "2020-07-31            82794        1686        96753        35971   \n",
       "2020-07-23            73104        2132        84047        28566   \n",
       "2020-07-10            59118        1504        69567        21481   \n",
       "2020-07-08            56344        1542        67549        19999   \n",
       "2020-07-07            54802        1651        64933        19373   \n",
       "2020-06-30            46957        1900        43070        14930   \n",
       "2020-06-09            22452        1501        20650         4671   \n",
       "\n",
       "            obitosAcumulados  obitosNovos  Letalidade  \n",
       "data                                                   \n",
       "2020-08-04              1901           31      0.0222  \n",
       "2020-07-31              1811           26      0.0219  \n",
       "2020-07-23              1618           37      0.0221  \n",
       "2020-07-10              1229           33      0.0208  \n",
       "2020-07-08              1171           26      0.0208  \n",
       "2020-07-07              1145           27      0.0209  \n",
       "2020-06-30               977           46      0.0208  \n",
       "2020-06-09               534           27      0.0238  "
      ]
     },
     "execution_count": 113,
     "metadata": {},
     "output_type": "execute_result"
    }
   ],
   "source": [
    "dados_covid_PB.query('obitosNovos>25 and casosNovos>1500')"
   ]
  },
  {
   "cell_type": "markdown",
   "metadata": {
    "slideshow": {
     "slide_type": "slide"
    }
   },
   "source": [
    "## Agregando informações de linhas ou colunas\n",
    "\n",
    "* Para agregar informações (por exemplo somar, tomar médias, etc) de linhas ou colunas podemos utilizar alguns métodos específicos já existentes em *DataFrames* e *Series*, como **sum**, **mean**, **cumsum**, etc, como  também podemos utilizar o método **aggregate** ou equivalentemente **agg**:"
   ]
  },
  {
   "cell_type": "code",
   "execution_count": 114,
   "metadata": {
    "slideshow": {
     "slide_type": "slide"
    }
   },
   "outputs": [
    {
     "data": {
      "text/plain": [
       "casosNovos     193465\n",
       "obitosNovos      4082\n",
       "dtype: int64"
      ]
     },
     "execution_count": 114,
     "metadata": {},
     "output_type": "execute_result"
    }
   ],
   "source": [
    "dados_covid_PB.agg(lambda vetor: np.sum(vetor))[['casosNovos','obitosNovos']].astype('int')"
   ]
  },
  {
   "cell_type": "code",
   "execution_count": 115,
   "metadata": {},
   "outputs": [
    {
     "data": {
      "text/html": [
       "<div>\n",
       "<style scoped>\n",
       "    .dataframe tbody tr th:only-of-type {\n",
       "        vertical-align: middle;\n",
       "    }\n",
       "\n",
       "    .dataframe tbody tr th {\n",
       "        vertical-align: top;\n",
       "    }\n",
       "\n",
       "    .dataframe thead th {\n",
       "        text-align: right;\n",
       "    }\n",
       "</style>\n",
       "<table border=\"1\" class=\"dataframe\">\n",
       "  <thead>\n",
       "    <tr style=\"text-align: right;\">\n",
       "      <th></th>\n",
       "      <th>casosAcumulados</th>\n",
       "      <th>casosNovos</th>\n",
       "      <th>descartados</th>\n",
       "      <th>recuperados</th>\n",
       "      <th>obitosAcumulados</th>\n",
       "      <th>obitosNovos</th>\n",
       "      <th>Letalidade</th>\n",
       "    </tr>\n",
       "    <tr>\n",
       "      <th>data</th>\n",
       "      <th></th>\n",
       "      <th></th>\n",
       "      <th></th>\n",
       "      <th></th>\n",
       "      <th></th>\n",
       "      <th></th>\n",
       "      <th></th>\n",
       "    </tr>\n",
       "  </thead>\n",
       "  <tbody>\n",
       "    <tr>\n",
       "      <th>2021-02-02</th>\n",
       "      <td>193465</td>\n",
       "      <td>867</td>\n",
       "      <td>234366</td>\n",
       "      <td>149242</td>\n",
       "      <td>4082</td>\n",
       "      <td>14</td>\n",
       "      <td>0.0211</td>\n",
       "    </tr>\n",
       "    <tr>\n",
       "      <th>2021-02-01</th>\n",
       "      <td>192598</td>\n",
       "      <td>1014</td>\n",
       "      <td>234215</td>\n",
       "      <td>149235</td>\n",
       "      <td>4068</td>\n",
       "      <td>12</td>\n",
       "      <td>0.0211</td>\n",
       "    </tr>\n",
       "    <tr>\n",
       "      <th>2021-01-31</th>\n",
       "      <td>191584</td>\n",
       "      <td>1104</td>\n",
       "      <td>234198</td>\n",
       "      <td>148856</td>\n",
       "      <td>4056</td>\n",
       "      <td>8</td>\n",
       "      <td>0.0212</td>\n",
       "    </tr>\n",
       "    <tr>\n",
       "      <th>2021-01-30</th>\n",
       "      <td>190480</td>\n",
       "      <td>1065</td>\n",
       "      <td>233698</td>\n",
       "      <td>148722</td>\n",
       "      <td>4048</td>\n",
       "      <td>12</td>\n",
       "      <td>0.0213</td>\n",
       "    </tr>\n",
       "    <tr>\n",
       "      <th>2021-01-29</th>\n",
       "      <td>189415</td>\n",
       "      <td>1125</td>\n",
       "      <td>233135</td>\n",
       "      <td>138950</td>\n",
       "      <td>4036</td>\n",
       "      <td>11</td>\n",
       "      <td>0.0213</td>\n",
       "    </tr>\n",
       "  </tbody>\n",
       "</table>\n",
       "</div>"
      ],
      "text/plain": [
       "            casosAcumulados  casosNovos  descartados  recuperados  \\\n",
       "data                                                                \n",
       "2021-02-02           193465         867       234366       149242   \n",
       "2021-02-01           192598        1014       234215       149235   \n",
       "2021-01-31           191584        1104       234198       148856   \n",
       "2021-01-30           190480        1065       233698       148722   \n",
       "2021-01-29           189415        1125       233135       138950   \n",
       "\n",
       "            obitosAcumulados  obitosNovos  Letalidade  \n",
       "data                                                   \n",
       "2021-02-02              4082           14      0.0211  \n",
       "2021-02-01              4068           12      0.0211  \n",
       "2021-01-31              4056            8      0.0212  \n",
       "2021-01-30              4048           12      0.0213  \n",
       "2021-01-29              4036           11      0.0213  "
      ]
     },
     "execution_count": 115,
     "metadata": {},
     "output_type": "execute_result"
    }
   ],
   "source": [
    "dados_covid_PB.head()"
   ]
  },
  {
   "cell_type": "markdown",
   "metadata": {
    "slideshow": {
     "slide_type": "slide"
    }
   },
   "source": [
    "* Isto também pode ser obtido utilizando o método *sum* de *DataFrames* e *Series*:"
   ]
  },
  {
   "cell_type": "code",
   "execution_count": 116,
   "metadata": {},
   "outputs": [
    {
     "data": {
      "text/plain": [
       "casosNovos     193465\n",
       "obitosNovos      4082\n",
       "dtype: int64"
      ]
     },
     "execution_count": 116,
     "metadata": {},
     "output_type": "execute_result"
    }
   ],
   "source": [
    "dados_covid_PB[['casosNovos','obitosNovos']].sum()"
   ]
  },
  {
   "cell_type": "markdown",
   "metadata": {
    "slideshow": {
     "slide_type": "slide"
    }
   },
   "source": [
    "* Podemos recriar a coluna obitosAcumulados com o método *cumsum*:"
   ]
  },
  {
   "cell_type": "code",
   "execution_count": 117,
   "metadata": {},
   "outputs": [
    {
     "data": {
      "text/plain": [
       "data\n",
       "2020-03-16       0\n",
       "2020-03-17       0\n",
       "2020-03-18       0\n",
       "2020-03-19       0\n",
       "2020-03-20       0\n",
       "              ... \n",
       "2021-01-29    4036\n",
       "2021-01-30    4048\n",
       "2021-01-31    4056\n",
       "2021-02-01    4068\n",
       "2021-02-02    4082\n",
       "Name: obitosNovos, Length: 324, dtype: int64"
      ]
     },
     "execution_count": 117,
     "metadata": {},
     "output_type": "execute_result"
    }
   ],
   "source": [
    "dados_covid_PB.obitosNovos.sort_index().cumsum()"
   ]
  },
  {
   "cell_type": "markdown",
   "metadata": {
    "slideshow": {
     "slide_type": "slide"
    }
   },
   "source": [
    "## Selecionando entradas distintas\n",
    "\n",
    "* Para selecionar entradas distintas utilizamos o método **drop_duplicate**. Aqui, para exemplificar, vamos utilizar o banco de dados oficial de covid do Brasil:"
   ]
  },
  {
   "cell_type": "code",
   "execution_count": 123,
   "metadata": {},
   "outputs": [],
   "source": [
    "covid_BR = pd.read_excel('06b-HIST_PAINEL_COVIDBR_18jul2020.xlsx')"
   ]
  },
  {
   "cell_type": "code",
   "execution_count": 124,
   "metadata": {},
   "outputs": [
    {
     "data": {
      "text/html": [
       "<div>\n",
       "<style scoped>\n",
       "    .dataframe tbody tr th:only-of-type {\n",
       "        vertical-align: middle;\n",
       "    }\n",
       "\n",
       "    .dataframe tbody tr th {\n",
       "        vertical-align: top;\n",
       "    }\n",
       "\n",
       "    .dataframe thead th {\n",
       "        text-align: right;\n",
       "    }\n",
       "</style>\n",
       "<table border=\"1\" class=\"dataframe\">\n",
       "  <thead>\n",
       "    <tr style=\"text-align: right;\">\n",
       "      <th></th>\n",
       "      <th>Unnamed: 0</th>\n",
       "      <th>regiao</th>\n",
       "      <th>estado</th>\n",
       "      <th>municipio</th>\n",
       "      <th>coduf</th>\n",
       "      <th>codmun</th>\n",
       "      <th>codRegiaoSaude</th>\n",
       "      <th>nomeRegiaoSaude</th>\n",
       "      <th>data</th>\n",
       "      <th>semanaEpi</th>\n",
       "      <th>populacaoTCU2019</th>\n",
       "      <th>casosAcumulado</th>\n",
       "      <th>casosNovos</th>\n",
       "      <th>obitosAcumulado</th>\n",
       "      <th>obitosNovos</th>\n",
       "      <th>Recuperadosnovos</th>\n",
       "      <th>emAcompanhamentoNovos</th>\n",
       "      <th>interior/metropolitana</th>\n",
       "    </tr>\n",
       "  </thead>\n",
       "  <tbody>\n",
       "    <tr>\n",
       "      <th>629803</th>\n",
       "      <td>629803</td>\n",
       "      <td>Centro-Oeste</td>\n",
       "      <td>DF</td>\n",
       "      <td>Brasília</td>\n",
       "      <td>53</td>\n",
       "      <td>530010.0</td>\n",
       "      <td>53001.0</td>\n",
       "      <td>DISTRITO FEDERAL</td>\n",
       "      <td>2020-07-16</td>\n",
       "      <td>29</td>\n",
       "      <td>3015268</td>\n",
       "      <td>77621</td>\n",
       "      <td>2242</td>\n",
       "      <td>1037</td>\n",
       "      <td>36</td>\n",
       "      <td>NaN</td>\n",
       "      <td>NaN</td>\n",
       "      <td>1.0</td>\n",
       "    </tr>\n",
       "    <tr>\n",
       "      <th>629804</th>\n",
       "      <td>629804</td>\n",
       "      <td>Centro-Oeste</td>\n",
       "      <td>DF</td>\n",
       "      <td>Brasília</td>\n",
       "      <td>53</td>\n",
       "      <td>530010.0</td>\n",
       "      <td>53001.0</td>\n",
       "      <td>DISTRITO FEDERAL</td>\n",
       "      <td>2020-07-17</td>\n",
       "      <td>29</td>\n",
       "      <td>3015268</td>\n",
       "      <td>79400</td>\n",
       "      <td>1779</td>\n",
       "      <td>1060</td>\n",
       "      <td>23</td>\n",
       "      <td>NaN</td>\n",
       "      <td>NaN</td>\n",
       "      <td>1.0</td>\n",
       "    </tr>\n",
       "    <tr>\n",
       "      <th>629805</th>\n",
       "      <td>629805</td>\n",
       "      <td>Centro-Oeste</td>\n",
       "      <td>DF</td>\n",
       "      <td>Brasília</td>\n",
       "      <td>53</td>\n",
       "      <td>530010.0</td>\n",
       "      <td>53001.0</td>\n",
       "      <td>DISTRITO FEDERAL</td>\n",
       "      <td>2020-07-18</td>\n",
       "      <td>29</td>\n",
       "      <td>3015268</td>\n",
       "      <td>81163</td>\n",
       "      <td>1763</td>\n",
       "      <td>1075</td>\n",
       "      <td>15</td>\n",
       "      <td>NaN</td>\n",
       "      <td>NaN</td>\n",
       "      <td>1.0</td>\n",
       "    </tr>\n",
       "  </tbody>\n",
       "</table>\n",
       "</div>"
      ],
      "text/plain": [
       "        Unnamed: 0        regiao estado municipio  coduf    codmun  \\\n",
       "629803      629803  Centro-Oeste     DF  Brasília     53  530010.0   \n",
       "629804      629804  Centro-Oeste     DF  Brasília     53  530010.0   \n",
       "629805      629805  Centro-Oeste     DF  Brasília     53  530010.0   \n",
       "\n",
       "        codRegiaoSaude   nomeRegiaoSaude        data  semanaEpi  \\\n",
       "629803         53001.0  DISTRITO FEDERAL  2020-07-16         29   \n",
       "629804         53001.0  DISTRITO FEDERAL  2020-07-17         29   \n",
       "629805         53001.0  DISTRITO FEDERAL  2020-07-18         29   \n",
       "\n",
       "       populacaoTCU2019  casosAcumulado  casosNovos  obitosAcumulado  \\\n",
       "629803          3015268           77621        2242             1037   \n",
       "629804          3015268           79400        1779             1060   \n",
       "629805          3015268           81163        1763             1075   \n",
       "\n",
       "        obitosNovos  Recuperadosnovos  emAcompanhamentoNovos  \\\n",
       "629803           36               NaN                    NaN   \n",
       "629804           23               NaN                    NaN   \n",
       "629805           15               NaN                    NaN   \n",
       "\n",
       "        interior/metropolitana  \n",
       "629803                     1.0  \n",
       "629804                     1.0  \n",
       "629805                     1.0  "
      ]
     },
     "execution_count": 124,
     "metadata": {},
     "output_type": "execute_result"
    }
   ],
   "source": [
    "covid_BR.tail(3)"
   ]
  },
  {
   "cell_type": "code",
   "execution_count": 125,
   "metadata": {
    "slideshow": {
     "slide_type": "slide"
    }
   },
   "outputs": [
    {
     "name": "stdout",
     "output_type": "stream",
     "text": [
      "<class 'pandas.core.frame.DataFrame'>\n",
      "RangeIndex: 629806 entries, 0 to 629805\n",
      "Data columns (total 18 columns):\n",
      " #   Column                  Non-Null Count   Dtype  \n",
      "---  ------                  --------------   -----  \n",
      " 0   Unnamed: 0              629806 non-null  int64  \n",
      " 1   regiao                  629806 non-null  object \n",
      " 2   estado                  629661 non-null  object \n",
      " 3   municipio               623352 non-null  object \n",
      " 4   coduf                   629806 non-null  int64  \n",
      " 5   codmun                  625746 non-null  float64\n",
      " 6   codRegiaoSaude          623352 non-null  float64\n",
      " 7   nomeRegiaoSaude         623352 non-null  object \n",
      " 8   data                    629806 non-null  object \n",
      " 9   semanaEpi               629806 non-null  int64  \n",
      " 10  populacaoTCU2019        627412 non-null  object \n",
      " 11  casosAcumulado          629806 non-null  int64  \n",
      " 12  casosNovos              629806 non-null  int64  \n",
      " 13  obitosAcumulado         629806 non-null  int64  \n",
      " 14  obitosNovos             629806 non-null  int64  \n",
      " 15  Recuperadosnovos        91 non-null      float64\n",
      " 16  emAcompanhamentoNovos   91 non-null      float64\n",
      " 17  interior/metropolitana  623352 non-null  float64\n",
      "dtypes: float64(5), int64(7), object(6)\n",
      "memory usage: 86.5+ MB\n"
     ]
    }
   ],
   "source": [
    "covid_BR.info()"
   ]
  },
  {
   "cell_type": "code",
   "execution_count": 126,
   "metadata": {
    "slideshow": {
     "slide_type": "slide"
    }
   },
   "outputs": [
    {
     "data": {
      "text/plain": [
       "<PandasArray>\n",
       "[ nan, 'RO', 'AC', 'AM', 'RR', 'PA', 'AP', 'TO', 'MA', 'PI', 'CE', 'RN', 'PB',\n",
       " 'PE', 'AL', 'SE', 'BA', 'MG', 'ES', 'RJ', 'SP', 'PR', 'SC', 'RS', 'MS', 'MT',\n",
       " 'GO', 'DF']\n",
       "Length: 28, dtype: object"
      ]
     },
     "execution_count": 126,
     "metadata": {},
     "output_type": "execute_result"
    }
   ],
   "source": [
    "covid_BR.estado.drop_duplicates().array"
   ]
  },
  {
   "cell_type": "code",
   "execution_count": 127,
   "metadata": {
    "slideshow": {
     "slide_type": "-"
    }
   },
   "outputs": [
    {
     "data": {
      "text/plain": [
       "<PandasArray>\n",
       "['AC', 'AL', 'AM', 'AP', 'BA', 'CE', 'DF', 'ES', 'GO', 'MA', 'MG', 'MS', 'MT',\n",
       " 'PA', 'PB', 'PE', 'PI', 'PR', 'RJ', 'RN', 'RO', 'RR', 'RS', 'SC', 'SE', 'SP',\n",
       " 'TO']\n",
       "Length: 27, dtype: object"
      ]
     },
     "execution_count": 127,
     "metadata": {},
     "output_type": "execute_result"
    }
   ],
   "source": [
    "covid_BR.estado.drop_duplicates().dropna().sort_values().array"
   ]
  },
  {
   "cell_type": "markdown",
   "metadata": {
    "slideshow": {
     "slide_type": "slide"
    }
   },
   "source": [
    "## Agrupando dados por valores em colunas e agregando os resultados\n",
    "\n",
    "* Vamos determinar uma coluna para agrupar. No caso, iremos considerar o *DataFrame* **covid_BR**, vamos selecionar os estados *PB*, *PE*, *RJ*, *SP* e vamos realizar análises, agrupando os resultados por estados."
   ]
  },
  {
   "cell_type": "code",
   "execution_count": 128,
   "metadata": {
    "slideshow": {
     "slide_type": "slide"
    }
   },
   "outputs": [
    {
     "data": {
      "text/html": [
       "<div>\n",
       "<style scoped>\n",
       "    .dataframe tbody tr th:only-of-type {\n",
       "        vertical-align: middle;\n",
       "    }\n",
       "\n",
       "    .dataframe tbody tr th {\n",
       "        vertical-align: top;\n",
       "    }\n",
       "\n",
       "    .dataframe thead th {\n",
       "        text-align: right;\n",
       "    }\n",
       "</style>\n",
       "<table border=\"1\" class=\"dataframe\">\n",
       "  <thead>\n",
       "    <tr style=\"text-align: right;\">\n",
       "      <th></th>\n",
       "      <th>Unnamed: 0</th>\n",
       "      <th>regiao</th>\n",
       "      <th>estado</th>\n",
       "      <th>municipio</th>\n",
       "      <th>coduf</th>\n",
       "      <th>codmun</th>\n",
       "      <th>codRegiaoSaude</th>\n",
       "      <th>nomeRegiaoSaude</th>\n",
       "      <th>data</th>\n",
       "      <th>semanaEpi</th>\n",
       "      <th>populacaoTCU2019</th>\n",
       "      <th>casosAcumulado</th>\n",
       "      <th>casosNovos</th>\n",
       "      <th>obitosAcumulado</th>\n",
       "      <th>obitosNovos</th>\n",
       "      <th>Recuperadosnovos</th>\n",
       "      <th>emAcompanhamentoNovos</th>\n",
       "      <th>interior/metropolitana</th>\n",
       "    </tr>\n",
       "  </thead>\n",
       "  <tbody>\n",
       "    <tr>\n",
       "      <th>1740</th>\n",
       "      <td>1740</td>\n",
       "      <td>Nordeste</td>\n",
       "      <td>PB</td>\n",
       "      <td>NaN</td>\n",
       "      <td>25</td>\n",
       "      <td>NaN</td>\n",
       "      <td>NaN</td>\n",
       "      <td>NaN</td>\n",
       "      <td>2020-02-25</td>\n",
       "      <td>9</td>\n",
       "      <td>4018127</td>\n",
       "      <td>0</td>\n",
       "      <td>0</td>\n",
       "      <td>0</td>\n",
       "      <td>0</td>\n",
       "      <td>NaN</td>\n",
       "      <td>NaN</td>\n",
       "      <td>NaN</td>\n",
       "    </tr>\n",
       "    <tr>\n",
       "      <th>1741</th>\n",
       "      <td>1741</td>\n",
       "      <td>Nordeste</td>\n",
       "      <td>PB</td>\n",
       "      <td>NaN</td>\n",
       "      <td>25</td>\n",
       "      <td>NaN</td>\n",
       "      <td>NaN</td>\n",
       "      <td>NaN</td>\n",
       "      <td>2020-02-26</td>\n",
       "      <td>9</td>\n",
       "      <td>4018127</td>\n",
       "      <td>0</td>\n",
       "      <td>0</td>\n",
       "      <td>0</td>\n",
       "      <td>0</td>\n",
       "      <td>NaN</td>\n",
       "      <td>NaN</td>\n",
       "      <td>NaN</td>\n",
       "    </tr>\n",
       "    <tr>\n",
       "      <th>1742</th>\n",
       "      <td>1742</td>\n",
       "      <td>Nordeste</td>\n",
       "      <td>PB</td>\n",
       "      <td>NaN</td>\n",
       "      <td>25</td>\n",
       "      <td>NaN</td>\n",
       "      <td>NaN</td>\n",
       "      <td>NaN</td>\n",
       "      <td>2020-02-27</td>\n",
       "      <td>9</td>\n",
       "      <td>4018127</td>\n",
       "      <td>0</td>\n",
       "      <td>0</td>\n",
       "      <td>0</td>\n",
       "      <td>0</td>\n",
       "      <td>NaN</td>\n",
       "      <td>NaN</td>\n",
       "      <td>NaN</td>\n",
       "    </tr>\n",
       "    <tr>\n",
       "      <th>1743</th>\n",
       "      <td>1743</td>\n",
       "      <td>Nordeste</td>\n",
       "      <td>PB</td>\n",
       "      <td>NaN</td>\n",
       "      <td>25</td>\n",
       "      <td>NaN</td>\n",
       "      <td>NaN</td>\n",
       "      <td>NaN</td>\n",
       "      <td>2020-02-28</td>\n",
       "      <td>9</td>\n",
       "      <td>4018127</td>\n",
       "      <td>0</td>\n",
       "      <td>0</td>\n",
       "      <td>0</td>\n",
       "      <td>0</td>\n",
       "      <td>NaN</td>\n",
       "      <td>NaN</td>\n",
       "      <td>NaN</td>\n",
       "    </tr>\n",
       "    <tr>\n",
       "      <th>1744</th>\n",
       "      <td>1744</td>\n",
       "      <td>Nordeste</td>\n",
       "      <td>PB</td>\n",
       "      <td>NaN</td>\n",
       "      <td>25</td>\n",
       "      <td>NaN</td>\n",
       "      <td>NaN</td>\n",
       "      <td>NaN</td>\n",
       "      <td>2020-02-29</td>\n",
       "      <td>9</td>\n",
       "      <td>4018127</td>\n",
       "      <td>0</td>\n",
       "      <td>0</td>\n",
       "      <td>0</td>\n",
       "      <td>0</td>\n",
       "      <td>NaN</td>\n",
       "      <td>NaN</td>\n",
       "      <td>NaN</td>\n",
       "    </tr>\n",
       "    <tr>\n",
       "      <th>...</th>\n",
       "      <td>...</td>\n",
       "      <td>...</td>\n",
       "      <td>...</td>\n",
       "      <td>...</td>\n",
       "      <td>...</td>\n",
       "      <td>...</td>\n",
       "      <td>...</td>\n",
       "      <td>...</td>\n",
       "      <td>...</td>\n",
       "      <td>...</td>\n",
       "      <td>...</td>\n",
       "      <td>...</td>\n",
       "      <td>...</td>\n",
       "      <td>...</td>\n",
       "      <td>...</td>\n",
       "      <td>...</td>\n",
       "      <td>...</td>\n",
       "      <td>...</td>\n",
       "    </tr>\n",
       "    <tr>\n",
       "      <th>448655</th>\n",
       "      <td>448655</td>\n",
       "      <td>Sudeste</td>\n",
       "      <td>SP</td>\n",
       "      <td>Estiva Gerbi</td>\n",
       "      <td>35</td>\n",
       "      <td>355730.0</td>\n",
       "      <td>35141.0</td>\n",
       "      <td>BAIXA MOGIANA</td>\n",
       "      <td>2020-07-14</td>\n",
       "      <td>29</td>\n",
       "      <td>11304</td>\n",
       "      <td>62</td>\n",
       "      <td>6</td>\n",
       "      <td>3</td>\n",
       "      <td>1</td>\n",
       "      <td>NaN</td>\n",
       "      <td>NaN</td>\n",
       "      <td>0.0</td>\n",
       "    </tr>\n",
       "    <tr>\n",
       "      <th>448656</th>\n",
       "      <td>448656</td>\n",
       "      <td>Sudeste</td>\n",
       "      <td>SP</td>\n",
       "      <td>Estiva Gerbi</td>\n",
       "      <td>35</td>\n",
       "      <td>355730.0</td>\n",
       "      <td>35141.0</td>\n",
       "      <td>BAIXA MOGIANA</td>\n",
       "      <td>2020-07-15</td>\n",
       "      <td>29</td>\n",
       "      <td>11304</td>\n",
       "      <td>65</td>\n",
       "      <td>3</td>\n",
       "      <td>3</td>\n",
       "      <td>0</td>\n",
       "      <td>NaN</td>\n",
       "      <td>NaN</td>\n",
       "      <td>0.0</td>\n",
       "    </tr>\n",
       "    <tr>\n",
       "      <th>448657</th>\n",
       "      <td>448657</td>\n",
       "      <td>Sudeste</td>\n",
       "      <td>SP</td>\n",
       "      <td>Estiva Gerbi</td>\n",
       "      <td>35</td>\n",
       "      <td>355730.0</td>\n",
       "      <td>35141.0</td>\n",
       "      <td>BAIXA MOGIANA</td>\n",
       "      <td>2020-07-16</td>\n",
       "      <td>29</td>\n",
       "      <td>11304</td>\n",
       "      <td>70</td>\n",
       "      <td>5</td>\n",
       "      <td>3</td>\n",
       "      <td>0</td>\n",
       "      <td>NaN</td>\n",
       "      <td>NaN</td>\n",
       "      <td>0.0</td>\n",
       "    </tr>\n",
       "    <tr>\n",
       "      <th>448658</th>\n",
       "      <td>448658</td>\n",
       "      <td>Sudeste</td>\n",
       "      <td>SP</td>\n",
       "      <td>Estiva Gerbi</td>\n",
       "      <td>35</td>\n",
       "      <td>355730.0</td>\n",
       "      <td>35141.0</td>\n",
       "      <td>BAIXA MOGIANA</td>\n",
       "      <td>2020-07-17</td>\n",
       "      <td>29</td>\n",
       "      <td>11304</td>\n",
       "      <td>75</td>\n",
       "      <td>5</td>\n",
       "      <td>4</td>\n",
       "      <td>1</td>\n",
       "      <td>NaN</td>\n",
       "      <td>NaN</td>\n",
       "      <td>0.0</td>\n",
       "    </tr>\n",
       "    <tr>\n",
       "      <th>448659</th>\n",
       "      <td>448659</td>\n",
       "      <td>Sudeste</td>\n",
       "      <td>SP</td>\n",
       "      <td>Estiva Gerbi</td>\n",
       "      <td>35</td>\n",
       "      <td>355730.0</td>\n",
       "      <td>35141.0</td>\n",
       "      <td>BAIXA MOGIANA</td>\n",
       "      <td>2020-07-18</td>\n",
       "      <td>29</td>\n",
       "      <td>11304</td>\n",
       "      <td>75</td>\n",
       "      <td>0</td>\n",
       "      <td>4</td>\n",
       "      <td>0</td>\n",
       "      <td>NaN</td>\n",
       "      <td>NaN</td>\n",
       "      <td>0.0</td>\n",
       "    </tr>\n",
       "  </tbody>\n",
       "</table>\n",
       "<p>130768 rows × 18 columns</p>\n",
       "</div>"
      ],
      "text/plain": [
       "        Unnamed: 0    regiao estado     municipio  coduf    codmun  \\\n",
       "1740          1740  Nordeste     PB           NaN     25       NaN   \n",
       "1741          1741  Nordeste     PB           NaN     25       NaN   \n",
       "1742          1742  Nordeste     PB           NaN     25       NaN   \n",
       "1743          1743  Nordeste     PB           NaN     25       NaN   \n",
       "1744          1744  Nordeste     PB           NaN     25       NaN   \n",
       "...            ...       ...    ...           ...    ...       ...   \n",
       "448655      448655   Sudeste     SP  Estiva Gerbi     35  355730.0   \n",
       "448656      448656   Sudeste     SP  Estiva Gerbi     35  355730.0   \n",
       "448657      448657   Sudeste     SP  Estiva Gerbi     35  355730.0   \n",
       "448658      448658   Sudeste     SP  Estiva Gerbi     35  355730.0   \n",
       "448659      448659   Sudeste     SP  Estiva Gerbi     35  355730.0   \n",
       "\n",
       "        codRegiaoSaude nomeRegiaoSaude        data  semanaEpi  \\\n",
       "1740               NaN             NaN  2020-02-25          9   \n",
       "1741               NaN             NaN  2020-02-26          9   \n",
       "1742               NaN             NaN  2020-02-27          9   \n",
       "1743               NaN             NaN  2020-02-28          9   \n",
       "1744               NaN             NaN  2020-02-29          9   \n",
       "...                ...             ...         ...        ...   \n",
       "448655         35141.0   BAIXA MOGIANA  2020-07-14         29   \n",
       "448656         35141.0   BAIXA MOGIANA  2020-07-15         29   \n",
       "448657         35141.0   BAIXA MOGIANA  2020-07-16         29   \n",
       "448658         35141.0   BAIXA MOGIANA  2020-07-17         29   \n",
       "448659         35141.0   BAIXA MOGIANA  2020-07-18         29   \n",
       "\n",
       "       populacaoTCU2019  casosAcumulado  casosNovos  obitosAcumulado  \\\n",
       "1740            4018127               0           0                0   \n",
       "1741            4018127               0           0                0   \n",
       "1742            4018127               0           0                0   \n",
       "1743            4018127               0           0                0   \n",
       "1744            4018127               0           0                0   \n",
       "...                 ...             ...         ...              ...   \n",
       "448655            11304              62           6                3   \n",
       "448656            11304              65           3                3   \n",
       "448657            11304              70           5                3   \n",
       "448658            11304              75           5                4   \n",
       "448659            11304              75           0                4   \n",
       "\n",
       "        obitosNovos  Recuperadosnovos  emAcompanhamentoNovos  \\\n",
       "1740              0               NaN                    NaN   \n",
       "1741              0               NaN                    NaN   \n",
       "1742              0               NaN                    NaN   \n",
       "1743              0               NaN                    NaN   \n",
       "1744              0               NaN                    NaN   \n",
       "...             ...               ...                    ...   \n",
       "448655            1               NaN                    NaN   \n",
       "448656            0               NaN                    NaN   \n",
       "448657            0               NaN                    NaN   \n",
       "448658            1               NaN                    NaN   \n",
       "448659            0               NaN                    NaN   \n",
       "\n",
       "        interior/metropolitana  \n",
       "1740                       NaN  \n",
       "1741                       NaN  \n",
       "1742                       NaN  \n",
       "1743                       NaN  \n",
       "1744                       NaN  \n",
       "...                        ...  \n",
       "448655                     0.0  \n",
       "448656                     0.0  \n",
       "448657                     0.0  \n",
       "448658                     0.0  \n",
       "448659                     0.0  \n",
       "\n",
       "[130768 rows x 18 columns]"
      ]
     },
     "execution_count": 128,
     "metadata": {},
     "output_type": "execute_result"
    }
   ],
   "source": [
    "covid_BR.query('estado in [\"PB\", \"PE\", \"RJ\", \"SP\"]')"
   ]
  },
  {
   "cell_type": "markdown",
   "metadata": {
    "slideshow": {
     "slide_type": "slide"
    }
   },
   "source": [
    "* Dando uma inspecionada no conjunto de dados, observamos que os dados para o estado são apresentados com o valor *NaN* para **codmun** e quando **codmun** possui um valor diferente de *NaN*, o resultado é apenas para o município do código em questão.\n",
    "\n",
    "* Como estamos interessados nos valores por estado, vamos selecionar apenas os dados com **codmun** *NaN*:"
   ]
  },
  {
   "cell_type": "code",
   "execution_count": 129,
   "metadata": {
    "slideshow": {
     "slide_type": "-"
    }
   },
   "outputs": [],
   "source": [
    "covid_estados = covid_BR.query('estado in [\"PB\", \"PE\", \"RJ\", \"SP\"]')\n",
    "covid_apenas_estados = covid_estados.loc[covid_estados['codmun'].isna()]"
   ]
  },
  {
   "cell_type": "markdown",
   "metadata": {
    "slideshow": {
     "slide_type": "slide"
    }
   },
   "source": [
    "* Vamos agora apenas selecionar as colunas de interesse. Para tanto, vejamos os nomes das colunas:"
   ]
  },
  {
   "cell_type": "code",
   "execution_count": 130,
   "metadata": {},
   "outputs": [
    {
     "data": {
      "text/plain": [
       "Index(['Unnamed: 0', 'regiao', 'estado', 'municipio', 'coduf', 'codmun',\n",
       "       'codRegiaoSaude', 'nomeRegiaoSaude', 'data', 'semanaEpi',\n",
       "       'populacaoTCU2019', 'casosAcumulado', 'casosNovos', 'obitosAcumulado',\n",
       "       'obitosNovos', 'Recuperadosnovos', 'emAcompanhamentoNovos',\n",
       "       'interior/metropolitana'],\n",
       "      dtype='object')"
      ]
     },
     "execution_count": 130,
     "metadata": {},
     "output_type": "execute_result"
    }
   ],
   "source": [
    "covid_apenas_estados.columns"
   ]
  },
  {
   "cell_type": "code",
   "execution_count": 131,
   "metadata": {
    "slideshow": {
     "slide_type": "-"
    }
   },
   "outputs": [],
   "source": [
    "covid_apenas_estados = covid_apenas_estados[['estado', 'data', 'casosNovos', 'obitosNovos']]"
   ]
  },
  {
   "cell_type": "markdown",
   "metadata": {
    "slideshow": {
     "slide_type": "slide"
    }
   },
   "source": [
    "A data parece ser o *index* natural, já que o *index* atual não representa nada. Observe que termos *index* repetidos, pois teremos as mesmas datas em estados diferentes."
   ]
  },
  {
   "cell_type": "code",
   "execution_count": 132,
   "metadata": {
    "slideshow": {
     "slide_type": "-"
    }
   },
   "outputs": [
    {
     "data": {
      "text/html": [
       "<div>\n",
       "<style scoped>\n",
       "    .dataframe tbody tr th:only-of-type {\n",
       "        vertical-align: middle;\n",
       "    }\n",
       "\n",
       "    .dataframe tbody tr th {\n",
       "        vertical-align: top;\n",
       "    }\n",
       "\n",
       "    .dataframe thead th {\n",
       "        text-align: right;\n",
       "    }\n",
       "</style>\n",
       "<table border=\"1\" class=\"dataframe\">\n",
       "  <thead>\n",
       "    <tr style=\"text-align: right;\">\n",
       "      <th></th>\n",
       "      <th>estado</th>\n",
       "      <th>data</th>\n",
       "      <th>casosNovos</th>\n",
       "      <th>obitosNovos</th>\n",
       "    </tr>\n",
       "  </thead>\n",
       "  <tbody>\n",
       "    <tr>\n",
       "      <th>1740</th>\n",
       "      <td>PB</td>\n",
       "      <td>2020-02-25</td>\n",
       "      <td>0</td>\n",
       "      <td>0</td>\n",
       "    </tr>\n",
       "    <tr>\n",
       "      <th>1741</th>\n",
       "      <td>PB</td>\n",
       "      <td>2020-02-26</td>\n",
       "      <td>0</td>\n",
       "      <td>0</td>\n",
       "    </tr>\n",
       "    <tr>\n",
       "      <th>1742</th>\n",
       "      <td>PB</td>\n",
       "      <td>2020-02-27</td>\n",
       "      <td>0</td>\n",
       "      <td>0</td>\n",
       "    </tr>\n",
       "    <tr>\n",
       "      <th>1743</th>\n",
       "      <td>PB</td>\n",
       "      <td>2020-02-28</td>\n",
       "      <td>0</td>\n",
       "      <td>0</td>\n",
       "    </tr>\n",
       "    <tr>\n",
       "      <th>1744</th>\n",
       "      <td>PB</td>\n",
       "      <td>2020-02-29</td>\n",
       "      <td>0</td>\n",
       "      <td>0</td>\n",
       "    </tr>\n",
       "    <tr>\n",
       "      <th>...</th>\n",
       "      <td>...</td>\n",
       "      <td>...</td>\n",
       "      <td>...</td>\n",
       "      <td>...</td>\n",
       "    </tr>\n",
       "    <tr>\n",
       "      <th>3040</th>\n",
       "      <td>SP</td>\n",
       "      <td>2020-07-14</td>\n",
       "      <td>12000</td>\n",
       "      <td>417</td>\n",
       "    </tr>\n",
       "    <tr>\n",
       "      <th>3041</th>\n",
       "      <td>SP</td>\n",
       "      <td>2020-07-15</td>\n",
       "      <td>6569</td>\n",
       "      <td>316</td>\n",
       "    </tr>\n",
       "    <tr>\n",
       "      <th>3042</th>\n",
       "      <td>SP</td>\n",
       "      <td>2020-07-16</td>\n",
       "      <td>8872</td>\n",
       "      <td>398</td>\n",
       "    </tr>\n",
       "    <tr>\n",
       "      <th>3043</th>\n",
       "      <td>SP</td>\n",
       "      <td>2020-07-17</td>\n",
       "      <td>5367</td>\n",
       "      <td>339</td>\n",
       "    </tr>\n",
       "    <tr>\n",
       "      <th>3044</th>\n",
       "      <td>SP</td>\n",
       "      <td>2020-07-18</td>\n",
       "      <td>4612</td>\n",
       "      <td>270</td>\n",
       "    </tr>\n",
       "  </tbody>\n",
       "</table>\n",
       "<p>580 rows × 4 columns</p>\n",
       "</div>"
      ],
      "text/plain": [
       "     estado        data  casosNovos  obitosNovos\n",
       "1740     PB  2020-02-25           0            0\n",
       "1741     PB  2020-02-26           0            0\n",
       "1742     PB  2020-02-27           0            0\n",
       "1743     PB  2020-02-28           0            0\n",
       "1744     PB  2020-02-29           0            0\n",
       "...     ...         ...         ...          ...\n",
       "3040     SP  2020-07-14       12000          417\n",
       "3041     SP  2020-07-15        6569          316\n",
       "3042     SP  2020-07-16        8872          398\n",
       "3043     SP  2020-07-17        5367          339\n",
       "3044     SP  2020-07-18        4612          270\n",
       "\n",
       "[580 rows x 4 columns]"
      ]
     },
     "execution_count": 132,
     "metadata": {},
     "output_type": "execute_result"
    }
   ],
   "source": [
    "covid_apenas_estados"
   ]
  },
  {
   "cell_type": "code",
   "execution_count": 133,
   "metadata": {
    "slideshow": {
     "slide_type": "slide"
    }
   },
   "outputs": [],
   "source": [
    "covid_apenas_estados = covid_apenas_estados.set_index('data')"
   ]
  },
  {
   "cell_type": "code",
   "execution_count": 134,
   "metadata": {},
   "outputs": [
    {
     "data": {
      "text/html": [
       "<div>\n",
       "<style scoped>\n",
       "    .dataframe tbody tr th:only-of-type {\n",
       "        vertical-align: middle;\n",
       "    }\n",
       "\n",
       "    .dataframe tbody tr th {\n",
       "        vertical-align: top;\n",
       "    }\n",
       "\n",
       "    .dataframe thead th {\n",
       "        text-align: right;\n",
       "    }\n",
       "</style>\n",
       "<table border=\"1\" class=\"dataframe\">\n",
       "  <thead>\n",
       "    <tr style=\"text-align: right;\">\n",
       "      <th></th>\n",
       "      <th>estado</th>\n",
       "      <th>casosNovos</th>\n",
       "      <th>obitosNovos</th>\n",
       "    </tr>\n",
       "    <tr>\n",
       "      <th>data</th>\n",
       "      <th></th>\n",
       "      <th></th>\n",
       "      <th></th>\n",
       "    </tr>\n",
       "  </thead>\n",
       "  <tbody>\n",
       "    <tr>\n",
       "      <th>2020-02-25</th>\n",
       "      <td>PB</td>\n",
       "      <td>0</td>\n",
       "      <td>0</td>\n",
       "    </tr>\n",
       "    <tr>\n",
       "      <th>2020-02-26</th>\n",
       "      <td>PB</td>\n",
       "      <td>0</td>\n",
       "      <td>0</td>\n",
       "    </tr>\n",
       "    <tr>\n",
       "      <th>2020-02-27</th>\n",
       "      <td>PB</td>\n",
       "      <td>0</td>\n",
       "      <td>0</td>\n",
       "    </tr>\n",
       "    <tr>\n",
       "      <th>2020-02-28</th>\n",
       "      <td>PB</td>\n",
       "      <td>0</td>\n",
       "      <td>0</td>\n",
       "    </tr>\n",
       "    <tr>\n",
       "      <th>2020-02-29</th>\n",
       "      <td>PB</td>\n",
       "      <td>0</td>\n",
       "      <td>0</td>\n",
       "    </tr>\n",
       "    <tr>\n",
       "      <th>...</th>\n",
       "      <td>...</td>\n",
       "      <td>...</td>\n",
       "      <td>...</td>\n",
       "    </tr>\n",
       "    <tr>\n",
       "      <th>2020-07-14</th>\n",
       "      <td>SP</td>\n",
       "      <td>12000</td>\n",
       "      <td>417</td>\n",
       "    </tr>\n",
       "    <tr>\n",
       "      <th>2020-07-15</th>\n",
       "      <td>SP</td>\n",
       "      <td>6569</td>\n",
       "      <td>316</td>\n",
       "    </tr>\n",
       "    <tr>\n",
       "      <th>2020-07-16</th>\n",
       "      <td>SP</td>\n",
       "      <td>8872</td>\n",
       "      <td>398</td>\n",
       "    </tr>\n",
       "    <tr>\n",
       "      <th>2020-07-17</th>\n",
       "      <td>SP</td>\n",
       "      <td>5367</td>\n",
       "      <td>339</td>\n",
       "    </tr>\n",
       "    <tr>\n",
       "      <th>2020-07-18</th>\n",
       "      <td>SP</td>\n",
       "      <td>4612</td>\n",
       "      <td>270</td>\n",
       "    </tr>\n",
       "  </tbody>\n",
       "</table>\n",
       "<p>580 rows × 3 columns</p>\n",
       "</div>"
      ],
      "text/plain": [
       "           estado  casosNovos  obitosNovos\n",
       "data                                      \n",
       "2020-02-25     PB           0            0\n",
       "2020-02-26     PB           0            0\n",
       "2020-02-27     PB           0            0\n",
       "2020-02-28     PB           0            0\n",
       "2020-02-29     PB           0            0\n",
       "...           ...         ...          ...\n",
       "2020-07-14     SP       12000          417\n",
       "2020-07-15     SP        6569          316\n",
       "2020-07-16     SP        8872          398\n",
       "2020-07-17     SP        5367          339\n",
       "2020-07-18     SP        4612          270\n",
       "\n",
       "[580 rows x 3 columns]"
      ]
     },
     "execution_count": 134,
     "metadata": {},
     "output_type": "execute_result"
    }
   ],
   "source": [
    "covid_apenas_estados"
   ]
  },
  {
   "cell_type": "markdown",
   "metadata": {
    "slideshow": {
     "slide_type": "slide"
    }
   },
   "source": [
    "## Agrupando com o método *groupby*\n",
    "\n",
    "Podemos escolher uma (ou mais colunas, incluindo o índice) para agrupar os dados. Ao agruparmos os dados, receberemos um objeto do tipo DataFrameGroupBy. Para vermos os resultados, devemos agregar os valores:"
   ]
  },
  {
   "cell_type": "code",
   "execution_count": 135,
   "metadata": {},
   "outputs": [],
   "source": [
    "covid_estados_agrupado = covid_apenas_estados.groupby('estado')"
   ]
  },
  {
   "cell_type": "code",
   "execution_count": 136,
   "metadata": {},
   "outputs": [
    {
     "data": {
      "text/html": [
       "<div>\n",
       "<style scoped>\n",
       "    .dataframe tbody tr th:only-of-type {\n",
       "        vertical-align: middle;\n",
       "    }\n",
       "\n",
       "    .dataframe tbody tr th {\n",
       "        vertical-align: top;\n",
       "    }\n",
       "\n",
       "    .dataframe thead th {\n",
       "        text-align: right;\n",
       "    }\n",
       "</style>\n",
       "<table border=\"1\" class=\"dataframe\">\n",
       "  <thead>\n",
       "    <tr style=\"text-align: right;\">\n",
       "      <th></th>\n",
       "      <th>Casos Totais</th>\n",
       "      <th>Obitos Totais</th>\n",
       "    </tr>\n",
       "    <tr>\n",
       "      <th>estado</th>\n",
       "      <th></th>\n",
       "      <th></th>\n",
       "    </tr>\n",
       "  </thead>\n",
       "  <tbody>\n",
       "    <tr>\n",
       "      <th>PB</th>\n",
       "      <td>66971</td>\n",
       "      <td>1477</td>\n",
       "    </tr>\n",
       "    <tr>\n",
       "      <th>PE</th>\n",
       "      <td>78509</td>\n",
       "      <td>5928</td>\n",
       "    </tr>\n",
       "    <tr>\n",
       "      <th>RJ</th>\n",
       "      <td>135230</td>\n",
       "      <td>11919</td>\n",
       "    </tr>\n",
       "    <tr>\n",
       "      <th>SP</th>\n",
       "      <td>412027</td>\n",
       "      <td>19647</td>\n",
       "    </tr>\n",
       "  </tbody>\n",
       "</table>\n",
       "</div>"
      ],
      "text/plain": [
       "        Casos Totais  Obitos Totais\n",
       "estado                             \n",
       "PB             66971           1477\n",
       "PE             78509           5928\n",
       "RJ            135230          11919\n",
       "SP            412027          19647"
      ]
     },
     "execution_count": 136,
     "metadata": {},
     "output_type": "execute_result"
    }
   ],
   "source": [
    "covid_estados_agrupado.sum().rename({'casosNovos':'Casos Totais', 'obitosNovos':'Obitos Totais'},axis=1)"
   ]
  },
  {
   "cell_type": "markdown",
   "metadata": {
    "slideshow": {
     "slide_type": "slide"
    }
   },
   "source": [
    "Podemos agrupar por mais de uma coluna. Vamos fazer dois grupos. *grupo_1* formado por PB e PE e *grupo_2* formado por RJ e SP. Em seguida, vamos agrupar por grupo e por data:"
   ]
  },
  {
   "cell_type": "code",
   "execution_count": 137,
   "metadata": {},
   "outputs": [],
   "source": [
    "covid_estados_grupos = covid_apenas_estados.copy()\n",
    "col_grupos = covid_estados_grupos.estado.map(lambda estado: 'grupo_1' if estado in ['PB','PE']\n",
    "                                                  else 'grupo_2')\n",
    "covid_estados_grupos['grupo'] = col_grupos"
   ]
  },
  {
   "cell_type": "code",
   "execution_count": 138,
   "metadata": {},
   "outputs": [
    {
     "data": {
      "text/html": [
       "<div>\n",
       "<style scoped>\n",
       "    .dataframe tbody tr th:only-of-type {\n",
       "        vertical-align: middle;\n",
       "    }\n",
       "\n",
       "    .dataframe tbody tr th {\n",
       "        vertical-align: top;\n",
       "    }\n",
       "\n",
       "    .dataframe thead th {\n",
       "        text-align: right;\n",
       "    }\n",
       "</style>\n",
       "<table border=\"1\" class=\"dataframe\">\n",
       "  <thead>\n",
       "    <tr style=\"text-align: right;\">\n",
       "      <th></th>\n",
       "      <th>estado</th>\n",
       "      <th>casosNovos</th>\n",
       "      <th>obitosNovos</th>\n",
       "      <th>grupo</th>\n",
       "    </tr>\n",
       "    <tr>\n",
       "      <th>data</th>\n",
       "      <th></th>\n",
       "      <th></th>\n",
       "      <th></th>\n",
       "      <th></th>\n",
       "    </tr>\n",
       "  </thead>\n",
       "  <tbody>\n",
       "    <tr>\n",
       "      <th>2020-02-25</th>\n",
       "      <td>PB</td>\n",
       "      <td>0</td>\n",
       "      <td>0</td>\n",
       "      <td>grupo_1</td>\n",
       "    </tr>\n",
       "    <tr>\n",
       "      <th>2020-02-26</th>\n",
       "      <td>PB</td>\n",
       "      <td>0</td>\n",
       "      <td>0</td>\n",
       "      <td>grupo_1</td>\n",
       "    </tr>\n",
       "    <tr>\n",
       "      <th>2020-02-27</th>\n",
       "      <td>PB</td>\n",
       "      <td>0</td>\n",
       "      <td>0</td>\n",
       "      <td>grupo_1</td>\n",
       "    </tr>\n",
       "    <tr>\n",
       "      <th>2020-02-28</th>\n",
       "      <td>PB</td>\n",
       "      <td>0</td>\n",
       "      <td>0</td>\n",
       "      <td>grupo_1</td>\n",
       "    </tr>\n",
       "    <tr>\n",
       "      <th>2020-02-29</th>\n",
       "      <td>PB</td>\n",
       "      <td>0</td>\n",
       "      <td>0</td>\n",
       "      <td>grupo_1</td>\n",
       "    </tr>\n",
       "    <tr>\n",
       "      <th>...</th>\n",
       "      <td>...</td>\n",
       "      <td>...</td>\n",
       "      <td>...</td>\n",
       "      <td>...</td>\n",
       "    </tr>\n",
       "    <tr>\n",
       "      <th>2020-07-14</th>\n",
       "      <td>SP</td>\n",
       "      <td>12000</td>\n",
       "      <td>417</td>\n",
       "      <td>grupo_2</td>\n",
       "    </tr>\n",
       "    <tr>\n",
       "      <th>2020-07-15</th>\n",
       "      <td>SP</td>\n",
       "      <td>6569</td>\n",
       "      <td>316</td>\n",
       "      <td>grupo_2</td>\n",
       "    </tr>\n",
       "    <tr>\n",
       "      <th>2020-07-16</th>\n",
       "      <td>SP</td>\n",
       "      <td>8872</td>\n",
       "      <td>398</td>\n",
       "      <td>grupo_2</td>\n",
       "    </tr>\n",
       "    <tr>\n",
       "      <th>2020-07-17</th>\n",
       "      <td>SP</td>\n",
       "      <td>5367</td>\n",
       "      <td>339</td>\n",
       "      <td>grupo_2</td>\n",
       "    </tr>\n",
       "    <tr>\n",
       "      <th>2020-07-18</th>\n",
       "      <td>SP</td>\n",
       "      <td>4612</td>\n",
       "      <td>270</td>\n",
       "      <td>grupo_2</td>\n",
       "    </tr>\n",
       "  </tbody>\n",
       "</table>\n",
       "<p>580 rows × 4 columns</p>\n",
       "</div>"
      ],
      "text/plain": [
       "           estado  casosNovos  obitosNovos    grupo\n",
       "data                                               \n",
       "2020-02-25     PB           0            0  grupo_1\n",
       "2020-02-26     PB           0            0  grupo_1\n",
       "2020-02-27     PB           0            0  grupo_1\n",
       "2020-02-28     PB           0            0  grupo_1\n",
       "2020-02-29     PB           0            0  grupo_1\n",
       "...           ...         ...          ...      ...\n",
       "2020-07-14     SP       12000          417  grupo_2\n",
       "2020-07-15     SP        6569          316  grupo_2\n",
       "2020-07-16     SP        8872          398  grupo_2\n",
       "2020-07-17     SP        5367          339  grupo_2\n",
       "2020-07-18     SP        4612          270  grupo_2\n",
       "\n",
       "[580 rows x 4 columns]"
      ]
     },
     "execution_count": 138,
     "metadata": {},
     "output_type": "execute_result"
    }
   ],
   "source": [
    "covid_estados_grupos"
   ]
  },
  {
   "cell_type": "markdown",
   "metadata": {
    "slideshow": {
     "slide_type": "slide"
    }
   },
   "source": [
    "Agora vamos agrupar e agregar:"
   ]
  },
  {
   "cell_type": "code",
   "execution_count": 139,
   "metadata": {},
   "outputs": [],
   "source": [
    "covid_grupo_agrupado = covid_estados_grupos.groupby(['grupo','data'])"
   ]
  },
  {
   "cell_type": "code",
   "execution_count": 140,
   "metadata": {},
   "outputs": [
    {
     "data": {
      "text/html": [
       "<div>\n",
       "<style scoped>\n",
       "    .dataframe tbody tr th:only-of-type {\n",
       "        vertical-align: middle;\n",
       "    }\n",
       "\n",
       "    .dataframe tbody tr th {\n",
       "        vertical-align: top;\n",
       "    }\n",
       "\n",
       "    .dataframe thead th {\n",
       "        text-align: right;\n",
       "    }\n",
       "</style>\n",
       "<table border=\"1\" class=\"dataframe\">\n",
       "  <thead>\n",
       "    <tr style=\"text-align: right;\">\n",
       "      <th></th>\n",
       "      <th></th>\n",
       "      <th>casosNovos</th>\n",
       "      <th>obitosNovos</th>\n",
       "    </tr>\n",
       "    <tr>\n",
       "      <th>grupo</th>\n",
       "      <th>data</th>\n",
       "      <th></th>\n",
       "      <th></th>\n",
       "    </tr>\n",
       "  </thead>\n",
       "  <tbody>\n",
       "    <tr>\n",
       "      <th rowspan=\"5\" valign=\"top\">grupo_1</th>\n",
       "      <th>2020-02-25</th>\n",
       "      <td>0</td>\n",
       "      <td>0</td>\n",
       "    </tr>\n",
       "    <tr>\n",
       "      <th>2020-02-26</th>\n",
       "      <td>0</td>\n",
       "      <td>0</td>\n",
       "    </tr>\n",
       "    <tr>\n",
       "      <th>2020-02-27</th>\n",
       "      <td>0</td>\n",
       "      <td>0</td>\n",
       "    </tr>\n",
       "    <tr>\n",
       "      <th>2020-02-28</th>\n",
       "      <td>0</td>\n",
       "      <td>0</td>\n",
       "    </tr>\n",
       "    <tr>\n",
       "      <th>2020-02-29</th>\n",
       "      <td>0</td>\n",
       "      <td>0</td>\n",
       "    </tr>\n",
       "    <tr>\n",
       "      <th>...</th>\n",
       "      <th>...</th>\n",
       "      <td>...</td>\n",
       "      <td>...</td>\n",
       "    </tr>\n",
       "    <tr>\n",
       "      <th rowspan=\"5\" valign=\"top\">grupo_2</th>\n",
       "      <th>2020-07-14</th>\n",
       "      <td>12778</td>\n",
       "      <td>567</td>\n",
       "    </tr>\n",
       "    <tr>\n",
       "      <th>2020-07-15</th>\n",
       "      <td>8196</td>\n",
       "      <td>449</td>\n",
       "    </tr>\n",
       "    <tr>\n",
       "      <th>2020-07-16</th>\n",
       "      <td>8996</td>\n",
       "      <td>490</td>\n",
       "    </tr>\n",
       "    <tr>\n",
       "      <th>2020-07-17</th>\n",
       "      <td>6024</td>\n",
       "      <td>409</td>\n",
       "    </tr>\n",
       "    <tr>\n",
       "      <th>2020-07-18</th>\n",
       "      <td>4612</td>\n",
       "      <td>270</td>\n",
       "    </tr>\n",
       "  </tbody>\n",
       "</table>\n",
       "<p>290 rows × 2 columns</p>\n",
       "</div>"
      ],
      "text/plain": [
       "                    casosNovos  obitosNovos\n",
       "grupo   data                               \n",
       "grupo_1 2020-02-25           0            0\n",
       "        2020-02-26           0            0\n",
       "        2020-02-27           0            0\n",
       "        2020-02-28           0            0\n",
       "        2020-02-29           0            0\n",
       "...                        ...          ...\n",
       "grupo_2 2020-07-14       12778          567\n",
       "        2020-07-15        8196          449\n",
       "        2020-07-16        8996          490\n",
       "        2020-07-17        6024          409\n",
       "        2020-07-18        4612          270\n",
       "\n",
       "[290 rows x 2 columns]"
      ]
     },
     "execution_count": 140,
     "metadata": {},
     "output_type": "execute_result"
    }
   ],
   "source": [
    "covid_grupo_agrupado.sum()"
   ]
  },
  {
   "cell_type": "markdown",
   "metadata": {
    "slideshow": {
     "slide_type": "slide"
    }
   },
   "source": [
    "## Mesclando *DataFrames* \n",
    "\n",
    "* Vamos agora ver algumas formas de juntar dois ou mais *DataFrames* com *index* ou colunas em comum para formar um novo *DataFrame*.\n"
   ]
  },
  {
   "cell_type": "markdown",
   "metadata": {
    "slideshow": {
     "slide_type": "slide"
    }
   },
   "source": [
    "### Mesclando *DataFrames* através de concatenações\n",
    "\n",
    "* Concatenar nada mais é do que \"colar\" dois ou mais *DataFrames*. Podemos concatenar por linhas ou por colunas.\n",
    "\n",
    "* A função que realiza a concatenação é **concat**. Os dois argumentos mais utilizados são a lista de *DataFrames* a serem concatenados e **axis**, onde *axis = 0* indica concatenação por linha (um *DataFrame* \"embaixo\" do outro) e *axis=1* indica concatenação por coluna (um *DataFrame* ao lado do outro)."
   ]
  },
  {
   "cell_type": "markdown",
   "metadata": {
    "slideshow": {
     "slide_type": "slide"
    }
   },
   "source": [
    "Relembre do *DataFrame* *df_dict_series*:"
   ]
  },
  {
   "cell_type": "code",
   "execution_count": 141,
   "metadata": {},
   "outputs": [
    {
     "data": {
      "text/html": [
       "<div>\n",
       "<style scoped>\n",
       "    .dataframe tbody tr th:only-of-type {\n",
       "        vertical-align: middle;\n",
       "    }\n",
       "\n",
       "    .dataframe tbody tr th {\n",
       "        vertical-align: top;\n",
       "    }\n",
       "\n",
       "    .dataframe thead th {\n",
       "        text-align: right;\n",
       "    }\n",
       "</style>\n",
       "<table border=\"1\" class=\"dataframe\">\n",
       "  <thead>\n",
       "    <tr style=\"text-align: right;\">\n",
       "      <th></th>\n",
       "      <th>Idade</th>\n",
       "      <th>Peso</th>\n",
       "      <th>Altura</th>\n",
       "      <th>IMC</th>\n",
       "      <th>Sobrenome</th>\n",
       "    </tr>\n",
       "  </thead>\n",
       "  <tbody>\n",
       "    <tr>\n",
       "      <th>Ana</th>\n",
       "      <td>20</td>\n",
       "      <td>65</td>\n",
       "      <td>162</td>\n",
       "      <td>24.77</td>\n",
       "      <td>Silva</td>\n",
       "    </tr>\n",
       "    <tr>\n",
       "      <th>João</th>\n",
       "      <td>19</td>\n",
       "      <td>80</td>\n",
       "      <td>178</td>\n",
       "      <td>25.25</td>\n",
       "      <td>PraDo</td>\n",
       "    </tr>\n",
       "    <tr>\n",
       "      <th>Maria</th>\n",
       "      <td>21</td>\n",
       "      <td>62</td>\n",
       "      <td>162</td>\n",
       "      <td>23.62</td>\n",
       "      <td>Sales</td>\n",
       "    </tr>\n",
       "    <tr>\n",
       "      <th>Pedro</th>\n",
       "      <td>22</td>\n",
       "      <td>67</td>\n",
       "      <td>165</td>\n",
       "      <td>24.61</td>\n",
       "      <td>MachadO</td>\n",
       "    </tr>\n",
       "    <tr>\n",
       "      <th>Túlio</th>\n",
       "      <td>20</td>\n",
       "      <td>73</td>\n",
       "      <td>171</td>\n",
       "      <td>24.96</td>\n",
       "      <td>Coutinho</td>\n",
       "    </tr>\n",
       "  </tbody>\n",
       "</table>\n",
       "</div>"
      ],
      "text/plain": [
       "       Idade  Peso  Altura    IMC Sobrenome\n",
       "Ana       20    65     162  24.77     Silva\n",
       "João      19    80     178  25.25     PraDo\n",
       "Maria     21    62     162  23.62     Sales\n",
       "Pedro     22    67     165  24.61   MachadO\n",
       "Túlio     20    73     171  24.96  Coutinho"
      ]
     },
     "execution_count": 141,
     "metadata": {},
     "output_type": "execute_result"
    }
   ],
   "source": [
    "df_dict_series"
   ]
  },
  {
   "cell_type": "markdown",
   "metadata": {
    "slideshow": {
     "slide_type": "slide"
    }
   },
   "source": [
    "Vamos criar um novo, com novas pessoas:"
   ]
  },
  {
   "cell_type": "code",
   "execution_count": 142,
   "metadata": {
    "slideshow": {
     "slide_type": "-"
    }
   },
   "outputs": [],
   "source": [
    "serie_Idade_nova = pd.Series({'Augusto':13, 'André': 17, 'Alexandre': 45}, name=\"Idade\")\n",
    "serie_Peso_novo = pd.Series({'Augusto':95, 'André': 65, 'Alexandre': 83}, name=\"Peso\")\n",
    "serie_Altura_nova = pd.Series({'Augusto':192, 'André': 175, 'Alexandre': 177}, name=\"Altura\")\n",
    "serie_sobrenome = pd.Series({'Augusto':'Castro', 'André':'Castro', 'Alexandre':'Castro'}, name='Sobrenome')\n",
    "dicionario_novo = {'Sobrenome':serie_sobrenome, 'Peso': serie_Peso_novo, \n",
    "                   'Idade': serie_Idade_nova, 'Altura': serie_Altura_nova}\n",
    "df_novo = pd.DataFrame(dicionario_novo)\n",
    "df_novo = df_novo.assign(IMC=round(df_novo.eval('Peso/(Altura/100)**2'),2))"
   ]
  },
  {
   "cell_type": "code",
   "execution_count": 143,
   "metadata": {},
   "outputs": [
    {
     "data": {
      "text/html": [
       "<div>\n",
       "<style scoped>\n",
       "    .dataframe tbody tr th:only-of-type {\n",
       "        vertical-align: middle;\n",
       "    }\n",
       "\n",
       "    .dataframe tbody tr th {\n",
       "        vertical-align: top;\n",
       "    }\n",
       "\n",
       "    .dataframe thead th {\n",
       "        text-align: right;\n",
       "    }\n",
       "</style>\n",
       "<table border=\"1\" class=\"dataframe\">\n",
       "  <thead>\n",
       "    <tr style=\"text-align: right;\">\n",
       "      <th></th>\n",
       "      <th>Sobrenome</th>\n",
       "      <th>Peso</th>\n",
       "      <th>Idade</th>\n",
       "      <th>Altura</th>\n",
       "      <th>IMC</th>\n",
       "    </tr>\n",
       "  </thead>\n",
       "  <tbody>\n",
       "    <tr>\n",
       "      <th>Augusto</th>\n",
       "      <td>Castro</td>\n",
       "      <td>95</td>\n",
       "      <td>13</td>\n",
       "      <td>192</td>\n",
       "      <td>25.77</td>\n",
       "    </tr>\n",
       "    <tr>\n",
       "      <th>André</th>\n",
       "      <td>Castro</td>\n",
       "      <td>65</td>\n",
       "      <td>17</td>\n",
       "      <td>175</td>\n",
       "      <td>21.22</td>\n",
       "    </tr>\n",
       "    <tr>\n",
       "      <th>Alexandre</th>\n",
       "      <td>Castro</td>\n",
       "      <td>83</td>\n",
       "      <td>45</td>\n",
       "      <td>177</td>\n",
       "      <td>26.49</td>\n",
       "    </tr>\n",
       "  </tbody>\n",
       "</table>\n",
       "</div>"
      ],
      "text/plain": [
       "          Sobrenome  Peso  Idade  Altura    IMC\n",
       "Augusto      Castro    95     13     192  25.77\n",
       "André        Castro    65     17     175  21.22\n",
       "Alexandre    Castro    83     45     177  26.49"
      ]
     },
     "execution_count": 143,
     "metadata": {},
     "output_type": "execute_result"
    }
   ],
   "source": [
    "df_novo"
   ]
  },
  {
   "cell_type": "markdown",
   "metadata": {
    "slideshow": {
     "slide_type": "slide"
    }
   },
   "source": [
    "Agora vamos concatená-los:"
   ]
  },
  {
   "cell_type": "code",
   "execution_count": 144,
   "metadata": {},
   "outputs": [
    {
     "data": {
      "text/html": [
       "<div>\n",
       "<style scoped>\n",
       "    .dataframe tbody tr th:only-of-type {\n",
       "        vertical-align: middle;\n",
       "    }\n",
       "\n",
       "    .dataframe tbody tr th {\n",
       "        vertical-align: top;\n",
       "    }\n",
       "\n",
       "    .dataframe thead th {\n",
       "        text-align: right;\n",
       "    }\n",
       "</style>\n",
       "<table border=\"1\" class=\"dataframe\">\n",
       "  <thead>\n",
       "    <tr style=\"text-align: right;\">\n",
       "      <th></th>\n",
       "      <th>Idade</th>\n",
       "      <th>Peso</th>\n",
       "      <th>Altura</th>\n",
       "      <th>IMC</th>\n",
       "      <th>Sobrenome</th>\n",
       "    </tr>\n",
       "  </thead>\n",
       "  <tbody>\n",
       "    <tr>\n",
       "      <th>Ana</th>\n",
       "      <td>20</td>\n",
       "      <td>65</td>\n",
       "      <td>162</td>\n",
       "      <td>24.77</td>\n",
       "      <td>Silva</td>\n",
       "    </tr>\n",
       "    <tr>\n",
       "      <th>João</th>\n",
       "      <td>19</td>\n",
       "      <td>80</td>\n",
       "      <td>178</td>\n",
       "      <td>25.25</td>\n",
       "      <td>PraDo</td>\n",
       "    </tr>\n",
       "    <tr>\n",
       "      <th>Maria</th>\n",
       "      <td>21</td>\n",
       "      <td>62</td>\n",
       "      <td>162</td>\n",
       "      <td>23.62</td>\n",
       "      <td>Sales</td>\n",
       "    </tr>\n",
       "    <tr>\n",
       "      <th>Pedro</th>\n",
       "      <td>22</td>\n",
       "      <td>67</td>\n",
       "      <td>165</td>\n",
       "      <td>24.61</td>\n",
       "      <td>MachadO</td>\n",
       "    </tr>\n",
       "    <tr>\n",
       "      <th>Túlio</th>\n",
       "      <td>20</td>\n",
       "      <td>73</td>\n",
       "      <td>171</td>\n",
       "      <td>24.96</td>\n",
       "      <td>Coutinho</td>\n",
       "    </tr>\n",
       "    <tr>\n",
       "      <th>Augusto</th>\n",
       "      <td>13</td>\n",
       "      <td>95</td>\n",
       "      <td>192</td>\n",
       "      <td>25.77</td>\n",
       "      <td>Castro</td>\n",
       "    </tr>\n",
       "    <tr>\n",
       "      <th>André</th>\n",
       "      <td>17</td>\n",
       "      <td>65</td>\n",
       "      <td>175</td>\n",
       "      <td>21.22</td>\n",
       "      <td>Castro</td>\n",
       "    </tr>\n",
       "    <tr>\n",
       "      <th>Alexandre</th>\n",
       "      <td>45</td>\n",
       "      <td>83</td>\n",
       "      <td>177</td>\n",
       "      <td>26.49</td>\n",
       "      <td>Castro</td>\n",
       "    </tr>\n",
       "  </tbody>\n",
       "</table>\n",
       "</div>"
      ],
      "text/plain": [
       "           Idade  Peso  Altura    IMC Sobrenome\n",
       "Ana           20    65     162  24.77     Silva\n",
       "João          19    80     178  25.25     PraDo\n",
       "Maria         21    62     162  23.62     Sales\n",
       "Pedro         22    67     165  24.61   MachadO\n",
       "Túlio         20    73     171  24.96  Coutinho\n",
       "Augusto       13    95     192  25.77    Castro\n",
       "André         17    65     175  21.22    Castro\n",
       "Alexandre     45    83     177  26.49    Castro"
      ]
     },
     "execution_count": 144,
     "metadata": {},
     "output_type": "execute_result"
    }
   ],
   "source": [
    "pd.concat([df_dict_series,df_novo]) "
   ]
  },
  {
   "cell_type": "markdown",
   "metadata": {
    "slideshow": {
     "slide_type": "slide"
    }
   },
   "source": [
    "### Concatenando por coluna\n",
    "\n",
    "Para exemplificar vamos considerar os dados de COVID da Paraíba, selecionando casos novos e óbitos novos, e vamos obter dos dados do Brasil apenas os casos e óbitos diários do país, e vamos concatená-los por coluna."
   ]
  },
  {
   "cell_type": "code",
   "execution_count": 145,
   "metadata": {},
   "outputs": [],
   "source": [
    "covid_PB_casos_obitos = dados_covid_PB[['casosNovos','obitosNovos']]"
   ]
  },
  {
   "cell_type": "markdown",
   "metadata": {
    "slideshow": {
     "slide_type": "slide"
    }
   },
   "source": [
    "Vamos tratar os dados do Brasil:"
   ]
  },
  {
   "cell_type": "code",
   "execution_count": 146,
   "metadata": {},
   "outputs": [],
   "source": [
    "covid_BR_casos_obitos = covid_BR.query('regiao==\"Brasil\"')\n",
    "covid_BR_casos_obitos = covid_BR_casos_obitos.set_index('data')\n",
    "covid_BR_casos_obitos = covid_BR_casos_obitos[['casosNovos','obitosNovos']].rename({\n",
    "    'casosNovos':'casosBR', 'obitosNovos':'obitosBR'\n",
    "}, axis=1)"
   ]
  },
  {
   "cell_type": "code",
   "execution_count": 147,
   "metadata": {
    "slideshow": {
     "slide_type": "slide"
    }
   },
   "outputs": [
    {
     "data": {
      "text/html": [
       "<div>\n",
       "<style scoped>\n",
       "    .dataframe tbody tr th:only-of-type {\n",
       "        vertical-align: middle;\n",
       "    }\n",
       "\n",
       "    .dataframe tbody tr th {\n",
       "        vertical-align: top;\n",
       "    }\n",
       "\n",
       "    .dataframe thead th {\n",
       "        text-align: right;\n",
       "    }\n",
       "</style>\n",
       "<table border=\"1\" class=\"dataframe\">\n",
       "  <thead>\n",
       "    <tr style=\"text-align: right;\">\n",
       "      <th></th>\n",
       "      <th>casosNovos</th>\n",
       "      <th>obitosNovos</th>\n",
       "    </tr>\n",
       "    <tr>\n",
       "      <th>data</th>\n",
       "      <th></th>\n",
       "      <th></th>\n",
       "    </tr>\n",
       "  </thead>\n",
       "  <tbody>\n",
       "    <tr>\n",
       "      <th>2021-02-02</th>\n",
       "      <td>867</td>\n",
       "      <td>14</td>\n",
       "    </tr>\n",
       "    <tr>\n",
       "      <th>2021-02-01</th>\n",
       "      <td>1014</td>\n",
       "      <td>12</td>\n",
       "    </tr>\n",
       "    <tr>\n",
       "      <th>2021-01-31</th>\n",
       "      <td>1104</td>\n",
       "      <td>8</td>\n",
       "    </tr>\n",
       "    <tr>\n",
       "      <th>2021-01-30</th>\n",
       "      <td>1065</td>\n",
       "      <td>12</td>\n",
       "    </tr>\n",
       "    <tr>\n",
       "      <th>2021-01-29</th>\n",
       "      <td>1125</td>\n",
       "      <td>11</td>\n",
       "    </tr>\n",
       "    <tr>\n",
       "      <th>...</th>\n",
       "      <td>...</td>\n",
       "      <td>...</td>\n",
       "    </tr>\n",
       "    <tr>\n",
       "      <th>2020-03-20</th>\n",
       "      <td>0</td>\n",
       "      <td>0</td>\n",
       "    </tr>\n",
       "    <tr>\n",
       "      <th>2020-03-19</th>\n",
       "      <td>0</td>\n",
       "      <td>0</td>\n",
       "    </tr>\n",
       "    <tr>\n",
       "      <th>2020-03-18</th>\n",
       "      <td>0</td>\n",
       "      <td>0</td>\n",
       "    </tr>\n",
       "    <tr>\n",
       "      <th>2020-03-17</th>\n",
       "      <td>0</td>\n",
       "      <td>0</td>\n",
       "    </tr>\n",
       "    <tr>\n",
       "      <th>2020-03-16</th>\n",
       "      <td>0</td>\n",
       "      <td>0</td>\n",
       "    </tr>\n",
       "  </tbody>\n",
       "</table>\n",
       "<p>324 rows × 2 columns</p>\n",
       "</div>"
      ],
      "text/plain": [
       "            casosNovos  obitosNovos\n",
       "data                               \n",
       "2021-02-02         867           14\n",
       "2021-02-01        1014           12\n",
       "2021-01-31        1104            8\n",
       "2021-01-30        1065           12\n",
       "2021-01-29        1125           11\n",
       "...                ...          ...\n",
       "2020-03-20           0            0\n",
       "2020-03-19           0            0\n",
       "2020-03-18           0            0\n",
       "2020-03-17           0            0\n",
       "2020-03-16           0            0\n",
       "\n",
       "[324 rows x 2 columns]"
      ]
     },
     "execution_count": 147,
     "metadata": {},
     "output_type": "execute_result"
    }
   ],
   "source": [
    "covid_PB_casos_obitos"
   ]
  },
  {
   "cell_type": "code",
   "execution_count": 148,
   "metadata": {
    "slideshow": {
     "slide_type": "slide"
    }
   },
   "outputs": [
    {
     "data": {
      "text/html": [
       "<div>\n",
       "<style scoped>\n",
       "    .dataframe tbody tr th:only-of-type {\n",
       "        vertical-align: middle;\n",
       "    }\n",
       "\n",
       "    .dataframe tbody tr th {\n",
       "        vertical-align: top;\n",
       "    }\n",
       "\n",
       "    .dataframe thead th {\n",
       "        text-align: right;\n",
       "    }\n",
       "</style>\n",
       "<table border=\"1\" class=\"dataframe\">\n",
       "  <thead>\n",
       "    <tr style=\"text-align: right;\">\n",
       "      <th></th>\n",
       "      <th>casosBR</th>\n",
       "      <th>obitosBR</th>\n",
       "    </tr>\n",
       "    <tr>\n",
       "      <th>data</th>\n",
       "      <th></th>\n",
       "      <th></th>\n",
       "    </tr>\n",
       "  </thead>\n",
       "  <tbody>\n",
       "    <tr>\n",
       "      <th>2020-02-25</th>\n",
       "      <td>0</td>\n",
       "      <td>0</td>\n",
       "    </tr>\n",
       "    <tr>\n",
       "      <th>2020-02-26</th>\n",
       "      <td>1</td>\n",
       "      <td>0</td>\n",
       "    </tr>\n",
       "    <tr>\n",
       "      <th>2020-02-27</th>\n",
       "      <td>0</td>\n",
       "      <td>0</td>\n",
       "    </tr>\n",
       "    <tr>\n",
       "      <th>2020-02-28</th>\n",
       "      <td>0</td>\n",
       "      <td>0</td>\n",
       "    </tr>\n",
       "    <tr>\n",
       "      <th>2020-02-29</th>\n",
       "      <td>1</td>\n",
       "      <td>0</td>\n",
       "    </tr>\n",
       "    <tr>\n",
       "      <th>...</th>\n",
       "      <td>...</td>\n",
       "      <td>...</td>\n",
       "    </tr>\n",
       "    <tr>\n",
       "      <th>2020-07-14</th>\n",
       "      <td>41857</td>\n",
       "      <td>1300</td>\n",
       "    </tr>\n",
       "    <tr>\n",
       "      <th>2020-07-15</th>\n",
       "      <td>39924</td>\n",
       "      <td>1233</td>\n",
       "    </tr>\n",
       "    <tr>\n",
       "      <th>2020-07-16</th>\n",
       "      <td>45403</td>\n",
       "      <td>1322</td>\n",
       "    </tr>\n",
       "    <tr>\n",
       "      <th>2020-07-17</th>\n",
       "      <td>34177</td>\n",
       "      <td>1163</td>\n",
       "    </tr>\n",
       "    <tr>\n",
       "      <th>2020-07-18</th>\n",
       "      <td>28532</td>\n",
       "      <td>921</td>\n",
       "    </tr>\n",
       "  </tbody>\n",
       "</table>\n",
       "<p>145 rows × 2 columns</p>\n",
       "</div>"
      ],
      "text/plain": [
       "            casosBR  obitosBR\n",
       "data                         \n",
       "2020-02-25        0         0\n",
       "2020-02-26        1         0\n",
       "2020-02-27        0         0\n",
       "2020-02-28        0         0\n",
       "2020-02-29        1         0\n",
       "...             ...       ...\n",
       "2020-07-14    41857      1300\n",
       "2020-07-15    39924      1233\n",
       "2020-07-16    45403      1322\n",
       "2020-07-17    34177      1163\n",
       "2020-07-18    28532       921\n",
       "\n",
       "[145 rows x 2 columns]"
      ]
     },
     "execution_count": 148,
     "metadata": {},
     "output_type": "execute_result"
    }
   ],
   "source": [
    "covid_BR_casos_obitos"
   ]
  },
  {
   "cell_type": "markdown",
   "metadata": {
    "slideshow": {
     "slide_type": "slide"
    }
   },
   "source": [
    "Vamos agora concatená-los por coluna:"
   ]
  },
  {
   "cell_type": "code",
   "execution_count": 149,
   "metadata": {},
   "outputs": [
    {
     "data": {
      "text/html": [
       "<div>\n",
       "<style scoped>\n",
       "    .dataframe tbody tr th:only-of-type {\n",
       "        vertical-align: middle;\n",
       "    }\n",
       "\n",
       "    .dataframe tbody tr th {\n",
       "        vertical-align: top;\n",
       "    }\n",
       "\n",
       "    .dataframe thead th {\n",
       "        text-align: right;\n",
       "    }\n",
       "</style>\n",
       "<table border=\"1\" class=\"dataframe\">\n",
       "  <thead>\n",
       "    <tr style=\"text-align: right;\">\n",
       "      <th></th>\n",
       "      <th>casosNovos</th>\n",
       "      <th>obitosNovos</th>\n",
       "      <th>casosBR</th>\n",
       "      <th>obitosBR</th>\n",
       "    </tr>\n",
       "    <tr>\n",
       "      <th>data</th>\n",
       "      <th></th>\n",
       "      <th></th>\n",
       "      <th></th>\n",
       "      <th></th>\n",
       "    </tr>\n",
       "  </thead>\n",
       "  <tbody>\n",
       "    <tr>\n",
       "      <th>2020-02-25</th>\n",
       "      <td>NaN</td>\n",
       "      <td>NaN</td>\n",
       "      <td>NaN</td>\n",
       "      <td>NaN</td>\n",
       "    </tr>\n",
       "    <tr>\n",
       "      <th>2020-02-26</th>\n",
       "      <td>NaN</td>\n",
       "      <td>NaN</td>\n",
       "      <td>NaN</td>\n",
       "      <td>NaN</td>\n",
       "    </tr>\n",
       "    <tr>\n",
       "      <th>2020-02-27</th>\n",
       "      <td>NaN</td>\n",
       "      <td>NaN</td>\n",
       "      <td>NaN</td>\n",
       "      <td>NaN</td>\n",
       "    </tr>\n",
       "    <tr>\n",
       "      <th>2020-02-28</th>\n",
       "      <td>NaN</td>\n",
       "      <td>NaN</td>\n",
       "      <td>NaN</td>\n",
       "      <td>NaN</td>\n",
       "    </tr>\n",
       "    <tr>\n",
       "      <th>2020-02-29</th>\n",
       "      <td>NaN</td>\n",
       "      <td>NaN</td>\n",
       "      <td>NaN</td>\n",
       "      <td>NaN</td>\n",
       "    </tr>\n",
       "    <tr>\n",
       "      <th>...</th>\n",
       "      <td>...</td>\n",
       "      <td>...</td>\n",
       "      <td>...</td>\n",
       "      <td>...</td>\n",
       "    </tr>\n",
       "    <tr>\n",
       "      <th>2021-01-29</th>\n",
       "      <td>1125.0</td>\n",
       "      <td>11.0</td>\n",
       "      <td>NaN</td>\n",
       "      <td>NaN</td>\n",
       "    </tr>\n",
       "    <tr>\n",
       "      <th>2021-01-30</th>\n",
       "      <td>1065.0</td>\n",
       "      <td>12.0</td>\n",
       "      <td>NaN</td>\n",
       "      <td>NaN</td>\n",
       "    </tr>\n",
       "    <tr>\n",
       "      <th>2021-01-31</th>\n",
       "      <td>1104.0</td>\n",
       "      <td>8.0</td>\n",
       "      <td>NaN</td>\n",
       "      <td>NaN</td>\n",
       "    </tr>\n",
       "    <tr>\n",
       "      <th>2021-02-01</th>\n",
       "      <td>1014.0</td>\n",
       "      <td>12.0</td>\n",
       "      <td>NaN</td>\n",
       "      <td>NaN</td>\n",
       "    </tr>\n",
       "    <tr>\n",
       "      <th>2021-02-02</th>\n",
       "      <td>867.0</td>\n",
       "      <td>14.0</td>\n",
       "      <td>NaN</td>\n",
       "      <td>NaN</td>\n",
       "    </tr>\n",
       "  </tbody>\n",
       "</table>\n",
       "<p>344 rows × 4 columns</p>\n",
       "</div>"
      ],
      "text/plain": [
       "            casosNovos  obitosNovos  casosBR  obitosBR\n",
       "data                                                  \n",
       "2020-02-25         NaN          NaN      NaN       NaN\n",
       "2020-02-26         NaN          NaN      NaN       NaN\n",
       "2020-02-27         NaN          NaN      NaN       NaN\n",
       "2020-02-28         NaN          NaN      NaN       NaN\n",
       "2020-02-29         NaN          NaN      NaN       NaN\n",
       "...                ...          ...      ...       ...\n",
       "2021-01-29      1125.0         11.0      NaN       NaN\n",
       "2021-01-30      1065.0         12.0      NaN       NaN\n",
       "2021-01-31      1104.0          8.0      NaN       NaN\n",
       "2021-02-01      1014.0         12.0      NaN       NaN\n",
       "2021-02-02       867.0         14.0      NaN       NaN\n",
       "\n",
       "[344 rows x 4 columns]"
      ]
     },
     "execution_count": 149,
     "metadata": {},
     "output_type": "execute_result"
    }
   ],
   "source": [
    "pd.concat([covid_PB_casos_obitos, covid_BR_casos_obitos], axis=1)"
   ]
  },
  {
   "cell_type": "markdown",
   "metadata": {
    "slideshow": {
     "slide_type": "slide"
    }
   },
   "source": [
    "Para um polimento final, vamos substituir os valores *NaN* que ocorreram antes do dia 13 de julho por 0. Para tanto, a forma ideal é utilizando o método **map**:"
   ]
  },
  {
   "cell_type": "code",
   "execution_count": 150,
   "metadata": {},
   "outputs": [
    {
     "data": {
      "text/html": [
       "<div>\n",
       "<style scoped>\n",
       "    .dataframe tbody tr th:only-of-type {\n",
       "        vertical-align: middle;\n",
       "    }\n",
       "\n",
       "    .dataframe tbody tr th {\n",
       "        vertical-align: top;\n",
       "    }\n",
       "\n",
       "    .dataframe thead th {\n",
       "        text-align: right;\n",
       "    }\n",
       "</style>\n",
       "<table border=\"1\" class=\"dataframe\">\n",
       "  <thead>\n",
       "    <tr style=\"text-align: right;\">\n",
       "      <th></th>\n",
       "      <th>casosNovos</th>\n",
       "      <th>obitosNovos</th>\n",
       "      <th>casosBR</th>\n",
       "      <th>obitosBR</th>\n",
       "    </tr>\n",
       "    <tr>\n",
       "      <th>data</th>\n",
       "      <th></th>\n",
       "      <th></th>\n",
       "      <th></th>\n",
       "      <th></th>\n",
       "    </tr>\n",
       "  </thead>\n",
       "  <tbody>\n",
       "    <tr>\n",
       "      <th>2020-02-25</th>\n",
       "      <td>0</td>\n",
       "      <td>0</td>\n",
       "      <td>NaN</td>\n",
       "      <td>NaN</td>\n",
       "    </tr>\n",
       "    <tr>\n",
       "      <th>2020-02-26</th>\n",
       "      <td>0</td>\n",
       "      <td>0</td>\n",
       "      <td>NaN</td>\n",
       "      <td>NaN</td>\n",
       "    </tr>\n",
       "    <tr>\n",
       "      <th>2020-02-27</th>\n",
       "      <td>0</td>\n",
       "      <td>0</td>\n",
       "      <td>NaN</td>\n",
       "      <td>NaN</td>\n",
       "    </tr>\n",
       "    <tr>\n",
       "      <th>2020-02-28</th>\n",
       "      <td>0</td>\n",
       "      <td>0</td>\n",
       "      <td>NaN</td>\n",
       "      <td>NaN</td>\n",
       "    </tr>\n",
       "    <tr>\n",
       "      <th>2020-02-29</th>\n",
       "      <td>0</td>\n",
       "      <td>0</td>\n",
       "      <td>NaN</td>\n",
       "      <td>NaN</td>\n",
       "    </tr>\n",
       "    <tr>\n",
       "      <th>...</th>\n",
       "      <td>...</td>\n",
       "      <td>...</td>\n",
       "      <td>...</td>\n",
       "      <td>...</td>\n",
       "    </tr>\n",
       "    <tr>\n",
       "      <th>2021-01-29</th>\n",
       "      <td>1125</td>\n",
       "      <td>11</td>\n",
       "      <td>NaN</td>\n",
       "      <td>NaN</td>\n",
       "    </tr>\n",
       "    <tr>\n",
       "      <th>2021-01-30</th>\n",
       "      <td>1065</td>\n",
       "      <td>12</td>\n",
       "      <td>NaN</td>\n",
       "      <td>NaN</td>\n",
       "    </tr>\n",
       "    <tr>\n",
       "      <th>2021-01-31</th>\n",
       "      <td>1104</td>\n",
       "      <td>8</td>\n",
       "      <td>NaN</td>\n",
       "      <td>NaN</td>\n",
       "    </tr>\n",
       "    <tr>\n",
       "      <th>2021-02-01</th>\n",
       "      <td>1014</td>\n",
       "      <td>12</td>\n",
       "      <td>NaN</td>\n",
       "      <td>NaN</td>\n",
       "    </tr>\n",
       "    <tr>\n",
       "      <th>2021-02-02</th>\n",
       "      <td>867</td>\n",
       "      <td>14</td>\n",
       "      <td>NaN</td>\n",
       "      <td>NaN</td>\n",
       "    </tr>\n",
       "  </tbody>\n",
       "</table>\n",
       "<p>344 rows × 4 columns</p>\n",
       "</div>"
      ],
      "text/plain": [
       "            casosNovos  obitosNovos  casosBR  obitosBR\n",
       "data                                                  \n",
       "2020-02-25           0            0      NaN       NaN\n",
       "2020-02-26           0            0      NaN       NaN\n",
       "2020-02-27           0            0      NaN       NaN\n",
       "2020-02-28           0            0      NaN       NaN\n",
       "2020-02-29           0            0      NaN       NaN\n",
       "...                ...          ...      ...       ...\n",
       "2021-01-29        1125           11      NaN       NaN\n",
       "2021-01-30        1065           12      NaN       NaN\n",
       "2021-01-31        1104            8      NaN       NaN\n",
       "2021-02-01        1014           12      NaN       NaN\n",
       "2021-02-02         867           14      NaN       NaN\n",
       "\n",
       "[344 rows x 4 columns]"
      ]
     },
     "execution_count": 150,
     "metadata": {},
     "output_type": "execute_result"
    }
   ],
   "source": [
    "dados_PB_BR = pd.concat([covid_PB_casos_obitos, covid_BR_casos_obitos], axis=1)\n",
    "dados_PB_BR['casosNovos'] = dados_PB_BR.casosNovos.map(lambda caso: 0 if np.isnan(caso) else caso).astype('int')\n",
    "dados_PB_BR['obitosNovos'] = dados_PB_BR.obitosNovos.map(lambda obito: 0 if np.isnan(obito) else obito).astype('int')\n",
    "dados_PB_BR"
   ]
  },
  {
   "cell_type": "markdown",
   "metadata": {
    "slideshow": {
     "slide_type": "slide"
    }
   },
   "source": [
    "## Mesclando *DataFrames* através de *joins*\n",
    "\n",
    "* Para realizar *joins* iremos utilizar a função **merge** do *pandas*. \n",
    "\n",
    "* *joins* tomam duas tabelas, uma tabela à esquerda e uma à direita e retornam uma terceira tabela contendo a união das colunas das duas tabelas."
   ]
  },
  {
   "cell_type": "markdown",
   "metadata": {
    "slideshow": {
     "slide_type": "slide"
    }
   },
   "source": [
    "Existem 4 tipos de *joins*:\n",
    "\n",
    "* *left join*: Apenas irão aparecer os *index* (da linha) que existem na tabela à esquerda;\n",
    "* *right join*: Apenas irão aparecer os *index* (da linha) que existem na tabela à direita;\n",
    "* *inner join*: Apenas irão aparecer os *index* que existem nas duas tabelas;\n",
    "* *full join* ou *outer join*: irão aparecer todos os *index* das duas tabelas."
   ]
  },
  {
   "cell_type": "markdown",
   "metadata": {
    "slideshow": {
     "slide_type": "slide"
    }
   },
   "source": [
    "Para exemplificar vamos considerar dois *DataFrames* (aqui teremos menos linhas e nomes e dados fictícios). O primeiro *DataFrame* consistirá de Nomes de alunos, CPF e matrícula da UFPB e recebe o nome de *nome_cpf_mat*. O segundo *DataFrame* consistirá de Nome, CPF e e-mail e recebe o nome de *nome_cpf_email*.\n",
    "\n",
    "Nosso objetivo é criar um novo *DataFrame* contendo Nome, CPF, matrícula e e-mail."
   ]
  },
  {
   "cell_type": "markdown",
   "metadata": {
    "slideshow": {
     "slide_type": "slide"
    }
   },
   "source": [
    "Temos ainda a seguinte situação:\n",
    "\n",
    "No *DataFrame* *nome_cpf_mat* existem alunos que não estão presentes no *nome_cpf_email*, pois não enviaram esta informação.\n",
    "\n",
    "No *DataFrame* *nome_cpf_email* existem alunos que não estão presentes no *nome_cpf_mat* pois estes não são alunos da UFPB."
   ]
  },
  {
   "cell_type": "code",
   "execution_count": 152,
   "metadata": {},
   "outputs": [],
   "source": [
    "nome_cpf_mat = pd.read_csv('06b-nome_cpf_mat.csv')\n",
    "nome_cpf_email = pd.read_csv('06b-nome_cpf_email.csv')"
   ]
  },
  {
   "cell_type": "markdown",
   "metadata": {
    "slideshow": {
     "slide_type": "slide"
    }
   },
   "source": [
    "Vamos agora dar uma examinada nos *DataFrames*. Como são bem simples, basta realizar *prints* deles."
   ]
  },
  {
   "cell_type": "code",
   "execution_count": 153,
   "metadata": {
    "slideshow": {
     "slide_type": "-"
    }
   },
   "outputs": [
    {
     "data": {
      "text/html": [
       "<div>\n",
       "<style scoped>\n",
       "    .dataframe tbody tr th:only-of-type {\n",
       "        vertical-align: middle;\n",
       "    }\n",
       "\n",
       "    .dataframe tbody tr th {\n",
       "        vertical-align: top;\n",
       "    }\n",
       "\n",
       "    .dataframe thead th {\n",
       "        text-align: right;\n",
       "    }\n",
       "</style>\n",
       "<table border=\"1\" class=\"dataframe\">\n",
       "  <thead>\n",
       "    <tr style=\"text-align: right;\">\n",
       "      <th></th>\n",
       "      <th>Nome</th>\n",
       "      <th>CPF</th>\n",
       "      <th>Matricula</th>\n",
       "    </tr>\n",
       "  </thead>\n",
       "  <tbody>\n",
       "    <tr>\n",
       "      <th>0</th>\n",
       "      <td>João Paulo</td>\n",
       "      <td>326.475.190-99</td>\n",
       "      <td>8848484</td>\n",
       "    </tr>\n",
       "    <tr>\n",
       "      <th>1</th>\n",
       "      <td>Ana Silva</td>\n",
       "      <td>073.101.240-22</td>\n",
       "      <td>8451212</td>\n",
       "    </tr>\n",
       "    <tr>\n",
       "      <th>2</th>\n",
       "      <td>Antonio Carlos</td>\n",
       "      <td>830.060.930-03</td>\n",
       "      <td>5151213</td>\n",
       "    </tr>\n",
       "    <tr>\n",
       "      <th>3</th>\n",
       "      <td>Debora Santos</td>\n",
       "      <td>472.006.460-40</td>\n",
       "      <td>51848484</td>\n",
       "    </tr>\n",
       "    <tr>\n",
       "      <th>4</th>\n",
       "      <td>Rodrigo Gomes</td>\n",
       "      <td>566.712.550-16</td>\n",
       "      <td>1415816</td>\n",
       "    </tr>\n",
       "    <tr>\n",
       "      <th>5</th>\n",
       "      <td>Edson Jardim</td>\n",
       "      <td>308.226.400-07</td>\n",
       "      <td>9592303</td>\n",
       "    </tr>\n",
       "  </tbody>\n",
       "</table>\n",
       "</div>"
      ],
      "text/plain": [
       "             Nome             CPF  Matricula\n",
       "0      João Paulo  326.475.190-99    8848484\n",
       "1       Ana Silva  073.101.240-22    8451212\n",
       "2  Antonio Carlos  830.060.930-03    5151213\n",
       "3   Debora Santos  472.006.460-40   51848484\n",
       "4   Rodrigo Gomes  566.712.550-16    1415816\n",
       "5    Edson Jardim  308.226.400-07    9592303"
      ]
     },
     "execution_count": 153,
     "metadata": {},
     "output_type": "execute_result"
    }
   ],
   "source": [
    "nome_cpf_mat"
   ]
  },
  {
   "cell_type": "code",
   "execution_count": 154,
   "metadata": {
    "slideshow": {
     "slide_type": "slide"
    }
   },
   "outputs": [
    {
     "data": {
      "text/html": [
       "<div>\n",
       "<style scoped>\n",
       "    .dataframe tbody tr th:only-of-type {\n",
       "        vertical-align: middle;\n",
       "    }\n",
       "\n",
       "    .dataframe tbody tr th {\n",
       "        vertical-align: top;\n",
       "    }\n",
       "\n",
       "    .dataframe thead th {\n",
       "        text-align: right;\n",
       "    }\n",
       "</style>\n",
       "<table border=\"1\" class=\"dataframe\">\n",
       "  <thead>\n",
       "    <tr style=\"text-align: right;\">\n",
       "      <th></th>\n",
       "      <th>Nome</th>\n",
       "      <th>CPF</th>\n",
       "      <th>e-mail</th>\n",
       "    </tr>\n",
       "  </thead>\n",
       "  <tbody>\n",
       "    <tr>\n",
       "      <th>0</th>\n",
       "      <td>João Paulo</td>\n",
       "      <td>326.475.190-99</td>\n",
       "      <td>joao@inventado.com.br</td>\n",
       "    </tr>\n",
       "    <tr>\n",
       "      <th>1</th>\n",
       "      <td>Ana Silva</td>\n",
       "      <td>073.101.240-22</td>\n",
       "      <td>ana@inventado.com.br</td>\n",
       "    </tr>\n",
       "    <tr>\n",
       "      <th>2</th>\n",
       "      <td>Antonio Carlos</td>\n",
       "      <td>830.060.930-03</td>\n",
       "      <td>antonio@inventado.com.br</td>\n",
       "    </tr>\n",
       "    <tr>\n",
       "      <th>3</th>\n",
       "      <td>Saulo Santos</td>\n",
       "      <td>370.981.810-99</td>\n",
       "      <td>saulo@inventado.com.br</td>\n",
       "    </tr>\n",
       "    <tr>\n",
       "      <th>4</th>\n",
       "      <td>Paulo Cardoso</td>\n",
       "      <td>250.078.710-95</td>\n",
       "      <td>paulo@inventado.com.br</td>\n",
       "    </tr>\n",
       "    <tr>\n",
       "      <th>5</th>\n",
       "      <td>Edson Jardim</td>\n",
       "      <td>308.226.400-07</td>\n",
       "      <td>edson@inventado.com.br</td>\n",
       "    </tr>\n",
       "    <tr>\n",
       "      <th>6</th>\n",
       "      <td>Ana Silva</td>\n",
       "      <td>344.246.630-00</td>\n",
       "      <td>anasilva@inventado.com.br</td>\n",
       "    </tr>\n",
       "  </tbody>\n",
       "</table>\n",
       "</div>"
      ],
      "text/plain": [
       "             Nome             CPF                     e-mail\n",
       "0      João Paulo  326.475.190-99      joao@inventado.com.br\n",
       "1       Ana Silva  073.101.240-22       ana@inventado.com.br\n",
       "2  Antonio Carlos  830.060.930-03   antonio@inventado.com.br\n",
       "3    Saulo Santos  370.981.810-99     saulo@inventado.com.br\n",
       "4   Paulo Cardoso  250.078.710-95     paulo@inventado.com.br\n",
       "5    Edson Jardim  308.226.400-07     edson@inventado.com.br\n",
       "6       Ana Silva  344.246.630-00  anasilva@inventado.com.br"
      ]
     },
     "execution_count": 154,
     "metadata": {},
     "output_type": "execute_result"
    }
   ],
   "source": [
    "nome_cpf_email"
   ]
  },
  {
   "cell_type": "markdown",
   "metadata": {
    "slideshow": {
     "slide_type": "slide"
    }
   },
   "source": [
    "Tipicamente é bom possuir *index* únicos. Neste sentido, vamos definir o CPF como *index*:"
   ]
  },
  {
   "cell_type": "code",
   "execution_count": 155,
   "metadata": {},
   "outputs": [],
   "source": [
    "nome_cpf_mat = nome_cpf_mat.set_index('CPF')\n",
    "nome_cpf_email = nome_cpf_email.set_index('CPF')"
   ]
  },
  {
   "cell_type": "markdown",
   "metadata": {
    "slideshow": {
     "slide_type": "slide"
    }
   },
   "source": [
    "Vamos agora realizar um **left** join com o *DataFrame* **nome_cpf_mat** ficando à esquerda (neste caso, apenas alunos com matrícula irão aparecer):"
   ]
  },
  {
   "cell_type": "code",
   "execution_count": 156,
   "metadata": {},
   "outputs": [
    {
     "data": {
      "text/html": [
       "<div>\n",
       "<style scoped>\n",
       "    .dataframe tbody tr th:only-of-type {\n",
       "        vertical-align: middle;\n",
       "    }\n",
       "\n",
       "    .dataframe tbody tr th {\n",
       "        vertical-align: top;\n",
       "    }\n",
       "\n",
       "    .dataframe thead th {\n",
       "        text-align: right;\n",
       "    }\n",
       "</style>\n",
       "<table border=\"1\" class=\"dataframe\">\n",
       "  <thead>\n",
       "    <tr style=\"text-align: right;\">\n",
       "      <th></th>\n",
       "      <th>Nome</th>\n",
       "      <th>Matricula</th>\n",
       "      <th>e-mail</th>\n",
       "    </tr>\n",
       "    <tr>\n",
       "      <th>CPF</th>\n",
       "      <th></th>\n",
       "      <th></th>\n",
       "      <th></th>\n",
       "    </tr>\n",
       "  </thead>\n",
       "  <tbody>\n",
       "    <tr>\n",
       "      <th>326.475.190-99</th>\n",
       "      <td>João Paulo</td>\n",
       "      <td>8848484</td>\n",
       "      <td>joao@inventado.com.br</td>\n",
       "    </tr>\n",
       "    <tr>\n",
       "      <th>073.101.240-22</th>\n",
       "      <td>Ana Silva</td>\n",
       "      <td>8451212</td>\n",
       "      <td>ana@inventado.com.br</td>\n",
       "    </tr>\n",
       "    <tr>\n",
       "      <th>830.060.930-03</th>\n",
       "      <td>Antonio Carlos</td>\n",
       "      <td>5151213</td>\n",
       "      <td>antonio@inventado.com.br</td>\n",
       "    </tr>\n",
       "    <tr>\n",
       "      <th>472.006.460-40</th>\n",
       "      <td>Debora Santos</td>\n",
       "      <td>51848484</td>\n",
       "      <td>NaN</td>\n",
       "    </tr>\n",
       "    <tr>\n",
       "      <th>566.712.550-16</th>\n",
       "      <td>Rodrigo Gomes</td>\n",
       "      <td>1415816</td>\n",
       "      <td>NaN</td>\n",
       "    </tr>\n",
       "    <tr>\n",
       "      <th>308.226.400-07</th>\n",
       "      <td>Edson Jardim</td>\n",
       "      <td>9592303</td>\n",
       "      <td>edson@inventado.com.br</td>\n",
       "    </tr>\n",
       "  </tbody>\n",
       "</table>\n",
       "</div>"
      ],
      "text/plain": [
       "                          Nome  Matricula                    e-mail\n",
       "CPF                                                                \n",
       "326.475.190-99      João Paulo    8848484     joao@inventado.com.br\n",
       "073.101.240-22       Ana Silva    8451212      ana@inventado.com.br\n",
       "830.060.930-03  Antonio Carlos    5151213  antonio@inventado.com.br\n",
       "472.006.460-40   Debora Santos   51848484                       NaN\n",
       "566.712.550-16   Rodrigo Gomes    1415816                       NaN\n",
       "308.226.400-07    Edson Jardim    9592303    edson@inventado.com.br"
      ]
     },
     "execution_count": 156,
     "metadata": {},
     "output_type": "execute_result"
    }
   ],
   "source": [
    "pd.merge(nome_cpf_mat, nome_cpf_email, how = 'left', on = ['Nome','CPF'])"
   ]
  },
  {
   "cell_type": "markdown",
   "metadata": {
    "slideshow": {
     "slide_type": "slide"
    }
   },
   "source": [
    "Na opção *how* dizemos qual o tipo de *join* que queremos realizar. \n",
    "\n",
    "Na opção *on* dizemos quais as colunas que existem em comum nos *DataFrames*.\n",
    "\n",
    "Veja o que aconteceria se informássemos apenas que o *CPF* está presente nos dois *DataFrames*:"
   ]
  },
  {
   "cell_type": "code",
   "execution_count": 157,
   "metadata": {
    "slideshow": {
     "slide_type": "-"
    }
   },
   "outputs": [
    {
     "data": {
      "text/html": [
       "<div>\n",
       "<style scoped>\n",
       "    .dataframe tbody tr th:only-of-type {\n",
       "        vertical-align: middle;\n",
       "    }\n",
       "\n",
       "    .dataframe tbody tr th {\n",
       "        vertical-align: top;\n",
       "    }\n",
       "\n",
       "    .dataframe thead th {\n",
       "        text-align: right;\n",
       "    }\n",
       "</style>\n",
       "<table border=\"1\" class=\"dataframe\">\n",
       "  <thead>\n",
       "    <tr style=\"text-align: right;\">\n",
       "      <th></th>\n",
       "      <th>Nome_x</th>\n",
       "      <th>Matricula</th>\n",
       "      <th>Nome_y</th>\n",
       "      <th>e-mail</th>\n",
       "    </tr>\n",
       "    <tr>\n",
       "      <th>CPF</th>\n",
       "      <th></th>\n",
       "      <th></th>\n",
       "      <th></th>\n",
       "      <th></th>\n",
       "    </tr>\n",
       "  </thead>\n",
       "  <tbody>\n",
       "    <tr>\n",
       "      <th>326.475.190-99</th>\n",
       "      <td>João Paulo</td>\n",
       "      <td>8848484</td>\n",
       "      <td>João Paulo</td>\n",
       "      <td>joao@inventado.com.br</td>\n",
       "    </tr>\n",
       "    <tr>\n",
       "      <th>073.101.240-22</th>\n",
       "      <td>Ana Silva</td>\n",
       "      <td>8451212</td>\n",
       "      <td>Ana Silva</td>\n",
       "      <td>ana@inventado.com.br</td>\n",
       "    </tr>\n",
       "    <tr>\n",
       "      <th>830.060.930-03</th>\n",
       "      <td>Antonio Carlos</td>\n",
       "      <td>5151213</td>\n",
       "      <td>Antonio Carlos</td>\n",
       "      <td>antonio@inventado.com.br</td>\n",
       "    </tr>\n",
       "    <tr>\n",
       "      <th>472.006.460-40</th>\n",
       "      <td>Debora Santos</td>\n",
       "      <td>51848484</td>\n",
       "      <td>NaN</td>\n",
       "      <td>NaN</td>\n",
       "    </tr>\n",
       "    <tr>\n",
       "      <th>566.712.550-16</th>\n",
       "      <td>Rodrigo Gomes</td>\n",
       "      <td>1415816</td>\n",
       "      <td>NaN</td>\n",
       "      <td>NaN</td>\n",
       "    </tr>\n",
       "    <tr>\n",
       "      <th>308.226.400-07</th>\n",
       "      <td>Edson Jardim</td>\n",
       "      <td>9592303</td>\n",
       "      <td>Edson Jardim</td>\n",
       "      <td>edson@inventado.com.br</td>\n",
       "    </tr>\n",
       "  </tbody>\n",
       "</table>\n",
       "</div>"
      ],
      "text/plain": [
       "                        Nome_x  Matricula          Nome_y  \\\n",
       "CPF                                                         \n",
       "326.475.190-99      João Paulo    8848484      João Paulo   \n",
       "073.101.240-22       Ana Silva    8451212       Ana Silva   \n",
       "830.060.930-03  Antonio Carlos    5151213  Antonio Carlos   \n",
       "472.006.460-40   Debora Santos   51848484             NaN   \n",
       "566.712.550-16   Rodrigo Gomes    1415816             NaN   \n",
       "308.226.400-07    Edson Jardim    9592303    Edson Jardim   \n",
       "\n",
       "                                  e-mail  \n",
       "CPF                                       \n",
       "326.475.190-99     joao@inventado.com.br  \n",
       "073.101.240-22      ana@inventado.com.br  \n",
       "830.060.930-03  antonio@inventado.com.br  \n",
       "472.006.460-40                       NaN  \n",
       "566.712.550-16                       NaN  \n",
       "308.226.400-07    edson@inventado.com.br  "
      ]
     },
     "execution_count": 157,
     "metadata": {},
     "output_type": "execute_result"
    }
   ],
   "source": [
    "pd.merge(nome_cpf_mat, nome_cpf_email, how = 'left', on = 'CPF')"
   ]
  },
  {
   "cell_type": "markdown",
   "metadata": {
    "slideshow": {
     "slide_type": "-"
    }
   },
   "source": [
    "Observe que os nomes dos alunos que estão na segunda tabela ficam indeterminados na coluna *Nome_y*."
   ]
  },
  {
   "cell_type": "markdown",
   "metadata": {
    "slideshow": {
     "slide_type": "slide"
    }
   },
   "source": [
    "Vamos agora realizar um **right** join com o *DataFrame* **nome_cpf_mat** ficando à esquerda (neste caso, apenas alunos **com e-mail** irão aparecer):"
   ]
  },
  {
   "cell_type": "code",
   "execution_count": 158,
   "metadata": {},
   "outputs": [
    {
     "data": {
      "text/html": [
       "<div>\n",
       "<style scoped>\n",
       "    .dataframe tbody tr th:only-of-type {\n",
       "        vertical-align: middle;\n",
       "    }\n",
       "\n",
       "    .dataframe tbody tr th {\n",
       "        vertical-align: top;\n",
       "    }\n",
       "\n",
       "    .dataframe thead th {\n",
       "        text-align: right;\n",
       "    }\n",
       "</style>\n",
       "<table border=\"1\" class=\"dataframe\">\n",
       "  <thead>\n",
       "    <tr style=\"text-align: right;\">\n",
       "      <th></th>\n",
       "      <th>Nome</th>\n",
       "      <th>Matricula</th>\n",
       "      <th>e-mail</th>\n",
       "    </tr>\n",
       "    <tr>\n",
       "      <th>CPF</th>\n",
       "      <th></th>\n",
       "      <th></th>\n",
       "      <th></th>\n",
       "    </tr>\n",
       "  </thead>\n",
       "  <tbody>\n",
       "    <tr>\n",
       "      <th>326.475.190-99</th>\n",
       "      <td>João Paulo</td>\n",
       "      <td>8848484.0</td>\n",
       "      <td>joao@inventado.com.br</td>\n",
       "    </tr>\n",
       "    <tr>\n",
       "      <th>073.101.240-22</th>\n",
       "      <td>Ana Silva</td>\n",
       "      <td>8451212.0</td>\n",
       "      <td>ana@inventado.com.br</td>\n",
       "    </tr>\n",
       "    <tr>\n",
       "      <th>830.060.930-03</th>\n",
       "      <td>Antonio Carlos</td>\n",
       "      <td>5151213.0</td>\n",
       "      <td>antonio@inventado.com.br</td>\n",
       "    </tr>\n",
       "    <tr>\n",
       "      <th>308.226.400-07</th>\n",
       "      <td>Edson Jardim</td>\n",
       "      <td>9592303.0</td>\n",
       "      <td>edson@inventado.com.br</td>\n",
       "    </tr>\n",
       "    <tr>\n",
       "      <th>370.981.810-99</th>\n",
       "      <td>Saulo Santos</td>\n",
       "      <td>NaN</td>\n",
       "      <td>saulo@inventado.com.br</td>\n",
       "    </tr>\n",
       "    <tr>\n",
       "      <th>250.078.710-95</th>\n",
       "      <td>Paulo Cardoso</td>\n",
       "      <td>NaN</td>\n",
       "      <td>paulo@inventado.com.br</td>\n",
       "    </tr>\n",
       "    <tr>\n",
       "      <th>344.246.630-00</th>\n",
       "      <td>Ana Silva</td>\n",
       "      <td>NaN</td>\n",
       "      <td>anasilva@inventado.com.br</td>\n",
       "    </tr>\n",
       "  </tbody>\n",
       "</table>\n",
       "</div>"
      ],
      "text/plain": [
       "                          Nome  Matricula                     e-mail\n",
       "CPF                                                                 \n",
       "326.475.190-99      João Paulo  8848484.0      joao@inventado.com.br\n",
       "073.101.240-22       Ana Silva  8451212.0       ana@inventado.com.br\n",
       "830.060.930-03  Antonio Carlos  5151213.0   antonio@inventado.com.br\n",
       "308.226.400-07    Edson Jardim  9592303.0     edson@inventado.com.br\n",
       "370.981.810-99    Saulo Santos        NaN     saulo@inventado.com.br\n",
       "250.078.710-95   Paulo Cardoso        NaN     paulo@inventado.com.br\n",
       "344.246.630-00       Ana Silva        NaN  anasilva@inventado.com.br"
      ]
     },
     "execution_count": 158,
     "metadata": {},
     "output_type": "execute_result"
    }
   ],
   "source": [
    "pd.merge(nome_cpf_mat, nome_cpf_email, how = 'right', on = ['Nome','CPF'])"
   ]
  },
  {
   "cell_type": "markdown",
   "metadata": {
    "slideshow": {
     "slide_type": "slide"
    }
   },
   "source": [
    "Vamos agora realizar um **inner** join com o *DataFrame* **nome_cpf_mat** ficando à esquerda (neste caso, apenas alunos **com matrícula e com e-mail** irão aparecer):"
   ]
  },
  {
   "cell_type": "code",
   "execution_count": 159,
   "metadata": {},
   "outputs": [
    {
     "data": {
      "text/html": [
       "<div>\n",
       "<style scoped>\n",
       "    .dataframe tbody tr th:only-of-type {\n",
       "        vertical-align: middle;\n",
       "    }\n",
       "\n",
       "    .dataframe tbody tr th {\n",
       "        vertical-align: top;\n",
       "    }\n",
       "\n",
       "    .dataframe thead th {\n",
       "        text-align: right;\n",
       "    }\n",
       "</style>\n",
       "<table border=\"1\" class=\"dataframe\">\n",
       "  <thead>\n",
       "    <tr style=\"text-align: right;\">\n",
       "      <th></th>\n",
       "      <th>Nome</th>\n",
       "      <th>Matricula</th>\n",
       "      <th>e-mail</th>\n",
       "    </tr>\n",
       "    <tr>\n",
       "      <th>CPF</th>\n",
       "      <th></th>\n",
       "      <th></th>\n",
       "      <th></th>\n",
       "    </tr>\n",
       "  </thead>\n",
       "  <tbody>\n",
       "    <tr>\n",
       "      <th>326.475.190-99</th>\n",
       "      <td>João Paulo</td>\n",
       "      <td>8848484</td>\n",
       "      <td>joao@inventado.com.br</td>\n",
       "    </tr>\n",
       "    <tr>\n",
       "      <th>073.101.240-22</th>\n",
       "      <td>Ana Silva</td>\n",
       "      <td>8451212</td>\n",
       "      <td>ana@inventado.com.br</td>\n",
       "    </tr>\n",
       "    <tr>\n",
       "      <th>830.060.930-03</th>\n",
       "      <td>Antonio Carlos</td>\n",
       "      <td>5151213</td>\n",
       "      <td>antonio@inventado.com.br</td>\n",
       "    </tr>\n",
       "    <tr>\n",
       "      <th>308.226.400-07</th>\n",
       "      <td>Edson Jardim</td>\n",
       "      <td>9592303</td>\n",
       "      <td>edson@inventado.com.br</td>\n",
       "    </tr>\n",
       "  </tbody>\n",
       "</table>\n",
       "</div>"
      ],
      "text/plain": [
       "                          Nome  Matricula                    e-mail\n",
       "CPF                                                                \n",
       "326.475.190-99      João Paulo    8848484     joao@inventado.com.br\n",
       "073.101.240-22       Ana Silva    8451212      ana@inventado.com.br\n",
       "830.060.930-03  Antonio Carlos    5151213  antonio@inventado.com.br\n",
       "308.226.400-07    Edson Jardim    9592303    edson@inventado.com.br"
      ]
     },
     "execution_count": 159,
     "metadata": {},
     "output_type": "execute_result"
    }
   ],
   "source": [
    "pd.merge(nome_cpf_mat, nome_cpf_email, how = 'inner', on = ['Nome','CPF'])"
   ]
  },
  {
   "cell_type": "markdown",
   "metadata": {
    "slideshow": {
     "slide_type": "slide"
    }
   },
   "source": [
    "Por fim, vamos agora realizar um **outer** ou **full** join com o *DataFrame* **nome_cpf_mat** ficando à esquerda (neste caso, **todos** os alunos irão aparecer):"
   ]
  },
  {
   "cell_type": "code",
   "execution_count": 160,
   "metadata": {
    "slideshow": {
     "slide_type": "-"
    }
   },
   "outputs": [
    {
     "data": {
      "text/html": [
       "<div>\n",
       "<style scoped>\n",
       "    .dataframe tbody tr th:only-of-type {\n",
       "        vertical-align: middle;\n",
       "    }\n",
       "\n",
       "    .dataframe tbody tr th {\n",
       "        vertical-align: top;\n",
       "    }\n",
       "\n",
       "    .dataframe thead th {\n",
       "        text-align: right;\n",
       "    }\n",
       "</style>\n",
       "<table border=\"1\" class=\"dataframe\">\n",
       "  <thead>\n",
       "    <tr style=\"text-align: right;\">\n",
       "      <th></th>\n",
       "      <th>Nome</th>\n",
       "      <th>Matricula</th>\n",
       "      <th>e-mail</th>\n",
       "    </tr>\n",
       "    <tr>\n",
       "      <th>CPF</th>\n",
       "      <th></th>\n",
       "      <th></th>\n",
       "      <th></th>\n",
       "    </tr>\n",
       "  </thead>\n",
       "  <tbody>\n",
       "    <tr>\n",
       "      <th>326.475.190-99</th>\n",
       "      <td>João Paulo</td>\n",
       "      <td>8848484.0</td>\n",
       "      <td>joao@inventado.com.br</td>\n",
       "    </tr>\n",
       "    <tr>\n",
       "      <th>073.101.240-22</th>\n",
       "      <td>Ana Silva</td>\n",
       "      <td>8451212.0</td>\n",
       "      <td>ana@inventado.com.br</td>\n",
       "    </tr>\n",
       "    <tr>\n",
       "      <th>830.060.930-03</th>\n",
       "      <td>Antonio Carlos</td>\n",
       "      <td>5151213.0</td>\n",
       "      <td>antonio@inventado.com.br</td>\n",
       "    </tr>\n",
       "    <tr>\n",
       "      <th>472.006.460-40</th>\n",
       "      <td>Debora Santos</td>\n",
       "      <td>51848484.0</td>\n",
       "      <td>NaN</td>\n",
       "    </tr>\n",
       "    <tr>\n",
       "      <th>566.712.550-16</th>\n",
       "      <td>Rodrigo Gomes</td>\n",
       "      <td>1415816.0</td>\n",
       "      <td>NaN</td>\n",
       "    </tr>\n",
       "    <tr>\n",
       "      <th>308.226.400-07</th>\n",
       "      <td>Edson Jardim</td>\n",
       "      <td>9592303.0</td>\n",
       "      <td>edson@inventado.com.br</td>\n",
       "    </tr>\n",
       "    <tr>\n",
       "      <th>370.981.810-99</th>\n",
       "      <td>Saulo Santos</td>\n",
       "      <td>NaN</td>\n",
       "      <td>saulo@inventado.com.br</td>\n",
       "    </tr>\n",
       "    <tr>\n",
       "      <th>250.078.710-95</th>\n",
       "      <td>Paulo Cardoso</td>\n",
       "      <td>NaN</td>\n",
       "      <td>paulo@inventado.com.br</td>\n",
       "    </tr>\n",
       "    <tr>\n",
       "      <th>344.246.630-00</th>\n",
       "      <td>Ana Silva</td>\n",
       "      <td>NaN</td>\n",
       "      <td>anasilva@inventado.com.br</td>\n",
       "    </tr>\n",
       "  </tbody>\n",
       "</table>\n",
       "</div>"
      ],
      "text/plain": [
       "                          Nome   Matricula                     e-mail\n",
       "CPF                                                                  \n",
       "326.475.190-99      João Paulo   8848484.0      joao@inventado.com.br\n",
       "073.101.240-22       Ana Silva   8451212.0       ana@inventado.com.br\n",
       "830.060.930-03  Antonio Carlos   5151213.0   antonio@inventado.com.br\n",
       "472.006.460-40   Debora Santos  51848484.0                        NaN\n",
       "566.712.550-16   Rodrigo Gomes   1415816.0                        NaN\n",
       "308.226.400-07    Edson Jardim   9592303.0     edson@inventado.com.br\n",
       "370.981.810-99    Saulo Santos         NaN     saulo@inventado.com.br\n",
       "250.078.710-95   Paulo Cardoso         NaN     paulo@inventado.com.br\n",
       "344.246.630-00       Ana Silva         NaN  anasilva@inventado.com.br"
      ]
     },
     "execution_count": 160,
     "metadata": {},
     "output_type": "execute_result"
    }
   ],
   "source": [
    "pd.merge(nome_cpf_mat, nome_cpf_email, how = 'outer', on = ['Nome','CPF'])"
   ]
  },
  {
   "cell_type": "markdown",
   "metadata": {
    "slideshow": {
     "slide_type": "slide"
    }
   },
   "source": [
    "## Os métodos *apply*, *map* e *applymap*\n",
    "\n",
    "A ideia é relativamente simples. Os três métodos são vetorizados e aplicam uma função ou uma substituição via dicionário de tal forma que:\n",
    "* *apply* é realizado via linha ou coluna em um *DataFrame*;\n",
    "* *map* é aplicado a cada elemento de uma *Serie*;\n",
    "* *applymap* é aplicado a cada elemento de um *DataFrame*.\n",
    "\n",
    "Já vimos diversos exemplos de uso do map. Vejamos exemplos de *applymap* e *apply*."
   ]
  },
  {
   "cell_type": "markdown",
   "metadata": {
    "slideshow": {
     "slide_type": "slide"
    }
   },
   "source": [
    "* Neste exemplo vamos retomar a concatenação entre os dados da Paraíba e do Brasil, porém iremos substituir *todos* os valores de *NaN* por zero, usando o métodp **applymap**."
   ]
  },
  {
   "cell_type": "code",
   "execution_count": 161,
   "metadata": {},
   "outputs": [
    {
     "data": {
      "text/html": [
       "<div>\n",
       "<style scoped>\n",
       "    .dataframe tbody tr th:only-of-type {\n",
       "        vertical-align: middle;\n",
       "    }\n",
       "\n",
       "    .dataframe tbody tr th {\n",
       "        vertical-align: top;\n",
       "    }\n",
       "\n",
       "    .dataframe thead th {\n",
       "        text-align: right;\n",
       "    }\n",
       "</style>\n",
       "<table border=\"1\" class=\"dataframe\">\n",
       "  <thead>\n",
       "    <tr style=\"text-align: right;\">\n",
       "      <th></th>\n",
       "      <th>casosNovos</th>\n",
       "      <th>obitosNovos</th>\n",
       "      <th>casosBR</th>\n",
       "      <th>obitosBR</th>\n",
       "    </tr>\n",
       "    <tr>\n",
       "      <th>data</th>\n",
       "      <th></th>\n",
       "      <th></th>\n",
       "      <th></th>\n",
       "      <th></th>\n",
       "    </tr>\n",
       "  </thead>\n",
       "  <tbody>\n",
       "    <tr>\n",
       "      <th>2020-02-25</th>\n",
       "      <td>0.0</td>\n",
       "      <td>0.0</td>\n",
       "      <td>0</td>\n",
       "      <td>0</td>\n",
       "    </tr>\n",
       "    <tr>\n",
       "      <th>2020-02-26</th>\n",
       "      <td>0.0</td>\n",
       "      <td>0.0</td>\n",
       "      <td>0</td>\n",
       "      <td>0</td>\n",
       "    </tr>\n",
       "    <tr>\n",
       "      <th>2020-02-27</th>\n",
       "      <td>0.0</td>\n",
       "      <td>0.0</td>\n",
       "      <td>0</td>\n",
       "      <td>0</td>\n",
       "    </tr>\n",
       "    <tr>\n",
       "      <th>2020-02-28</th>\n",
       "      <td>0.0</td>\n",
       "      <td>0.0</td>\n",
       "      <td>0</td>\n",
       "      <td>0</td>\n",
       "    </tr>\n",
       "    <tr>\n",
       "      <th>2020-02-29</th>\n",
       "      <td>0.0</td>\n",
       "      <td>0.0</td>\n",
       "      <td>0</td>\n",
       "      <td>0</td>\n",
       "    </tr>\n",
       "    <tr>\n",
       "      <th>...</th>\n",
       "      <td>...</td>\n",
       "      <td>...</td>\n",
       "      <td>...</td>\n",
       "      <td>...</td>\n",
       "    </tr>\n",
       "    <tr>\n",
       "      <th>2021-01-29</th>\n",
       "      <td>1125.0</td>\n",
       "      <td>11.0</td>\n",
       "      <td>0</td>\n",
       "      <td>0</td>\n",
       "    </tr>\n",
       "    <tr>\n",
       "      <th>2021-01-30</th>\n",
       "      <td>1065.0</td>\n",
       "      <td>12.0</td>\n",
       "      <td>0</td>\n",
       "      <td>0</td>\n",
       "    </tr>\n",
       "    <tr>\n",
       "      <th>2021-01-31</th>\n",
       "      <td>1104.0</td>\n",
       "      <td>8.0</td>\n",
       "      <td>0</td>\n",
       "      <td>0</td>\n",
       "    </tr>\n",
       "    <tr>\n",
       "      <th>2021-02-01</th>\n",
       "      <td>1014.0</td>\n",
       "      <td>12.0</td>\n",
       "      <td>0</td>\n",
       "      <td>0</td>\n",
       "    </tr>\n",
       "    <tr>\n",
       "      <th>2021-02-02</th>\n",
       "      <td>867.0</td>\n",
       "      <td>14.0</td>\n",
       "      <td>0</td>\n",
       "      <td>0</td>\n",
       "    </tr>\n",
       "  </tbody>\n",
       "</table>\n",
       "<p>344 rows × 4 columns</p>\n",
       "</div>"
      ],
      "text/plain": [
       "            casosNovos  obitosNovos  casosBR  obitosBR\n",
       "data                                                  \n",
       "2020-02-25         0.0          0.0        0         0\n",
       "2020-02-26         0.0          0.0        0         0\n",
       "2020-02-27         0.0          0.0        0         0\n",
       "2020-02-28         0.0          0.0        0         0\n",
       "2020-02-29         0.0          0.0        0         0\n",
       "...                ...          ...      ...       ...\n",
       "2021-01-29      1125.0         11.0        0         0\n",
       "2021-01-30      1065.0         12.0        0         0\n",
       "2021-01-31      1104.0          8.0        0         0\n",
       "2021-02-01      1014.0         12.0        0         0\n",
       "2021-02-02       867.0         14.0        0         0\n",
       "\n",
       "[344 rows x 4 columns]"
      ]
     },
     "execution_count": 161,
     "metadata": {},
     "output_type": "execute_result"
    }
   ],
   "source": [
    "dados_PB_BR = pd.concat([covid_PB_casos_obitos, covid_BR_casos_obitos], axis=1)\n",
    "dados_PB_BR.applymap(lambda valor: 0 if np.isnan(valor) else valor)"
   ]
  },
  {
   "cell_type": "markdown",
   "metadata": {
    "slideshow": {
     "slide_type": "slide"
    }
   },
   "source": [
    "* Vamos utilizar o *apply* para realizar a soma de casos e óbitos de mais uma forma diferente:"
   ]
  },
  {
   "cell_type": "code",
   "execution_count": 162,
   "metadata": {},
   "outputs": [
    {
     "data": {
      "text/plain": [
       "casosNovos     193465\n",
       "obitosNovos      4082\n",
       "casosBR             0\n",
       "obitosBR            0\n",
       "dtype: int64"
      ]
     },
     "execution_count": 162,
     "metadata": {},
     "output_type": "execute_result"
    }
   ],
   "source": [
    "dados_PB_BR.apply(lambda x: np.sum(x)).astype('int')"
   ]
  },
  {
   "cell_type": "markdown",
   "metadata": {
    "slideshow": {
     "slide_type": "slide"
    }
   },
   "source": [
    "* Se quisermos realizar a operação por linhas, basta utilizar o argumento *axis=1*:"
   ]
  },
  {
   "cell_type": "code",
   "execution_count": 163,
   "metadata": {},
   "outputs": [
    {
     "data": {
      "text/plain": [
       "data\n",
       "2020-02-25    False\n",
       "2020-02-26    False\n",
       "2020-02-27    False\n",
       "2020-02-28    False\n",
       "2020-02-29    False\n",
       "              ...  \n",
       "2021-01-29    False\n",
       "2021-01-30    False\n",
       "2021-01-31    False\n",
       "2021-02-01    False\n",
       "2021-02-02    False\n",
       "Freq: D, Length: 344, dtype: bool"
      ]
     },
     "execution_count": 163,
     "metadata": {},
     "output_type": "execute_result"
    }
   ],
   "source": [
    "dados_PB_BR.apply(lambda x: (x>0).all(), axis=1)"
   ]
  }
 ],
 "metadata": {
  "celltoolbar": "Slideshow",
  "kernelspec": {
   "display_name": "Python 3",
   "language": "python",
   "name": "python3"
  },
  "language_info": {
   "codemirror_mode": {
    "name": "ipython",
    "version": 3
   },
   "file_extension": ".py",
   "mimetype": "text/x-python",
   "name": "python",
   "nbconvert_exporter": "python",
   "pygments_lexer": "ipython3",
   "version": "3.7.4"
  },
  "latex_metadata": {
   "affiliation": "Departamento de Computação Científica / UFPB",
   "author": "Gustavo Oliveira e Andréa Rocha",
   "date": "Julho de 2020",
   "title": "Aula 6B - Manipulação de Dados"
  },
  "rise": {
   "enable_chalkboard": true,
   "footer": "UFPB - CI - DCC",
   "header": "Gustavo Oliveira / Andrea Rocha",
   "theme": "sky"
  }
 },
 "nbformat": 4,
 "nbformat_minor": 4
}
