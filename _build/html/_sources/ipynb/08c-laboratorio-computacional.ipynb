{
 "cells": [
  {
   "cell_type": "markdown",
   "metadata": {},
   "source": [
    "# Laboratório Computacional 8\n",
    "\n",
    "No laboratório computacional, você praticará o que aprendeu. Resolva os problemas com o auxílio do Python pesquisando apenas as informações essenciais de que precisa. Não use respostas prontas."
   ]
  },
  {
   "cell_type": "markdown",
   "metadata": {},
   "source": [
    "**Problema:** Com base no banco de dados `data/HIST_PAINEL_COVIDBR_*.xlsx` até o dia 25/07/2020, responda: \n",
    "\n",
    "- considere o número de óbitos diários na região Nordeste. Calcule a média do número de óbitos diários diretamente e a média através da distribuição de frequência (utilizando o número de classes padrão). Qual é aproximadamente o valor absoluto da diferença destas médias?\n",
    "\n",
    "- considere o número de casos diários por região do Brasil. Qual região possui os seguintes quantis? 25% - 35.75; 50% - 273.00; 75% - 2574.50\n",
    "\n",
    "- considere os casos diários de COVID na região Sul. Qual a diferença entre os valores do desvio padrão e do desvio médio?\n",
    "\n",
    "- considere a distribuição de frequência do número de óbitos por região, com número de classes padrão. Em todas as regiões do Brasil a moda do número de óbitos diários sempre ocorre na classe (intervalo) que contém o valor 0. \n",
    "\n",
    "- considere os óbitos diários de COVID por região do Brasil. Em qual região do Brasil ocorre a menor discrepância entre a média e a mediana do número de óbitos diários. "
   ]
  }
 ],
 "metadata": {
  "kernelspec": {
   "display_name": "Python 3",
   "language": "python",
   "name": "python3"
  },
  "language_info": {
   "codemirror_mode": {
    "name": "ipython",
    "version": 3
   },
   "file_extension": ".py",
   "mimetype": "text/x-python",
   "name": "python",
   "nbconvert_exporter": "python",
   "pygments_lexer": "ipython3",
   "version": "3.7.4"
  }
 },
 "nbformat": 4,
 "nbformat_minor": 4
}
