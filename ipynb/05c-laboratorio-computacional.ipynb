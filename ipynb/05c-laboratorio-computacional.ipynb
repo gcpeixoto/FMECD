{
 "cells": [
  {
   "cell_type": "code",
   "execution_count": 65,
   "metadata": {},
   "outputs": [
    {
     "name": "stdout",
     "output_type": "stream",
     "text": [
      ".... Tocando agora: Song #15\n",
      ".... Tocando agora: Song #11\n",
      ".... Tocando agora: Song #15\n",
      ".... Tocando agora: Song #10\n",
      ".... Tocando agora: Song #9\n",
      ".... Tocando agora: Song #8\n",
      ".... Tocando agora: Song #20\n",
      ".... Tocando agora: Song #6\n",
      ".... Tocando agora: Song #14\n",
      ".... Tocando agora: Song #7\n",
      "@ Mensagem do PLAYER: Você me pediu para tocar 10 músicas.\n",
      "====================\n",
      "Músicas tocadas hoje\n",
      "====================\n",
      "Song #10\n",
      "Song #11\n",
      "Song #14\n",
      "Song #15\n",
      "Song #20\n",
      "Song #6\n",
      "Song #7\n",
      "Song #8\n",
      "Song #9\n"
     ]
    }
   ],
   "source": [
    "import numpy as np\n",
    "\n",
    "def banco_de_musicas(n):\n",
    "    d = {i:'Song #'+str(i) for i in range(1,n+1)}\n",
    "    return d\n",
    "\n",
    "def player(n,d,reps):\n",
    "    player = np.arange(1,n+1)    \n",
    "    p = lambda x: print(f'@ Mensagem do PLAYER: Você me pediu para tocar {x} músicas.')\n",
    "    m = []\n",
    "    for _ in range(reps):        \n",
    "        mus = d[np.random.choice(player)]        \n",
    "        print('.... Tocando agora: {}'.format(mus))\n",
    "        m.append(mus)\n",
    "    p(reps)\n",
    "    return m\n",
    "                            \n",
    "def tocar(n,r):\n",
    "    d = banco_de_musicas(n)    \n",
    "    return player(n,d,r)\n",
    "              \n",
    "# musicas tocadas         \n",
    "mus = tocar(20,10)\n",
    "\n",
    "print('='*20)\n",
    "print('Músicas tocadas hoje')\n",
    "print('='*20)\n",
    "for m in np.unique(np.sort(np.array(mus))):    \n",
    "    print(m)"
   ]
  }
 ],
 "metadata": {
  "kernelspec": {
   "display_name": "Python 3",
   "language": "python",
   "name": "python3"
  },
  "language_info": {
   "codemirror_mode": {
    "name": "ipython",
    "version": 3
   },
   "file_extension": ".py",
   "mimetype": "text/x-python",
   "name": "python",
   "nbconvert_exporter": "python",
   "pygments_lexer": "ipython3",
   "version": "3.7.4"
  }
 },
 "nbformat": 4,
 "nbformat_minor": 4
}
