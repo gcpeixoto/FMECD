{
 "cells": [
  {
   "cell_type": "markdown",
   "metadata": {},
   "source": [
    "# Problemas propostos"
   ]
  },
  {
   "cell_type": "markdown",
   "metadata": {},
   "source": [
    "No laboratório computacional, você praticará o que aprendeu. Resolva os problemas com o auxílio do Python pesquisando apenas as informações essenciais de que precisa. Não use respostas prontas."
   ]
  },
  {
   "cell_type": "markdown",
   "metadata": {},
   "source": [
    "## Problema\n",
    "\n",
    "Uma fórmula usada para modelar o crescimento populacional é a função exponencial $P(t) = Ce^{rt}$, onde $C$ é a população inicial, $r$ a *taxa de crescimento* e $t$ o tempo decorrido. De acordo com o [[IBGE]](https://cidades.ibge.gov.br/brasil/pb), a população estimada no estado da Paraíba no último censo em 2010 era de 3.766.528 pessoas. Em 2019, este numéro saltou para 4.018.127 pessoas. Diante disso, crie um modelo simbólico para responder os itens a seguir: \n",
    "\n",
    "- considerando o interstício de 2010 a 2019, qual foi a taxa de crescimento $r$ do estado?\n",
    "\n",
    "- supondo que a população cresça com na mesma taxa encontrada no item anterior, qual será a população do estado em 2037? E em 2055?"
   ]
  },
  {
   "cell_type": "markdown",
   "metadata": {},
   "source": [
    "## Problema\n",
    "\n",
    "O autor do código\n",
    "\n",
    "```python\n",
    "def minha_equacao_simbolica_legal:    \n",
    "    ...\n",
    "    x = symbols('x')\n",
    "    ...\n",
    "    return (1/2*x^2 + 2*tg(x) + 3/4)^(3/2)\n",
    "```\n",
    "\n",
    "gostaria de obter o seguinte resultado simbólico\n",
    "\n",
    "$$\\left(\\frac{\\left(y + 2\\right)^{2}}{2} + 2 \\tan{\\left(y + 2 \\right)} + 0.75\\right)^{1.5}$$\n",
    "\n",
    "Porém, ele está com dificuldades. Ajude-o a detectar os problemas e corrija o código para que a função retorne a expressão desejada."
   ]
  },
  {
   "cell_type": "markdown",
   "metadata": {},
   "source": [
    "## Problema\n",
    "\n",
    "**Descrição:**\n",
    "\n",
    "Suponha que você é um cientista de dados trabalhando em um projeto que busca compreender como a iluminação de um ambiente afeta o desempenho de leitura em crianças na primeira infância. \n",
    "\n",
    "A *iluminância* é uma grandeza física que mede o fluxo luminoso total sobre uma superfície por metro quadrado, isto é, a quantidade de luz incidente que ilumina a superfície. A fórmula de cálculo da iluminância produzida por um raio luminoso é dada por \n",
    "\n",
    "$$E = \\dfrac{I\\cos(\\theta)}{d^2},$$ \n",
    "\n",
    "onde $E$ é a iluminância, medida em $lux$ ou $lm/m^2$ (1 lux = 1 lúmen por metro quadrado), $I$ é o fluxo luminoso, medido em $lm$ (lúmen), $\\theta$ é o ângulo entre o raio luminoso e a perpendicular à superfície no ponto de incidência, medido em graus, e $d$ é a distância entre a fonte luminosa e o ponto de incidência (\"comprimento\" do raio luminoso), medida em $m$ (metro). Quando a fonte está posta perpendicularmente ao ponto de incidência, a fórmula acima reduz-se a $E = I/d^2$.\n",
    "\n",
    "A figura abaixo exemplifica os casos para $\\theta = 0$ e $\\theta = 45^{\\circ}$.\n",
    "\n",
    "<!-- Figura -->\n",
    "<center>\n",
    "    <img src='../figs/02/iluminancia.png' width=450px> </img>\n",
    "</center>    \n",
    "\n",
    "\n",
    "**Tarefa:**\n",
    "\n",
    "- Sabendo que 100 lúmens = 1 Watt (W), prencha a tabela a seguir com os valores de $E$ correspondentes para quatro diferentes  potências de lâmpadas de LED e ângulos de incidência da fonte luminosa considerando $d = 2.5 \\, m$. O valor para 6 W e 0 grau está preenchido como exemplo.\n",
    "\n",
    "\n",
    "| LED | 0 | 30 | 45 | 60 |\n",
    "|---|---|---|---|---|\n",
    "|6 W| 96 lux  |\n",
    "|8 W|   \n",
    "|10 W|  \n",
    "|12 W|   \n",
    "\n",
    "\n",
    "- Com a fórmula acima, é possível descobrir o percentual de iluminância que se ganha ou perde ao se inclinar a fonte luminosa a partir de 0 grau. Por exemplo, a iluminância a 45 graus é aproximadamente 71% superior em relação aquela obtida a 0 grau. Estime o percentual de iluminância relativo a 0 grau para os ângulos da tabela a seguir.\n",
    "\n",
    "|ângulo | % |\n",
    "|---|---|\n",
    "| 0 | - | \n",
    "| 36 | |\n",
    "| 45 | 71|\n",
    "| 72 | \n",
    "| 88 | \n",
    "\n",
    "**Obervações:** \n",
    "\n",
    "- use livremente computação simbólica, funções normais, funções embutidas ou anônimas e/ou substituições como quiser.\n",
    "- certifique-se de que os ângulos foram convertidos para radianos a fim de usar as funções do Python corretamente.\n"
   ]
  },
  {
   "cell_type": "code",
   "execution_count": 46,
   "metadata": {},
   "outputs": [],
   "source": [
    "\"\"\" solucao\n",
    "I = 6 theta = 0 iluminancia = 96.0000000000000 lux\n",
    "I = 6 theta = 30 iluminancia = 48.0*sqrt(3) lux\n",
    "I = 6 theta = 45 iluminancia = 48.0*sqrt(2) lux\n",
    "I = 6 theta = 60 iluminancia = 48.0000000000000 lux\n",
    "I = 8 theta = 0 iluminancia = 128.000000000000 lux\n",
    "I = 8 theta = 30 iluminancia = 64.0*sqrt(3) lux\n",
    "I = 8 theta = 45 iluminancia = 64.0*sqrt(2) lux\n",
    "I = 8 theta = 60 iluminancia = 64.0000000000000 lux\n",
    "I = 10 theta = 0 iluminancia = 160.000000000000 lux\n",
    "I = 10 theta = 30 iluminancia = 80.0*sqrt(3) lux\n",
    "I = 10 theta = 45 iluminancia = 80.0*sqrt(2) lux\n",
    "I = 10 theta = 60 iluminancia = 80.0000000000000 lux\n",
    "I = 12 theta = 0 iluminancia = 192.000000000000 lux\n",
    "I = 12 theta = 30 iluminancia = 96.0*sqrt(3) lux\n",
    "I = 12 theta = 45 iluminancia = 96.0*sqrt(2) lux\n",
    "I = 12 theta = 60 iluminancia = 96.0000000000000 lux\n",
    "\"\"\";"
   ]
  }
 ],
 "metadata": {
  "kernelspec": {
   "display_name": "Python 3",
   "language": "python",
   "name": "python3"
  },
  "language_info": {
   "codemirror_mode": {
    "name": "ipython",
    "version": 3
   },
   "file_extension": ".py",
   "mimetype": "text/x-python",
   "name": "python",
   "nbconvert_exporter": "python",
   "pygments_lexer": "ipython3",
   "version": "3.7.4"
  }
 },
 "nbformat": 4,
 "nbformat_minor": 4
}
