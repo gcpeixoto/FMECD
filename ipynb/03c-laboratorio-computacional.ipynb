{
 "cells": [
  {
   "cell_type": "markdown",
   "metadata": {},
   "source": [
    "# Problemas propostos\n",
    "\n",
    "No laboratório computacional, você praticará o que aprendeu. Resolva os problemas com o auxílio do Python pesquisando apenas as informações essenciais de que precisa. Não use respostas prontas."
   ]
  },
  {
   "cell_type": "markdown",
   "metadata": {},
   "source": [
    "## Problema\n",
    "\n",
    "Programe uma função `multadd` que multiplique cada item de uma lista $L$ lista por $k$ e some $c$. Por exemplo:\n",
    "\n",
    "```python\n",
    "L = [1,2,3]\n",
    "multadd(lista,2,1)\n",
    "[3,5,7] # este é o resultado neste caso\n",
    "```"
   ]
  },
  {
   "cell_type": "code",
   "execution_count": null,
   "metadata": {},
   "outputs": [],
   "source": [
    "# opção 1\n",
    "def multadd(L,k,c):\n",
    "    return [i*k + c for i in L]\n",
    "multadd([1,2,3],2,1)"
   ]
  },
  {
   "cell_type": "code",
   "execution_count": null,
   "metadata": {},
   "outputs": [],
   "source": [
    "# opçao 2\n",
    "L, k, c = [1,2,3], 2, 1\n",
    "multadd = list(map(lambda x: x*k + c,L))\n",
    "multadd"
   ]
  },
  {
   "cell_type": "markdown",
   "metadata": {},
   "source": [
    "## Problema \n",
    "\n",
    "Gere uma lista aleatória de 100 inteiros não-nulos $L$ contendo números pares e ímpares. Em seguida, programe uma função `f(L)` que retorne uma tupla $(a,b,c,d,e)$ em que: \n",
    "\n",
    "- $a$ é a quantidade de números pares na lista\n",
    "- $b$ é a sublista de $L$ que contém apenas números pares\n",
    "- $c$ é a quantidade de números ímpares na lista\n",
    "- $d$ é a sublista de $L$ que contém apenas números ímpares\n",
    "- $e$ é um teste lógico que deve retornar `True` se $a + c$ = $|L|$, onde $|L|$ é a cardinalidade (número de elementos de $L$).\n",
    "\n",
    "Enfim, crie uma função `g(L,t)` que imprima os conteúdos da tupla `t` (exceto $b$ e $d$) em um template que mostre o seguinte: \n",
    "\n",
    "```python\n",
    "|L| = . \n",
    "a = .\n",
    "c = .\n",
    "e = True\n",
    "```\n",
    "\n",
    "**Nota:** importe `sample` ou `randint` de `random`. Observe que, acima, os pontos `.` servem apenas para denotar *placeholders* (substitutos) que devem ser substituídos pelos números inteiros obteníveis no seu cômputo.\n"
   ]
  },
  {
   "cell_type": "code",
   "execution_count": null,
   "metadata": {},
   "outputs": [],
   "source": [
    "from random import sample\n",
    "\n",
    "L = sample(range(0,1000),100)\n",
    "\n",
    "def f(L):    \n",
    "    b, d, e = [], [], False\n",
    "    for x in L:\n",
    "        if x % 2 == 0:\n",
    "            b.append(x)\n",
    "        elif x % 2 == 1:\n",
    "            d.append(x)\n",
    "\n",
    "    a, c = len(b), len(d)\n",
    "\n",
    "    if a + c == len(L):\n",
    "        e = True \n",
    "    \n",
    "    return (a,b,c,d,e)\n",
    "\n",
    "def imprime(L,tup):\n",
    "    a,c,e = tup[0],tup[2],tup[4]\n",
    "    print('|L| = {}\\na = {}\\nc = {}\\ne = {}'.format(len(L),a,c,e))\n",
    "        \n",
    "tup = f(L); imprime(L,tup)"
   ]
  },
  {
   "cell_type": "markdown",
   "metadata": {},
   "source": [
    "## Problema\n",
    "\n",
    "Na Aula 3B, apresentamos um exemplo relacionado ao teste aleatório de pessoas que entram em um hospital ao longo de um dia. Naquele exemplo, calculamos a probabilidade de a pessoa ser doadora universal, bem como de ter outro tipo sanguíneo no sistema ABO. \n",
    "\n",
    "Utilize as informações da aula para fazer o que se pede:\n",
    "\n",
    "1. Defina a probabilidade total diária $m_A$ de uma pessoa que entra no hospital ter sangue do tipo $A$ como:\n",
    "\n",
    "$$m_A = P(A+) + P(A-)$$\n",
    "\n",
    "onde \n",
    "\n",
    "- $P(A+)$ é a probabilidade de pessoas que entram no hospital cujo sangue é $A+$.\n",
    "- $P(A-)$ é a probabilidade de pessoas que entram no hospital cujo sangue é $A-$.\n",
    "\n",
    "2. Crie uma função que calcule $m_A$ a partir de um teste aleatório equivalente ao mostrado na sala. Considere $N \\geq 500$ pessoas. \n",
    "\n",
    "3. Melhore o código apresentado criando uma função que realize o teste aleatório e lhe retorne as probabilidades. Seu dado de entrada será praticamente o valor de $N$ e a saída um objeto iterável a seu critério (`dict`, por exemplo).\n",
    "\n",
    "4. Crie uma estrutura de repetição para que a função seja executada por até $q \\geq 3$ vezes supondo que o teste aleatório seja repetido a cada novo dia no hospital. Considere que a cada dia subsequente, $N$ novas pessoas entrem no hospital. \n",
    "\n",
    "5. Calcule a probabilidade $m_A$ para o dia 1, dia 2, ... dia $q$ (note que elas podem ser diferentes) e armazene os dados em alguma estrutura que você ache melhor.\n",
    "\n",
    "6. Determine o valor médio de probabilidades\n",
    "\n",
    "$$M = \\dfrac{m_A^1 + m_A^2 + \\cdots m_A^q}{q},$$\n",
    "\n",
    "onde $m_A^j$, $j = 1,2,\\ldots,q$ é a probabilidade $m_A$ para o $j$-ésimo dia.\n",
    " \n",
    " \n",
    "**Nota:** a solução deste problema não é única, assim como não o é a forma de programar. "
   ]
  },
  {
   "cell_type": "markdown",
   "metadata": {},
   "source": [
    "## Problema\n",
    "\n",
    "Considerando o problema anterior, você conseguiria fazer o mesmo para pessoas com sangue tipo $AB$, $B$ e $O$? Se sim, quão diferente são os valores de $M$ para cada grupo durante períodos de análise iguais de até $q$ dias?"
   ]
  }
 ],
 "metadata": {
  "kernelspec": {
   "display_name": "Python 3",
   "language": "python",
   "name": "python3"
  },
  "language_info": {
   "codemirror_mode": {
    "name": "ipython",
    "version": 3
   },
   "file_extension": ".py",
   "mimetype": "text/x-python",
   "name": "python",
   "nbconvert_exporter": "python",
   "pygments_lexer": "ipython3",
   "version": "3.7.3"
  }
 },
 "nbformat": 4,
 "nbformat_minor": 4
}
