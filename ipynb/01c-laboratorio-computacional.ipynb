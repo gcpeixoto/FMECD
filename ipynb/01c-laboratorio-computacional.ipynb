{
 "cells": [
  {
   "cell_type": "markdown",
   "metadata": {},
   "source": [
    "# Problemas propostos"
   ]
  },
  {
   "cell_type": "markdown",
   "metadata": {},
   "source": [
    "No laboratório computacional, você praticará o que aprendeu. Resolva os problemas com o auxílio do Python pesquisando apenas as informações essenciais de que precisa. Não use respostas prontas."
   ]
  },
  {
   "cell_type": "markdown",
   "metadata": {},
   "source": [
    "**Problema:** Quantos segundos existem em um século? Escreva a resposta usando um objeto `str` que denote o número de acordo com nosso sistema decimal (separado por milhar, milhão, etc.) e imprima o resultado com `print`. A resposta deve ser algo do tipo\n",
    "\n",
    "```python\n",
    "'1 século possui x.xxx.xxx.xxx segundos'\n",
    "```"
   ]
  },
  {
   "cell_type": "code",
   "execution_count": 1,
   "metadata": {},
   "outputs": [],
   "source": [
    "\"\"\"\n",
    "1 século = 100 x ano \n",
    "         = 100 x (12 x mes) \n",
    "         = 100 x (12 x (30 x dia) )\n",
    "         = 100 x (12 x (30 x (24 x hora)))\n",
    "         = 100 x (12 x (30 x (24 x (60 x min))))\n",
    "         = 100 x (12 x (30 x (24 x (60 x (60 seg)))))\n",
    "         = 100 x 12 x 30 x 24 x 60 x 60 seg         \n",
    "\"\"\"\n",
    "sec = 100*12*30*24*60*60 # 3.110.400.000 segundos\n",
    "#print('1 século possui 3.110.400.000 segundos')"
   ]
  },
  {
   "cell_type": "markdown",
   "metadata": {},
   "source": [
    "**Problema:** Escreva um código para calcular as raízes da equação $ax^2 + bx + c = 0$, para $a$, $b$ e $c$ conhecidos e do tipo `int`. Em que situação sua resposta seria um objeto `complex`? Mostre um exemplo. *Obs.:* use `1j` para construir a parte imaginária."
   ]
  },
  {
   "cell_type": "code",
   "execution_count": 2,
   "metadata": {},
   "outputs": [],
   "source": [
    "'''\n",
    "complex ocorrerá se b**2 - 4ac < 0\n",
    "'''\n",
    "a = 2\n",
    "b = 1\n",
    "c = 5\n",
    "\n",
    "delta = b**2 - 4*c\n",
    "#print(delta < 0)\n",
    "\n",
    "x1 = ( - b + (delta.real + delta.imag)*1j )/2*a\n",
    "#print(x1, x1.conjugate())"
   ]
  },
  {
   "cell_type": "markdown",
   "metadata": {},
   "source": [
    "**Problema:** Observe a tabela a seguir, onde **DS (UA)** é a distância do referido planeta do até o Sol em unidades astronômicas (UA), **Tm (F)** sua temperatura superficial mínima em graus Farenheit e **TM (F)** sua temperatura superficial máxima em graus Farenheit.\n",
    "\n",
    "| | DS (UA) | Tm (F) | TM (F) | DS (km) | TmM (C) |\n",
    "|--|--|--|--|--|--|\n",
    "Mercúrio | 0.39 | -275 | 840 | ? | ? |\n",
    "Vênus | 0.723 | 870 | 870 | ? | ? |\n",
    "Terra | 1.0 | -129 | 136 | ? | ? |\n",
    "Marte | 1.524 | -195 | 70 | ? | ? |\n",
    "\n",
    "\n",
    "\n",
    "- Escreva um código para converter a temperatura dos planetas de graus Farenheit (**F**) para Celsius (**C**).\n",
    "\n",
    "- Escreva um código para converter unidades astronômicas em quilômetros.\n",
    "\n",
    "- Imprima os valores que deveriam ser inseridos na coluna **DS (km)** horizontalmente usando `print`.\n",
    "\n",
    "- Repita o item anterior para a coluna **TmM (C)**, que é a média aritmética entre **Tm** e **TM**.\n",
    "    \n",
    "    \n",
    "*Observação:* use notação científica (exemplo: $4.2 \\times 10^8$ pode ser escrito como `4.2e8` em Python)."
   ]
  },
  {
   "cell_type": "code",
   "execution_count": 3,
   "metadata": {},
   "outputs": [],
   "source": [
    "#km = 1.0\n",
    "#UA = 1.496e8*km\n",
    "#C = 5/9*(F - 32)\n",
    "\n",
    "# DS = 5.834400e+07 1.081608e+08 1.496000e+08 2.279904e+08\n",
    "# TmM = 139.16666667 465.55555556 -15.83333333 -52.5"
   ]
  }
 ],
 "metadata": {
  "celltoolbar": "Edit Metadata",
  "kernelspec": {
   "display_name": "Python 3",
   "language": "python",
   "name": "python3"
  },
  "language_info": {
   "codemirror_mode": {
    "name": "ipython",
    "version": 3
   },
   "file_extension": ".py",
   "mimetype": "text/x-python",
   "name": "python",
   "nbconvert_exporter": "python",
   "pygments_lexer": "ipython3",
   "version": "3.7.3"
  }
 },
 "nbformat": 4,
 "nbformat_minor": 4
}
